{
 "cells": [
  {
   "cell_type": "markdown",
   "id": "d9de9981",
   "metadata": {},
   "source": [
    "# Step 1. Open the data file and study the general information"
   ]
  },
  {
   "cell_type": "markdown",
   "id": "820832b1",
   "metadata": {},
   "source": [
    "## Project description\n",
    "We work for the online store Ice, which sells video games all over the world.\n",
    "We need to identify patterns that determine whether a game succeeds or not. This will allow us to spot potential big winners and plan advertising campaigns.\n"
   ]
  },
  {
   "cell_type": "markdown",
   "id": "12add92e",
   "metadata": {},
   "source": [
    "## Import"
   ]
  },
  {
   "cell_type": "code",
   "execution_count": 1290,
   "id": "c77692af",
   "metadata": {
    "scrolled": true
   },
   "outputs": [],
   "source": [
    "import pandas as pd\n",
    "import numpy as np\n",
    "import chart_studio.plotly as py\n",
    "import seaborn as sns\n",
    "import plotly.express as px\n",
    "from scipy import stats as st\n",
    "import matplotlib.pyplot as plt\n",
    "from pandas_profiling import ProfileReport\n",
    "import sidetable\n",
    "\n",
    "%matplotlib inline"
   ]
  },
  {
   "cell_type": "markdown",
   "id": "15daf151",
   "metadata": {},
   "source": [
    "## Load data"
   ]
  },
  {
   "cell_type": "code",
   "execution_count": 1291,
   "id": "70efff85",
   "metadata": {},
   "outputs": [],
   "source": [
    "try:\n",
    "    df_games_raw = pd.read_csv('games.csv')\n",
    "except:\n",
    "    df_games_raw = pd.read_csv('/datasets/games.csv')"
   ]
  },
  {
   "cell_type": "markdown",
   "id": "88997117",
   "metadata": {},
   "source": [
    "## Explore initial data"
   ]
  },
  {
   "cell_type": "code",
   "execution_count": 1292,
   "id": "7e1b477b",
   "metadata": {
    "scrolled": true
   },
   "outputs": [
    {
     "name": "stdout",
     "output_type": "stream",
     "text": [
      "General info about the data\n",
      "<class 'pandas.core.frame.DataFrame'>\n",
      "RangeIndex: 16715 entries, 0 to 16714\n",
      "Data columns (total 11 columns):\n",
      " #   Column           Non-Null Count  Dtype  \n",
      "---  ------           --------------  -----  \n",
      " 0   Name             16713 non-null  object \n",
      " 1   Platform         16715 non-null  object \n",
      " 2   Year_of_Release  16446 non-null  float64\n",
      " 3   Genre            16713 non-null  object \n",
      " 4   NA_sales         16715 non-null  float64\n",
      " 5   EU_sales         16715 non-null  float64\n",
      " 6   JP_sales         16715 non-null  float64\n",
      " 7   Other_sales      16715 non-null  float64\n",
      " 8   Critic_Score     8137 non-null   float64\n",
      " 9   User_Score       10014 non-null  object \n",
      " 10  Rating           9949 non-null   object \n",
      "dtypes: float64(6), object(5)\n",
      "memory usage: 1.4+ MB\n",
      "None\n",
      "\n",
      "Five first rows\n",
      "                       Name Platform  Year_of_Release         Genre  NA_sales  \\\n",
      "0                Wii Sports      Wii           2006.0        Sports     41.36   \n",
      "1         Super Mario Bros.      NES           1985.0      Platform     29.08   \n",
      "2            Mario Kart Wii      Wii           2008.0        Racing     15.68   \n",
      "3         Wii Sports Resort      Wii           2009.0        Sports     15.61   \n",
      "4  Pokemon Red/Pokemon Blue       GB           1996.0  Role-Playing     11.27   \n",
      "\n",
      "   EU_sales  JP_sales  Other_sales  Critic_Score User_Score Rating  \n",
      "0     28.96      3.77         8.45          76.0          8      E  \n",
      "1      3.58      6.81         0.77           NaN        NaN    NaN  \n",
      "2     12.76      3.79         3.29          82.0        8.3      E  \n",
      "3     10.93      3.28         2.95          80.0          8      E  \n",
      "4      8.89     10.22         1.00           NaN        NaN    NaN  \n",
      "\n",
      "Description of the numerical columns\n",
      "       Year_of_Release      NA_sales      EU_sales      JP_sales  \\\n",
      "count     16446.000000  16715.000000  16715.000000  16715.000000   \n",
      "mean       2006.484616      0.263377      0.145060      0.077617   \n",
      "std           5.877050      0.813604      0.503339      0.308853   \n",
      "min        1980.000000      0.000000      0.000000      0.000000   \n",
      "25%        2003.000000      0.000000      0.000000      0.000000   \n",
      "50%        2007.000000      0.080000      0.020000      0.000000   \n",
      "75%        2010.000000      0.240000      0.110000      0.040000   \n",
      "max        2016.000000     41.360000     28.960000     10.220000   \n",
      "\n",
      "        Other_sales  Critic_Score  \n",
      "count  16715.000000   8137.000000  \n",
      "mean       0.047342     68.967679  \n",
      "std        0.186731     13.938165  \n",
      "min        0.000000     13.000000  \n",
      "25%        0.000000     60.000000  \n",
      "50%        0.010000     71.000000  \n",
      "75%        0.030000     79.000000  \n",
      "max       10.570000     98.000000  \n",
      "\n",
      "Description of the textual columns\n",
      "                               Name Platform   Genre User_Score Rating\n",
      "count                         16713    16715   16713      10014   9949\n",
      "unique                        11559       31      12         96      8\n",
      "top     Need for Speed: Most Wanted      PS2  Action        tbd      E\n",
      "freq                             12     2161    3369       2424   3990\n",
      "\n"
     ]
    }
   ],
   "source": [
    "print('General info about the data')\n",
    "print(df_games_raw.info())\n",
    "print()\n",
    "\n",
    "print('Five first rows')\n",
    "print(df_games_raw.head())\n",
    "print()\n",
    "\n",
    "print('Description of the numerical columns')\n",
    "print(df_games_raw.describe())\n",
    "print()\n",
    "\n",
    "print('Description of the textual columns')\n",
    "print(df_games_raw.describe(include=object))\n",
    "print()"
   ]
  },
  {
   "cell_type": "code",
   "execution_count": 1293,
   "id": "7d30c9d3",
   "metadata": {},
   "outputs": [
    {
     "data": {
      "text/html": [
       "<style type=\"text/css\">\n",
       "</style>\n",
       "<table id=\"T_39e1b_\">\n",
       "  <thead>\n",
       "    <tr>\n",
       "      <th class=\"blank level0\" >&nbsp;</th>\n",
       "      <th class=\"col_heading level0 col0\" >missing</th>\n",
       "      <th class=\"col_heading level0 col1\" >total</th>\n",
       "      <th class=\"col_heading level0 col2\" >percent</th>\n",
       "    </tr>\n",
       "  </thead>\n",
       "  <tbody>\n",
       "    <tr>\n",
       "      <th id=\"T_39e1b_level0_row0\" class=\"row_heading level0 row0\" >Critic_Score</th>\n",
       "      <td id=\"T_39e1b_row0_col0\" class=\"data row0 col0\" >8,578</td>\n",
       "      <td id=\"T_39e1b_row0_col1\" class=\"data row0 col1\" >16,715</td>\n",
       "      <td id=\"T_39e1b_row0_col2\" class=\"data row0 col2\" >51.32%</td>\n",
       "    </tr>\n",
       "    <tr>\n",
       "      <th id=\"T_39e1b_level0_row1\" class=\"row_heading level0 row1\" >Rating</th>\n",
       "      <td id=\"T_39e1b_row1_col0\" class=\"data row1 col0\" >6,766</td>\n",
       "      <td id=\"T_39e1b_row1_col1\" class=\"data row1 col1\" >16,715</td>\n",
       "      <td id=\"T_39e1b_row1_col2\" class=\"data row1 col2\" >40.48%</td>\n",
       "    </tr>\n",
       "    <tr>\n",
       "      <th id=\"T_39e1b_level0_row2\" class=\"row_heading level0 row2\" >User_Score</th>\n",
       "      <td id=\"T_39e1b_row2_col0\" class=\"data row2 col0\" >6,701</td>\n",
       "      <td id=\"T_39e1b_row2_col1\" class=\"data row2 col1\" >16,715</td>\n",
       "      <td id=\"T_39e1b_row2_col2\" class=\"data row2 col2\" >40.09%</td>\n",
       "    </tr>\n",
       "    <tr>\n",
       "      <th id=\"T_39e1b_level0_row3\" class=\"row_heading level0 row3\" >Year_of_Release</th>\n",
       "      <td id=\"T_39e1b_row3_col0\" class=\"data row3 col0\" >269</td>\n",
       "      <td id=\"T_39e1b_row3_col1\" class=\"data row3 col1\" >16,715</td>\n",
       "      <td id=\"T_39e1b_row3_col2\" class=\"data row3 col2\" >1.61%</td>\n",
       "    </tr>\n",
       "    <tr>\n",
       "      <th id=\"T_39e1b_level0_row4\" class=\"row_heading level0 row4\" >Name</th>\n",
       "      <td id=\"T_39e1b_row4_col0\" class=\"data row4 col0\" >2</td>\n",
       "      <td id=\"T_39e1b_row4_col1\" class=\"data row4 col1\" >16,715</td>\n",
       "      <td id=\"T_39e1b_row4_col2\" class=\"data row4 col2\" >0.01%</td>\n",
       "    </tr>\n",
       "    <tr>\n",
       "      <th id=\"T_39e1b_level0_row5\" class=\"row_heading level0 row5\" >Genre</th>\n",
       "      <td id=\"T_39e1b_row5_col0\" class=\"data row5 col0\" >2</td>\n",
       "      <td id=\"T_39e1b_row5_col1\" class=\"data row5 col1\" >16,715</td>\n",
       "      <td id=\"T_39e1b_row5_col2\" class=\"data row5 col2\" >0.01%</td>\n",
       "    </tr>\n",
       "    <tr>\n",
       "      <th id=\"T_39e1b_level0_row6\" class=\"row_heading level0 row6\" >Platform</th>\n",
       "      <td id=\"T_39e1b_row6_col0\" class=\"data row6 col0\" >0</td>\n",
       "      <td id=\"T_39e1b_row6_col1\" class=\"data row6 col1\" >16,715</td>\n",
       "      <td id=\"T_39e1b_row6_col2\" class=\"data row6 col2\" >0.00%</td>\n",
       "    </tr>\n",
       "    <tr>\n",
       "      <th id=\"T_39e1b_level0_row7\" class=\"row_heading level0 row7\" >NA_sales</th>\n",
       "      <td id=\"T_39e1b_row7_col0\" class=\"data row7 col0\" >0</td>\n",
       "      <td id=\"T_39e1b_row7_col1\" class=\"data row7 col1\" >16,715</td>\n",
       "      <td id=\"T_39e1b_row7_col2\" class=\"data row7 col2\" >0.00%</td>\n",
       "    </tr>\n",
       "    <tr>\n",
       "      <th id=\"T_39e1b_level0_row8\" class=\"row_heading level0 row8\" >EU_sales</th>\n",
       "      <td id=\"T_39e1b_row8_col0\" class=\"data row8 col0\" >0</td>\n",
       "      <td id=\"T_39e1b_row8_col1\" class=\"data row8 col1\" >16,715</td>\n",
       "      <td id=\"T_39e1b_row8_col2\" class=\"data row8 col2\" >0.00%</td>\n",
       "    </tr>\n",
       "    <tr>\n",
       "      <th id=\"T_39e1b_level0_row9\" class=\"row_heading level0 row9\" >JP_sales</th>\n",
       "      <td id=\"T_39e1b_row9_col0\" class=\"data row9 col0\" >0</td>\n",
       "      <td id=\"T_39e1b_row9_col1\" class=\"data row9 col1\" >16,715</td>\n",
       "      <td id=\"T_39e1b_row9_col2\" class=\"data row9 col2\" >0.00%</td>\n",
       "    </tr>\n",
       "    <tr>\n",
       "      <th id=\"T_39e1b_level0_row10\" class=\"row_heading level0 row10\" >Other_sales</th>\n",
       "      <td id=\"T_39e1b_row10_col0\" class=\"data row10 col0\" >0</td>\n",
       "      <td id=\"T_39e1b_row10_col1\" class=\"data row10 col1\" >16,715</td>\n",
       "      <td id=\"T_39e1b_row10_col2\" class=\"data row10 col2\" >0.00%</td>\n",
       "    </tr>\n",
       "  </tbody>\n",
       "</table>\n"
      ],
      "text/plain": [
       "<pandas.io.formats.style.Styler at 0x1f0b414b3a0>"
      ]
     },
     "execution_count": 1293,
     "metadata": {},
     "output_type": "execute_result"
    }
   ],
   "source": [
    "df_games_raw.stb.missing(style=True)"
   ]
  },
  {
   "cell_type": "markdown",
   "id": "754be3f5",
   "metadata": {},
   "source": [
    "### Notes on explore initial data\n",
    "\n",
    "The data contains the following columns:\n",
    "- Name\n",
    "- Platform\n",
    "- Year_of_Release\n",
    "- Genre\n",
    "- NA_sales (North American sales in USD million)\n",
    "- EU_sales (sales in Europe in USD million)\n",
    "- JP_sales (sales in Japan in USD million)\n",
    "- Other_sales (sales in other countries in USD million)\n",
    "- Critic_Score (maximum of 100)\n",
    "- User_Score (maximum of 10)\n",
    "- Rating (ESRB)\n",
    "\n",
    "In the data we have 16,715 entries. Only in the Platform column and all 4 sales column (NA, EU, JP and others) all rows with values. \n",
    "In  Name and Genre we have 2 missing values.\n",
    "In Year_of_Release we have 269 missing values.\n",
    "In Critic_Score we have 8,578 missing values - this is more than 50% !\n",
    "In Rating we have 6,766 missing values. And in User_Score we have 6,701 missing values.\n",
    "\n",
    "From the description of the numerical columns we can see that for the sales column we have large amount of 0 values in the columns. We know that because the 1st quartile these column is 0. \n",
    "\n",
    "From the description of the textual columns we see that in User_Score column there is a mixture of numerical scores and text values of TBD (to be determined).\n",
    "\n",
    "The Year of Release type should be int\n",
    "\n",
    "\n",
    "\n",
    "\n"
   ]
  },
  {
   "cell_type": "markdown",
   "id": "f5d3c492",
   "metadata": {},
   "source": [
    "# Step 2. Prepare the data"
   ]
  },
  {
   "cell_type": "markdown",
   "id": "178bbe08",
   "metadata": {},
   "source": [
    "## Replace the column names (make them lowercase)"
   ]
  },
  {
   "cell_type": "code",
   "execution_count": 1294,
   "id": "ef7d810f",
   "metadata": {},
   "outputs": [
    {
     "data": {
      "text/plain": [
       "Index(['name', 'platform', 'year_of_release', 'genre', 'na_sales', 'eu_sales',\n",
       "       'jp_sales', 'other_sales', 'critic_score', 'user_score', 'rating'],\n",
       "      dtype='object')"
      ]
     },
     "execution_count": 1294,
     "metadata": {},
     "output_type": "execute_result"
    }
   ],
   "source": [
    "# rename Pandas columns to lower case \n",
    "df_games_raw.columns= df_games_raw.columns.str.lower()\n",
    "df_games_raw.columns"
   ]
  },
  {
   "cell_type": "markdown",
   "id": "55b0370d",
   "metadata": {},
   "source": [
    "done"
   ]
  },
  {
   "cell_type": "markdown",
   "id": "2305dc5d",
   "metadata": {},
   "source": [
    "## Why are they missing values?"
   ]
  },
  {
   "cell_type": "markdown",
   "id": "db1d5ece",
   "metadata": {},
   "source": [
    "from scrolling over the data we noticed that in lot of places where 1 or sometimes all of these columns where missing it was data from long time ago. In the previous millennia. We will create data for entries before 2000 and check if before that year the rate of missing values was higher."
   ]
  },
  {
   "cell_type": "code",
   "execution_count": 1295,
   "id": "9a40f2fa",
   "metadata": {},
   "outputs": [],
   "source": [
    "df_games_before_2000 =  df_games_raw.query('year_of_release < 2000')\n",
    "df_games_after_2000 =  df_games_raw.query('year_of_release >= 2000')"
   ]
  },
  {
   "cell_type": "code",
   "execution_count": 1296,
   "id": "fa0644e9",
   "metadata": {
    "scrolled": false
   },
   "outputs": [
    {
     "data": {
      "text/html": [
       "<style type=\"text/css\">\n",
       "</style>\n",
       "<table id=\"T_ee9ac_\">\n",
       "  <thead>\n",
       "    <tr>\n",
       "      <th class=\"blank level0\" >&nbsp;</th>\n",
       "      <th class=\"col_heading level0 col0\" >missing</th>\n",
       "      <th class=\"col_heading level0 col1\" >total</th>\n",
       "      <th class=\"col_heading level0 col2\" >percent</th>\n",
       "    </tr>\n",
       "  </thead>\n",
       "  <tbody>\n",
       "    <tr>\n",
       "      <th id=\"T_ee9ac_level0_row0\" class=\"row_heading level0 row0\" >critic_score</th>\n",
       "      <td id=\"T_ee9ac_row0_col0\" class=\"data row0 col0\" >8,578</td>\n",
       "      <td id=\"T_ee9ac_row0_col1\" class=\"data row0 col1\" >16,715</td>\n",
       "      <td id=\"T_ee9ac_row0_col2\" class=\"data row0 col2\" >51.32%</td>\n",
       "    </tr>\n",
       "    <tr>\n",
       "      <th id=\"T_ee9ac_level0_row1\" class=\"row_heading level0 row1\" >rating</th>\n",
       "      <td id=\"T_ee9ac_row1_col0\" class=\"data row1 col0\" >6,766</td>\n",
       "      <td id=\"T_ee9ac_row1_col1\" class=\"data row1 col1\" >16,715</td>\n",
       "      <td id=\"T_ee9ac_row1_col2\" class=\"data row1 col2\" >40.48%</td>\n",
       "    </tr>\n",
       "    <tr>\n",
       "      <th id=\"T_ee9ac_level0_row2\" class=\"row_heading level0 row2\" >user_score</th>\n",
       "      <td id=\"T_ee9ac_row2_col0\" class=\"data row2 col0\" >6,701</td>\n",
       "      <td id=\"T_ee9ac_row2_col1\" class=\"data row2 col1\" >16,715</td>\n",
       "      <td id=\"T_ee9ac_row2_col2\" class=\"data row2 col2\" >40.09%</td>\n",
       "    </tr>\n",
       "    <tr>\n",
       "      <th id=\"T_ee9ac_level0_row3\" class=\"row_heading level0 row3\" >year_of_release</th>\n",
       "      <td id=\"T_ee9ac_row3_col0\" class=\"data row3 col0\" >269</td>\n",
       "      <td id=\"T_ee9ac_row3_col1\" class=\"data row3 col1\" >16,715</td>\n",
       "      <td id=\"T_ee9ac_row3_col2\" class=\"data row3 col2\" >1.61%</td>\n",
       "    </tr>\n",
       "    <tr>\n",
       "      <th id=\"T_ee9ac_level0_row4\" class=\"row_heading level0 row4\" >name</th>\n",
       "      <td id=\"T_ee9ac_row4_col0\" class=\"data row4 col0\" >2</td>\n",
       "      <td id=\"T_ee9ac_row4_col1\" class=\"data row4 col1\" >16,715</td>\n",
       "      <td id=\"T_ee9ac_row4_col2\" class=\"data row4 col2\" >0.01%</td>\n",
       "    </tr>\n",
       "    <tr>\n",
       "      <th id=\"T_ee9ac_level0_row5\" class=\"row_heading level0 row5\" >genre</th>\n",
       "      <td id=\"T_ee9ac_row5_col0\" class=\"data row5 col0\" >2</td>\n",
       "      <td id=\"T_ee9ac_row5_col1\" class=\"data row5 col1\" >16,715</td>\n",
       "      <td id=\"T_ee9ac_row5_col2\" class=\"data row5 col2\" >0.01%</td>\n",
       "    </tr>\n",
       "    <tr>\n",
       "      <th id=\"T_ee9ac_level0_row6\" class=\"row_heading level0 row6\" >platform</th>\n",
       "      <td id=\"T_ee9ac_row6_col0\" class=\"data row6 col0\" >0</td>\n",
       "      <td id=\"T_ee9ac_row6_col1\" class=\"data row6 col1\" >16,715</td>\n",
       "      <td id=\"T_ee9ac_row6_col2\" class=\"data row6 col2\" >0.00%</td>\n",
       "    </tr>\n",
       "    <tr>\n",
       "      <th id=\"T_ee9ac_level0_row7\" class=\"row_heading level0 row7\" >na_sales</th>\n",
       "      <td id=\"T_ee9ac_row7_col0\" class=\"data row7 col0\" >0</td>\n",
       "      <td id=\"T_ee9ac_row7_col1\" class=\"data row7 col1\" >16,715</td>\n",
       "      <td id=\"T_ee9ac_row7_col2\" class=\"data row7 col2\" >0.00%</td>\n",
       "    </tr>\n",
       "    <tr>\n",
       "      <th id=\"T_ee9ac_level0_row8\" class=\"row_heading level0 row8\" >eu_sales</th>\n",
       "      <td id=\"T_ee9ac_row8_col0\" class=\"data row8 col0\" >0</td>\n",
       "      <td id=\"T_ee9ac_row8_col1\" class=\"data row8 col1\" >16,715</td>\n",
       "      <td id=\"T_ee9ac_row8_col2\" class=\"data row8 col2\" >0.00%</td>\n",
       "    </tr>\n",
       "    <tr>\n",
       "      <th id=\"T_ee9ac_level0_row9\" class=\"row_heading level0 row9\" >jp_sales</th>\n",
       "      <td id=\"T_ee9ac_row9_col0\" class=\"data row9 col0\" >0</td>\n",
       "      <td id=\"T_ee9ac_row9_col1\" class=\"data row9 col1\" >16,715</td>\n",
       "      <td id=\"T_ee9ac_row9_col2\" class=\"data row9 col2\" >0.00%</td>\n",
       "    </tr>\n",
       "    <tr>\n",
       "      <th id=\"T_ee9ac_level0_row10\" class=\"row_heading level0 row10\" >other_sales</th>\n",
       "      <td id=\"T_ee9ac_row10_col0\" class=\"data row10 col0\" >0</td>\n",
       "      <td id=\"T_ee9ac_row10_col1\" class=\"data row10 col1\" >16,715</td>\n",
       "      <td id=\"T_ee9ac_row10_col2\" class=\"data row10 col2\" >0.00%</td>\n",
       "    </tr>\n",
       "  </tbody>\n",
       "</table>\n"
      ],
      "text/plain": [
       "<pandas.io.formats.style.Styler at 0x1f0b5137760>"
      ]
     },
     "execution_count": 1296,
     "metadata": {},
     "output_type": "execute_result"
    }
   ],
   "source": [
    "df_games_raw.stb.missing(style=True)"
   ]
  },
  {
   "cell_type": "code",
   "execution_count": 1297,
   "id": "eb216cd9",
   "metadata": {
    "scrolled": true
   },
   "outputs": [
    {
     "data": {
      "text/html": [
       "<style type=\"text/css\">\n",
       "</style>\n",
       "<table id=\"T_c3533_\">\n",
       "  <thead>\n",
       "    <tr>\n",
       "      <th class=\"blank level0\" >&nbsp;</th>\n",
       "      <th class=\"col_heading level0 col0\" >missing</th>\n",
       "      <th class=\"col_heading level0 col1\" >total</th>\n",
       "      <th class=\"col_heading level0 col2\" >percent</th>\n",
       "    </tr>\n",
       "  </thead>\n",
       "  <tbody>\n",
       "    <tr>\n",
       "      <th id=\"T_c3533_level0_row0\" class=\"row_heading level0 row0\" >critic_score</th>\n",
       "      <td id=\"T_c3533_row0_col0\" class=\"data row0 col0\" >1,880</td>\n",
       "      <td id=\"T_c3533_row0_col1\" class=\"data row0 col1\" >1,976</td>\n",
       "      <td id=\"T_c3533_row0_col2\" class=\"data row0 col2\" >95.14%</td>\n",
       "    </tr>\n",
       "    <tr>\n",
       "      <th id=\"T_c3533_level0_row1\" class=\"row_heading level0 row1\" >user_score</th>\n",
       "      <td id=\"T_c3533_row1_col0\" class=\"data row1 col0\" >1,875</td>\n",
       "      <td id=\"T_c3533_row1_col1\" class=\"data row1 col1\" >1,976</td>\n",
       "      <td id=\"T_c3533_row1_col2\" class=\"data row1 col2\" >94.89%</td>\n",
       "    </tr>\n",
       "    <tr>\n",
       "      <th id=\"T_c3533_level0_row2\" class=\"row_heading level0 row2\" >rating</th>\n",
       "      <td id=\"T_c3533_row2_col0\" class=\"data row2 col0\" >1,871</td>\n",
       "      <td id=\"T_c3533_row2_col1\" class=\"data row2 col1\" >1,976</td>\n",
       "      <td id=\"T_c3533_row2_col2\" class=\"data row2 col2\" >94.69%</td>\n",
       "    </tr>\n",
       "    <tr>\n",
       "      <th id=\"T_c3533_level0_row3\" class=\"row_heading level0 row3\" >name</th>\n",
       "      <td id=\"T_c3533_row3_col0\" class=\"data row3 col0\" >2</td>\n",
       "      <td id=\"T_c3533_row3_col1\" class=\"data row3 col1\" >1,976</td>\n",
       "      <td id=\"T_c3533_row3_col2\" class=\"data row3 col2\" >0.10%</td>\n",
       "    </tr>\n",
       "    <tr>\n",
       "      <th id=\"T_c3533_level0_row4\" class=\"row_heading level0 row4\" >genre</th>\n",
       "      <td id=\"T_c3533_row4_col0\" class=\"data row4 col0\" >2</td>\n",
       "      <td id=\"T_c3533_row4_col1\" class=\"data row4 col1\" >1,976</td>\n",
       "      <td id=\"T_c3533_row4_col2\" class=\"data row4 col2\" >0.10%</td>\n",
       "    </tr>\n",
       "    <tr>\n",
       "      <th id=\"T_c3533_level0_row5\" class=\"row_heading level0 row5\" >platform</th>\n",
       "      <td id=\"T_c3533_row5_col0\" class=\"data row5 col0\" >0</td>\n",
       "      <td id=\"T_c3533_row5_col1\" class=\"data row5 col1\" >1,976</td>\n",
       "      <td id=\"T_c3533_row5_col2\" class=\"data row5 col2\" >0.00%</td>\n",
       "    </tr>\n",
       "    <tr>\n",
       "      <th id=\"T_c3533_level0_row6\" class=\"row_heading level0 row6\" >year_of_release</th>\n",
       "      <td id=\"T_c3533_row6_col0\" class=\"data row6 col0\" >0</td>\n",
       "      <td id=\"T_c3533_row6_col1\" class=\"data row6 col1\" >1,976</td>\n",
       "      <td id=\"T_c3533_row6_col2\" class=\"data row6 col2\" >0.00%</td>\n",
       "    </tr>\n",
       "    <tr>\n",
       "      <th id=\"T_c3533_level0_row7\" class=\"row_heading level0 row7\" >na_sales</th>\n",
       "      <td id=\"T_c3533_row7_col0\" class=\"data row7 col0\" >0</td>\n",
       "      <td id=\"T_c3533_row7_col1\" class=\"data row7 col1\" >1,976</td>\n",
       "      <td id=\"T_c3533_row7_col2\" class=\"data row7 col2\" >0.00%</td>\n",
       "    </tr>\n",
       "    <tr>\n",
       "      <th id=\"T_c3533_level0_row8\" class=\"row_heading level0 row8\" >eu_sales</th>\n",
       "      <td id=\"T_c3533_row8_col0\" class=\"data row8 col0\" >0</td>\n",
       "      <td id=\"T_c3533_row8_col1\" class=\"data row8 col1\" >1,976</td>\n",
       "      <td id=\"T_c3533_row8_col2\" class=\"data row8 col2\" >0.00%</td>\n",
       "    </tr>\n",
       "    <tr>\n",
       "      <th id=\"T_c3533_level0_row9\" class=\"row_heading level0 row9\" >jp_sales</th>\n",
       "      <td id=\"T_c3533_row9_col0\" class=\"data row9 col0\" >0</td>\n",
       "      <td id=\"T_c3533_row9_col1\" class=\"data row9 col1\" >1,976</td>\n",
       "      <td id=\"T_c3533_row9_col2\" class=\"data row9 col2\" >0.00%</td>\n",
       "    </tr>\n",
       "    <tr>\n",
       "      <th id=\"T_c3533_level0_row10\" class=\"row_heading level0 row10\" >other_sales</th>\n",
       "      <td id=\"T_c3533_row10_col0\" class=\"data row10 col0\" >0</td>\n",
       "      <td id=\"T_c3533_row10_col1\" class=\"data row10 col1\" >1,976</td>\n",
       "      <td id=\"T_c3533_row10_col2\" class=\"data row10 col2\" >0.00%</td>\n",
       "    </tr>\n",
       "  </tbody>\n",
       "</table>\n"
      ],
      "text/plain": [
       "<pandas.io.formats.style.Styler at 0x1f0b51a7d90>"
      ]
     },
     "execution_count": 1297,
     "metadata": {},
     "output_type": "execute_result"
    }
   ],
   "source": [
    "df_games_before_2000.stb.missing(style=True)"
   ]
  },
  {
   "cell_type": "code",
   "execution_count": 1298,
   "id": "1b9e3414",
   "metadata": {
    "scrolled": false
   },
   "outputs": [
    {
     "data": {
      "text/html": [
       "<style type=\"text/css\">\n",
       "</style>\n",
       "<table id=\"T_427ef_\">\n",
       "  <thead>\n",
       "    <tr>\n",
       "      <th class=\"blank level0\" >&nbsp;</th>\n",
       "      <th class=\"col_heading level0 col0\" >missing</th>\n",
       "      <th class=\"col_heading level0 col1\" >total</th>\n",
       "      <th class=\"col_heading level0 col2\" >percent</th>\n",
       "    </tr>\n",
       "  </thead>\n",
       "  <tbody>\n",
       "    <tr>\n",
       "      <th id=\"T_427ef_level0_row0\" class=\"row_heading level0 row0\" >critic_score</th>\n",
       "      <td id=\"T_427ef_row0_col0\" class=\"data row0 col0\" >6,583</td>\n",
       "      <td id=\"T_427ef_row0_col1\" class=\"data row0 col1\" >14,470</td>\n",
       "      <td id=\"T_427ef_row0_col2\" class=\"data row0 col2\" >45.49%</td>\n",
       "    </tr>\n",
       "    <tr>\n",
       "      <th id=\"T_427ef_level0_row1\" class=\"row_heading level0 row1\" >rating</th>\n",
       "      <td id=\"T_427ef_row1_col0\" class=\"data row1 col0\" >4,807</td>\n",
       "      <td id=\"T_427ef_row1_col1\" class=\"data row1 col1\" >14,470</td>\n",
       "      <td id=\"T_427ef_row1_col2\" class=\"data row1 col2\" >33.22%</td>\n",
       "    </tr>\n",
       "    <tr>\n",
       "      <th id=\"T_427ef_level0_row2\" class=\"row_heading level0 row2\" >user_score</th>\n",
       "      <td id=\"T_427ef_row2_col0\" class=\"data row2 col0\" >4,732</td>\n",
       "      <td id=\"T_427ef_row2_col1\" class=\"data row2 col1\" >14,470</td>\n",
       "      <td id=\"T_427ef_row2_col2\" class=\"data row2 col2\" >32.70%</td>\n",
       "    </tr>\n",
       "    <tr>\n",
       "      <th id=\"T_427ef_level0_row3\" class=\"row_heading level0 row3\" >name</th>\n",
       "      <td id=\"T_427ef_row3_col0\" class=\"data row3 col0\" >0</td>\n",
       "      <td id=\"T_427ef_row3_col1\" class=\"data row3 col1\" >14,470</td>\n",
       "      <td id=\"T_427ef_row3_col2\" class=\"data row3 col2\" >0.00%</td>\n",
       "    </tr>\n",
       "    <tr>\n",
       "      <th id=\"T_427ef_level0_row4\" class=\"row_heading level0 row4\" >platform</th>\n",
       "      <td id=\"T_427ef_row4_col0\" class=\"data row4 col0\" >0</td>\n",
       "      <td id=\"T_427ef_row4_col1\" class=\"data row4 col1\" >14,470</td>\n",
       "      <td id=\"T_427ef_row4_col2\" class=\"data row4 col2\" >0.00%</td>\n",
       "    </tr>\n",
       "    <tr>\n",
       "      <th id=\"T_427ef_level0_row5\" class=\"row_heading level0 row5\" >year_of_release</th>\n",
       "      <td id=\"T_427ef_row5_col0\" class=\"data row5 col0\" >0</td>\n",
       "      <td id=\"T_427ef_row5_col1\" class=\"data row5 col1\" >14,470</td>\n",
       "      <td id=\"T_427ef_row5_col2\" class=\"data row5 col2\" >0.00%</td>\n",
       "    </tr>\n",
       "    <tr>\n",
       "      <th id=\"T_427ef_level0_row6\" class=\"row_heading level0 row6\" >genre</th>\n",
       "      <td id=\"T_427ef_row6_col0\" class=\"data row6 col0\" >0</td>\n",
       "      <td id=\"T_427ef_row6_col1\" class=\"data row6 col1\" >14,470</td>\n",
       "      <td id=\"T_427ef_row6_col2\" class=\"data row6 col2\" >0.00%</td>\n",
       "    </tr>\n",
       "    <tr>\n",
       "      <th id=\"T_427ef_level0_row7\" class=\"row_heading level0 row7\" >na_sales</th>\n",
       "      <td id=\"T_427ef_row7_col0\" class=\"data row7 col0\" >0</td>\n",
       "      <td id=\"T_427ef_row7_col1\" class=\"data row7 col1\" >14,470</td>\n",
       "      <td id=\"T_427ef_row7_col2\" class=\"data row7 col2\" >0.00%</td>\n",
       "    </tr>\n",
       "    <tr>\n",
       "      <th id=\"T_427ef_level0_row8\" class=\"row_heading level0 row8\" >eu_sales</th>\n",
       "      <td id=\"T_427ef_row8_col0\" class=\"data row8 col0\" >0</td>\n",
       "      <td id=\"T_427ef_row8_col1\" class=\"data row8 col1\" >14,470</td>\n",
       "      <td id=\"T_427ef_row8_col2\" class=\"data row8 col2\" >0.00%</td>\n",
       "    </tr>\n",
       "    <tr>\n",
       "      <th id=\"T_427ef_level0_row9\" class=\"row_heading level0 row9\" >jp_sales</th>\n",
       "      <td id=\"T_427ef_row9_col0\" class=\"data row9 col0\" >0</td>\n",
       "      <td id=\"T_427ef_row9_col1\" class=\"data row9 col1\" >14,470</td>\n",
       "      <td id=\"T_427ef_row9_col2\" class=\"data row9 col2\" >0.00%</td>\n",
       "    </tr>\n",
       "    <tr>\n",
       "      <th id=\"T_427ef_level0_row10\" class=\"row_heading level0 row10\" >other_sales</th>\n",
       "      <td id=\"T_427ef_row10_col0\" class=\"data row10 col0\" >0</td>\n",
       "      <td id=\"T_427ef_row10_col1\" class=\"data row10 col1\" >14,470</td>\n",
       "      <td id=\"T_427ef_row10_col2\" class=\"data row10 col2\" >0.00%</td>\n",
       "    </tr>\n",
       "  </tbody>\n",
       "</table>\n"
      ],
      "text/plain": [
       "<pandas.io.formats.style.Styler at 0x1f0b2b99e80>"
      ]
     },
     "execution_count": 1298,
     "metadata": {},
     "output_type": "execute_result"
    }
   ],
   "source": [
    "df_games_after_2000.stb.missing(style=True)"
   ]
  },
  {
   "cell_type": "markdown",
   "id": "80dff279",
   "metadata": {},
   "source": [
    "We see that before the year 2000 there was about 90% missing from critic_score, user_score and rating"
   ]
  },
  {
   "cell_type": "markdown",
   "id": "f0fc4171",
   "metadata": {},
   "source": [
    "Let's see in each year how many values we have"
   ]
  },
  {
   "cell_type": "code",
   "execution_count": 1299,
   "id": "e5177163",
   "metadata": {
    "scrolled": true
   },
   "outputs": [
    {
     "data": {
      "text/html": [
       "<div>\n",
       "<style scoped>\n",
       "    .dataframe tbody tr th:only-of-type {\n",
       "        vertical-align: middle;\n",
       "    }\n",
       "\n",
       "    .dataframe tbody tr th {\n",
       "        vertical-align: top;\n",
       "    }\n",
       "\n",
       "    .dataframe thead th {\n",
       "        text-align: right;\n",
       "    }\n",
       "</style>\n",
       "<table border=\"1\" class=\"dataframe\">\n",
       "  <thead>\n",
       "    <tr style=\"text-align: right;\">\n",
       "      <th></th>\n",
       "      <th>name</th>\n",
       "      <th>rating</th>\n",
       "      <th>critic_score</th>\n",
       "      <th>user_score</th>\n",
       "    </tr>\n",
       "    <tr>\n",
       "      <th>year_of_release</th>\n",
       "      <th></th>\n",
       "      <th></th>\n",
       "      <th></th>\n",
       "      <th></th>\n",
       "    </tr>\n",
       "  </thead>\n",
       "  <tbody>\n",
       "    <tr>\n",
       "      <th>1980.0</th>\n",
       "      <td>9</td>\n",
       "      <td>0</td>\n",
       "      <td>0</td>\n",
       "      <td>0</td>\n",
       "    </tr>\n",
       "    <tr>\n",
       "      <th>1981.0</th>\n",
       "      <td>46</td>\n",
       "      <td>0</td>\n",
       "      <td>0</td>\n",
       "      <td>0</td>\n",
       "    </tr>\n",
       "    <tr>\n",
       "      <th>1982.0</th>\n",
       "      <td>36</td>\n",
       "      <td>0</td>\n",
       "      <td>0</td>\n",
       "      <td>0</td>\n",
       "    </tr>\n",
       "    <tr>\n",
       "      <th>1983.0</th>\n",
       "      <td>17</td>\n",
       "      <td>0</td>\n",
       "      <td>0</td>\n",
       "      <td>0</td>\n",
       "    </tr>\n",
       "    <tr>\n",
       "      <th>1984.0</th>\n",
       "      <td>14</td>\n",
       "      <td>0</td>\n",
       "      <td>0</td>\n",
       "      <td>0</td>\n",
       "    </tr>\n",
       "    <tr>\n",
       "      <th>1985.0</th>\n",
       "      <td>14</td>\n",
       "      <td>1</td>\n",
       "      <td>1</td>\n",
       "      <td>1</td>\n",
       "    </tr>\n",
       "    <tr>\n",
       "      <th>1986.0</th>\n",
       "      <td>21</td>\n",
       "      <td>0</td>\n",
       "      <td>0</td>\n",
       "      <td>0</td>\n",
       "    </tr>\n",
       "    <tr>\n",
       "      <th>1987.0</th>\n",
       "      <td>16</td>\n",
       "      <td>0</td>\n",
       "      <td>0</td>\n",
       "      <td>0</td>\n",
       "    </tr>\n",
       "    <tr>\n",
       "      <th>1988.0</th>\n",
       "      <td>15</td>\n",
       "      <td>1</td>\n",
       "      <td>1</td>\n",
       "      <td>1</td>\n",
       "    </tr>\n",
       "    <tr>\n",
       "      <th>1989.0</th>\n",
       "      <td>17</td>\n",
       "      <td>0</td>\n",
       "      <td>0</td>\n",
       "      <td>0</td>\n",
       "    </tr>\n",
       "    <tr>\n",
       "      <th>1990.0</th>\n",
       "      <td>16</td>\n",
       "      <td>0</td>\n",
       "      <td>0</td>\n",
       "      <td>0</td>\n",
       "    </tr>\n",
       "    <tr>\n",
       "      <th>1991.0</th>\n",
       "      <td>41</td>\n",
       "      <td>0</td>\n",
       "      <td>0</td>\n",
       "      <td>0</td>\n",
       "    </tr>\n",
       "    <tr>\n",
       "      <th>1992.0</th>\n",
       "      <td>43</td>\n",
       "      <td>2</td>\n",
       "      <td>1</td>\n",
       "      <td>1</td>\n",
       "    </tr>\n",
       "    <tr>\n",
       "      <th>1993.0</th>\n",
       "      <td>60</td>\n",
       "      <td>0</td>\n",
       "      <td>0</td>\n",
       "      <td>0</td>\n",
       "    </tr>\n",
       "    <tr>\n",
       "      <th>1994.0</th>\n",
       "      <td>121</td>\n",
       "      <td>1</td>\n",
       "      <td>1</td>\n",
       "      <td>1</td>\n",
       "    </tr>\n",
       "    <tr>\n",
       "      <th>1995.0</th>\n",
       "      <td>219</td>\n",
       "      <td>0</td>\n",
       "      <td>0</td>\n",
       "      <td>0</td>\n",
       "    </tr>\n",
       "    <tr>\n",
       "      <th>1996.0</th>\n",
       "      <td>263</td>\n",
       "      <td>7</td>\n",
       "      <td>8</td>\n",
       "      <td>8</td>\n",
       "    </tr>\n",
       "    <tr>\n",
       "      <th>1997.0</th>\n",
       "      <td>289</td>\n",
       "      <td>19</td>\n",
       "      <td>17</td>\n",
       "      <td>19</td>\n",
       "    </tr>\n",
       "    <tr>\n",
       "      <th>1998.0</th>\n",
       "      <td>379</td>\n",
       "      <td>32</td>\n",
       "      <td>28</td>\n",
       "      <td>31</td>\n",
       "    </tr>\n",
       "    <tr>\n",
       "      <th>1999.0</th>\n",
       "      <td>338</td>\n",
       "      <td>42</td>\n",
       "      <td>39</td>\n",
       "      <td>39</td>\n",
       "    </tr>\n",
       "    <tr>\n",
       "      <th>2000.0</th>\n",
       "      <td>350</td>\n",
       "      <td>148</td>\n",
       "      <td>143</td>\n",
       "      <td>150</td>\n",
       "    </tr>\n",
       "    <tr>\n",
       "      <th>2001.0</th>\n",
       "      <td>482</td>\n",
       "      <td>339</td>\n",
       "      <td>326</td>\n",
       "      <td>339</td>\n",
       "    </tr>\n",
       "    <tr>\n",
       "      <th>2002.0</th>\n",
       "      <td>829</td>\n",
       "      <td>655</td>\n",
       "      <td>627</td>\n",
       "      <td>656</td>\n",
       "    </tr>\n",
       "    <tr>\n",
       "      <th>2003.0</th>\n",
       "      <td>775</td>\n",
       "      <td>613</td>\n",
       "      <td>585</td>\n",
       "      <td>611</td>\n",
       "    </tr>\n",
       "    <tr>\n",
       "      <th>2004.0</th>\n",
       "      <td>762</td>\n",
       "      <td>598</td>\n",
       "      <td>561</td>\n",
       "      <td>596</td>\n",
       "    </tr>\n",
       "    <tr>\n",
       "      <th>2005.0</th>\n",
       "      <td>939</td>\n",
       "      <td>706</td>\n",
       "      <td>655</td>\n",
       "      <td>704</td>\n",
       "    </tr>\n",
       "    <tr>\n",
       "      <th>2006.0</th>\n",
       "      <td>1006</td>\n",
       "      <td>678</td>\n",
       "      <td>620</td>\n",
       "      <td>676</td>\n",
       "    </tr>\n",
       "    <tr>\n",
       "      <th>2007.0</th>\n",
       "      <td>1197</td>\n",
       "      <td>821</td>\n",
       "      <td>692</td>\n",
       "      <td>821</td>\n",
       "    </tr>\n",
       "    <tr>\n",
       "      <th>2008.0</th>\n",
       "      <td>1427</td>\n",
       "      <td>981</td>\n",
       "      <td>715</td>\n",
       "      <td>987</td>\n",
       "    </tr>\n",
       "    <tr>\n",
       "      <th>2009.0</th>\n",
       "      <td>1426</td>\n",
       "      <td>1011</td>\n",
       "      <td>651</td>\n",
       "      <td>1019</td>\n",
       "    </tr>\n",
       "    <tr>\n",
       "      <th>2010.0</th>\n",
       "      <td>1255</td>\n",
       "      <td>799</td>\n",
       "      <td>500</td>\n",
       "      <td>798</td>\n",
       "    </tr>\n",
       "    <tr>\n",
       "      <th>2011.0</th>\n",
       "      <td>1136</td>\n",
       "      <td>703</td>\n",
       "      <td>500</td>\n",
       "      <td>718</td>\n",
       "    </tr>\n",
       "    <tr>\n",
       "      <th>2012.0</th>\n",
       "      <td>653</td>\n",
       "      <td>355</td>\n",
       "      <td>321</td>\n",
       "      <td>363</td>\n",
       "    </tr>\n",
       "    <tr>\n",
       "      <th>2013.0</th>\n",
       "      <td>544</td>\n",
       "      <td>316</td>\n",
       "      <td>273</td>\n",
       "      <td>319</td>\n",
       "    </tr>\n",
       "    <tr>\n",
       "      <th>2014.0</th>\n",
       "      <td>581</td>\n",
       "      <td>345</td>\n",
       "      <td>261</td>\n",
       "      <td>350</td>\n",
       "    </tr>\n",
       "    <tr>\n",
       "      <th>2015.0</th>\n",
       "      <td>606</td>\n",
       "      <td>315</td>\n",
       "      <td>225</td>\n",
       "      <td>335</td>\n",
       "    </tr>\n",
       "    <tr>\n",
       "      <th>2016.0</th>\n",
       "      <td>502</td>\n",
       "      <td>280</td>\n",
       "      <td>232</td>\n",
       "      <td>296</td>\n",
       "    </tr>\n",
       "  </tbody>\n",
       "</table>\n",
       "</div>"
      ],
      "text/plain": [
       "                 name  rating  critic_score  user_score\n",
       "year_of_release                                        \n",
       "1980.0              9       0             0           0\n",
       "1981.0             46       0             0           0\n",
       "1982.0             36       0             0           0\n",
       "1983.0             17       0             0           0\n",
       "1984.0             14       0             0           0\n",
       "1985.0             14       1             1           1\n",
       "1986.0             21       0             0           0\n",
       "1987.0             16       0             0           0\n",
       "1988.0             15       1             1           1\n",
       "1989.0             17       0             0           0\n",
       "1990.0             16       0             0           0\n",
       "1991.0             41       0             0           0\n",
       "1992.0             43       2             1           1\n",
       "1993.0             60       0             0           0\n",
       "1994.0            121       1             1           1\n",
       "1995.0            219       0             0           0\n",
       "1996.0            263       7             8           8\n",
       "1997.0            289      19            17          19\n",
       "1998.0            379      32            28          31\n",
       "1999.0            338      42            39          39\n",
       "2000.0            350     148           143         150\n",
       "2001.0            482     339           326         339\n",
       "2002.0            829     655           627         656\n",
       "2003.0            775     613           585         611\n",
       "2004.0            762     598           561         596\n",
       "2005.0            939     706           655         704\n",
       "2006.0           1006     678           620         676\n",
       "2007.0           1197     821           692         821\n",
       "2008.0           1427     981           715         987\n",
       "2009.0           1426    1011           651        1019\n",
       "2010.0           1255     799           500         798\n",
       "2011.0           1136     703           500         718\n",
       "2012.0            653     355           321         363\n",
       "2013.0            544     316           273         319\n",
       "2014.0            581     345           261         350\n",
       "2015.0            606     315           225         335\n",
       "2016.0            502     280           232         296"
      ]
     },
     "execution_count": 1299,
     "metadata": {},
     "output_type": "execute_result"
    }
   ],
   "source": [
    "df_games_raw.groupby(\n",
    "    by='year_of_release'\n",
    ").count()[['name', 'rating', 'critic_score', 'user_score']]"
   ]
  },
  {
   "cell_type": "markdown",
   "id": "ffe69691",
   "metadata": {},
   "source": [
    "We see that for all 3 there is a big drop of entries before 2000 and before 1994 there was almost no entries in these fields. "
   ]
  },
  {
   "cell_type": "markdown",
   "id": "393e1824",
   "metadata": {},
   "source": [
    "A possible reason for that may be lack of documentation from so long time ago. "
   ]
  },
  {
   "cell_type": "markdown",
   "id": "43e3954c",
   "metadata": {},
   "source": [
    "## Treating missing values"
   ]
  },
  {
   "cell_type": "markdown",
   "id": "c849733f",
   "metadata": {},
   "source": [
    "### name"
   ]
  },
  {
   "cell_type": "code",
   "execution_count": 1300,
   "id": "6a4b9954",
   "metadata": {
    "scrolled": true
   },
   "outputs": [
    {
     "data": {
      "text/html": [
       "<div>\n",
       "<style scoped>\n",
       "    .dataframe tbody tr th:only-of-type {\n",
       "        vertical-align: middle;\n",
       "    }\n",
       "\n",
       "    .dataframe tbody tr th {\n",
       "        vertical-align: top;\n",
       "    }\n",
       "\n",
       "    .dataframe thead th {\n",
       "        text-align: right;\n",
       "    }\n",
       "</style>\n",
       "<table border=\"1\" class=\"dataframe\">\n",
       "  <thead>\n",
       "    <tr style=\"text-align: right;\">\n",
       "      <th></th>\n",
       "      <th>name</th>\n",
       "      <th>platform</th>\n",
       "      <th>year_of_release</th>\n",
       "      <th>genre</th>\n",
       "      <th>na_sales</th>\n",
       "      <th>eu_sales</th>\n",
       "      <th>jp_sales</th>\n",
       "      <th>other_sales</th>\n",
       "      <th>critic_score</th>\n",
       "      <th>user_score</th>\n",
       "      <th>rating</th>\n",
       "    </tr>\n",
       "  </thead>\n",
       "  <tbody>\n",
       "    <tr>\n",
       "      <th>659</th>\n",
       "      <td>NaN</td>\n",
       "      <td>GEN</td>\n",
       "      <td>1993.0</td>\n",
       "      <td>NaN</td>\n",
       "      <td>1.78</td>\n",
       "      <td>0.53</td>\n",
       "      <td>0.00</td>\n",
       "      <td>0.08</td>\n",
       "      <td>NaN</td>\n",
       "      <td>NaN</td>\n",
       "      <td>NaN</td>\n",
       "    </tr>\n",
       "    <tr>\n",
       "      <th>14244</th>\n",
       "      <td>NaN</td>\n",
       "      <td>GEN</td>\n",
       "      <td>1993.0</td>\n",
       "      <td>NaN</td>\n",
       "      <td>0.00</td>\n",
       "      <td>0.00</td>\n",
       "      <td>0.03</td>\n",
       "      <td>0.00</td>\n",
       "      <td>NaN</td>\n",
       "      <td>NaN</td>\n",
       "      <td>NaN</td>\n",
       "    </tr>\n",
       "  </tbody>\n",
       "</table>\n",
       "</div>"
      ],
      "text/plain": [
       "      name platform  year_of_release genre  na_sales  eu_sales  jp_sales  \\\n",
       "659    NaN      GEN           1993.0   NaN      1.78      0.53      0.00   \n",
       "14244  NaN      GEN           1993.0   NaN      0.00      0.00      0.03   \n",
       "\n",
       "       other_sales  critic_score user_score rating  \n",
       "659           0.08           NaN        NaN    NaN  \n",
       "14244         0.00           NaN        NaN    NaN  "
      ]
     },
     "execution_count": 1300,
     "metadata": {},
     "output_type": "execute_result"
    }
   ],
   "source": [
    "df_games_raw[df_games_raw['name'].isnull()]"
   ]
  },
  {
   "cell_type": "markdown",
   "id": "85237759",
   "metadata": {},
   "source": [
    "Looks like someone forgot to add these names. We will fill them with 'unknown'"
   ]
  },
  {
   "cell_type": "code",
   "execution_count": 1301,
   "id": "2a019d01",
   "metadata": {
    "scrolled": true
   },
   "outputs": [
    {
     "data": {
      "text/html": [
       "<div>\n",
       "<style scoped>\n",
       "    .dataframe tbody tr th:only-of-type {\n",
       "        vertical-align: middle;\n",
       "    }\n",
       "\n",
       "    .dataframe tbody tr th {\n",
       "        vertical-align: top;\n",
       "    }\n",
       "\n",
       "    .dataframe thead th {\n",
       "        text-align: right;\n",
       "    }\n",
       "</style>\n",
       "<table border=\"1\" class=\"dataframe\">\n",
       "  <thead>\n",
       "    <tr style=\"text-align: right;\">\n",
       "      <th></th>\n",
       "      <th>name</th>\n",
       "      <th>platform</th>\n",
       "      <th>year_of_release</th>\n",
       "      <th>genre</th>\n",
       "      <th>na_sales</th>\n",
       "      <th>eu_sales</th>\n",
       "      <th>jp_sales</th>\n",
       "      <th>other_sales</th>\n",
       "      <th>critic_score</th>\n",
       "      <th>user_score</th>\n",
       "      <th>rating</th>\n",
       "    </tr>\n",
       "  </thead>\n",
       "  <tbody>\n",
       "  </tbody>\n",
       "</table>\n",
       "</div>"
      ],
      "text/plain": [
       "Empty DataFrame\n",
       "Columns: [name, platform, year_of_release, genre, na_sales, eu_sales, jp_sales, other_sales, critic_score, user_score, rating]\n",
       "Index: []"
      ]
     },
     "execution_count": 1301,
     "metadata": {},
     "output_type": "execute_result"
    }
   ],
   "source": [
    "df_games = df_games_raw\n",
    "df_games['name'] = df_games['name'].fillna('unknown')\n",
    "df_games[df_games['name'].isnull()]"
   ]
  },
  {
   "cell_type": "markdown",
   "id": "f8268483",
   "metadata": {},
   "source": [
    "done"
   ]
  },
  {
   "cell_type": "markdown",
   "id": "961583be",
   "metadata": {},
   "source": [
    "### genere"
   ]
  },
  {
   "cell_type": "code",
   "execution_count": 1302,
   "id": "ce66c51a",
   "metadata": {},
   "outputs": [
    {
     "data": {
      "text/html": [
       "<div>\n",
       "<style scoped>\n",
       "    .dataframe tbody tr th:only-of-type {\n",
       "        vertical-align: middle;\n",
       "    }\n",
       "\n",
       "    .dataframe tbody tr th {\n",
       "        vertical-align: top;\n",
       "    }\n",
       "\n",
       "    .dataframe thead th {\n",
       "        text-align: right;\n",
       "    }\n",
       "</style>\n",
       "<table border=\"1\" class=\"dataframe\">\n",
       "  <thead>\n",
       "    <tr style=\"text-align: right;\">\n",
       "      <th></th>\n",
       "      <th>name</th>\n",
       "      <th>platform</th>\n",
       "      <th>year_of_release</th>\n",
       "      <th>genre</th>\n",
       "      <th>na_sales</th>\n",
       "      <th>eu_sales</th>\n",
       "      <th>jp_sales</th>\n",
       "      <th>other_sales</th>\n",
       "      <th>critic_score</th>\n",
       "      <th>user_score</th>\n",
       "      <th>rating</th>\n",
       "    </tr>\n",
       "  </thead>\n",
       "  <tbody>\n",
       "    <tr>\n",
       "      <th>659</th>\n",
       "      <td>unknown</td>\n",
       "      <td>GEN</td>\n",
       "      <td>1993.0</td>\n",
       "      <td>NaN</td>\n",
       "      <td>1.78</td>\n",
       "      <td>0.53</td>\n",
       "      <td>0.00</td>\n",
       "      <td>0.08</td>\n",
       "      <td>NaN</td>\n",
       "      <td>NaN</td>\n",
       "      <td>NaN</td>\n",
       "    </tr>\n",
       "    <tr>\n",
       "      <th>14244</th>\n",
       "      <td>unknown</td>\n",
       "      <td>GEN</td>\n",
       "      <td>1993.0</td>\n",
       "      <td>NaN</td>\n",
       "      <td>0.00</td>\n",
       "      <td>0.00</td>\n",
       "      <td>0.03</td>\n",
       "      <td>0.00</td>\n",
       "      <td>NaN</td>\n",
       "      <td>NaN</td>\n",
       "      <td>NaN</td>\n",
       "    </tr>\n",
       "  </tbody>\n",
       "</table>\n",
       "</div>"
      ],
      "text/plain": [
       "          name platform  year_of_release genre  na_sales  eu_sales  jp_sales  \\\n",
       "659    unknown      GEN           1993.0   NaN      1.78      0.53      0.00   \n",
       "14244  unknown      GEN           1993.0   NaN      0.00      0.00      0.03   \n",
       "\n",
       "       other_sales  critic_score user_score rating  \n",
       "659           0.08           NaN        NaN    NaN  \n",
       "14244         0.00           NaN        NaN    NaN  "
      ]
     },
     "execution_count": 1302,
     "metadata": {},
     "output_type": "execute_result"
    }
   ],
   "source": [
    "df_games[df_games['genre'].isnull()]"
   ]
  },
  {
   "cell_type": "markdown",
   "id": "259ba443",
   "metadata": {},
   "source": [
    "It's the same place where we have missing values in the name. Also many other places here with no values. We will remove these rows since there is nothing to study from them"
   ]
  },
  {
   "cell_type": "code",
   "execution_count": 1303,
   "id": "dbca4051",
   "metadata": {},
   "outputs": [
    {
     "data": {
      "text/html": [
       "<div>\n",
       "<style scoped>\n",
       "    .dataframe tbody tr th:only-of-type {\n",
       "        vertical-align: middle;\n",
       "    }\n",
       "\n",
       "    .dataframe tbody tr th {\n",
       "        vertical-align: top;\n",
       "    }\n",
       "\n",
       "    .dataframe thead th {\n",
       "        text-align: right;\n",
       "    }\n",
       "</style>\n",
       "<table border=\"1\" class=\"dataframe\">\n",
       "  <thead>\n",
       "    <tr style=\"text-align: right;\">\n",
       "      <th></th>\n",
       "      <th>name</th>\n",
       "      <th>platform</th>\n",
       "      <th>year_of_release</th>\n",
       "      <th>genre</th>\n",
       "      <th>na_sales</th>\n",
       "      <th>eu_sales</th>\n",
       "      <th>jp_sales</th>\n",
       "      <th>other_sales</th>\n",
       "      <th>critic_score</th>\n",
       "      <th>user_score</th>\n",
       "      <th>rating</th>\n",
       "    </tr>\n",
       "  </thead>\n",
       "  <tbody>\n",
       "  </tbody>\n",
       "</table>\n",
       "</div>"
      ],
      "text/plain": [
       "Empty DataFrame\n",
       "Columns: [name, platform, year_of_release, genre, na_sales, eu_sales, jp_sales, other_sales, critic_score, user_score, rating]\n",
       "Index: []"
      ]
     },
     "execution_count": 1303,
     "metadata": {},
     "output_type": "execute_result"
    }
   ],
   "source": [
    "df_games.dropna(subset=['genre'] ,inplace=True)\n",
    "df_games[df_games['genre'].isnull()]"
   ]
  },
  {
   "cell_type": "markdown",
   "id": "b4df475e",
   "metadata": {},
   "source": [
    "done"
   ]
  },
  {
   "cell_type": "markdown",
   "id": "5d61e872",
   "metadata": {},
   "source": [
    "### year_of_release"
   ]
  },
  {
   "cell_type": "markdown",
   "id": "999e5601",
   "metadata": {},
   "source": [
    "Add new column for duplicate game name"
   ]
  },
  {
   "cell_type": "code",
   "execution_count": 1304,
   "id": "7191582c",
   "metadata": {},
   "outputs": [],
   "source": [
    "df_games['duplicate_name'] = df_games.duplicated(\n",
    "    subset='name', keep=False\n",
    ")"
   ]
  },
  {
   "cell_type": "markdown",
   "id": "307d302f",
   "metadata": {},
   "source": [
    "Check if we can restore rating and year of release by the names for games with duplicates "
   ]
  },
  {
   "cell_type": "code",
   "execution_count": 1305,
   "id": "ebd5386e",
   "metadata": {
    "scrolled": false
   },
   "outputs": [
    {
     "data": {
      "text/html": [
       "<div>\n",
       "<style scoped>\n",
       "    .dataframe tbody tr th:only-of-type {\n",
       "        vertical-align: middle;\n",
       "    }\n",
       "\n",
       "    .dataframe tbody tr th {\n",
       "        vertical-align: top;\n",
       "    }\n",
       "\n",
       "    .dataframe thead th {\n",
       "        text-align: right;\n",
       "    }\n",
       "</style>\n",
       "<table border=\"1\" class=\"dataframe\">\n",
       "  <thead>\n",
       "    <tr style=\"text-align: right;\">\n",
       "      <th></th>\n",
       "      <th>name</th>\n",
       "      <th>platform</th>\n",
       "      <th>year_of_release</th>\n",
       "      <th>genre</th>\n",
       "      <th>na_sales</th>\n",
       "      <th>eu_sales</th>\n",
       "      <th>jp_sales</th>\n",
       "      <th>other_sales</th>\n",
       "      <th>critic_score</th>\n",
       "      <th>user_score</th>\n",
       "      <th>rating</th>\n",
       "      <th>duplicate_name</th>\n",
       "    </tr>\n",
       "  </thead>\n",
       "  <tbody>\n",
       "    <tr>\n",
       "      <th>14970</th>\n",
       "      <td>Captain Morgane and the Golden Turtle</td>\n",
       "      <td>PC</td>\n",
       "      <td>2012.0</td>\n",
       "      <td>Adventure</td>\n",
       "      <td>0.00</td>\n",
       "      <td>0.02</td>\n",
       "      <td>0.00</td>\n",
       "      <td>0.00</td>\n",
       "      <td>54.0</td>\n",
       "      <td>6.2</td>\n",
       "      <td>NaN</td>\n",
       "      <td>True</td>\n",
       "    </tr>\n",
       "    <tr>\n",
       "      <th>16359</th>\n",
       "      <td>Captain Morgane and the Golden Turtle</td>\n",
       "      <td>Wii</td>\n",
       "      <td>2012.0</td>\n",
       "      <td>Adventure</td>\n",
       "      <td>0.00</td>\n",
       "      <td>0.01</td>\n",
       "      <td>0.00</td>\n",
       "      <td>0.00</td>\n",
       "      <td>NaN</td>\n",
       "      <td>tbd</td>\n",
       "      <td>NaN</td>\n",
       "      <td>True</td>\n",
       "    </tr>\n",
       "    <tr>\n",
       "      <th>15225</th>\n",
       "      <td>Captain Morgane and the Golden Turtle</td>\n",
       "      <td>PS3</td>\n",
       "      <td>2012.0</td>\n",
       "      <td>Adventure</td>\n",
       "      <td>0.00</td>\n",
       "      <td>0.02</td>\n",
       "      <td>0.00</td>\n",
       "      <td>0.00</td>\n",
       "      <td>NaN</td>\n",
       "      <td>tbd</td>\n",
       "      <td>NaN</td>\n",
       "      <td>True</td>\n",
       "    </tr>\n",
       "    <tr>\n",
       "      <th>16530</th>\n",
       "      <td>Carmageddon: Max Damage</td>\n",
       "      <td>PS4</td>\n",
       "      <td>2016.0</td>\n",
       "      <td>Action</td>\n",
       "      <td>0.01</td>\n",
       "      <td>0.00</td>\n",
       "      <td>0.00</td>\n",
       "      <td>0.00</td>\n",
       "      <td>51.0</td>\n",
       "      <td>5.5</td>\n",
       "      <td>M</td>\n",
       "      <td>True</td>\n",
       "    </tr>\n",
       "    <tr>\n",
       "      <th>15456</th>\n",
       "      <td>Carmageddon: Max Damage</td>\n",
       "      <td>XOne</td>\n",
       "      <td>2016.0</td>\n",
       "      <td>Action</td>\n",
       "      <td>0.01</td>\n",
       "      <td>0.01</td>\n",
       "      <td>0.00</td>\n",
       "      <td>0.00</td>\n",
       "      <td>52.0</td>\n",
       "      <td>7.1</td>\n",
       "      <td>M</td>\n",
       "      <td>True</td>\n",
       "    </tr>\n",
       "    <tr>\n",
       "      <th>15050</th>\n",
       "      <td>Carmen Sandiego: The Secret of the Stolen Drums</td>\n",
       "      <td>XB</td>\n",
       "      <td>2004.0</td>\n",
       "      <td>Action</td>\n",
       "      <td>0.02</td>\n",
       "      <td>0.01</td>\n",
       "      <td>0.00</td>\n",
       "      <td>0.00</td>\n",
       "      <td>53.0</td>\n",
       "      <td>tbd</td>\n",
       "      <td>E</td>\n",
       "      <td>True</td>\n",
       "    </tr>\n",
       "    <tr>\n",
       "      <th>12851</th>\n",
       "      <td>Carmen Sandiego: The Secret of the Stolen Drums</td>\n",
       "      <td>PS2</td>\n",
       "      <td>2004.0</td>\n",
       "      <td>Action</td>\n",
       "      <td>0.03</td>\n",
       "      <td>0.02</td>\n",
       "      <td>0.00</td>\n",
       "      <td>0.01</td>\n",
       "      <td>53.0</td>\n",
       "      <td>tbd</td>\n",
       "      <td>E</td>\n",
       "      <td>True</td>\n",
       "    </tr>\n",
       "    <tr>\n",
       "      <th>15310</th>\n",
       "      <td>Carmen Sandiego: The Secret of the Stolen Drums</td>\n",
       "      <td>GC</td>\n",
       "      <td>2004.0</td>\n",
       "      <td>Action</td>\n",
       "      <td>0.02</td>\n",
       "      <td>0.00</td>\n",
       "      <td>0.00</td>\n",
       "      <td>0.00</td>\n",
       "      <td>57.0</td>\n",
       "      <td>tbd</td>\n",
       "      <td>E</td>\n",
       "      <td>True</td>\n",
       "    </tr>\n",
       "    <tr>\n",
       "      <th>840</th>\n",
       "      <td>Carnival Games</td>\n",
       "      <td>DS</td>\n",
       "      <td>2008.0</td>\n",
       "      <td>Misc</td>\n",
       "      <td>1.21</td>\n",
       "      <td>0.63</td>\n",
       "      <td>0.00</td>\n",
       "      <td>0.19</td>\n",
       "      <td>48.0</td>\n",
       "      <td>3.3</td>\n",
       "      <td>E</td>\n",
       "      <td>True</td>\n",
       "    </tr>\n",
       "    <tr>\n",
       "      <th>294</th>\n",
       "      <td>Carnival Games</td>\n",
       "      <td>Wii</td>\n",
       "      <td>2007.0</td>\n",
       "      <td>Misc</td>\n",
       "      <td>2.12</td>\n",
       "      <td>1.47</td>\n",
       "      <td>0.05</td>\n",
       "      <td>0.42</td>\n",
       "      <td>56.0</td>\n",
       "      <td>6</td>\n",
       "      <td>E</td>\n",
       "      <td>True</td>\n",
       "    </tr>\n",
       "    <tr>\n",
       "      <th>6148</th>\n",
       "      <td>Carol Vorderman's Sudoku</td>\n",
       "      <td>PS2</td>\n",
       "      <td>2006.0</td>\n",
       "      <td>Puzzle</td>\n",
       "      <td>0.00</td>\n",
       "      <td>0.23</td>\n",
       "      <td>0.00</td>\n",
       "      <td>0.05</td>\n",
       "      <td>75.0</td>\n",
       "      <td>tbd</td>\n",
       "      <td>E</td>\n",
       "      <td>True</td>\n",
       "    </tr>\n",
       "    <tr>\n",
       "      <th>12243</th>\n",
       "      <td>Carol Vorderman's Sudoku</td>\n",
       "      <td>PSP</td>\n",
       "      <td>2006.0</td>\n",
       "      <td>Puzzle</td>\n",
       "      <td>0.05</td>\n",
       "      <td>0.00</td>\n",
       "      <td>0.00</td>\n",
       "      <td>0.01</td>\n",
       "      <td>72.0</td>\n",
       "      <td>tbd</td>\n",
       "      <td>E</td>\n",
       "      <td>True</td>\n",
       "    </tr>\n",
       "    <tr>\n",
       "      <th>6668</th>\n",
       "      <td>Cars</td>\n",
       "      <td>X360</td>\n",
       "      <td>2006.0</td>\n",
       "      <td>Racing</td>\n",
       "      <td>0.22</td>\n",
       "      <td>0.01</td>\n",
       "      <td>0.00</td>\n",
       "      <td>0.02</td>\n",
       "      <td>65.0</td>\n",
       "      <td>6.1</td>\n",
       "      <td>E</td>\n",
       "      <td>True</td>\n",
       "    </tr>\n",
       "    <tr>\n",
       "      <th>2127</th>\n",
       "      <td>Cars</td>\n",
       "      <td>DS</td>\n",
       "      <td>2006.0</td>\n",
       "      <td>Racing</td>\n",
       "      <td>0.85</td>\n",
       "      <td>0.04</td>\n",
       "      <td>0.00</td>\n",
       "      <td>0.07</td>\n",
       "      <td>54.0</td>\n",
       "      <td>2.1</td>\n",
       "      <td>E</td>\n",
       "      <td>True</td>\n",
       "    </tr>\n",
       "    <tr>\n",
       "      <th>7567</th>\n",
       "      <td>Cars</td>\n",
       "      <td>XB</td>\n",
       "      <td>2006.0</td>\n",
       "      <td>Racing</td>\n",
       "      <td>0.15</td>\n",
       "      <td>0.04</td>\n",
       "      <td>0.00</td>\n",
       "      <td>0.01</td>\n",
       "      <td>70.0</td>\n",
       "      <td>tbd</td>\n",
       "      <td>E</td>\n",
       "      <td>True</td>\n",
       "    </tr>\n",
       "    <tr>\n",
       "      <th>1685</th>\n",
       "      <td>Cars</td>\n",
       "      <td>PSP</td>\n",
       "      <td>2006.0</td>\n",
       "      <td>Racing</td>\n",
       "      <td>0.72</td>\n",
       "      <td>0.28</td>\n",
       "      <td>0.00</td>\n",
       "      <td>0.20</td>\n",
       "      <td>70.0</td>\n",
       "      <td>7</td>\n",
       "      <td>E</td>\n",
       "      <td>True</td>\n",
       "    </tr>\n",
       "    <tr>\n",
       "      <th>2227</th>\n",
       "      <td>Cars</td>\n",
       "      <td>GC</td>\n",
       "      <td>2006.0</td>\n",
       "      <td>Racing</td>\n",
       "      <td>0.72</td>\n",
       "      <td>0.19</td>\n",
       "      <td>0.00</td>\n",
       "      <td>0.03</td>\n",
       "      <td>71.0</td>\n",
       "      <td>7</td>\n",
       "      <td>E</td>\n",
       "      <td>True</td>\n",
       "    </tr>\n",
       "    <tr>\n",
       "      <th>1805</th>\n",
       "      <td>Cars</td>\n",
       "      <td>GBA</td>\n",
       "      <td>2006.0</td>\n",
       "      <td>Racing</td>\n",
       "      <td>0.81</td>\n",
       "      <td>0.30</td>\n",
       "      <td>0.00</td>\n",
       "      <td>0.02</td>\n",
       "      <td>50.0</td>\n",
       "      <td>4.7</td>\n",
       "      <td>E</td>\n",
       "      <td>True</td>\n",
       "    </tr>\n",
       "    <tr>\n",
       "      <th>2244</th>\n",
       "      <td>Cars</td>\n",
       "      <td>Wii</td>\n",
       "      <td>2006.0</td>\n",
       "      <td>Racing</td>\n",
       "      <td>0.83</td>\n",
       "      <td>0.03</td>\n",
       "      <td>0.00</td>\n",
       "      <td>0.07</td>\n",
       "      <td>65.0</td>\n",
       "      <td>tbd</td>\n",
       "      <td>E</td>\n",
       "      <td>True</td>\n",
       "    </tr>\n",
       "    <tr>\n",
       "      <th>1651</th>\n",
       "      <td>Cars</td>\n",
       "      <td>PS2</td>\n",
       "      <td>2006.0</td>\n",
       "      <td>Racing</td>\n",
       "      <td>1.01</td>\n",
       "      <td>0.04</td>\n",
       "      <td>0.00</td>\n",
       "      <td>0.16</td>\n",
       "      <td>71.0</td>\n",
       "      <td>8.4</td>\n",
       "      <td>E</td>\n",
       "      <td>True</td>\n",
       "    </tr>\n",
       "  </tbody>\n",
       "</table>\n",
       "</div>"
      ],
      "text/plain": [
       "                                                  name platform  \\\n",
       "14970            Captain Morgane and the Golden Turtle       PC   \n",
       "16359            Captain Morgane and the Golden Turtle      Wii   \n",
       "15225            Captain Morgane and the Golden Turtle      PS3   \n",
       "16530                          Carmageddon: Max Damage      PS4   \n",
       "15456                          Carmageddon: Max Damage     XOne   \n",
       "15050  Carmen Sandiego: The Secret of the Stolen Drums       XB   \n",
       "12851  Carmen Sandiego: The Secret of the Stolen Drums      PS2   \n",
       "15310  Carmen Sandiego: The Secret of the Stolen Drums       GC   \n",
       "840                                     Carnival Games       DS   \n",
       "294                                     Carnival Games      Wii   \n",
       "6148                          Carol Vorderman's Sudoku      PS2   \n",
       "12243                         Carol Vorderman's Sudoku      PSP   \n",
       "6668                                              Cars     X360   \n",
       "2127                                              Cars       DS   \n",
       "7567                                              Cars       XB   \n",
       "1685                                              Cars      PSP   \n",
       "2227                                              Cars       GC   \n",
       "1805                                              Cars      GBA   \n",
       "2244                                              Cars      Wii   \n",
       "1651                                              Cars      PS2   \n",
       "\n",
       "       year_of_release      genre  na_sales  eu_sales  jp_sales  other_sales  \\\n",
       "14970           2012.0  Adventure      0.00      0.02      0.00         0.00   \n",
       "16359           2012.0  Adventure      0.00      0.01      0.00         0.00   \n",
       "15225           2012.0  Adventure      0.00      0.02      0.00         0.00   \n",
       "16530           2016.0     Action      0.01      0.00      0.00         0.00   \n",
       "15456           2016.0     Action      0.01      0.01      0.00         0.00   \n",
       "15050           2004.0     Action      0.02      0.01      0.00         0.00   \n",
       "12851           2004.0     Action      0.03      0.02      0.00         0.01   \n",
       "15310           2004.0     Action      0.02      0.00      0.00         0.00   \n",
       "840             2008.0       Misc      1.21      0.63      0.00         0.19   \n",
       "294             2007.0       Misc      2.12      1.47      0.05         0.42   \n",
       "6148            2006.0     Puzzle      0.00      0.23      0.00         0.05   \n",
       "12243           2006.0     Puzzle      0.05      0.00      0.00         0.01   \n",
       "6668            2006.0     Racing      0.22      0.01      0.00         0.02   \n",
       "2127            2006.0     Racing      0.85      0.04      0.00         0.07   \n",
       "7567            2006.0     Racing      0.15      0.04      0.00         0.01   \n",
       "1685            2006.0     Racing      0.72      0.28      0.00         0.20   \n",
       "2227            2006.0     Racing      0.72      0.19      0.00         0.03   \n",
       "1805            2006.0     Racing      0.81      0.30      0.00         0.02   \n",
       "2244            2006.0     Racing      0.83      0.03      0.00         0.07   \n",
       "1651            2006.0     Racing      1.01      0.04      0.00         0.16   \n",
       "\n",
       "       critic_score user_score rating  duplicate_name  \n",
       "14970          54.0        6.2    NaN            True  \n",
       "16359           NaN        tbd    NaN            True  \n",
       "15225           NaN        tbd    NaN            True  \n",
       "16530          51.0        5.5      M            True  \n",
       "15456          52.0        7.1      M            True  \n",
       "15050          53.0        tbd      E            True  \n",
       "12851          53.0        tbd      E            True  \n",
       "15310          57.0        tbd      E            True  \n",
       "840            48.0        3.3      E            True  \n",
       "294            56.0          6      E            True  \n",
       "6148           75.0        tbd      E            True  \n",
       "12243          72.0        tbd      E            True  \n",
       "6668           65.0        6.1      E            True  \n",
       "2127           54.0        2.1      E            True  \n",
       "7567           70.0        tbd      E            True  \n",
       "1685           70.0          7      E            True  \n",
       "2227           71.0          7      E            True  \n",
       "1805           50.0        4.7      E            True  \n",
       "2244           65.0        tbd      E            True  \n",
       "1651           71.0        8.4      E            True  "
      ]
     },
     "execution_count": 1305,
     "metadata": {},
     "output_type": "execute_result"
    }
   ],
   "source": [
    "df_games.query('duplicate_name').sort_values(by='name').sort_values(by='name')[1000:1020]"
   ]
  },
  {
   "cell_type": "markdown",
   "id": "afdff3d4",
   "metadata": {},
   "source": [
    "We see that for games that was released in multiple platforms the year_of_release and rating is same for all occurrence. So we can use the cases where there is information to complete the missings.  "
   ]
  },
  {
   "cell_type": "code",
   "execution_count": 1306,
   "id": "3bafa585",
   "metadata": {
    "scrolled": true
   },
   "outputs": [
    {
     "data": {
      "text/html": [
       "<style type=\"text/css\">\n",
       "</style>\n",
       "<table id=\"T_a2a35_\">\n",
       "  <thead>\n",
       "    <tr>\n",
       "      <th class=\"blank level0\" >&nbsp;</th>\n",
       "      <th class=\"col_heading level0 col0\" >missing</th>\n",
       "      <th class=\"col_heading level0 col1\" >total</th>\n",
       "      <th class=\"col_heading level0 col2\" >percent</th>\n",
       "    </tr>\n",
       "  </thead>\n",
       "  <tbody>\n",
       "    <tr>\n",
       "      <th id=\"T_a2a35_level0_row0\" class=\"row_heading level0 row0\" >critic_score</th>\n",
       "      <td id=\"T_a2a35_row0_col0\" class=\"data row0 col0\" >8,576</td>\n",
       "      <td id=\"T_a2a35_row0_col1\" class=\"data row0 col1\" >16,713</td>\n",
       "      <td id=\"T_a2a35_row0_col2\" class=\"data row0 col2\" >51.31%</td>\n",
       "    </tr>\n",
       "    <tr>\n",
       "      <th id=\"T_a2a35_level0_row1\" class=\"row_heading level0 row1\" >rating</th>\n",
       "      <td id=\"T_a2a35_row1_col0\" class=\"data row1 col0\" >6,764</td>\n",
       "      <td id=\"T_a2a35_row1_col1\" class=\"data row1 col1\" >16,713</td>\n",
       "      <td id=\"T_a2a35_row1_col2\" class=\"data row1 col2\" >40.47%</td>\n",
       "    </tr>\n",
       "    <tr>\n",
       "      <th id=\"T_a2a35_level0_row2\" class=\"row_heading level0 row2\" >user_score</th>\n",
       "      <td id=\"T_a2a35_row2_col0\" class=\"data row2 col0\" >6,699</td>\n",
       "      <td id=\"T_a2a35_row2_col1\" class=\"data row2 col1\" >16,713</td>\n",
       "      <td id=\"T_a2a35_row2_col2\" class=\"data row2 col2\" >40.08%</td>\n",
       "    </tr>\n",
       "    <tr>\n",
       "      <th id=\"T_a2a35_level0_row3\" class=\"row_heading level0 row3\" >year_of_release</th>\n",
       "      <td id=\"T_a2a35_row3_col0\" class=\"data row3 col0\" >269</td>\n",
       "      <td id=\"T_a2a35_row3_col1\" class=\"data row3 col1\" >16,713</td>\n",
       "      <td id=\"T_a2a35_row3_col2\" class=\"data row3 col2\" >1.61%</td>\n",
       "    </tr>\n",
       "    <tr>\n",
       "      <th id=\"T_a2a35_level0_row4\" class=\"row_heading level0 row4\" >name</th>\n",
       "      <td id=\"T_a2a35_row4_col0\" class=\"data row4 col0\" >0</td>\n",
       "      <td id=\"T_a2a35_row4_col1\" class=\"data row4 col1\" >16,713</td>\n",
       "      <td id=\"T_a2a35_row4_col2\" class=\"data row4 col2\" >0.00%</td>\n",
       "    </tr>\n",
       "    <tr>\n",
       "      <th id=\"T_a2a35_level0_row5\" class=\"row_heading level0 row5\" >platform</th>\n",
       "      <td id=\"T_a2a35_row5_col0\" class=\"data row5 col0\" >0</td>\n",
       "      <td id=\"T_a2a35_row5_col1\" class=\"data row5 col1\" >16,713</td>\n",
       "      <td id=\"T_a2a35_row5_col2\" class=\"data row5 col2\" >0.00%</td>\n",
       "    </tr>\n",
       "    <tr>\n",
       "      <th id=\"T_a2a35_level0_row6\" class=\"row_heading level0 row6\" >genre</th>\n",
       "      <td id=\"T_a2a35_row6_col0\" class=\"data row6 col0\" >0</td>\n",
       "      <td id=\"T_a2a35_row6_col1\" class=\"data row6 col1\" >16,713</td>\n",
       "      <td id=\"T_a2a35_row6_col2\" class=\"data row6 col2\" >0.00%</td>\n",
       "    </tr>\n",
       "    <tr>\n",
       "      <th id=\"T_a2a35_level0_row7\" class=\"row_heading level0 row7\" >na_sales</th>\n",
       "      <td id=\"T_a2a35_row7_col0\" class=\"data row7 col0\" >0</td>\n",
       "      <td id=\"T_a2a35_row7_col1\" class=\"data row7 col1\" >16,713</td>\n",
       "      <td id=\"T_a2a35_row7_col2\" class=\"data row7 col2\" >0.00%</td>\n",
       "    </tr>\n",
       "    <tr>\n",
       "      <th id=\"T_a2a35_level0_row8\" class=\"row_heading level0 row8\" >eu_sales</th>\n",
       "      <td id=\"T_a2a35_row8_col0\" class=\"data row8 col0\" >0</td>\n",
       "      <td id=\"T_a2a35_row8_col1\" class=\"data row8 col1\" >16,713</td>\n",
       "      <td id=\"T_a2a35_row8_col2\" class=\"data row8 col2\" >0.00%</td>\n",
       "    </tr>\n",
       "    <tr>\n",
       "      <th id=\"T_a2a35_level0_row9\" class=\"row_heading level0 row9\" >jp_sales</th>\n",
       "      <td id=\"T_a2a35_row9_col0\" class=\"data row9 col0\" >0</td>\n",
       "      <td id=\"T_a2a35_row9_col1\" class=\"data row9 col1\" >16,713</td>\n",
       "      <td id=\"T_a2a35_row9_col2\" class=\"data row9 col2\" >0.00%</td>\n",
       "    </tr>\n",
       "    <tr>\n",
       "      <th id=\"T_a2a35_level0_row10\" class=\"row_heading level0 row10\" >other_sales</th>\n",
       "      <td id=\"T_a2a35_row10_col0\" class=\"data row10 col0\" >0</td>\n",
       "      <td id=\"T_a2a35_row10_col1\" class=\"data row10 col1\" >16,713</td>\n",
       "      <td id=\"T_a2a35_row10_col2\" class=\"data row10 col2\" >0.00%</td>\n",
       "    </tr>\n",
       "    <tr>\n",
       "      <th id=\"T_a2a35_level0_row11\" class=\"row_heading level0 row11\" >duplicate_name</th>\n",
       "      <td id=\"T_a2a35_row11_col0\" class=\"data row11 col0\" >0</td>\n",
       "      <td id=\"T_a2a35_row11_col1\" class=\"data row11 col1\" >16,713</td>\n",
       "      <td id=\"T_a2a35_row11_col2\" class=\"data row11 col2\" >0.00%</td>\n",
       "    </tr>\n",
       "  </tbody>\n",
       "</table>\n"
      ],
      "text/plain": [
       "<pandas.io.formats.style.Styler at 0x1f0b51a5fa0>"
      ]
     },
     "execution_count": 1306,
     "metadata": {},
     "output_type": "execute_result"
    }
   ],
   "source": [
    "df_games.stb.missing(style=True)"
   ]
  },
  {
   "cell_type": "code",
   "execution_count": 1307,
   "id": "42fba87f",
   "metadata": {
    "scrolled": true
   },
   "outputs": [
    {
     "data": {
      "text/html": [
       "<style type=\"text/css\">\n",
       "</style>\n",
       "<table id=\"T_9eb80_\">\n",
       "  <thead>\n",
       "    <tr>\n",
       "      <th class=\"blank level0\" >&nbsp;</th>\n",
       "      <th class=\"col_heading level0 col0\" >missing</th>\n",
       "      <th class=\"col_heading level0 col1\" >total</th>\n",
       "      <th class=\"col_heading level0 col2\" >percent</th>\n",
       "    </tr>\n",
       "  </thead>\n",
       "  <tbody>\n",
       "    <tr>\n",
       "      <th id=\"T_9eb80_level0_row0\" class=\"row_heading level0 row0\" >critic_score</th>\n",
       "      <td id=\"T_9eb80_row0_col0\" class=\"data row0 col0\" >8,576</td>\n",
       "      <td id=\"T_9eb80_row0_col1\" class=\"data row0 col1\" >16,713</td>\n",
       "      <td id=\"T_9eb80_row0_col2\" class=\"data row0 col2\" >51.31%</td>\n",
       "    </tr>\n",
       "    <tr>\n",
       "      <th id=\"T_9eb80_level0_row1\" class=\"row_heading level0 row1\" >rating</th>\n",
       "      <td id=\"T_9eb80_row1_col0\" class=\"data row1 col0\" >6,764</td>\n",
       "      <td id=\"T_9eb80_row1_col1\" class=\"data row1 col1\" >16,713</td>\n",
       "      <td id=\"T_9eb80_row1_col2\" class=\"data row1 col2\" >40.47%</td>\n",
       "    </tr>\n",
       "    <tr>\n",
       "      <th id=\"T_9eb80_level0_row2\" class=\"row_heading level0 row2\" >user_score</th>\n",
       "      <td id=\"T_9eb80_row2_col0\" class=\"data row2 col0\" >6,699</td>\n",
       "      <td id=\"T_9eb80_row2_col1\" class=\"data row2 col1\" >16,713</td>\n",
       "      <td id=\"T_9eb80_row2_col2\" class=\"data row2 col2\" >40.08%</td>\n",
       "    </tr>\n",
       "    <tr>\n",
       "      <th id=\"T_9eb80_level0_row3\" class=\"row_heading level0 row3\" >year_of_release</th>\n",
       "      <td id=\"T_9eb80_row3_col0\" class=\"data row3 col0\" >167</td>\n",
       "      <td id=\"T_9eb80_row3_col1\" class=\"data row3 col1\" >16,713</td>\n",
       "      <td id=\"T_9eb80_row3_col2\" class=\"data row3 col2\" >1.00%</td>\n",
       "    </tr>\n",
       "    <tr>\n",
       "      <th id=\"T_9eb80_level0_row4\" class=\"row_heading level0 row4\" >name</th>\n",
       "      <td id=\"T_9eb80_row4_col0\" class=\"data row4 col0\" >0</td>\n",
       "      <td id=\"T_9eb80_row4_col1\" class=\"data row4 col1\" >16,713</td>\n",
       "      <td id=\"T_9eb80_row4_col2\" class=\"data row4 col2\" >0.00%</td>\n",
       "    </tr>\n",
       "    <tr>\n",
       "      <th id=\"T_9eb80_level0_row5\" class=\"row_heading level0 row5\" >platform</th>\n",
       "      <td id=\"T_9eb80_row5_col0\" class=\"data row5 col0\" >0</td>\n",
       "      <td id=\"T_9eb80_row5_col1\" class=\"data row5 col1\" >16,713</td>\n",
       "      <td id=\"T_9eb80_row5_col2\" class=\"data row5 col2\" >0.00%</td>\n",
       "    </tr>\n",
       "    <tr>\n",
       "      <th id=\"T_9eb80_level0_row6\" class=\"row_heading level0 row6\" >genre</th>\n",
       "      <td id=\"T_9eb80_row6_col0\" class=\"data row6 col0\" >0</td>\n",
       "      <td id=\"T_9eb80_row6_col1\" class=\"data row6 col1\" >16,713</td>\n",
       "      <td id=\"T_9eb80_row6_col2\" class=\"data row6 col2\" >0.00%</td>\n",
       "    </tr>\n",
       "    <tr>\n",
       "      <th id=\"T_9eb80_level0_row7\" class=\"row_heading level0 row7\" >na_sales</th>\n",
       "      <td id=\"T_9eb80_row7_col0\" class=\"data row7 col0\" >0</td>\n",
       "      <td id=\"T_9eb80_row7_col1\" class=\"data row7 col1\" >16,713</td>\n",
       "      <td id=\"T_9eb80_row7_col2\" class=\"data row7 col2\" >0.00%</td>\n",
       "    </tr>\n",
       "    <tr>\n",
       "      <th id=\"T_9eb80_level0_row8\" class=\"row_heading level0 row8\" >eu_sales</th>\n",
       "      <td id=\"T_9eb80_row8_col0\" class=\"data row8 col0\" >0</td>\n",
       "      <td id=\"T_9eb80_row8_col1\" class=\"data row8 col1\" >16,713</td>\n",
       "      <td id=\"T_9eb80_row8_col2\" class=\"data row8 col2\" >0.00%</td>\n",
       "    </tr>\n",
       "    <tr>\n",
       "      <th id=\"T_9eb80_level0_row9\" class=\"row_heading level0 row9\" >jp_sales</th>\n",
       "      <td id=\"T_9eb80_row9_col0\" class=\"data row9 col0\" >0</td>\n",
       "      <td id=\"T_9eb80_row9_col1\" class=\"data row9 col1\" >16,713</td>\n",
       "      <td id=\"T_9eb80_row9_col2\" class=\"data row9 col2\" >0.00%</td>\n",
       "    </tr>\n",
       "    <tr>\n",
       "      <th id=\"T_9eb80_level0_row10\" class=\"row_heading level0 row10\" >other_sales</th>\n",
       "      <td id=\"T_9eb80_row10_col0\" class=\"data row10 col0\" >0</td>\n",
       "      <td id=\"T_9eb80_row10_col1\" class=\"data row10 col1\" >16,713</td>\n",
       "      <td id=\"T_9eb80_row10_col2\" class=\"data row10 col2\" >0.00%</td>\n",
       "    </tr>\n",
       "    <tr>\n",
       "      <th id=\"T_9eb80_level0_row11\" class=\"row_heading level0 row11\" >duplicate_name</th>\n",
       "      <td id=\"T_9eb80_row11_col0\" class=\"data row11 col0\" >0</td>\n",
       "      <td id=\"T_9eb80_row11_col1\" class=\"data row11 col1\" >16,713</td>\n",
       "      <td id=\"T_9eb80_row11_col2\" class=\"data row11 col2\" >0.00%</td>\n",
       "    </tr>\n",
       "  </tbody>\n",
       "</table>\n"
      ],
      "text/plain": [
       "<pandas.io.formats.style.Styler at 0x1f0adda46d0>"
      ]
     },
     "execution_count": 1307,
     "metadata": {},
     "output_type": "execute_result"
    }
   ],
   "source": [
    "dict_of_name_and_year = dict(zip(df_games.dropna().name,df_games.dropna().year_of_release))\n",
    "df_games['year_of_release'] = df_games['year_of_release'].fillna(df_games['name'].map(dict_of_name_and_year))\n",
    "df_games.stb.missing(style=True)"
   ]
  },
  {
   "cell_type": "markdown",
   "id": "0a451476",
   "metadata": {},
   "source": [
    "We managed to fill 102 cells.\n",
    "In all the rest we will put 0 to not interfere with changing type"
   ]
  },
  {
   "cell_type": "markdown",
   "id": "42152df8",
   "metadata": {},
   "source": [
    "### rating"
   ]
  },
  {
   "cell_type": "code",
   "execution_count": 1308,
   "id": "9699f449",
   "metadata": {},
   "outputs": [
    {
     "data": {
      "text/html": [
       "<style type=\"text/css\">\n",
       "</style>\n",
       "<table id=\"T_91d00_\">\n",
       "  <thead>\n",
       "    <tr>\n",
       "      <th class=\"blank level0\" >&nbsp;</th>\n",
       "      <th class=\"col_heading level0 col0\" >missing</th>\n",
       "      <th class=\"col_heading level0 col1\" >total</th>\n",
       "      <th class=\"col_heading level0 col2\" >percent</th>\n",
       "    </tr>\n",
       "  </thead>\n",
       "  <tbody>\n",
       "    <tr>\n",
       "      <th id=\"T_91d00_level0_row0\" class=\"row_heading level0 row0\" >critic_score</th>\n",
       "      <td id=\"T_91d00_row0_col0\" class=\"data row0 col0\" >8,576</td>\n",
       "      <td id=\"T_91d00_row0_col1\" class=\"data row0 col1\" >16,713</td>\n",
       "      <td id=\"T_91d00_row0_col2\" class=\"data row0 col2\" >51.31%</td>\n",
       "    </tr>\n",
       "    <tr>\n",
       "      <th id=\"T_91d00_level0_row1\" class=\"row_heading level0 row1\" >user_score</th>\n",
       "      <td id=\"T_91d00_row1_col0\" class=\"data row1 col0\" >6,699</td>\n",
       "      <td id=\"T_91d00_row1_col1\" class=\"data row1 col1\" >16,713</td>\n",
       "      <td id=\"T_91d00_row1_col2\" class=\"data row1 col2\" >40.08%</td>\n",
       "    </tr>\n",
       "    <tr>\n",
       "      <th id=\"T_91d00_level0_row2\" class=\"row_heading level0 row2\" >rating</th>\n",
       "      <td id=\"T_91d00_row2_col0\" class=\"data row2 col0\" >6,403</td>\n",
       "      <td id=\"T_91d00_row2_col1\" class=\"data row2 col1\" >16,713</td>\n",
       "      <td id=\"T_91d00_row2_col2\" class=\"data row2 col2\" >38.31%</td>\n",
       "    </tr>\n",
       "    <tr>\n",
       "      <th id=\"T_91d00_level0_row3\" class=\"row_heading level0 row3\" >year_of_release</th>\n",
       "      <td id=\"T_91d00_row3_col0\" class=\"data row3 col0\" >167</td>\n",
       "      <td id=\"T_91d00_row3_col1\" class=\"data row3 col1\" >16,713</td>\n",
       "      <td id=\"T_91d00_row3_col2\" class=\"data row3 col2\" >1.00%</td>\n",
       "    </tr>\n",
       "    <tr>\n",
       "      <th id=\"T_91d00_level0_row4\" class=\"row_heading level0 row4\" >name</th>\n",
       "      <td id=\"T_91d00_row4_col0\" class=\"data row4 col0\" >0</td>\n",
       "      <td id=\"T_91d00_row4_col1\" class=\"data row4 col1\" >16,713</td>\n",
       "      <td id=\"T_91d00_row4_col2\" class=\"data row4 col2\" >0.00%</td>\n",
       "    </tr>\n",
       "    <tr>\n",
       "      <th id=\"T_91d00_level0_row5\" class=\"row_heading level0 row5\" >platform</th>\n",
       "      <td id=\"T_91d00_row5_col0\" class=\"data row5 col0\" >0</td>\n",
       "      <td id=\"T_91d00_row5_col1\" class=\"data row5 col1\" >16,713</td>\n",
       "      <td id=\"T_91d00_row5_col2\" class=\"data row5 col2\" >0.00%</td>\n",
       "    </tr>\n",
       "    <tr>\n",
       "      <th id=\"T_91d00_level0_row6\" class=\"row_heading level0 row6\" >genre</th>\n",
       "      <td id=\"T_91d00_row6_col0\" class=\"data row6 col0\" >0</td>\n",
       "      <td id=\"T_91d00_row6_col1\" class=\"data row6 col1\" >16,713</td>\n",
       "      <td id=\"T_91d00_row6_col2\" class=\"data row6 col2\" >0.00%</td>\n",
       "    </tr>\n",
       "    <tr>\n",
       "      <th id=\"T_91d00_level0_row7\" class=\"row_heading level0 row7\" >na_sales</th>\n",
       "      <td id=\"T_91d00_row7_col0\" class=\"data row7 col0\" >0</td>\n",
       "      <td id=\"T_91d00_row7_col1\" class=\"data row7 col1\" >16,713</td>\n",
       "      <td id=\"T_91d00_row7_col2\" class=\"data row7 col2\" >0.00%</td>\n",
       "    </tr>\n",
       "    <tr>\n",
       "      <th id=\"T_91d00_level0_row8\" class=\"row_heading level0 row8\" >eu_sales</th>\n",
       "      <td id=\"T_91d00_row8_col0\" class=\"data row8 col0\" >0</td>\n",
       "      <td id=\"T_91d00_row8_col1\" class=\"data row8 col1\" >16,713</td>\n",
       "      <td id=\"T_91d00_row8_col2\" class=\"data row8 col2\" >0.00%</td>\n",
       "    </tr>\n",
       "    <tr>\n",
       "      <th id=\"T_91d00_level0_row9\" class=\"row_heading level0 row9\" >jp_sales</th>\n",
       "      <td id=\"T_91d00_row9_col0\" class=\"data row9 col0\" >0</td>\n",
       "      <td id=\"T_91d00_row9_col1\" class=\"data row9 col1\" >16,713</td>\n",
       "      <td id=\"T_91d00_row9_col2\" class=\"data row9 col2\" >0.00%</td>\n",
       "    </tr>\n",
       "    <tr>\n",
       "      <th id=\"T_91d00_level0_row10\" class=\"row_heading level0 row10\" >other_sales</th>\n",
       "      <td id=\"T_91d00_row10_col0\" class=\"data row10 col0\" >0</td>\n",
       "      <td id=\"T_91d00_row10_col1\" class=\"data row10 col1\" >16,713</td>\n",
       "      <td id=\"T_91d00_row10_col2\" class=\"data row10 col2\" >0.00%</td>\n",
       "    </tr>\n",
       "    <tr>\n",
       "      <th id=\"T_91d00_level0_row11\" class=\"row_heading level0 row11\" >duplicate_name</th>\n",
       "      <td id=\"T_91d00_row11_col0\" class=\"data row11 col0\" >0</td>\n",
       "      <td id=\"T_91d00_row11_col1\" class=\"data row11 col1\" >16,713</td>\n",
       "      <td id=\"T_91d00_row11_col2\" class=\"data row11 col2\" >0.00%</td>\n",
       "    </tr>\n",
       "  </tbody>\n",
       "</table>\n"
      ],
      "text/plain": [
       "<pandas.io.formats.style.Styler at 0x1f0b1e4f6d0>"
      ]
     },
     "execution_count": 1308,
     "metadata": {},
     "output_type": "execute_result"
    }
   ],
   "source": [
    "dict_of_name_and_rating = dict(zip(df_games.dropna().name,df_games.dropna().rating))\n",
    "df_games['rating'] = df_games['rating'].fillna(df_games['name'].map(dict_of_name_and_rating))\n",
    "df_games.stb.missing(style=True)"
   ]
  },
  {
   "cell_type": "markdown",
   "id": "29496dfe",
   "metadata": {},
   "source": [
    "We managed to fill 300 cells. The rest we cannot fill so we will put 'unknown'"
   ]
  },
  {
   "cell_type": "code",
   "execution_count": 1309,
   "id": "e3dc8c5d",
   "metadata": {},
   "outputs": [],
   "source": [
    "df_games.loc[df_games['rating'].isna(), 'rating'] = 'unknown'"
   ]
  },
  {
   "cell_type": "code",
   "execution_count": 1310,
   "id": "fd2ff5ae",
   "metadata": {},
   "outputs": [
    {
     "data": {
      "text/html": [
       "<style type=\"text/css\">\n",
       "</style>\n",
       "<table id=\"T_b340e_\">\n",
       "  <thead>\n",
       "    <tr>\n",
       "      <th class=\"blank level0\" >&nbsp;</th>\n",
       "      <th class=\"col_heading level0 col0\" >missing</th>\n",
       "      <th class=\"col_heading level0 col1\" >total</th>\n",
       "      <th class=\"col_heading level0 col2\" >percent</th>\n",
       "    </tr>\n",
       "  </thead>\n",
       "  <tbody>\n",
       "    <tr>\n",
       "      <th id=\"T_b340e_level0_row0\" class=\"row_heading level0 row0\" >critic_score</th>\n",
       "      <td id=\"T_b340e_row0_col0\" class=\"data row0 col0\" >8,576</td>\n",
       "      <td id=\"T_b340e_row0_col1\" class=\"data row0 col1\" >16,713</td>\n",
       "      <td id=\"T_b340e_row0_col2\" class=\"data row0 col2\" >51.31%</td>\n",
       "    </tr>\n",
       "    <tr>\n",
       "      <th id=\"T_b340e_level0_row1\" class=\"row_heading level0 row1\" >user_score</th>\n",
       "      <td id=\"T_b340e_row1_col0\" class=\"data row1 col0\" >6,699</td>\n",
       "      <td id=\"T_b340e_row1_col1\" class=\"data row1 col1\" >16,713</td>\n",
       "      <td id=\"T_b340e_row1_col2\" class=\"data row1 col2\" >40.08%</td>\n",
       "    </tr>\n",
       "    <tr>\n",
       "      <th id=\"T_b340e_level0_row2\" class=\"row_heading level0 row2\" >year_of_release</th>\n",
       "      <td id=\"T_b340e_row2_col0\" class=\"data row2 col0\" >167</td>\n",
       "      <td id=\"T_b340e_row2_col1\" class=\"data row2 col1\" >16,713</td>\n",
       "      <td id=\"T_b340e_row2_col2\" class=\"data row2 col2\" >1.00%</td>\n",
       "    </tr>\n",
       "    <tr>\n",
       "      <th id=\"T_b340e_level0_row3\" class=\"row_heading level0 row3\" >name</th>\n",
       "      <td id=\"T_b340e_row3_col0\" class=\"data row3 col0\" >0</td>\n",
       "      <td id=\"T_b340e_row3_col1\" class=\"data row3 col1\" >16,713</td>\n",
       "      <td id=\"T_b340e_row3_col2\" class=\"data row3 col2\" >0.00%</td>\n",
       "    </tr>\n",
       "    <tr>\n",
       "      <th id=\"T_b340e_level0_row4\" class=\"row_heading level0 row4\" >platform</th>\n",
       "      <td id=\"T_b340e_row4_col0\" class=\"data row4 col0\" >0</td>\n",
       "      <td id=\"T_b340e_row4_col1\" class=\"data row4 col1\" >16,713</td>\n",
       "      <td id=\"T_b340e_row4_col2\" class=\"data row4 col2\" >0.00%</td>\n",
       "    </tr>\n",
       "    <tr>\n",
       "      <th id=\"T_b340e_level0_row5\" class=\"row_heading level0 row5\" >genre</th>\n",
       "      <td id=\"T_b340e_row5_col0\" class=\"data row5 col0\" >0</td>\n",
       "      <td id=\"T_b340e_row5_col1\" class=\"data row5 col1\" >16,713</td>\n",
       "      <td id=\"T_b340e_row5_col2\" class=\"data row5 col2\" >0.00%</td>\n",
       "    </tr>\n",
       "    <tr>\n",
       "      <th id=\"T_b340e_level0_row6\" class=\"row_heading level0 row6\" >na_sales</th>\n",
       "      <td id=\"T_b340e_row6_col0\" class=\"data row6 col0\" >0</td>\n",
       "      <td id=\"T_b340e_row6_col1\" class=\"data row6 col1\" >16,713</td>\n",
       "      <td id=\"T_b340e_row6_col2\" class=\"data row6 col2\" >0.00%</td>\n",
       "    </tr>\n",
       "    <tr>\n",
       "      <th id=\"T_b340e_level0_row7\" class=\"row_heading level0 row7\" >eu_sales</th>\n",
       "      <td id=\"T_b340e_row7_col0\" class=\"data row7 col0\" >0</td>\n",
       "      <td id=\"T_b340e_row7_col1\" class=\"data row7 col1\" >16,713</td>\n",
       "      <td id=\"T_b340e_row7_col2\" class=\"data row7 col2\" >0.00%</td>\n",
       "    </tr>\n",
       "    <tr>\n",
       "      <th id=\"T_b340e_level0_row8\" class=\"row_heading level0 row8\" >jp_sales</th>\n",
       "      <td id=\"T_b340e_row8_col0\" class=\"data row8 col0\" >0</td>\n",
       "      <td id=\"T_b340e_row8_col1\" class=\"data row8 col1\" >16,713</td>\n",
       "      <td id=\"T_b340e_row8_col2\" class=\"data row8 col2\" >0.00%</td>\n",
       "    </tr>\n",
       "    <tr>\n",
       "      <th id=\"T_b340e_level0_row9\" class=\"row_heading level0 row9\" >other_sales</th>\n",
       "      <td id=\"T_b340e_row9_col0\" class=\"data row9 col0\" >0</td>\n",
       "      <td id=\"T_b340e_row9_col1\" class=\"data row9 col1\" >16,713</td>\n",
       "      <td id=\"T_b340e_row9_col2\" class=\"data row9 col2\" >0.00%</td>\n",
       "    </tr>\n",
       "    <tr>\n",
       "      <th id=\"T_b340e_level0_row10\" class=\"row_heading level0 row10\" >rating</th>\n",
       "      <td id=\"T_b340e_row10_col0\" class=\"data row10 col0\" >0</td>\n",
       "      <td id=\"T_b340e_row10_col1\" class=\"data row10 col1\" >16,713</td>\n",
       "      <td id=\"T_b340e_row10_col2\" class=\"data row10 col2\" >0.00%</td>\n",
       "    </tr>\n",
       "    <tr>\n",
       "      <th id=\"T_b340e_level0_row11\" class=\"row_heading level0 row11\" >duplicate_name</th>\n",
       "      <td id=\"T_b340e_row11_col0\" class=\"data row11 col0\" >0</td>\n",
       "      <td id=\"T_b340e_row11_col1\" class=\"data row11 col1\" >16,713</td>\n",
       "      <td id=\"T_b340e_row11_col2\" class=\"data row11 col2\" >0.00%</td>\n",
       "    </tr>\n",
       "  </tbody>\n",
       "</table>\n"
      ],
      "text/plain": [
       "<pandas.io.formats.style.Styler at 0x1f0b2bfb640>"
      ]
     },
     "execution_count": 1310,
     "metadata": {},
     "output_type": "execute_result"
    }
   ],
   "source": [
    "df_games.stb.missing(style=True)"
   ]
  },
  {
   "cell_type": "markdown",
   "id": "cc003b9e",
   "metadata": {},
   "source": [
    "Now we will fill in year_of_release with nan the value 0 to help us in the future analysis. And change type to int"
   ]
  },
  {
   "cell_type": "code",
   "execution_count": 1311,
   "id": "d3f8b9ee",
   "metadata": {},
   "outputs": [],
   "source": [
    "df_games['year_of_release'] = df_games['year_of_release'].fillna(0).astype(int)"
   ]
  },
  {
   "cell_type": "markdown",
   "id": "7271b492",
   "metadata": {},
   "source": [
    "### tbd in user_score"
   ]
  },
  {
   "cell_type": "code",
   "execution_count": 1312,
   "id": "49ec5bc9",
   "metadata": {},
   "outputs": [
    {
     "data": {
      "text/plain": [
       "'We have 2424 rows with tbd.'"
      ]
     },
     "execution_count": 1312,
     "metadata": {},
     "output_type": "execute_result"
    }
   ],
   "source": [
    "number = df_games.query('user_score ==\"tbd\"').shape[0]\n",
    "f'We have {number} rows with tbd.'"
   ]
  },
  {
   "cell_type": "markdown",
   "id": "01d5ff76",
   "metadata": {},
   "source": [
    "TBD means to be determined. This is equal to missing value. As far as we concearn. So we will replace tbd with 'unknown'"
   ]
  },
  {
   "cell_type": "code",
   "execution_count": 1313,
   "id": "3b6e508b",
   "metadata": {},
   "outputs": [],
   "source": [
    "df_games.loc[(df_games['user_score'] == \"tbd\") |  (df_games['user_score'].isna()) , 'user_score'] = 'unknown'"
   ]
  },
  {
   "cell_type": "code",
   "execution_count": 1314,
   "id": "0d745802",
   "metadata": {},
   "outputs": [
    {
     "data": {
      "text/html": [
       "<style type=\"text/css\">\n",
       "</style>\n",
       "<table id=\"T_d0279_\">\n",
       "  <thead>\n",
       "    <tr>\n",
       "      <th class=\"blank level0\" >&nbsp;</th>\n",
       "      <th class=\"col_heading level0 col0\" >missing</th>\n",
       "      <th class=\"col_heading level0 col1\" >total</th>\n",
       "      <th class=\"col_heading level0 col2\" >percent</th>\n",
       "    </tr>\n",
       "  </thead>\n",
       "  <tbody>\n",
       "    <tr>\n",
       "      <th id=\"T_d0279_level0_row0\" class=\"row_heading level0 row0\" >critic_score</th>\n",
       "      <td id=\"T_d0279_row0_col0\" class=\"data row0 col0\" >8,576</td>\n",
       "      <td id=\"T_d0279_row0_col1\" class=\"data row0 col1\" >16,713</td>\n",
       "      <td id=\"T_d0279_row0_col2\" class=\"data row0 col2\" >51.31%</td>\n",
       "    </tr>\n",
       "    <tr>\n",
       "      <th id=\"T_d0279_level0_row1\" class=\"row_heading level0 row1\" >name</th>\n",
       "      <td id=\"T_d0279_row1_col0\" class=\"data row1 col0\" >0</td>\n",
       "      <td id=\"T_d0279_row1_col1\" class=\"data row1 col1\" >16,713</td>\n",
       "      <td id=\"T_d0279_row1_col2\" class=\"data row1 col2\" >0.00%</td>\n",
       "    </tr>\n",
       "    <tr>\n",
       "      <th id=\"T_d0279_level0_row2\" class=\"row_heading level0 row2\" >platform</th>\n",
       "      <td id=\"T_d0279_row2_col0\" class=\"data row2 col0\" >0</td>\n",
       "      <td id=\"T_d0279_row2_col1\" class=\"data row2 col1\" >16,713</td>\n",
       "      <td id=\"T_d0279_row2_col2\" class=\"data row2 col2\" >0.00%</td>\n",
       "    </tr>\n",
       "    <tr>\n",
       "      <th id=\"T_d0279_level0_row3\" class=\"row_heading level0 row3\" >year_of_release</th>\n",
       "      <td id=\"T_d0279_row3_col0\" class=\"data row3 col0\" >0</td>\n",
       "      <td id=\"T_d0279_row3_col1\" class=\"data row3 col1\" >16,713</td>\n",
       "      <td id=\"T_d0279_row3_col2\" class=\"data row3 col2\" >0.00%</td>\n",
       "    </tr>\n",
       "    <tr>\n",
       "      <th id=\"T_d0279_level0_row4\" class=\"row_heading level0 row4\" >genre</th>\n",
       "      <td id=\"T_d0279_row4_col0\" class=\"data row4 col0\" >0</td>\n",
       "      <td id=\"T_d0279_row4_col1\" class=\"data row4 col1\" >16,713</td>\n",
       "      <td id=\"T_d0279_row4_col2\" class=\"data row4 col2\" >0.00%</td>\n",
       "    </tr>\n",
       "    <tr>\n",
       "      <th id=\"T_d0279_level0_row5\" class=\"row_heading level0 row5\" >na_sales</th>\n",
       "      <td id=\"T_d0279_row5_col0\" class=\"data row5 col0\" >0</td>\n",
       "      <td id=\"T_d0279_row5_col1\" class=\"data row5 col1\" >16,713</td>\n",
       "      <td id=\"T_d0279_row5_col2\" class=\"data row5 col2\" >0.00%</td>\n",
       "    </tr>\n",
       "    <tr>\n",
       "      <th id=\"T_d0279_level0_row6\" class=\"row_heading level0 row6\" >eu_sales</th>\n",
       "      <td id=\"T_d0279_row6_col0\" class=\"data row6 col0\" >0</td>\n",
       "      <td id=\"T_d0279_row6_col1\" class=\"data row6 col1\" >16,713</td>\n",
       "      <td id=\"T_d0279_row6_col2\" class=\"data row6 col2\" >0.00%</td>\n",
       "    </tr>\n",
       "    <tr>\n",
       "      <th id=\"T_d0279_level0_row7\" class=\"row_heading level0 row7\" >jp_sales</th>\n",
       "      <td id=\"T_d0279_row7_col0\" class=\"data row7 col0\" >0</td>\n",
       "      <td id=\"T_d0279_row7_col1\" class=\"data row7 col1\" >16,713</td>\n",
       "      <td id=\"T_d0279_row7_col2\" class=\"data row7 col2\" >0.00%</td>\n",
       "    </tr>\n",
       "    <tr>\n",
       "      <th id=\"T_d0279_level0_row8\" class=\"row_heading level0 row8\" >other_sales</th>\n",
       "      <td id=\"T_d0279_row8_col0\" class=\"data row8 col0\" >0</td>\n",
       "      <td id=\"T_d0279_row8_col1\" class=\"data row8 col1\" >16,713</td>\n",
       "      <td id=\"T_d0279_row8_col2\" class=\"data row8 col2\" >0.00%</td>\n",
       "    </tr>\n",
       "    <tr>\n",
       "      <th id=\"T_d0279_level0_row9\" class=\"row_heading level0 row9\" >user_score</th>\n",
       "      <td id=\"T_d0279_row9_col0\" class=\"data row9 col0\" >0</td>\n",
       "      <td id=\"T_d0279_row9_col1\" class=\"data row9 col1\" >16,713</td>\n",
       "      <td id=\"T_d0279_row9_col2\" class=\"data row9 col2\" >0.00%</td>\n",
       "    </tr>\n",
       "    <tr>\n",
       "      <th id=\"T_d0279_level0_row10\" class=\"row_heading level0 row10\" >rating</th>\n",
       "      <td id=\"T_d0279_row10_col0\" class=\"data row10 col0\" >0</td>\n",
       "      <td id=\"T_d0279_row10_col1\" class=\"data row10 col1\" >16,713</td>\n",
       "      <td id=\"T_d0279_row10_col2\" class=\"data row10 col2\" >0.00%</td>\n",
       "    </tr>\n",
       "    <tr>\n",
       "      <th id=\"T_d0279_level0_row11\" class=\"row_heading level0 row11\" >duplicate_name</th>\n",
       "      <td id=\"T_d0279_row11_col0\" class=\"data row11 col0\" >0</td>\n",
       "      <td id=\"T_d0279_row11_col1\" class=\"data row11 col1\" >16,713</td>\n",
       "      <td id=\"T_d0279_row11_col2\" class=\"data row11 col2\" >0.00%</td>\n",
       "    </tr>\n",
       "  </tbody>\n",
       "</table>\n"
      ],
      "text/plain": [
       "<pandas.io.formats.style.Styler at 0x1f0b09d8af0>"
      ]
     },
     "execution_count": 1314,
     "metadata": {},
     "output_type": "execute_result"
    }
   ],
   "source": [
    "df_games.stb.missing(style=True)"
   ]
  },
  {
   "cell_type": "markdown",
   "id": "739859ff",
   "metadata": {},
   "source": [
    "### critic_score"
   ]
  },
  {
   "cell_type": "markdown",
   "id": "2b23d2fc",
   "metadata": {},
   "source": [
    "We can't conclude from scores on other platform the critic score for places where there is no score because the score is affected by the platform. We will replace with unknown"
   ]
  },
  {
   "cell_type": "code",
   "execution_count": 1315,
   "id": "1ce1fa20",
   "metadata": {
    "scrolled": true
   },
   "outputs": [
    {
     "data": {
      "text/html": [
       "<style type=\"text/css\">\n",
       "</style>\n",
       "<table id=\"T_32826_\">\n",
       "  <thead>\n",
       "    <tr>\n",
       "      <th class=\"blank level0\" >&nbsp;</th>\n",
       "      <th class=\"col_heading level0 col0\" >missing</th>\n",
       "      <th class=\"col_heading level0 col1\" >total</th>\n",
       "      <th class=\"col_heading level0 col2\" >percent</th>\n",
       "    </tr>\n",
       "  </thead>\n",
       "  <tbody>\n",
       "    <tr>\n",
       "      <th id=\"T_32826_level0_row0\" class=\"row_heading level0 row0\" >name</th>\n",
       "      <td id=\"T_32826_row0_col0\" class=\"data row0 col0\" >0</td>\n",
       "      <td id=\"T_32826_row0_col1\" class=\"data row0 col1\" >16,713</td>\n",
       "      <td id=\"T_32826_row0_col2\" class=\"data row0 col2\" >0.00%</td>\n",
       "    </tr>\n",
       "    <tr>\n",
       "      <th id=\"T_32826_level0_row1\" class=\"row_heading level0 row1\" >platform</th>\n",
       "      <td id=\"T_32826_row1_col0\" class=\"data row1 col0\" >0</td>\n",
       "      <td id=\"T_32826_row1_col1\" class=\"data row1 col1\" >16,713</td>\n",
       "      <td id=\"T_32826_row1_col2\" class=\"data row1 col2\" >0.00%</td>\n",
       "    </tr>\n",
       "    <tr>\n",
       "      <th id=\"T_32826_level0_row2\" class=\"row_heading level0 row2\" >year_of_release</th>\n",
       "      <td id=\"T_32826_row2_col0\" class=\"data row2 col0\" >0</td>\n",
       "      <td id=\"T_32826_row2_col1\" class=\"data row2 col1\" >16,713</td>\n",
       "      <td id=\"T_32826_row2_col2\" class=\"data row2 col2\" >0.00%</td>\n",
       "    </tr>\n",
       "    <tr>\n",
       "      <th id=\"T_32826_level0_row3\" class=\"row_heading level0 row3\" >genre</th>\n",
       "      <td id=\"T_32826_row3_col0\" class=\"data row3 col0\" >0</td>\n",
       "      <td id=\"T_32826_row3_col1\" class=\"data row3 col1\" >16,713</td>\n",
       "      <td id=\"T_32826_row3_col2\" class=\"data row3 col2\" >0.00%</td>\n",
       "    </tr>\n",
       "    <tr>\n",
       "      <th id=\"T_32826_level0_row4\" class=\"row_heading level0 row4\" >na_sales</th>\n",
       "      <td id=\"T_32826_row4_col0\" class=\"data row4 col0\" >0</td>\n",
       "      <td id=\"T_32826_row4_col1\" class=\"data row4 col1\" >16,713</td>\n",
       "      <td id=\"T_32826_row4_col2\" class=\"data row4 col2\" >0.00%</td>\n",
       "    </tr>\n",
       "    <tr>\n",
       "      <th id=\"T_32826_level0_row5\" class=\"row_heading level0 row5\" >eu_sales</th>\n",
       "      <td id=\"T_32826_row5_col0\" class=\"data row5 col0\" >0</td>\n",
       "      <td id=\"T_32826_row5_col1\" class=\"data row5 col1\" >16,713</td>\n",
       "      <td id=\"T_32826_row5_col2\" class=\"data row5 col2\" >0.00%</td>\n",
       "    </tr>\n",
       "    <tr>\n",
       "      <th id=\"T_32826_level0_row6\" class=\"row_heading level0 row6\" >jp_sales</th>\n",
       "      <td id=\"T_32826_row6_col0\" class=\"data row6 col0\" >0</td>\n",
       "      <td id=\"T_32826_row6_col1\" class=\"data row6 col1\" >16,713</td>\n",
       "      <td id=\"T_32826_row6_col2\" class=\"data row6 col2\" >0.00%</td>\n",
       "    </tr>\n",
       "    <tr>\n",
       "      <th id=\"T_32826_level0_row7\" class=\"row_heading level0 row7\" >other_sales</th>\n",
       "      <td id=\"T_32826_row7_col0\" class=\"data row7 col0\" >0</td>\n",
       "      <td id=\"T_32826_row7_col1\" class=\"data row7 col1\" >16,713</td>\n",
       "      <td id=\"T_32826_row7_col2\" class=\"data row7 col2\" >0.00%</td>\n",
       "    </tr>\n",
       "    <tr>\n",
       "      <th id=\"T_32826_level0_row8\" class=\"row_heading level0 row8\" >critic_score</th>\n",
       "      <td id=\"T_32826_row8_col0\" class=\"data row8 col0\" >0</td>\n",
       "      <td id=\"T_32826_row8_col1\" class=\"data row8 col1\" >16,713</td>\n",
       "      <td id=\"T_32826_row8_col2\" class=\"data row8 col2\" >0.00%</td>\n",
       "    </tr>\n",
       "    <tr>\n",
       "      <th id=\"T_32826_level0_row9\" class=\"row_heading level0 row9\" >user_score</th>\n",
       "      <td id=\"T_32826_row9_col0\" class=\"data row9 col0\" >0</td>\n",
       "      <td id=\"T_32826_row9_col1\" class=\"data row9 col1\" >16,713</td>\n",
       "      <td id=\"T_32826_row9_col2\" class=\"data row9 col2\" >0.00%</td>\n",
       "    </tr>\n",
       "    <tr>\n",
       "      <th id=\"T_32826_level0_row10\" class=\"row_heading level0 row10\" >rating</th>\n",
       "      <td id=\"T_32826_row10_col0\" class=\"data row10 col0\" >0</td>\n",
       "      <td id=\"T_32826_row10_col1\" class=\"data row10 col1\" >16,713</td>\n",
       "      <td id=\"T_32826_row10_col2\" class=\"data row10 col2\" >0.00%</td>\n",
       "    </tr>\n",
       "    <tr>\n",
       "      <th id=\"T_32826_level0_row11\" class=\"row_heading level0 row11\" >duplicate_name</th>\n",
       "      <td id=\"T_32826_row11_col0\" class=\"data row11 col0\" >0</td>\n",
       "      <td id=\"T_32826_row11_col1\" class=\"data row11 col1\" >16,713</td>\n",
       "      <td id=\"T_32826_row11_col2\" class=\"data row11 col2\" >0.00%</td>\n",
       "    </tr>\n",
       "  </tbody>\n",
       "</table>\n"
      ],
      "text/plain": [
       "<pandas.io.formats.style.Styler at 0x1f0b438d580>"
      ]
     },
     "execution_count": 1315,
     "metadata": {},
     "output_type": "execute_result"
    }
   ],
   "source": [
    "df_games.loc[df_games['critic_score'].isna(), 'critic_score'] = 'unknown'\n",
    "df_games.stb.missing(style=True)"
   ]
  },
  {
   "cell_type": "markdown",
   "id": "ff4092da",
   "metadata": {},
   "source": [
    "No more NaN's"
   ]
  },
  {
   "cell_type": "markdown",
   "id": "8f59aa7b",
   "metadata": {},
   "source": [
    "## Calculate the total sales"
   ]
  },
  {
   "cell_type": "code",
   "execution_count": 1316,
   "id": "ef8b06ca",
   "metadata": {},
   "outputs": [
    {
     "data": {
      "text/html": [
       "<div>\n",
       "<style scoped>\n",
       "    .dataframe tbody tr th:only-of-type {\n",
       "        vertical-align: middle;\n",
       "    }\n",
       "\n",
       "    .dataframe tbody tr th {\n",
       "        vertical-align: top;\n",
       "    }\n",
       "\n",
       "    .dataframe thead th {\n",
       "        text-align: right;\n",
       "    }\n",
       "</style>\n",
       "<table border=\"1\" class=\"dataframe\">\n",
       "  <thead>\n",
       "    <tr style=\"text-align: right;\">\n",
       "      <th></th>\n",
       "      <th>name</th>\n",
       "      <th>platform</th>\n",
       "      <th>year_of_release</th>\n",
       "      <th>genre</th>\n",
       "      <th>na_sales</th>\n",
       "      <th>eu_sales</th>\n",
       "      <th>jp_sales</th>\n",
       "      <th>other_sales</th>\n",
       "      <th>critic_score</th>\n",
       "      <th>user_score</th>\n",
       "      <th>rating</th>\n",
       "      <th>duplicate_name</th>\n",
       "      <th>total_sales</th>\n",
       "    </tr>\n",
       "  </thead>\n",
       "  <tbody>\n",
       "    <tr>\n",
       "      <th>7306</th>\n",
       "      <td>NBA</td>\n",
       "      <td>PSP</td>\n",
       "      <td>2005</td>\n",
       "      <td>Sports</td>\n",
       "      <td>0.20</td>\n",
       "      <td>0.00</td>\n",
       "      <td>0.00</td>\n",
       "      <td>0.02</td>\n",
       "      <td>57.0</td>\n",
       "      <td>6.9</td>\n",
       "      <td>E</td>\n",
       "      <td>False</td>\n",
       "      <td>0.22</td>\n",
       "    </tr>\n",
       "    <tr>\n",
       "      <th>13086</th>\n",
       "      <td>FIFA Soccer 2004</td>\n",
       "      <td>GBA</td>\n",
       "      <td>2003</td>\n",
       "      <td>Sports</td>\n",
       "      <td>0.04</td>\n",
       "      <td>0.01</td>\n",
       "      <td>0.00</td>\n",
       "      <td>0.00</td>\n",
       "      <td>82.0</td>\n",
       "      <td>7.9</td>\n",
       "      <td>E</td>\n",
       "      <td>True</td>\n",
       "      <td>0.05</td>\n",
       "    </tr>\n",
       "    <tr>\n",
       "      <th>2728</th>\n",
       "      <td>Shark Tale</td>\n",
       "      <td>PS2</td>\n",
       "      <td>2004</td>\n",
       "      <td>Action</td>\n",
       "      <td>0.37</td>\n",
       "      <td>0.29</td>\n",
       "      <td>0.00</td>\n",
       "      <td>0.10</td>\n",
       "      <td>69.0</td>\n",
       "      <td>6.5</td>\n",
       "      <td>E</td>\n",
       "      <td>True</td>\n",
       "      <td>0.76</td>\n",
       "    </tr>\n",
       "    <tr>\n",
       "      <th>15056</th>\n",
       "      <td>Atari Flashback Classics: Volume 2</td>\n",
       "      <td>PS4</td>\n",
       "      <td>2016</td>\n",
       "      <td>Misc</td>\n",
       "      <td>0.02</td>\n",
       "      <td>0.00</td>\n",
       "      <td>0.00</td>\n",
       "      <td>0.00</td>\n",
       "      <td>unknown</td>\n",
       "      <td>unknown</td>\n",
       "      <td>E</td>\n",
       "      <td>True</td>\n",
       "      <td>0.02</td>\n",
       "    </tr>\n",
       "    <tr>\n",
       "      <th>5529</th>\n",
       "      <td>Samurai Warriors 2: Xtreme Legends (JP sales)</td>\n",
       "      <td>PS2</td>\n",
       "      <td>2007</td>\n",
       "      <td>Action</td>\n",
       "      <td>0.00</td>\n",
       "      <td>0.00</td>\n",
       "      <td>0.33</td>\n",
       "      <td>0.00</td>\n",
       "      <td>unknown</td>\n",
       "      <td>unknown</td>\n",
       "      <td>unknown</td>\n",
       "      <td>False</td>\n",
       "      <td>0.33</td>\n",
       "    </tr>\n",
       "  </tbody>\n",
       "</table>\n",
       "</div>"
      ],
      "text/plain": [
       "                                                name platform  \\\n",
       "7306                                             NBA      PSP   \n",
       "13086                               FIFA Soccer 2004      GBA   \n",
       "2728                                      Shark Tale      PS2   \n",
       "15056             Atari Flashback Classics: Volume 2      PS4   \n",
       "5529   Samurai Warriors 2: Xtreme Legends (JP sales)      PS2   \n",
       "\n",
       "       year_of_release   genre  na_sales  eu_sales  jp_sales  other_sales  \\\n",
       "7306              2005  Sports      0.20      0.00      0.00         0.02   \n",
       "13086             2003  Sports      0.04      0.01      0.00         0.00   \n",
       "2728              2004  Action      0.37      0.29      0.00         0.10   \n",
       "15056             2016    Misc      0.02      0.00      0.00         0.00   \n",
       "5529              2007  Action      0.00      0.00      0.33         0.00   \n",
       "\n",
       "      critic_score user_score   rating  duplicate_name  total_sales  \n",
       "7306          57.0        6.9        E           False         0.22  \n",
       "13086         82.0        7.9        E            True         0.05  \n",
       "2728          69.0        6.5        E            True         0.76  \n",
       "15056      unknown    unknown        E            True         0.02  \n",
       "5529       unknown    unknown  unknown           False         0.33  "
      ]
     },
     "execution_count": 1316,
     "metadata": {},
     "output_type": "execute_result"
    }
   ],
   "source": [
    "df_games['total_sales'] = df_games[['na_sales', 'eu_sales', 'jp_sales', 'other_sales']].sum(axis=1)\n",
    "df_games.sample(5)"
   ]
  },
  {
   "cell_type": "markdown",
   "id": "7a77bfbe",
   "metadata": {},
   "source": [
    "done"
   ]
  },
  {
   "cell_type": "markdown",
   "id": "10b9e560",
   "metadata": {},
   "source": [
    "# Step 3. Analyze the data"
   ]
  },
  {
   "cell_type": "markdown",
   "id": "d5638192",
   "metadata": {},
   "source": [
    "## How many games were released in different years? Is the data for every period significant?"
   ]
  },
  {
   "cell_type": "markdown",
   "id": "a363b490",
   "metadata": {},
   "source": [
    "remove for this display the year_of_release 0"
   ]
  },
  {
   "cell_type": "code",
   "execution_count": 1317,
   "id": "00a5baee",
   "metadata": {},
   "outputs": [],
   "source": [
    "df_games_no_0 = df_games.query('year_of_release != 0')"
   ]
  },
  {
   "cell_type": "code",
   "execution_count": 1318,
   "id": "07a14c9d",
   "metadata": {},
   "outputs": [
    {
     "name": "stdout",
     "output_type": "stream",
     "text": [
      "    year_of_release  name\n",
      "0              1980     9\n",
      "1              1981    46\n",
      "2              1982    36\n",
      "3              1983    17\n",
      "4              1984    14\n",
      "5              1985    14\n",
      "6              1986    21\n",
      "7              1987    16\n",
      "8              1988    15\n",
      "9              1989    17\n",
      "10             1990    16\n",
      "11             1991    41\n",
      "12             1992    43\n",
      "13             1993    60\n",
      "14             1994   121\n",
      "15             1995   219\n",
      "16             1996   263\n",
      "17             1997   289\n",
      "18             1998   379\n",
      "19             1999   338\n",
      "20             2000   350\n",
      "21             2001   484\n",
      "22             2002   845\n",
      "23             2003   784\n",
      "24             2004   764\n",
      "25             2005   948\n",
      "26             2006  1019\n",
      "27             2007  1201\n",
      "28             2008  1440\n",
      "29             2009  1430\n",
      "30             2010  1266\n",
      "31             2011  1144\n",
      "32             2012   661\n",
      "33             2013   547\n",
      "34             2014   581\n",
      "35             2015   606\n",
      "36             2016   502\n"
     ]
    },
    {
     "data": {
      "application/vnd.plotly.v1+json": {
       "config": {
        "plotlyServerURL": "https://plot.ly"
       },
       "data": [
        {
         "alignmentgroup": "True",
         "hovertemplate": "year_of_release=%{x}<br>name=%{y}<extra></extra>",
         "legendgroup": "",
         "marker": {
          "color": "#636efa",
          "pattern": {
           "shape": ""
          }
         },
         "name": "",
         "offsetgroup": "",
         "orientation": "v",
         "showlegend": false,
         "textposition": "auto",
         "type": "bar",
         "x": [
          1980,
          1981,
          1982,
          1983,
          1984,
          1985,
          1986,
          1987,
          1988,
          1989,
          1990,
          1991,
          1992,
          1993,
          1994,
          1995,
          1996,
          1997,
          1998,
          1999,
          2000,
          2001,
          2002,
          2003,
          2004,
          2005,
          2006,
          2007,
          2008,
          2009,
          2010,
          2011,
          2012,
          2013,
          2014,
          2015,
          2016
         ],
         "xaxis": "x",
         "y": [
          9,
          46,
          36,
          17,
          14,
          14,
          21,
          16,
          15,
          17,
          16,
          41,
          43,
          60,
          121,
          219,
          263,
          289,
          379,
          338,
          350,
          484,
          845,
          784,
          764,
          948,
          1019,
          1201,
          1440,
          1430,
          1266,
          1144,
          661,
          547,
          581,
          606,
          502
         ],
         "yaxis": "y"
        }
       ],
       "layout": {
        "barmode": "relative",
        "legend": {
         "tracegroupgap": 0
        },
        "margin": {
         "t": 60
        },
        "template": {
         "data": {
          "bar": [
           {
            "error_x": {
             "color": "#2a3f5f"
            },
            "error_y": {
             "color": "#2a3f5f"
            },
            "marker": {
             "line": {
              "color": "#E5ECF6",
              "width": 0.5
             },
             "pattern": {
              "fillmode": "overlay",
              "size": 10,
              "solidity": 0.2
             }
            },
            "type": "bar"
           }
          ],
          "barpolar": [
           {
            "marker": {
             "line": {
              "color": "#E5ECF6",
              "width": 0.5
             },
             "pattern": {
              "fillmode": "overlay",
              "size": 10,
              "solidity": 0.2
             }
            },
            "type": "barpolar"
           }
          ],
          "carpet": [
           {
            "aaxis": {
             "endlinecolor": "#2a3f5f",
             "gridcolor": "white",
             "linecolor": "white",
             "minorgridcolor": "white",
             "startlinecolor": "#2a3f5f"
            },
            "baxis": {
             "endlinecolor": "#2a3f5f",
             "gridcolor": "white",
             "linecolor": "white",
             "minorgridcolor": "white",
             "startlinecolor": "#2a3f5f"
            },
            "type": "carpet"
           }
          ],
          "choropleth": [
           {
            "colorbar": {
             "outlinewidth": 0,
             "ticks": ""
            },
            "type": "choropleth"
           }
          ],
          "contour": [
           {
            "colorbar": {
             "outlinewidth": 0,
             "ticks": ""
            },
            "colorscale": [
             [
              0,
              "#0d0887"
             ],
             [
              0.1111111111111111,
              "#46039f"
             ],
             [
              0.2222222222222222,
              "#7201a8"
             ],
             [
              0.3333333333333333,
              "#9c179e"
             ],
             [
              0.4444444444444444,
              "#bd3786"
             ],
             [
              0.5555555555555556,
              "#d8576b"
             ],
             [
              0.6666666666666666,
              "#ed7953"
             ],
             [
              0.7777777777777778,
              "#fb9f3a"
             ],
             [
              0.8888888888888888,
              "#fdca26"
             ],
             [
              1,
              "#f0f921"
             ]
            ],
            "type": "contour"
           }
          ],
          "contourcarpet": [
           {
            "colorbar": {
             "outlinewidth": 0,
             "ticks": ""
            },
            "type": "contourcarpet"
           }
          ],
          "heatmap": [
           {
            "colorbar": {
             "outlinewidth": 0,
             "ticks": ""
            },
            "colorscale": [
             [
              0,
              "#0d0887"
             ],
             [
              0.1111111111111111,
              "#46039f"
             ],
             [
              0.2222222222222222,
              "#7201a8"
             ],
             [
              0.3333333333333333,
              "#9c179e"
             ],
             [
              0.4444444444444444,
              "#bd3786"
             ],
             [
              0.5555555555555556,
              "#d8576b"
             ],
             [
              0.6666666666666666,
              "#ed7953"
             ],
             [
              0.7777777777777778,
              "#fb9f3a"
             ],
             [
              0.8888888888888888,
              "#fdca26"
             ],
             [
              1,
              "#f0f921"
             ]
            ],
            "type": "heatmap"
           }
          ],
          "heatmapgl": [
           {
            "colorbar": {
             "outlinewidth": 0,
             "ticks": ""
            },
            "colorscale": [
             [
              0,
              "#0d0887"
             ],
             [
              0.1111111111111111,
              "#46039f"
             ],
             [
              0.2222222222222222,
              "#7201a8"
             ],
             [
              0.3333333333333333,
              "#9c179e"
             ],
             [
              0.4444444444444444,
              "#bd3786"
             ],
             [
              0.5555555555555556,
              "#d8576b"
             ],
             [
              0.6666666666666666,
              "#ed7953"
             ],
             [
              0.7777777777777778,
              "#fb9f3a"
             ],
             [
              0.8888888888888888,
              "#fdca26"
             ],
             [
              1,
              "#f0f921"
             ]
            ],
            "type": "heatmapgl"
           }
          ],
          "histogram": [
           {
            "marker": {
             "pattern": {
              "fillmode": "overlay",
              "size": 10,
              "solidity": 0.2
             }
            },
            "type": "histogram"
           }
          ],
          "histogram2d": [
           {
            "colorbar": {
             "outlinewidth": 0,
             "ticks": ""
            },
            "colorscale": [
             [
              0,
              "#0d0887"
             ],
             [
              0.1111111111111111,
              "#46039f"
             ],
             [
              0.2222222222222222,
              "#7201a8"
             ],
             [
              0.3333333333333333,
              "#9c179e"
             ],
             [
              0.4444444444444444,
              "#bd3786"
             ],
             [
              0.5555555555555556,
              "#d8576b"
             ],
             [
              0.6666666666666666,
              "#ed7953"
             ],
             [
              0.7777777777777778,
              "#fb9f3a"
             ],
             [
              0.8888888888888888,
              "#fdca26"
             ],
             [
              1,
              "#f0f921"
             ]
            ],
            "type": "histogram2d"
           }
          ],
          "histogram2dcontour": [
           {
            "colorbar": {
             "outlinewidth": 0,
             "ticks": ""
            },
            "colorscale": [
             [
              0,
              "#0d0887"
             ],
             [
              0.1111111111111111,
              "#46039f"
             ],
             [
              0.2222222222222222,
              "#7201a8"
             ],
             [
              0.3333333333333333,
              "#9c179e"
             ],
             [
              0.4444444444444444,
              "#bd3786"
             ],
             [
              0.5555555555555556,
              "#d8576b"
             ],
             [
              0.6666666666666666,
              "#ed7953"
             ],
             [
              0.7777777777777778,
              "#fb9f3a"
             ],
             [
              0.8888888888888888,
              "#fdca26"
             ],
             [
              1,
              "#f0f921"
             ]
            ],
            "type": "histogram2dcontour"
           }
          ],
          "mesh3d": [
           {
            "colorbar": {
             "outlinewidth": 0,
             "ticks": ""
            },
            "type": "mesh3d"
           }
          ],
          "parcoords": [
           {
            "line": {
             "colorbar": {
              "outlinewidth": 0,
              "ticks": ""
             }
            },
            "type": "parcoords"
           }
          ],
          "pie": [
           {
            "automargin": true,
            "type": "pie"
           }
          ],
          "scatter": [
           {
            "marker": {
             "colorbar": {
              "outlinewidth": 0,
              "ticks": ""
             }
            },
            "type": "scatter"
           }
          ],
          "scatter3d": [
           {
            "line": {
             "colorbar": {
              "outlinewidth": 0,
              "ticks": ""
             }
            },
            "marker": {
             "colorbar": {
              "outlinewidth": 0,
              "ticks": ""
             }
            },
            "type": "scatter3d"
           }
          ],
          "scattercarpet": [
           {
            "marker": {
             "colorbar": {
              "outlinewidth": 0,
              "ticks": ""
             }
            },
            "type": "scattercarpet"
           }
          ],
          "scattergeo": [
           {
            "marker": {
             "colorbar": {
              "outlinewidth": 0,
              "ticks": ""
             }
            },
            "type": "scattergeo"
           }
          ],
          "scattergl": [
           {
            "marker": {
             "colorbar": {
              "outlinewidth": 0,
              "ticks": ""
             }
            },
            "type": "scattergl"
           }
          ],
          "scattermapbox": [
           {
            "marker": {
             "colorbar": {
              "outlinewidth": 0,
              "ticks": ""
             }
            },
            "type": "scattermapbox"
           }
          ],
          "scatterpolar": [
           {
            "marker": {
             "colorbar": {
              "outlinewidth": 0,
              "ticks": ""
             }
            },
            "type": "scatterpolar"
           }
          ],
          "scatterpolargl": [
           {
            "marker": {
             "colorbar": {
              "outlinewidth": 0,
              "ticks": ""
             }
            },
            "type": "scatterpolargl"
           }
          ],
          "scatterternary": [
           {
            "marker": {
             "colorbar": {
              "outlinewidth": 0,
              "ticks": ""
             }
            },
            "type": "scatterternary"
           }
          ],
          "surface": [
           {
            "colorbar": {
             "outlinewidth": 0,
             "ticks": ""
            },
            "colorscale": [
             [
              0,
              "#0d0887"
             ],
             [
              0.1111111111111111,
              "#46039f"
             ],
             [
              0.2222222222222222,
              "#7201a8"
             ],
             [
              0.3333333333333333,
              "#9c179e"
             ],
             [
              0.4444444444444444,
              "#bd3786"
             ],
             [
              0.5555555555555556,
              "#d8576b"
             ],
             [
              0.6666666666666666,
              "#ed7953"
             ],
             [
              0.7777777777777778,
              "#fb9f3a"
             ],
             [
              0.8888888888888888,
              "#fdca26"
             ],
             [
              1,
              "#f0f921"
             ]
            ],
            "type": "surface"
           }
          ],
          "table": [
           {
            "cells": {
             "fill": {
              "color": "#EBF0F8"
             },
             "line": {
              "color": "white"
             }
            },
            "header": {
             "fill": {
              "color": "#C8D4E3"
             },
             "line": {
              "color": "white"
             }
            },
            "type": "table"
           }
          ]
         },
         "layout": {
          "annotationdefaults": {
           "arrowcolor": "#2a3f5f",
           "arrowhead": 0,
           "arrowwidth": 1
          },
          "autotypenumbers": "strict",
          "coloraxis": {
           "colorbar": {
            "outlinewidth": 0,
            "ticks": ""
           }
          },
          "colorscale": {
           "diverging": [
            [
             0,
             "#8e0152"
            ],
            [
             0.1,
             "#c51b7d"
            ],
            [
             0.2,
             "#de77ae"
            ],
            [
             0.3,
             "#f1b6da"
            ],
            [
             0.4,
             "#fde0ef"
            ],
            [
             0.5,
             "#f7f7f7"
            ],
            [
             0.6,
             "#e6f5d0"
            ],
            [
             0.7,
             "#b8e186"
            ],
            [
             0.8,
             "#7fbc41"
            ],
            [
             0.9,
             "#4d9221"
            ],
            [
             1,
             "#276419"
            ]
           ],
           "sequential": [
            [
             0,
             "#0d0887"
            ],
            [
             0.1111111111111111,
             "#46039f"
            ],
            [
             0.2222222222222222,
             "#7201a8"
            ],
            [
             0.3333333333333333,
             "#9c179e"
            ],
            [
             0.4444444444444444,
             "#bd3786"
            ],
            [
             0.5555555555555556,
             "#d8576b"
            ],
            [
             0.6666666666666666,
             "#ed7953"
            ],
            [
             0.7777777777777778,
             "#fb9f3a"
            ],
            [
             0.8888888888888888,
             "#fdca26"
            ],
            [
             1,
             "#f0f921"
            ]
           ],
           "sequentialminus": [
            [
             0,
             "#0d0887"
            ],
            [
             0.1111111111111111,
             "#46039f"
            ],
            [
             0.2222222222222222,
             "#7201a8"
            ],
            [
             0.3333333333333333,
             "#9c179e"
            ],
            [
             0.4444444444444444,
             "#bd3786"
            ],
            [
             0.5555555555555556,
             "#d8576b"
            ],
            [
             0.6666666666666666,
             "#ed7953"
            ],
            [
             0.7777777777777778,
             "#fb9f3a"
            ],
            [
             0.8888888888888888,
             "#fdca26"
            ],
            [
             1,
             "#f0f921"
            ]
           ]
          },
          "colorway": [
           "#636efa",
           "#EF553B",
           "#00cc96",
           "#ab63fa",
           "#FFA15A",
           "#19d3f3",
           "#FF6692",
           "#B6E880",
           "#FF97FF",
           "#FECB52"
          ],
          "font": {
           "color": "#2a3f5f"
          },
          "geo": {
           "bgcolor": "white",
           "lakecolor": "white",
           "landcolor": "#E5ECF6",
           "showlakes": true,
           "showland": true,
           "subunitcolor": "white"
          },
          "hoverlabel": {
           "align": "left"
          },
          "hovermode": "closest",
          "mapbox": {
           "style": "light"
          },
          "paper_bgcolor": "white",
          "plot_bgcolor": "#E5ECF6",
          "polar": {
           "angularaxis": {
            "gridcolor": "white",
            "linecolor": "white",
            "ticks": ""
           },
           "bgcolor": "#E5ECF6",
           "radialaxis": {
            "gridcolor": "white",
            "linecolor": "white",
            "ticks": ""
           }
          },
          "scene": {
           "xaxis": {
            "backgroundcolor": "#E5ECF6",
            "gridcolor": "white",
            "gridwidth": 2,
            "linecolor": "white",
            "showbackground": true,
            "ticks": "",
            "zerolinecolor": "white"
           },
           "yaxis": {
            "backgroundcolor": "#E5ECF6",
            "gridcolor": "white",
            "gridwidth": 2,
            "linecolor": "white",
            "showbackground": true,
            "ticks": "",
            "zerolinecolor": "white"
           },
           "zaxis": {
            "backgroundcolor": "#E5ECF6",
            "gridcolor": "white",
            "gridwidth": 2,
            "linecolor": "white",
            "showbackground": true,
            "ticks": "",
            "zerolinecolor": "white"
           }
          },
          "shapedefaults": {
           "line": {
            "color": "#2a3f5f"
           }
          },
          "ternary": {
           "aaxis": {
            "gridcolor": "white",
            "linecolor": "white",
            "ticks": ""
           },
           "baxis": {
            "gridcolor": "white",
            "linecolor": "white",
            "ticks": ""
           },
           "bgcolor": "#E5ECF6",
           "caxis": {
            "gridcolor": "white",
            "linecolor": "white",
            "ticks": ""
           }
          },
          "title": {
           "x": 0.05
          },
          "xaxis": {
           "automargin": true,
           "gridcolor": "white",
           "linecolor": "white",
           "ticks": "",
           "title": {
            "standoff": 15
           },
           "zerolinecolor": "white",
           "zerolinewidth": 2
          },
          "yaxis": {
           "automargin": true,
           "gridcolor": "white",
           "linecolor": "white",
           "ticks": "",
           "title": {
            "standoff": 15
           },
           "zerolinecolor": "white",
           "zerolinewidth": 2
          }
         }
        },
        "title": {
         "text": "Number Of Games Per Year"
        },
        "xaxis": {
         "anchor": "y",
         "domain": [
          0,
          1
         ],
         "title": {
          "text": "year_of_release"
         }
        },
        "yaxis": {
         "anchor": "x",
         "domain": [
          0,
          1
         ],
         "title": {
          "text": "Number Of Games"
         }
        }
       }
      },
      "text/html": [
       "<div>                            <div id=\"ea8d7cf9-91a0-471c-91f8-42da32a9b857\" class=\"plotly-graph-div\" style=\"height:525px; width:100%;\"></div>            <script type=\"text/javascript\">                require([\"plotly\"], function(Plotly) {                    window.PLOTLYENV=window.PLOTLYENV || {};                                    if (document.getElementById(\"ea8d7cf9-91a0-471c-91f8-42da32a9b857\")) {                    Plotly.newPlot(                        \"ea8d7cf9-91a0-471c-91f8-42da32a9b857\",                        [{\"alignmentgroup\":\"True\",\"hovertemplate\":\"year_of_release=%{x}<br>name=%{y}<extra></extra>\",\"legendgroup\":\"\",\"marker\":{\"color\":\"#636efa\",\"pattern\":{\"shape\":\"\"}},\"name\":\"\",\"offsetgroup\":\"\",\"orientation\":\"v\",\"showlegend\":false,\"textposition\":\"auto\",\"x\":[1980,1981,1982,1983,1984,1985,1986,1987,1988,1989,1990,1991,1992,1993,1994,1995,1996,1997,1998,1999,2000,2001,2002,2003,2004,2005,2006,2007,2008,2009,2010,2011,2012,2013,2014,2015,2016],\"xaxis\":\"x\",\"y\":[9,46,36,17,14,14,21,16,15,17,16,41,43,60,121,219,263,289,379,338,350,484,845,784,764,948,1019,1201,1440,1430,1266,1144,661,547,581,606,502],\"yaxis\":\"y\",\"type\":\"bar\"}],                        {\"template\":{\"data\":{\"bar\":[{\"error_x\":{\"color\":\"#2a3f5f\"},\"error_y\":{\"color\":\"#2a3f5f\"},\"marker\":{\"line\":{\"color\":\"#E5ECF6\",\"width\":0.5},\"pattern\":{\"fillmode\":\"overlay\",\"size\":10,\"solidity\":0.2}},\"type\":\"bar\"}],\"barpolar\":[{\"marker\":{\"line\":{\"color\":\"#E5ECF6\",\"width\":0.5},\"pattern\":{\"fillmode\":\"overlay\",\"size\":10,\"solidity\":0.2}},\"type\":\"barpolar\"}],\"carpet\":[{\"aaxis\":{\"endlinecolor\":\"#2a3f5f\",\"gridcolor\":\"white\",\"linecolor\":\"white\",\"minorgridcolor\":\"white\",\"startlinecolor\":\"#2a3f5f\"},\"baxis\":{\"endlinecolor\":\"#2a3f5f\",\"gridcolor\":\"white\",\"linecolor\":\"white\",\"minorgridcolor\":\"white\",\"startlinecolor\":\"#2a3f5f\"},\"type\":\"carpet\"}],\"choropleth\":[{\"colorbar\":{\"outlinewidth\":0,\"ticks\":\"\"},\"type\":\"choropleth\"}],\"contour\":[{\"colorbar\":{\"outlinewidth\":0,\"ticks\":\"\"},\"colorscale\":[[0.0,\"#0d0887\"],[0.1111111111111111,\"#46039f\"],[0.2222222222222222,\"#7201a8\"],[0.3333333333333333,\"#9c179e\"],[0.4444444444444444,\"#bd3786\"],[0.5555555555555556,\"#d8576b\"],[0.6666666666666666,\"#ed7953\"],[0.7777777777777778,\"#fb9f3a\"],[0.8888888888888888,\"#fdca26\"],[1.0,\"#f0f921\"]],\"type\":\"contour\"}],\"contourcarpet\":[{\"colorbar\":{\"outlinewidth\":0,\"ticks\":\"\"},\"type\":\"contourcarpet\"}],\"heatmap\":[{\"colorbar\":{\"outlinewidth\":0,\"ticks\":\"\"},\"colorscale\":[[0.0,\"#0d0887\"],[0.1111111111111111,\"#46039f\"],[0.2222222222222222,\"#7201a8\"],[0.3333333333333333,\"#9c179e\"],[0.4444444444444444,\"#bd3786\"],[0.5555555555555556,\"#d8576b\"],[0.6666666666666666,\"#ed7953\"],[0.7777777777777778,\"#fb9f3a\"],[0.8888888888888888,\"#fdca26\"],[1.0,\"#f0f921\"]],\"type\":\"heatmap\"}],\"heatmapgl\":[{\"colorbar\":{\"outlinewidth\":0,\"ticks\":\"\"},\"colorscale\":[[0.0,\"#0d0887\"],[0.1111111111111111,\"#46039f\"],[0.2222222222222222,\"#7201a8\"],[0.3333333333333333,\"#9c179e\"],[0.4444444444444444,\"#bd3786\"],[0.5555555555555556,\"#d8576b\"],[0.6666666666666666,\"#ed7953\"],[0.7777777777777778,\"#fb9f3a\"],[0.8888888888888888,\"#fdca26\"],[1.0,\"#f0f921\"]],\"type\":\"heatmapgl\"}],\"histogram\":[{\"marker\":{\"pattern\":{\"fillmode\":\"overlay\",\"size\":10,\"solidity\":0.2}},\"type\":\"histogram\"}],\"histogram2d\":[{\"colorbar\":{\"outlinewidth\":0,\"ticks\":\"\"},\"colorscale\":[[0.0,\"#0d0887\"],[0.1111111111111111,\"#46039f\"],[0.2222222222222222,\"#7201a8\"],[0.3333333333333333,\"#9c179e\"],[0.4444444444444444,\"#bd3786\"],[0.5555555555555556,\"#d8576b\"],[0.6666666666666666,\"#ed7953\"],[0.7777777777777778,\"#fb9f3a\"],[0.8888888888888888,\"#fdca26\"],[1.0,\"#f0f921\"]],\"type\":\"histogram2d\"}],\"histogram2dcontour\":[{\"colorbar\":{\"outlinewidth\":0,\"ticks\":\"\"},\"colorscale\":[[0.0,\"#0d0887\"],[0.1111111111111111,\"#46039f\"],[0.2222222222222222,\"#7201a8\"],[0.3333333333333333,\"#9c179e\"],[0.4444444444444444,\"#bd3786\"],[0.5555555555555556,\"#d8576b\"],[0.6666666666666666,\"#ed7953\"],[0.7777777777777778,\"#fb9f3a\"],[0.8888888888888888,\"#fdca26\"],[1.0,\"#f0f921\"]],\"type\":\"histogram2dcontour\"}],\"mesh3d\":[{\"colorbar\":{\"outlinewidth\":0,\"ticks\":\"\"},\"type\":\"mesh3d\"}],\"parcoords\":[{\"line\":{\"colorbar\":{\"outlinewidth\":0,\"ticks\":\"\"}},\"type\":\"parcoords\"}],\"pie\":[{\"automargin\":true,\"type\":\"pie\"}],\"scatter\":[{\"marker\":{\"colorbar\":{\"outlinewidth\":0,\"ticks\":\"\"}},\"type\":\"scatter\"}],\"scatter3d\":[{\"line\":{\"colorbar\":{\"outlinewidth\":0,\"ticks\":\"\"}},\"marker\":{\"colorbar\":{\"outlinewidth\":0,\"ticks\":\"\"}},\"type\":\"scatter3d\"}],\"scattercarpet\":[{\"marker\":{\"colorbar\":{\"outlinewidth\":0,\"ticks\":\"\"}},\"type\":\"scattercarpet\"}],\"scattergeo\":[{\"marker\":{\"colorbar\":{\"outlinewidth\":0,\"ticks\":\"\"}},\"type\":\"scattergeo\"}],\"scattergl\":[{\"marker\":{\"colorbar\":{\"outlinewidth\":0,\"ticks\":\"\"}},\"type\":\"scattergl\"}],\"scattermapbox\":[{\"marker\":{\"colorbar\":{\"outlinewidth\":0,\"ticks\":\"\"}},\"type\":\"scattermapbox\"}],\"scatterpolar\":[{\"marker\":{\"colorbar\":{\"outlinewidth\":0,\"ticks\":\"\"}},\"type\":\"scatterpolar\"}],\"scatterpolargl\":[{\"marker\":{\"colorbar\":{\"outlinewidth\":0,\"ticks\":\"\"}},\"type\":\"scatterpolargl\"}],\"scatterternary\":[{\"marker\":{\"colorbar\":{\"outlinewidth\":0,\"ticks\":\"\"}},\"type\":\"scatterternary\"}],\"surface\":[{\"colorbar\":{\"outlinewidth\":0,\"ticks\":\"\"},\"colorscale\":[[0.0,\"#0d0887\"],[0.1111111111111111,\"#46039f\"],[0.2222222222222222,\"#7201a8\"],[0.3333333333333333,\"#9c179e\"],[0.4444444444444444,\"#bd3786\"],[0.5555555555555556,\"#d8576b\"],[0.6666666666666666,\"#ed7953\"],[0.7777777777777778,\"#fb9f3a\"],[0.8888888888888888,\"#fdca26\"],[1.0,\"#f0f921\"]],\"type\":\"surface\"}],\"table\":[{\"cells\":{\"fill\":{\"color\":\"#EBF0F8\"},\"line\":{\"color\":\"white\"}},\"header\":{\"fill\":{\"color\":\"#C8D4E3\"},\"line\":{\"color\":\"white\"}},\"type\":\"table\"}]},\"layout\":{\"annotationdefaults\":{\"arrowcolor\":\"#2a3f5f\",\"arrowhead\":0,\"arrowwidth\":1},\"autotypenumbers\":\"strict\",\"coloraxis\":{\"colorbar\":{\"outlinewidth\":0,\"ticks\":\"\"}},\"colorscale\":{\"diverging\":[[0,\"#8e0152\"],[0.1,\"#c51b7d\"],[0.2,\"#de77ae\"],[0.3,\"#f1b6da\"],[0.4,\"#fde0ef\"],[0.5,\"#f7f7f7\"],[0.6,\"#e6f5d0\"],[0.7,\"#b8e186\"],[0.8,\"#7fbc41\"],[0.9,\"#4d9221\"],[1,\"#276419\"]],\"sequential\":[[0.0,\"#0d0887\"],[0.1111111111111111,\"#46039f\"],[0.2222222222222222,\"#7201a8\"],[0.3333333333333333,\"#9c179e\"],[0.4444444444444444,\"#bd3786\"],[0.5555555555555556,\"#d8576b\"],[0.6666666666666666,\"#ed7953\"],[0.7777777777777778,\"#fb9f3a\"],[0.8888888888888888,\"#fdca26\"],[1.0,\"#f0f921\"]],\"sequentialminus\":[[0.0,\"#0d0887\"],[0.1111111111111111,\"#46039f\"],[0.2222222222222222,\"#7201a8\"],[0.3333333333333333,\"#9c179e\"],[0.4444444444444444,\"#bd3786\"],[0.5555555555555556,\"#d8576b\"],[0.6666666666666666,\"#ed7953\"],[0.7777777777777778,\"#fb9f3a\"],[0.8888888888888888,\"#fdca26\"],[1.0,\"#f0f921\"]]},\"colorway\":[\"#636efa\",\"#EF553B\",\"#00cc96\",\"#ab63fa\",\"#FFA15A\",\"#19d3f3\",\"#FF6692\",\"#B6E880\",\"#FF97FF\",\"#FECB52\"],\"font\":{\"color\":\"#2a3f5f\"},\"geo\":{\"bgcolor\":\"white\",\"lakecolor\":\"white\",\"landcolor\":\"#E5ECF6\",\"showlakes\":true,\"showland\":true,\"subunitcolor\":\"white\"},\"hoverlabel\":{\"align\":\"left\"},\"hovermode\":\"closest\",\"mapbox\":{\"style\":\"light\"},\"paper_bgcolor\":\"white\",\"plot_bgcolor\":\"#E5ECF6\",\"polar\":{\"angularaxis\":{\"gridcolor\":\"white\",\"linecolor\":\"white\",\"ticks\":\"\"},\"bgcolor\":\"#E5ECF6\",\"radialaxis\":{\"gridcolor\":\"white\",\"linecolor\":\"white\",\"ticks\":\"\"}},\"scene\":{\"xaxis\":{\"backgroundcolor\":\"#E5ECF6\",\"gridcolor\":\"white\",\"gridwidth\":2,\"linecolor\":\"white\",\"showbackground\":true,\"ticks\":\"\",\"zerolinecolor\":\"white\"},\"yaxis\":{\"backgroundcolor\":\"#E5ECF6\",\"gridcolor\":\"white\",\"gridwidth\":2,\"linecolor\":\"white\",\"showbackground\":true,\"ticks\":\"\",\"zerolinecolor\":\"white\"},\"zaxis\":{\"backgroundcolor\":\"#E5ECF6\",\"gridcolor\":\"white\",\"gridwidth\":2,\"linecolor\":\"white\",\"showbackground\":true,\"ticks\":\"\",\"zerolinecolor\":\"white\"}},\"shapedefaults\":{\"line\":{\"color\":\"#2a3f5f\"}},\"ternary\":{\"aaxis\":{\"gridcolor\":\"white\",\"linecolor\":\"white\",\"ticks\":\"\"},\"baxis\":{\"gridcolor\":\"white\",\"linecolor\":\"white\",\"ticks\":\"\"},\"bgcolor\":\"#E5ECF6\",\"caxis\":{\"gridcolor\":\"white\",\"linecolor\":\"white\",\"ticks\":\"\"}},\"title\":{\"x\":0.05},\"xaxis\":{\"automargin\":true,\"gridcolor\":\"white\",\"linecolor\":\"white\",\"ticks\":\"\",\"title\":{\"standoff\":15},\"zerolinecolor\":\"white\",\"zerolinewidth\":2},\"yaxis\":{\"automargin\":true,\"gridcolor\":\"white\",\"linecolor\":\"white\",\"ticks\":\"\",\"title\":{\"standoff\":15},\"zerolinecolor\":\"white\",\"zerolinewidth\":2}}},\"xaxis\":{\"anchor\":\"y\",\"domain\":[0.0,1.0],\"title\":{\"text\":\"year_of_release\"}},\"yaxis\":{\"anchor\":\"x\",\"domain\":[0.0,1.0],\"title\":{\"text\":\"Number Of Games\"}},\"legend\":{\"tracegroupgap\":0},\"margin\":{\"t\":60},\"barmode\":\"relative\",\"title\":{\"text\":\"Number Of Games Per Year\"}},                        {\"responsive\": true}                    ).then(function(){\n",
       "                            \n",
       "var gd = document.getElementById('ea8d7cf9-91a0-471c-91f8-42da32a9b857');\n",
       "var x = new MutationObserver(function (mutations, observer) {{\n",
       "        var display = window.getComputedStyle(gd).display;\n",
       "        if (!display || display === 'none') {{\n",
       "            console.log([gd, 'removed!']);\n",
       "            Plotly.purge(gd);\n",
       "            observer.disconnect();\n",
       "        }}\n",
       "}});\n",
       "\n",
       "// Listen for the removal of the full notebook cells\n",
       "var notebookContainer = gd.closest('#notebook-container');\n",
       "if (notebookContainer) {{\n",
       "    x.observe(notebookContainer, {childList: true});\n",
       "}}\n",
       "\n",
       "// Listen for the clearing of the current output cell\n",
       "var outputEl = gd.closest('.output');\n",
       "if (outputEl) {{\n",
       "    x.observe(outputEl, {childList: true});\n",
       "}}\n",
       "\n",
       "                        })                };                });            </script>        </div>"
      ]
     },
     "metadata": {},
     "output_type": "display_data"
    }
   ],
   "source": [
    "\n",
    "year_game = df_games_no_0.groupby(\n",
    "    by='year_of_release'\n",
    ").count()['name'].to_frame().reset_index()\n",
    "\n",
    "print(year_game)\n",
    "fig = px.bar(year_game, x='year_of_release', y='name')\n",
    "fig.update_layout(\n",
    "    title=\"Number Of Games Per Year\",\n",
    "    yaxis_title=\"Number Of Games\", \n",
    ")\n",
    "fig.show()"
   ]
  },
  {
   "cell_type": "markdown",
   "id": "68e7115f",
   "metadata": {},
   "source": [
    "We can see that there is big drop of release before 2000. Moreover before 1990 there was almost no release"
   ]
  },
  {
   "cell_type": "markdown",
   "id": "3c281f44",
   "metadata": {},
   "source": [
    "## Variation of sales foe platform type"
   ]
  },
  {
   "cell_type": "markdown",
   "id": "7f1db767",
   "metadata": {},
   "source": [
    "### How sales varied from platform to platform?"
   ]
  },
  {
   "cell_type": "code",
   "execution_count": 1319,
   "id": "43b62d61",
   "metadata": {},
   "outputs": [
    {
     "name": "stdout",
     "output_type": "stream",
     "text": [
      "   platform  total_sales\n",
      "0       PS2      1255.77\n",
      "1      X360       971.42\n",
      "2       PS3       939.65\n",
      "3       Wii       907.51\n",
      "4        DS       806.12\n",
      "5        PS       730.86\n",
      "6       GBA       317.85\n",
      "7       PS4       314.14\n",
      "8       PSP       294.05\n",
      "9        PC       259.52\n",
      "10      3DS       259.00\n",
      "11       XB       257.74\n",
      "12       GB       255.46\n",
      "13      NES       251.05\n",
      "14      N64       218.68\n",
      "15     SNES       200.04\n",
      "16       GC       198.93\n",
      "17     XOne       159.32\n",
      "18     2600        96.98\n",
      "19     WiiU        82.19\n",
      "20      PSV        54.07\n",
      "21      SAT        33.59\n",
      "22      GEN        28.35\n",
      "23       DC        15.95\n",
      "24      SCD         1.86\n",
      "25       NG         1.44\n",
      "26       WS         1.42\n",
      "27     TG16         0.16\n",
      "28      3DO         0.10\n",
      "29       GG         0.04\n",
      "30     PCFX         0.03\n"
     ]
    },
    {
     "data": {
      "application/vnd.plotly.v1+json": {
       "config": {
        "plotlyServerURL": "https://plot.ly"
       },
       "data": [
        {
         "alignmentgroup": "True",
         "hovertemplate": "platform=%{x}<br>total_sales=%{y}<extra></extra>",
         "legendgroup": "",
         "marker": {
          "color": "#636efa",
          "pattern": {
           "shape": ""
          }
         },
         "name": "",
         "offsetgroup": "",
         "orientation": "v",
         "showlegend": false,
         "textposition": "auto",
         "type": "bar",
         "x": [
          "PS2",
          "X360",
          "PS3",
          "Wii",
          "DS",
          "PS",
          "GBA",
          "PS4",
          "PSP",
          "PC",
          "3DS",
          "XB",
          "GB",
          "NES",
          "N64",
          "SNES",
          "GC",
          "XOne",
          "2600",
          "WiiU",
          "PSV",
          "SAT",
          "GEN",
          "DC",
          "SCD",
          "NG",
          "WS",
          "TG16",
          "3DO",
          "GG",
          "PCFX"
         ],
         "xaxis": "x",
         "y": [
          1255.77,
          971.42,
          939.65,
          907.51,
          806.12,
          730.86,
          317.85,
          314.14,
          294.05,
          259.52,
          259,
          257.74,
          255.46,
          251.05,
          218.68,
          200.04,
          198.93,
          159.32,
          96.98,
          82.19,
          54.07,
          33.59,
          28.35,
          15.950000000000001,
          1.86,
          1.44,
          1.42,
          0.16,
          0.1,
          0.04,
          0.03
         ],
         "yaxis": "y"
        }
       ],
       "layout": {
        "barmode": "relative",
        "legend": {
         "tracegroupgap": 0
        },
        "margin": {
         "t": 60
        },
        "template": {
         "data": {
          "bar": [
           {
            "error_x": {
             "color": "#2a3f5f"
            },
            "error_y": {
             "color": "#2a3f5f"
            },
            "marker": {
             "line": {
              "color": "#E5ECF6",
              "width": 0.5
             },
             "pattern": {
              "fillmode": "overlay",
              "size": 10,
              "solidity": 0.2
             }
            },
            "type": "bar"
           }
          ],
          "barpolar": [
           {
            "marker": {
             "line": {
              "color": "#E5ECF6",
              "width": 0.5
             },
             "pattern": {
              "fillmode": "overlay",
              "size": 10,
              "solidity": 0.2
             }
            },
            "type": "barpolar"
           }
          ],
          "carpet": [
           {
            "aaxis": {
             "endlinecolor": "#2a3f5f",
             "gridcolor": "white",
             "linecolor": "white",
             "minorgridcolor": "white",
             "startlinecolor": "#2a3f5f"
            },
            "baxis": {
             "endlinecolor": "#2a3f5f",
             "gridcolor": "white",
             "linecolor": "white",
             "minorgridcolor": "white",
             "startlinecolor": "#2a3f5f"
            },
            "type": "carpet"
           }
          ],
          "choropleth": [
           {
            "colorbar": {
             "outlinewidth": 0,
             "ticks": ""
            },
            "type": "choropleth"
           }
          ],
          "contour": [
           {
            "colorbar": {
             "outlinewidth": 0,
             "ticks": ""
            },
            "colorscale": [
             [
              0,
              "#0d0887"
             ],
             [
              0.1111111111111111,
              "#46039f"
             ],
             [
              0.2222222222222222,
              "#7201a8"
             ],
             [
              0.3333333333333333,
              "#9c179e"
             ],
             [
              0.4444444444444444,
              "#bd3786"
             ],
             [
              0.5555555555555556,
              "#d8576b"
             ],
             [
              0.6666666666666666,
              "#ed7953"
             ],
             [
              0.7777777777777778,
              "#fb9f3a"
             ],
             [
              0.8888888888888888,
              "#fdca26"
             ],
             [
              1,
              "#f0f921"
             ]
            ],
            "type": "contour"
           }
          ],
          "contourcarpet": [
           {
            "colorbar": {
             "outlinewidth": 0,
             "ticks": ""
            },
            "type": "contourcarpet"
           }
          ],
          "heatmap": [
           {
            "colorbar": {
             "outlinewidth": 0,
             "ticks": ""
            },
            "colorscale": [
             [
              0,
              "#0d0887"
             ],
             [
              0.1111111111111111,
              "#46039f"
             ],
             [
              0.2222222222222222,
              "#7201a8"
             ],
             [
              0.3333333333333333,
              "#9c179e"
             ],
             [
              0.4444444444444444,
              "#bd3786"
             ],
             [
              0.5555555555555556,
              "#d8576b"
             ],
             [
              0.6666666666666666,
              "#ed7953"
             ],
             [
              0.7777777777777778,
              "#fb9f3a"
             ],
             [
              0.8888888888888888,
              "#fdca26"
             ],
             [
              1,
              "#f0f921"
             ]
            ],
            "type": "heatmap"
           }
          ],
          "heatmapgl": [
           {
            "colorbar": {
             "outlinewidth": 0,
             "ticks": ""
            },
            "colorscale": [
             [
              0,
              "#0d0887"
             ],
             [
              0.1111111111111111,
              "#46039f"
             ],
             [
              0.2222222222222222,
              "#7201a8"
             ],
             [
              0.3333333333333333,
              "#9c179e"
             ],
             [
              0.4444444444444444,
              "#bd3786"
             ],
             [
              0.5555555555555556,
              "#d8576b"
             ],
             [
              0.6666666666666666,
              "#ed7953"
             ],
             [
              0.7777777777777778,
              "#fb9f3a"
             ],
             [
              0.8888888888888888,
              "#fdca26"
             ],
             [
              1,
              "#f0f921"
             ]
            ],
            "type": "heatmapgl"
           }
          ],
          "histogram": [
           {
            "marker": {
             "pattern": {
              "fillmode": "overlay",
              "size": 10,
              "solidity": 0.2
             }
            },
            "type": "histogram"
           }
          ],
          "histogram2d": [
           {
            "colorbar": {
             "outlinewidth": 0,
             "ticks": ""
            },
            "colorscale": [
             [
              0,
              "#0d0887"
             ],
             [
              0.1111111111111111,
              "#46039f"
             ],
             [
              0.2222222222222222,
              "#7201a8"
             ],
             [
              0.3333333333333333,
              "#9c179e"
             ],
             [
              0.4444444444444444,
              "#bd3786"
             ],
             [
              0.5555555555555556,
              "#d8576b"
             ],
             [
              0.6666666666666666,
              "#ed7953"
             ],
             [
              0.7777777777777778,
              "#fb9f3a"
             ],
             [
              0.8888888888888888,
              "#fdca26"
             ],
             [
              1,
              "#f0f921"
             ]
            ],
            "type": "histogram2d"
           }
          ],
          "histogram2dcontour": [
           {
            "colorbar": {
             "outlinewidth": 0,
             "ticks": ""
            },
            "colorscale": [
             [
              0,
              "#0d0887"
             ],
             [
              0.1111111111111111,
              "#46039f"
             ],
             [
              0.2222222222222222,
              "#7201a8"
             ],
             [
              0.3333333333333333,
              "#9c179e"
             ],
             [
              0.4444444444444444,
              "#bd3786"
             ],
             [
              0.5555555555555556,
              "#d8576b"
             ],
             [
              0.6666666666666666,
              "#ed7953"
             ],
             [
              0.7777777777777778,
              "#fb9f3a"
             ],
             [
              0.8888888888888888,
              "#fdca26"
             ],
             [
              1,
              "#f0f921"
             ]
            ],
            "type": "histogram2dcontour"
           }
          ],
          "mesh3d": [
           {
            "colorbar": {
             "outlinewidth": 0,
             "ticks": ""
            },
            "type": "mesh3d"
           }
          ],
          "parcoords": [
           {
            "line": {
             "colorbar": {
              "outlinewidth": 0,
              "ticks": ""
             }
            },
            "type": "parcoords"
           }
          ],
          "pie": [
           {
            "automargin": true,
            "type": "pie"
           }
          ],
          "scatter": [
           {
            "marker": {
             "colorbar": {
              "outlinewidth": 0,
              "ticks": ""
             }
            },
            "type": "scatter"
           }
          ],
          "scatter3d": [
           {
            "line": {
             "colorbar": {
              "outlinewidth": 0,
              "ticks": ""
             }
            },
            "marker": {
             "colorbar": {
              "outlinewidth": 0,
              "ticks": ""
             }
            },
            "type": "scatter3d"
           }
          ],
          "scattercarpet": [
           {
            "marker": {
             "colorbar": {
              "outlinewidth": 0,
              "ticks": ""
             }
            },
            "type": "scattercarpet"
           }
          ],
          "scattergeo": [
           {
            "marker": {
             "colorbar": {
              "outlinewidth": 0,
              "ticks": ""
             }
            },
            "type": "scattergeo"
           }
          ],
          "scattergl": [
           {
            "marker": {
             "colorbar": {
              "outlinewidth": 0,
              "ticks": ""
             }
            },
            "type": "scattergl"
           }
          ],
          "scattermapbox": [
           {
            "marker": {
             "colorbar": {
              "outlinewidth": 0,
              "ticks": ""
             }
            },
            "type": "scattermapbox"
           }
          ],
          "scatterpolar": [
           {
            "marker": {
             "colorbar": {
              "outlinewidth": 0,
              "ticks": ""
             }
            },
            "type": "scatterpolar"
           }
          ],
          "scatterpolargl": [
           {
            "marker": {
             "colorbar": {
              "outlinewidth": 0,
              "ticks": ""
             }
            },
            "type": "scatterpolargl"
           }
          ],
          "scatterternary": [
           {
            "marker": {
             "colorbar": {
              "outlinewidth": 0,
              "ticks": ""
             }
            },
            "type": "scatterternary"
           }
          ],
          "surface": [
           {
            "colorbar": {
             "outlinewidth": 0,
             "ticks": ""
            },
            "colorscale": [
             [
              0,
              "#0d0887"
             ],
             [
              0.1111111111111111,
              "#46039f"
             ],
             [
              0.2222222222222222,
              "#7201a8"
             ],
             [
              0.3333333333333333,
              "#9c179e"
             ],
             [
              0.4444444444444444,
              "#bd3786"
             ],
             [
              0.5555555555555556,
              "#d8576b"
             ],
             [
              0.6666666666666666,
              "#ed7953"
             ],
             [
              0.7777777777777778,
              "#fb9f3a"
             ],
             [
              0.8888888888888888,
              "#fdca26"
             ],
             [
              1,
              "#f0f921"
             ]
            ],
            "type": "surface"
           }
          ],
          "table": [
           {
            "cells": {
             "fill": {
              "color": "#EBF0F8"
             },
             "line": {
              "color": "white"
             }
            },
            "header": {
             "fill": {
              "color": "#C8D4E3"
             },
             "line": {
              "color": "white"
             }
            },
            "type": "table"
           }
          ]
         },
         "layout": {
          "annotationdefaults": {
           "arrowcolor": "#2a3f5f",
           "arrowhead": 0,
           "arrowwidth": 1
          },
          "autotypenumbers": "strict",
          "coloraxis": {
           "colorbar": {
            "outlinewidth": 0,
            "ticks": ""
           }
          },
          "colorscale": {
           "diverging": [
            [
             0,
             "#8e0152"
            ],
            [
             0.1,
             "#c51b7d"
            ],
            [
             0.2,
             "#de77ae"
            ],
            [
             0.3,
             "#f1b6da"
            ],
            [
             0.4,
             "#fde0ef"
            ],
            [
             0.5,
             "#f7f7f7"
            ],
            [
             0.6,
             "#e6f5d0"
            ],
            [
             0.7,
             "#b8e186"
            ],
            [
             0.8,
             "#7fbc41"
            ],
            [
             0.9,
             "#4d9221"
            ],
            [
             1,
             "#276419"
            ]
           ],
           "sequential": [
            [
             0,
             "#0d0887"
            ],
            [
             0.1111111111111111,
             "#46039f"
            ],
            [
             0.2222222222222222,
             "#7201a8"
            ],
            [
             0.3333333333333333,
             "#9c179e"
            ],
            [
             0.4444444444444444,
             "#bd3786"
            ],
            [
             0.5555555555555556,
             "#d8576b"
            ],
            [
             0.6666666666666666,
             "#ed7953"
            ],
            [
             0.7777777777777778,
             "#fb9f3a"
            ],
            [
             0.8888888888888888,
             "#fdca26"
            ],
            [
             1,
             "#f0f921"
            ]
           ],
           "sequentialminus": [
            [
             0,
             "#0d0887"
            ],
            [
             0.1111111111111111,
             "#46039f"
            ],
            [
             0.2222222222222222,
             "#7201a8"
            ],
            [
             0.3333333333333333,
             "#9c179e"
            ],
            [
             0.4444444444444444,
             "#bd3786"
            ],
            [
             0.5555555555555556,
             "#d8576b"
            ],
            [
             0.6666666666666666,
             "#ed7953"
            ],
            [
             0.7777777777777778,
             "#fb9f3a"
            ],
            [
             0.8888888888888888,
             "#fdca26"
            ],
            [
             1,
             "#f0f921"
            ]
           ]
          },
          "colorway": [
           "#636efa",
           "#EF553B",
           "#00cc96",
           "#ab63fa",
           "#FFA15A",
           "#19d3f3",
           "#FF6692",
           "#B6E880",
           "#FF97FF",
           "#FECB52"
          ],
          "font": {
           "color": "#2a3f5f"
          },
          "geo": {
           "bgcolor": "white",
           "lakecolor": "white",
           "landcolor": "#E5ECF6",
           "showlakes": true,
           "showland": true,
           "subunitcolor": "white"
          },
          "hoverlabel": {
           "align": "left"
          },
          "hovermode": "closest",
          "mapbox": {
           "style": "light"
          },
          "paper_bgcolor": "white",
          "plot_bgcolor": "#E5ECF6",
          "polar": {
           "angularaxis": {
            "gridcolor": "white",
            "linecolor": "white",
            "ticks": ""
           },
           "bgcolor": "#E5ECF6",
           "radialaxis": {
            "gridcolor": "white",
            "linecolor": "white",
            "ticks": ""
           }
          },
          "scene": {
           "xaxis": {
            "backgroundcolor": "#E5ECF6",
            "gridcolor": "white",
            "gridwidth": 2,
            "linecolor": "white",
            "showbackground": true,
            "ticks": "",
            "zerolinecolor": "white"
           },
           "yaxis": {
            "backgroundcolor": "#E5ECF6",
            "gridcolor": "white",
            "gridwidth": 2,
            "linecolor": "white",
            "showbackground": true,
            "ticks": "",
            "zerolinecolor": "white"
           },
           "zaxis": {
            "backgroundcolor": "#E5ECF6",
            "gridcolor": "white",
            "gridwidth": 2,
            "linecolor": "white",
            "showbackground": true,
            "ticks": "",
            "zerolinecolor": "white"
           }
          },
          "shapedefaults": {
           "line": {
            "color": "#2a3f5f"
           }
          },
          "ternary": {
           "aaxis": {
            "gridcolor": "white",
            "linecolor": "white",
            "ticks": ""
           },
           "baxis": {
            "gridcolor": "white",
            "linecolor": "white",
            "ticks": ""
           },
           "bgcolor": "#E5ECF6",
           "caxis": {
            "gridcolor": "white",
            "linecolor": "white",
            "ticks": ""
           }
          },
          "title": {
           "x": 0.05
          },
          "xaxis": {
           "automargin": true,
           "gridcolor": "white",
           "linecolor": "white",
           "ticks": "",
           "title": {
            "standoff": 15
           },
           "zerolinecolor": "white",
           "zerolinewidth": 2
          },
          "yaxis": {
           "automargin": true,
           "gridcolor": "white",
           "linecolor": "white",
           "ticks": "",
           "title": {
            "standoff": 15
           },
           "zerolinecolor": "white",
           "zerolinewidth": 2
          }
         }
        },
        "title": {
         "text": "Number Of Sales Per Console"
        },
        "xaxis": {
         "anchor": "y",
         "domain": [
          0,
          1
         ],
         "title": {
          "text": "platform"
         }
        },
        "yaxis": {
         "anchor": "x",
         "domain": [
          0,
          1
         ],
         "title": {
          "text": "Number Of Sales"
         }
        }
       }
      },
      "text/html": [
       "<div>                            <div id=\"f40fa7cf-f0c0-4c8c-b04d-c9dac3a4be2c\" class=\"plotly-graph-div\" style=\"height:525px; width:100%;\"></div>            <script type=\"text/javascript\">                require([\"plotly\"], function(Plotly) {                    window.PLOTLYENV=window.PLOTLYENV || {};                                    if (document.getElementById(\"f40fa7cf-f0c0-4c8c-b04d-c9dac3a4be2c\")) {                    Plotly.newPlot(                        \"f40fa7cf-f0c0-4c8c-b04d-c9dac3a4be2c\",                        [{\"alignmentgroup\":\"True\",\"hovertemplate\":\"platform=%{x}<br>total_sales=%{y}<extra></extra>\",\"legendgroup\":\"\",\"marker\":{\"color\":\"#636efa\",\"pattern\":{\"shape\":\"\"}},\"name\":\"\",\"offsetgroup\":\"\",\"orientation\":\"v\",\"showlegend\":false,\"textposition\":\"auto\",\"x\":[\"PS2\",\"X360\",\"PS3\",\"Wii\",\"DS\",\"PS\",\"GBA\",\"PS4\",\"PSP\",\"PC\",\"3DS\",\"XB\",\"GB\",\"NES\",\"N64\",\"SNES\",\"GC\",\"XOne\",\"2600\",\"WiiU\",\"PSV\",\"SAT\",\"GEN\",\"DC\",\"SCD\",\"NG\",\"WS\",\"TG16\",\"3DO\",\"GG\",\"PCFX\"],\"xaxis\":\"x\",\"y\":[1255.77,971.42,939.65,907.51,806.12,730.86,317.85,314.14,294.05,259.52,259.0,257.74,255.46,251.05,218.68,200.04,198.93,159.32,96.98,82.19,54.07,33.59,28.35,15.950000000000001,1.86,1.44,1.42,0.16,0.1,0.04,0.03],\"yaxis\":\"y\",\"type\":\"bar\"}],                        {\"template\":{\"data\":{\"bar\":[{\"error_x\":{\"color\":\"#2a3f5f\"},\"error_y\":{\"color\":\"#2a3f5f\"},\"marker\":{\"line\":{\"color\":\"#E5ECF6\",\"width\":0.5},\"pattern\":{\"fillmode\":\"overlay\",\"size\":10,\"solidity\":0.2}},\"type\":\"bar\"}],\"barpolar\":[{\"marker\":{\"line\":{\"color\":\"#E5ECF6\",\"width\":0.5},\"pattern\":{\"fillmode\":\"overlay\",\"size\":10,\"solidity\":0.2}},\"type\":\"barpolar\"}],\"carpet\":[{\"aaxis\":{\"endlinecolor\":\"#2a3f5f\",\"gridcolor\":\"white\",\"linecolor\":\"white\",\"minorgridcolor\":\"white\",\"startlinecolor\":\"#2a3f5f\"},\"baxis\":{\"endlinecolor\":\"#2a3f5f\",\"gridcolor\":\"white\",\"linecolor\":\"white\",\"minorgridcolor\":\"white\",\"startlinecolor\":\"#2a3f5f\"},\"type\":\"carpet\"}],\"choropleth\":[{\"colorbar\":{\"outlinewidth\":0,\"ticks\":\"\"},\"type\":\"choropleth\"}],\"contour\":[{\"colorbar\":{\"outlinewidth\":0,\"ticks\":\"\"},\"colorscale\":[[0.0,\"#0d0887\"],[0.1111111111111111,\"#46039f\"],[0.2222222222222222,\"#7201a8\"],[0.3333333333333333,\"#9c179e\"],[0.4444444444444444,\"#bd3786\"],[0.5555555555555556,\"#d8576b\"],[0.6666666666666666,\"#ed7953\"],[0.7777777777777778,\"#fb9f3a\"],[0.8888888888888888,\"#fdca26\"],[1.0,\"#f0f921\"]],\"type\":\"contour\"}],\"contourcarpet\":[{\"colorbar\":{\"outlinewidth\":0,\"ticks\":\"\"},\"type\":\"contourcarpet\"}],\"heatmap\":[{\"colorbar\":{\"outlinewidth\":0,\"ticks\":\"\"},\"colorscale\":[[0.0,\"#0d0887\"],[0.1111111111111111,\"#46039f\"],[0.2222222222222222,\"#7201a8\"],[0.3333333333333333,\"#9c179e\"],[0.4444444444444444,\"#bd3786\"],[0.5555555555555556,\"#d8576b\"],[0.6666666666666666,\"#ed7953\"],[0.7777777777777778,\"#fb9f3a\"],[0.8888888888888888,\"#fdca26\"],[1.0,\"#f0f921\"]],\"type\":\"heatmap\"}],\"heatmapgl\":[{\"colorbar\":{\"outlinewidth\":0,\"ticks\":\"\"},\"colorscale\":[[0.0,\"#0d0887\"],[0.1111111111111111,\"#46039f\"],[0.2222222222222222,\"#7201a8\"],[0.3333333333333333,\"#9c179e\"],[0.4444444444444444,\"#bd3786\"],[0.5555555555555556,\"#d8576b\"],[0.6666666666666666,\"#ed7953\"],[0.7777777777777778,\"#fb9f3a\"],[0.8888888888888888,\"#fdca26\"],[1.0,\"#f0f921\"]],\"type\":\"heatmapgl\"}],\"histogram\":[{\"marker\":{\"pattern\":{\"fillmode\":\"overlay\",\"size\":10,\"solidity\":0.2}},\"type\":\"histogram\"}],\"histogram2d\":[{\"colorbar\":{\"outlinewidth\":0,\"ticks\":\"\"},\"colorscale\":[[0.0,\"#0d0887\"],[0.1111111111111111,\"#46039f\"],[0.2222222222222222,\"#7201a8\"],[0.3333333333333333,\"#9c179e\"],[0.4444444444444444,\"#bd3786\"],[0.5555555555555556,\"#d8576b\"],[0.6666666666666666,\"#ed7953\"],[0.7777777777777778,\"#fb9f3a\"],[0.8888888888888888,\"#fdca26\"],[1.0,\"#f0f921\"]],\"type\":\"histogram2d\"}],\"histogram2dcontour\":[{\"colorbar\":{\"outlinewidth\":0,\"ticks\":\"\"},\"colorscale\":[[0.0,\"#0d0887\"],[0.1111111111111111,\"#46039f\"],[0.2222222222222222,\"#7201a8\"],[0.3333333333333333,\"#9c179e\"],[0.4444444444444444,\"#bd3786\"],[0.5555555555555556,\"#d8576b\"],[0.6666666666666666,\"#ed7953\"],[0.7777777777777778,\"#fb9f3a\"],[0.8888888888888888,\"#fdca26\"],[1.0,\"#f0f921\"]],\"type\":\"histogram2dcontour\"}],\"mesh3d\":[{\"colorbar\":{\"outlinewidth\":0,\"ticks\":\"\"},\"type\":\"mesh3d\"}],\"parcoords\":[{\"line\":{\"colorbar\":{\"outlinewidth\":0,\"ticks\":\"\"}},\"type\":\"parcoords\"}],\"pie\":[{\"automargin\":true,\"type\":\"pie\"}],\"scatter\":[{\"marker\":{\"colorbar\":{\"outlinewidth\":0,\"ticks\":\"\"}},\"type\":\"scatter\"}],\"scatter3d\":[{\"line\":{\"colorbar\":{\"outlinewidth\":0,\"ticks\":\"\"}},\"marker\":{\"colorbar\":{\"outlinewidth\":0,\"ticks\":\"\"}},\"type\":\"scatter3d\"}],\"scattercarpet\":[{\"marker\":{\"colorbar\":{\"outlinewidth\":0,\"ticks\":\"\"}},\"type\":\"scattercarpet\"}],\"scattergeo\":[{\"marker\":{\"colorbar\":{\"outlinewidth\":0,\"ticks\":\"\"}},\"type\":\"scattergeo\"}],\"scattergl\":[{\"marker\":{\"colorbar\":{\"outlinewidth\":0,\"ticks\":\"\"}},\"type\":\"scattergl\"}],\"scattermapbox\":[{\"marker\":{\"colorbar\":{\"outlinewidth\":0,\"ticks\":\"\"}},\"type\":\"scattermapbox\"}],\"scatterpolar\":[{\"marker\":{\"colorbar\":{\"outlinewidth\":0,\"ticks\":\"\"}},\"type\":\"scatterpolar\"}],\"scatterpolargl\":[{\"marker\":{\"colorbar\":{\"outlinewidth\":0,\"ticks\":\"\"}},\"type\":\"scatterpolargl\"}],\"scatterternary\":[{\"marker\":{\"colorbar\":{\"outlinewidth\":0,\"ticks\":\"\"}},\"type\":\"scatterternary\"}],\"surface\":[{\"colorbar\":{\"outlinewidth\":0,\"ticks\":\"\"},\"colorscale\":[[0.0,\"#0d0887\"],[0.1111111111111111,\"#46039f\"],[0.2222222222222222,\"#7201a8\"],[0.3333333333333333,\"#9c179e\"],[0.4444444444444444,\"#bd3786\"],[0.5555555555555556,\"#d8576b\"],[0.6666666666666666,\"#ed7953\"],[0.7777777777777778,\"#fb9f3a\"],[0.8888888888888888,\"#fdca26\"],[1.0,\"#f0f921\"]],\"type\":\"surface\"}],\"table\":[{\"cells\":{\"fill\":{\"color\":\"#EBF0F8\"},\"line\":{\"color\":\"white\"}},\"header\":{\"fill\":{\"color\":\"#C8D4E3\"},\"line\":{\"color\":\"white\"}},\"type\":\"table\"}]},\"layout\":{\"annotationdefaults\":{\"arrowcolor\":\"#2a3f5f\",\"arrowhead\":0,\"arrowwidth\":1},\"autotypenumbers\":\"strict\",\"coloraxis\":{\"colorbar\":{\"outlinewidth\":0,\"ticks\":\"\"}},\"colorscale\":{\"diverging\":[[0,\"#8e0152\"],[0.1,\"#c51b7d\"],[0.2,\"#de77ae\"],[0.3,\"#f1b6da\"],[0.4,\"#fde0ef\"],[0.5,\"#f7f7f7\"],[0.6,\"#e6f5d0\"],[0.7,\"#b8e186\"],[0.8,\"#7fbc41\"],[0.9,\"#4d9221\"],[1,\"#276419\"]],\"sequential\":[[0.0,\"#0d0887\"],[0.1111111111111111,\"#46039f\"],[0.2222222222222222,\"#7201a8\"],[0.3333333333333333,\"#9c179e\"],[0.4444444444444444,\"#bd3786\"],[0.5555555555555556,\"#d8576b\"],[0.6666666666666666,\"#ed7953\"],[0.7777777777777778,\"#fb9f3a\"],[0.8888888888888888,\"#fdca26\"],[1.0,\"#f0f921\"]],\"sequentialminus\":[[0.0,\"#0d0887\"],[0.1111111111111111,\"#46039f\"],[0.2222222222222222,\"#7201a8\"],[0.3333333333333333,\"#9c179e\"],[0.4444444444444444,\"#bd3786\"],[0.5555555555555556,\"#d8576b\"],[0.6666666666666666,\"#ed7953\"],[0.7777777777777778,\"#fb9f3a\"],[0.8888888888888888,\"#fdca26\"],[1.0,\"#f0f921\"]]},\"colorway\":[\"#636efa\",\"#EF553B\",\"#00cc96\",\"#ab63fa\",\"#FFA15A\",\"#19d3f3\",\"#FF6692\",\"#B6E880\",\"#FF97FF\",\"#FECB52\"],\"font\":{\"color\":\"#2a3f5f\"},\"geo\":{\"bgcolor\":\"white\",\"lakecolor\":\"white\",\"landcolor\":\"#E5ECF6\",\"showlakes\":true,\"showland\":true,\"subunitcolor\":\"white\"},\"hoverlabel\":{\"align\":\"left\"},\"hovermode\":\"closest\",\"mapbox\":{\"style\":\"light\"},\"paper_bgcolor\":\"white\",\"plot_bgcolor\":\"#E5ECF6\",\"polar\":{\"angularaxis\":{\"gridcolor\":\"white\",\"linecolor\":\"white\",\"ticks\":\"\"},\"bgcolor\":\"#E5ECF6\",\"radialaxis\":{\"gridcolor\":\"white\",\"linecolor\":\"white\",\"ticks\":\"\"}},\"scene\":{\"xaxis\":{\"backgroundcolor\":\"#E5ECF6\",\"gridcolor\":\"white\",\"gridwidth\":2,\"linecolor\":\"white\",\"showbackground\":true,\"ticks\":\"\",\"zerolinecolor\":\"white\"},\"yaxis\":{\"backgroundcolor\":\"#E5ECF6\",\"gridcolor\":\"white\",\"gridwidth\":2,\"linecolor\":\"white\",\"showbackground\":true,\"ticks\":\"\",\"zerolinecolor\":\"white\"},\"zaxis\":{\"backgroundcolor\":\"#E5ECF6\",\"gridcolor\":\"white\",\"gridwidth\":2,\"linecolor\":\"white\",\"showbackground\":true,\"ticks\":\"\",\"zerolinecolor\":\"white\"}},\"shapedefaults\":{\"line\":{\"color\":\"#2a3f5f\"}},\"ternary\":{\"aaxis\":{\"gridcolor\":\"white\",\"linecolor\":\"white\",\"ticks\":\"\"},\"baxis\":{\"gridcolor\":\"white\",\"linecolor\":\"white\",\"ticks\":\"\"},\"bgcolor\":\"#E5ECF6\",\"caxis\":{\"gridcolor\":\"white\",\"linecolor\":\"white\",\"ticks\":\"\"}},\"title\":{\"x\":0.05},\"xaxis\":{\"automargin\":true,\"gridcolor\":\"white\",\"linecolor\":\"white\",\"ticks\":\"\",\"title\":{\"standoff\":15},\"zerolinecolor\":\"white\",\"zerolinewidth\":2},\"yaxis\":{\"automargin\":true,\"gridcolor\":\"white\",\"linecolor\":\"white\",\"ticks\":\"\",\"title\":{\"standoff\":15},\"zerolinecolor\":\"white\",\"zerolinewidth\":2}}},\"xaxis\":{\"anchor\":\"y\",\"domain\":[0.0,1.0],\"title\":{\"text\":\"platform\"}},\"yaxis\":{\"anchor\":\"x\",\"domain\":[0.0,1.0],\"title\":{\"text\":\"Number Of Sales\"}},\"legend\":{\"tracegroupgap\":0},\"margin\":{\"t\":60},\"barmode\":\"relative\",\"title\":{\"text\":\"Number Of Sales Per Console\"}},                        {\"responsive\": true}                    ).then(function(){\n",
       "                            \n",
       "var gd = document.getElementById('f40fa7cf-f0c0-4c8c-b04d-c9dac3a4be2c');\n",
       "var x = new MutationObserver(function (mutations, observer) {{\n",
       "        var display = window.getComputedStyle(gd).display;\n",
       "        if (!display || display === 'none') {{\n",
       "            console.log([gd, 'removed!']);\n",
       "            Plotly.purge(gd);\n",
       "            observer.disconnect();\n",
       "        }}\n",
       "}});\n",
       "\n",
       "// Listen for the removal of the full notebook cells\n",
       "var notebookContainer = gd.closest('#notebook-container');\n",
       "if (notebookContainer) {{\n",
       "    x.observe(notebookContainer, {childList: true});\n",
       "}}\n",
       "\n",
       "// Listen for the clearing of the current output cell\n",
       "var outputEl = gd.closest('.output');\n",
       "if (outputEl) {{\n",
       "    x.observe(outputEl, {childList: true});\n",
       "}}\n",
       "\n",
       "                        })                };                });            </script>        </div>"
      ]
     },
     "metadata": {},
     "output_type": "display_data"
    }
   ],
   "source": [
    "platform_sales = df_games.pivot_table(\n",
    "    values='total_sales',\n",
    "    index='platform',\n",
    "    aggfunc='sum'\n",
    ").sort_values(ascending=False, by='total_sales').reset_index()\n",
    "print(platform_sales)\n",
    "\n",
    "fig = px.bar(platform_sales, x='platform', y='total_sales')\n",
    "fig.update_layout(\n",
    "    title=\"Number Of Sales Per Console\",\n",
    "    yaxis_title=\"Number Of Sales\", \n",
    ")\n",
    "fig.show()"
   ]
  },
  {
   "cell_type": "markdown",
   "id": "48c3504f",
   "metadata": {},
   "source": [
    "The platform with the largest total sales is PS2 - Play Station 2 by Sony"
   ]
  },
  {
   "cell_type": "markdown",
   "id": "5191ba39",
   "metadata": {},
   "source": [
    "### distribution based on data for each year for PS2"
   ]
  },
  {
   "cell_type": "code",
   "execution_count": 1320,
   "id": "4bca6ff6",
   "metadata": {},
   "outputs": [
    {
     "name": "stdout",
     "output_type": "stream",
     "text": [
      "    year_of_release  name\n",
      "0              2000    82\n",
      "1              2001   185\n",
      "2              2002   285\n",
      "3              2003   258\n",
      "4              2004   259\n",
      "5              2005   261\n",
      "6              2006   262\n",
      "7              2007   215\n",
      "8              2008   191\n",
      "9              2009    96\n",
      "10             2010    38\n",
      "11             2011     7\n"
     ]
    },
    {
     "data": {
      "application/vnd.plotly.v1+json": {
       "config": {
        "plotlyServerURL": "https://plot.ly"
       },
       "data": [
        {
         "alignmentgroup": "True",
         "hovertemplate": "year_of_release=%{x}<br>name=%{y}<extra></extra>",
         "legendgroup": "",
         "marker": {
          "color": "#636efa",
          "pattern": {
           "shape": ""
          }
         },
         "name": "",
         "offsetgroup": "",
         "orientation": "v",
         "showlegend": false,
         "textposition": "auto",
         "type": "bar",
         "x": [
          2000,
          2001,
          2002,
          2003,
          2004,
          2005,
          2006,
          2007,
          2008,
          2009,
          2010,
          2011
         ],
         "xaxis": "x",
         "y": [
          82,
          185,
          285,
          258,
          259,
          261,
          262,
          215,
          191,
          96,
          38,
          7
         ],
         "yaxis": "y"
        }
       ],
       "layout": {
        "barmode": "relative",
        "legend": {
         "tracegroupgap": 0
        },
        "margin": {
         "t": 60
        },
        "template": {
         "data": {
          "bar": [
           {
            "error_x": {
             "color": "#2a3f5f"
            },
            "error_y": {
             "color": "#2a3f5f"
            },
            "marker": {
             "line": {
              "color": "#E5ECF6",
              "width": 0.5
             },
             "pattern": {
              "fillmode": "overlay",
              "size": 10,
              "solidity": 0.2
             }
            },
            "type": "bar"
           }
          ],
          "barpolar": [
           {
            "marker": {
             "line": {
              "color": "#E5ECF6",
              "width": 0.5
             },
             "pattern": {
              "fillmode": "overlay",
              "size": 10,
              "solidity": 0.2
             }
            },
            "type": "barpolar"
           }
          ],
          "carpet": [
           {
            "aaxis": {
             "endlinecolor": "#2a3f5f",
             "gridcolor": "white",
             "linecolor": "white",
             "minorgridcolor": "white",
             "startlinecolor": "#2a3f5f"
            },
            "baxis": {
             "endlinecolor": "#2a3f5f",
             "gridcolor": "white",
             "linecolor": "white",
             "minorgridcolor": "white",
             "startlinecolor": "#2a3f5f"
            },
            "type": "carpet"
           }
          ],
          "choropleth": [
           {
            "colorbar": {
             "outlinewidth": 0,
             "ticks": ""
            },
            "type": "choropleth"
           }
          ],
          "contour": [
           {
            "colorbar": {
             "outlinewidth": 0,
             "ticks": ""
            },
            "colorscale": [
             [
              0,
              "#0d0887"
             ],
             [
              0.1111111111111111,
              "#46039f"
             ],
             [
              0.2222222222222222,
              "#7201a8"
             ],
             [
              0.3333333333333333,
              "#9c179e"
             ],
             [
              0.4444444444444444,
              "#bd3786"
             ],
             [
              0.5555555555555556,
              "#d8576b"
             ],
             [
              0.6666666666666666,
              "#ed7953"
             ],
             [
              0.7777777777777778,
              "#fb9f3a"
             ],
             [
              0.8888888888888888,
              "#fdca26"
             ],
             [
              1,
              "#f0f921"
             ]
            ],
            "type": "contour"
           }
          ],
          "contourcarpet": [
           {
            "colorbar": {
             "outlinewidth": 0,
             "ticks": ""
            },
            "type": "contourcarpet"
           }
          ],
          "heatmap": [
           {
            "colorbar": {
             "outlinewidth": 0,
             "ticks": ""
            },
            "colorscale": [
             [
              0,
              "#0d0887"
             ],
             [
              0.1111111111111111,
              "#46039f"
             ],
             [
              0.2222222222222222,
              "#7201a8"
             ],
             [
              0.3333333333333333,
              "#9c179e"
             ],
             [
              0.4444444444444444,
              "#bd3786"
             ],
             [
              0.5555555555555556,
              "#d8576b"
             ],
             [
              0.6666666666666666,
              "#ed7953"
             ],
             [
              0.7777777777777778,
              "#fb9f3a"
             ],
             [
              0.8888888888888888,
              "#fdca26"
             ],
             [
              1,
              "#f0f921"
             ]
            ],
            "type": "heatmap"
           }
          ],
          "heatmapgl": [
           {
            "colorbar": {
             "outlinewidth": 0,
             "ticks": ""
            },
            "colorscale": [
             [
              0,
              "#0d0887"
             ],
             [
              0.1111111111111111,
              "#46039f"
             ],
             [
              0.2222222222222222,
              "#7201a8"
             ],
             [
              0.3333333333333333,
              "#9c179e"
             ],
             [
              0.4444444444444444,
              "#bd3786"
             ],
             [
              0.5555555555555556,
              "#d8576b"
             ],
             [
              0.6666666666666666,
              "#ed7953"
             ],
             [
              0.7777777777777778,
              "#fb9f3a"
             ],
             [
              0.8888888888888888,
              "#fdca26"
             ],
             [
              1,
              "#f0f921"
             ]
            ],
            "type": "heatmapgl"
           }
          ],
          "histogram": [
           {
            "marker": {
             "pattern": {
              "fillmode": "overlay",
              "size": 10,
              "solidity": 0.2
             }
            },
            "type": "histogram"
           }
          ],
          "histogram2d": [
           {
            "colorbar": {
             "outlinewidth": 0,
             "ticks": ""
            },
            "colorscale": [
             [
              0,
              "#0d0887"
             ],
             [
              0.1111111111111111,
              "#46039f"
             ],
             [
              0.2222222222222222,
              "#7201a8"
             ],
             [
              0.3333333333333333,
              "#9c179e"
             ],
             [
              0.4444444444444444,
              "#bd3786"
             ],
             [
              0.5555555555555556,
              "#d8576b"
             ],
             [
              0.6666666666666666,
              "#ed7953"
             ],
             [
              0.7777777777777778,
              "#fb9f3a"
             ],
             [
              0.8888888888888888,
              "#fdca26"
             ],
             [
              1,
              "#f0f921"
             ]
            ],
            "type": "histogram2d"
           }
          ],
          "histogram2dcontour": [
           {
            "colorbar": {
             "outlinewidth": 0,
             "ticks": ""
            },
            "colorscale": [
             [
              0,
              "#0d0887"
             ],
             [
              0.1111111111111111,
              "#46039f"
             ],
             [
              0.2222222222222222,
              "#7201a8"
             ],
             [
              0.3333333333333333,
              "#9c179e"
             ],
             [
              0.4444444444444444,
              "#bd3786"
             ],
             [
              0.5555555555555556,
              "#d8576b"
             ],
             [
              0.6666666666666666,
              "#ed7953"
             ],
             [
              0.7777777777777778,
              "#fb9f3a"
             ],
             [
              0.8888888888888888,
              "#fdca26"
             ],
             [
              1,
              "#f0f921"
             ]
            ],
            "type": "histogram2dcontour"
           }
          ],
          "mesh3d": [
           {
            "colorbar": {
             "outlinewidth": 0,
             "ticks": ""
            },
            "type": "mesh3d"
           }
          ],
          "parcoords": [
           {
            "line": {
             "colorbar": {
              "outlinewidth": 0,
              "ticks": ""
             }
            },
            "type": "parcoords"
           }
          ],
          "pie": [
           {
            "automargin": true,
            "type": "pie"
           }
          ],
          "scatter": [
           {
            "marker": {
             "colorbar": {
              "outlinewidth": 0,
              "ticks": ""
             }
            },
            "type": "scatter"
           }
          ],
          "scatter3d": [
           {
            "line": {
             "colorbar": {
              "outlinewidth": 0,
              "ticks": ""
             }
            },
            "marker": {
             "colorbar": {
              "outlinewidth": 0,
              "ticks": ""
             }
            },
            "type": "scatter3d"
           }
          ],
          "scattercarpet": [
           {
            "marker": {
             "colorbar": {
              "outlinewidth": 0,
              "ticks": ""
             }
            },
            "type": "scattercarpet"
           }
          ],
          "scattergeo": [
           {
            "marker": {
             "colorbar": {
              "outlinewidth": 0,
              "ticks": ""
             }
            },
            "type": "scattergeo"
           }
          ],
          "scattergl": [
           {
            "marker": {
             "colorbar": {
              "outlinewidth": 0,
              "ticks": ""
             }
            },
            "type": "scattergl"
           }
          ],
          "scattermapbox": [
           {
            "marker": {
             "colorbar": {
              "outlinewidth": 0,
              "ticks": ""
             }
            },
            "type": "scattermapbox"
           }
          ],
          "scatterpolar": [
           {
            "marker": {
             "colorbar": {
              "outlinewidth": 0,
              "ticks": ""
             }
            },
            "type": "scatterpolar"
           }
          ],
          "scatterpolargl": [
           {
            "marker": {
             "colorbar": {
              "outlinewidth": 0,
              "ticks": ""
             }
            },
            "type": "scatterpolargl"
           }
          ],
          "scatterternary": [
           {
            "marker": {
             "colorbar": {
              "outlinewidth": 0,
              "ticks": ""
             }
            },
            "type": "scatterternary"
           }
          ],
          "surface": [
           {
            "colorbar": {
             "outlinewidth": 0,
             "ticks": ""
            },
            "colorscale": [
             [
              0,
              "#0d0887"
             ],
             [
              0.1111111111111111,
              "#46039f"
             ],
             [
              0.2222222222222222,
              "#7201a8"
             ],
             [
              0.3333333333333333,
              "#9c179e"
             ],
             [
              0.4444444444444444,
              "#bd3786"
             ],
             [
              0.5555555555555556,
              "#d8576b"
             ],
             [
              0.6666666666666666,
              "#ed7953"
             ],
             [
              0.7777777777777778,
              "#fb9f3a"
             ],
             [
              0.8888888888888888,
              "#fdca26"
             ],
             [
              1,
              "#f0f921"
             ]
            ],
            "type": "surface"
           }
          ],
          "table": [
           {
            "cells": {
             "fill": {
              "color": "#EBF0F8"
             },
             "line": {
              "color": "white"
             }
            },
            "header": {
             "fill": {
              "color": "#C8D4E3"
             },
             "line": {
              "color": "white"
             }
            },
            "type": "table"
           }
          ]
         },
         "layout": {
          "annotationdefaults": {
           "arrowcolor": "#2a3f5f",
           "arrowhead": 0,
           "arrowwidth": 1
          },
          "autotypenumbers": "strict",
          "coloraxis": {
           "colorbar": {
            "outlinewidth": 0,
            "ticks": ""
           }
          },
          "colorscale": {
           "diverging": [
            [
             0,
             "#8e0152"
            ],
            [
             0.1,
             "#c51b7d"
            ],
            [
             0.2,
             "#de77ae"
            ],
            [
             0.3,
             "#f1b6da"
            ],
            [
             0.4,
             "#fde0ef"
            ],
            [
             0.5,
             "#f7f7f7"
            ],
            [
             0.6,
             "#e6f5d0"
            ],
            [
             0.7,
             "#b8e186"
            ],
            [
             0.8,
             "#7fbc41"
            ],
            [
             0.9,
             "#4d9221"
            ],
            [
             1,
             "#276419"
            ]
           ],
           "sequential": [
            [
             0,
             "#0d0887"
            ],
            [
             0.1111111111111111,
             "#46039f"
            ],
            [
             0.2222222222222222,
             "#7201a8"
            ],
            [
             0.3333333333333333,
             "#9c179e"
            ],
            [
             0.4444444444444444,
             "#bd3786"
            ],
            [
             0.5555555555555556,
             "#d8576b"
            ],
            [
             0.6666666666666666,
             "#ed7953"
            ],
            [
             0.7777777777777778,
             "#fb9f3a"
            ],
            [
             0.8888888888888888,
             "#fdca26"
            ],
            [
             1,
             "#f0f921"
            ]
           ],
           "sequentialminus": [
            [
             0,
             "#0d0887"
            ],
            [
             0.1111111111111111,
             "#46039f"
            ],
            [
             0.2222222222222222,
             "#7201a8"
            ],
            [
             0.3333333333333333,
             "#9c179e"
            ],
            [
             0.4444444444444444,
             "#bd3786"
            ],
            [
             0.5555555555555556,
             "#d8576b"
            ],
            [
             0.6666666666666666,
             "#ed7953"
            ],
            [
             0.7777777777777778,
             "#fb9f3a"
            ],
            [
             0.8888888888888888,
             "#fdca26"
            ],
            [
             1,
             "#f0f921"
            ]
           ]
          },
          "colorway": [
           "#636efa",
           "#EF553B",
           "#00cc96",
           "#ab63fa",
           "#FFA15A",
           "#19d3f3",
           "#FF6692",
           "#B6E880",
           "#FF97FF",
           "#FECB52"
          ],
          "font": {
           "color": "#2a3f5f"
          },
          "geo": {
           "bgcolor": "white",
           "lakecolor": "white",
           "landcolor": "#E5ECF6",
           "showlakes": true,
           "showland": true,
           "subunitcolor": "white"
          },
          "hoverlabel": {
           "align": "left"
          },
          "hovermode": "closest",
          "mapbox": {
           "style": "light"
          },
          "paper_bgcolor": "white",
          "plot_bgcolor": "#E5ECF6",
          "polar": {
           "angularaxis": {
            "gridcolor": "white",
            "linecolor": "white",
            "ticks": ""
           },
           "bgcolor": "#E5ECF6",
           "radialaxis": {
            "gridcolor": "white",
            "linecolor": "white",
            "ticks": ""
           }
          },
          "scene": {
           "xaxis": {
            "backgroundcolor": "#E5ECF6",
            "gridcolor": "white",
            "gridwidth": 2,
            "linecolor": "white",
            "showbackground": true,
            "ticks": "",
            "zerolinecolor": "white"
           },
           "yaxis": {
            "backgroundcolor": "#E5ECF6",
            "gridcolor": "white",
            "gridwidth": 2,
            "linecolor": "white",
            "showbackground": true,
            "ticks": "",
            "zerolinecolor": "white"
           },
           "zaxis": {
            "backgroundcolor": "#E5ECF6",
            "gridcolor": "white",
            "gridwidth": 2,
            "linecolor": "white",
            "showbackground": true,
            "ticks": "",
            "zerolinecolor": "white"
           }
          },
          "shapedefaults": {
           "line": {
            "color": "#2a3f5f"
           }
          },
          "ternary": {
           "aaxis": {
            "gridcolor": "white",
            "linecolor": "white",
            "ticks": ""
           },
           "baxis": {
            "gridcolor": "white",
            "linecolor": "white",
            "ticks": ""
           },
           "bgcolor": "#E5ECF6",
           "caxis": {
            "gridcolor": "white",
            "linecolor": "white",
            "ticks": ""
           }
          },
          "title": {
           "x": 0.05
          },
          "xaxis": {
           "automargin": true,
           "gridcolor": "white",
           "linecolor": "white",
           "ticks": "",
           "title": {
            "standoff": 15
           },
           "zerolinecolor": "white",
           "zerolinewidth": 2
          },
          "yaxis": {
           "automargin": true,
           "gridcolor": "white",
           "linecolor": "white",
           "ticks": "",
           "title": {
            "standoff": 15
           },
           "zerolinecolor": "white",
           "zerolinewidth": 2
          }
         }
        },
        "title": {
         "text": "Number Of PS2 Games Per Year"
        },
        "xaxis": {
         "anchor": "y",
         "domain": [
          0,
          1
         ],
         "title": {
          "text": "year_of_release"
         }
        },
        "yaxis": {
         "anchor": "x",
         "domain": [
          0,
          1
         ],
         "title": {
          "text": "Number Of Games"
         }
        }
       }
      },
      "text/html": [
       "<div>                            <div id=\"1e184129-78bb-4aef-958c-b381681e2ee3\" class=\"plotly-graph-div\" style=\"height:525px; width:100%;\"></div>            <script type=\"text/javascript\">                require([\"plotly\"], function(Plotly) {                    window.PLOTLYENV=window.PLOTLYENV || {};                                    if (document.getElementById(\"1e184129-78bb-4aef-958c-b381681e2ee3\")) {                    Plotly.newPlot(                        \"1e184129-78bb-4aef-958c-b381681e2ee3\",                        [{\"alignmentgroup\":\"True\",\"hovertemplate\":\"year_of_release=%{x}<br>name=%{y}<extra></extra>\",\"legendgroup\":\"\",\"marker\":{\"color\":\"#636efa\",\"pattern\":{\"shape\":\"\"}},\"name\":\"\",\"offsetgroup\":\"\",\"orientation\":\"v\",\"showlegend\":false,\"textposition\":\"auto\",\"x\":[2000,2001,2002,2003,2004,2005,2006,2007,2008,2009,2010,2011],\"xaxis\":\"x\",\"y\":[82,185,285,258,259,261,262,215,191,96,38,7],\"yaxis\":\"y\",\"type\":\"bar\"}],                        {\"template\":{\"data\":{\"bar\":[{\"error_x\":{\"color\":\"#2a3f5f\"},\"error_y\":{\"color\":\"#2a3f5f\"},\"marker\":{\"line\":{\"color\":\"#E5ECF6\",\"width\":0.5},\"pattern\":{\"fillmode\":\"overlay\",\"size\":10,\"solidity\":0.2}},\"type\":\"bar\"}],\"barpolar\":[{\"marker\":{\"line\":{\"color\":\"#E5ECF6\",\"width\":0.5},\"pattern\":{\"fillmode\":\"overlay\",\"size\":10,\"solidity\":0.2}},\"type\":\"barpolar\"}],\"carpet\":[{\"aaxis\":{\"endlinecolor\":\"#2a3f5f\",\"gridcolor\":\"white\",\"linecolor\":\"white\",\"minorgridcolor\":\"white\",\"startlinecolor\":\"#2a3f5f\"},\"baxis\":{\"endlinecolor\":\"#2a3f5f\",\"gridcolor\":\"white\",\"linecolor\":\"white\",\"minorgridcolor\":\"white\",\"startlinecolor\":\"#2a3f5f\"},\"type\":\"carpet\"}],\"choropleth\":[{\"colorbar\":{\"outlinewidth\":0,\"ticks\":\"\"},\"type\":\"choropleth\"}],\"contour\":[{\"colorbar\":{\"outlinewidth\":0,\"ticks\":\"\"},\"colorscale\":[[0.0,\"#0d0887\"],[0.1111111111111111,\"#46039f\"],[0.2222222222222222,\"#7201a8\"],[0.3333333333333333,\"#9c179e\"],[0.4444444444444444,\"#bd3786\"],[0.5555555555555556,\"#d8576b\"],[0.6666666666666666,\"#ed7953\"],[0.7777777777777778,\"#fb9f3a\"],[0.8888888888888888,\"#fdca26\"],[1.0,\"#f0f921\"]],\"type\":\"contour\"}],\"contourcarpet\":[{\"colorbar\":{\"outlinewidth\":0,\"ticks\":\"\"},\"type\":\"contourcarpet\"}],\"heatmap\":[{\"colorbar\":{\"outlinewidth\":0,\"ticks\":\"\"},\"colorscale\":[[0.0,\"#0d0887\"],[0.1111111111111111,\"#46039f\"],[0.2222222222222222,\"#7201a8\"],[0.3333333333333333,\"#9c179e\"],[0.4444444444444444,\"#bd3786\"],[0.5555555555555556,\"#d8576b\"],[0.6666666666666666,\"#ed7953\"],[0.7777777777777778,\"#fb9f3a\"],[0.8888888888888888,\"#fdca26\"],[1.0,\"#f0f921\"]],\"type\":\"heatmap\"}],\"heatmapgl\":[{\"colorbar\":{\"outlinewidth\":0,\"ticks\":\"\"},\"colorscale\":[[0.0,\"#0d0887\"],[0.1111111111111111,\"#46039f\"],[0.2222222222222222,\"#7201a8\"],[0.3333333333333333,\"#9c179e\"],[0.4444444444444444,\"#bd3786\"],[0.5555555555555556,\"#d8576b\"],[0.6666666666666666,\"#ed7953\"],[0.7777777777777778,\"#fb9f3a\"],[0.8888888888888888,\"#fdca26\"],[1.0,\"#f0f921\"]],\"type\":\"heatmapgl\"}],\"histogram\":[{\"marker\":{\"pattern\":{\"fillmode\":\"overlay\",\"size\":10,\"solidity\":0.2}},\"type\":\"histogram\"}],\"histogram2d\":[{\"colorbar\":{\"outlinewidth\":0,\"ticks\":\"\"},\"colorscale\":[[0.0,\"#0d0887\"],[0.1111111111111111,\"#46039f\"],[0.2222222222222222,\"#7201a8\"],[0.3333333333333333,\"#9c179e\"],[0.4444444444444444,\"#bd3786\"],[0.5555555555555556,\"#d8576b\"],[0.6666666666666666,\"#ed7953\"],[0.7777777777777778,\"#fb9f3a\"],[0.8888888888888888,\"#fdca26\"],[1.0,\"#f0f921\"]],\"type\":\"histogram2d\"}],\"histogram2dcontour\":[{\"colorbar\":{\"outlinewidth\":0,\"ticks\":\"\"},\"colorscale\":[[0.0,\"#0d0887\"],[0.1111111111111111,\"#46039f\"],[0.2222222222222222,\"#7201a8\"],[0.3333333333333333,\"#9c179e\"],[0.4444444444444444,\"#bd3786\"],[0.5555555555555556,\"#d8576b\"],[0.6666666666666666,\"#ed7953\"],[0.7777777777777778,\"#fb9f3a\"],[0.8888888888888888,\"#fdca26\"],[1.0,\"#f0f921\"]],\"type\":\"histogram2dcontour\"}],\"mesh3d\":[{\"colorbar\":{\"outlinewidth\":0,\"ticks\":\"\"},\"type\":\"mesh3d\"}],\"parcoords\":[{\"line\":{\"colorbar\":{\"outlinewidth\":0,\"ticks\":\"\"}},\"type\":\"parcoords\"}],\"pie\":[{\"automargin\":true,\"type\":\"pie\"}],\"scatter\":[{\"marker\":{\"colorbar\":{\"outlinewidth\":0,\"ticks\":\"\"}},\"type\":\"scatter\"}],\"scatter3d\":[{\"line\":{\"colorbar\":{\"outlinewidth\":0,\"ticks\":\"\"}},\"marker\":{\"colorbar\":{\"outlinewidth\":0,\"ticks\":\"\"}},\"type\":\"scatter3d\"}],\"scattercarpet\":[{\"marker\":{\"colorbar\":{\"outlinewidth\":0,\"ticks\":\"\"}},\"type\":\"scattercarpet\"}],\"scattergeo\":[{\"marker\":{\"colorbar\":{\"outlinewidth\":0,\"ticks\":\"\"}},\"type\":\"scattergeo\"}],\"scattergl\":[{\"marker\":{\"colorbar\":{\"outlinewidth\":0,\"ticks\":\"\"}},\"type\":\"scattergl\"}],\"scattermapbox\":[{\"marker\":{\"colorbar\":{\"outlinewidth\":0,\"ticks\":\"\"}},\"type\":\"scattermapbox\"}],\"scatterpolar\":[{\"marker\":{\"colorbar\":{\"outlinewidth\":0,\"ticks\":\"\"}},\"type\":\"scatterpolar\"}],\"scatterpolargl\":[{\"marker\":{\"colorbar\":{\"outlinewidth\":0,\"ticks\":\"\"}},\"type\":\"scatterpolargl\"}],\"scatterternary\":[{\"marker\":{\"colorbar\":{\"outlinewidth\":0,\"ticks\":\"\"}},\"type\":\"scatterternary\"}],\"surface\":[{\"colorbar\":{\"outlinewidth\":0,\"ticks\":\"\"},\"colorscale\":[[0.0,\"#0d0887\"],[0.1111111111111111,\"#46039f\"],[0.2222222222222222,\"#7201a8\"],[0.3333333333333333,\"#9c179e\"],[0.4444444444444444,\"#bd3786\"],[0.5555555555555556,\"#d8576b\"],[0.6666666666666666,\"#ed7953\"],[0.7777777777777778,\"#fb9f3a\"],[0.8888888888888888,\"#fdca26\"],[1.0,\"#f0f921\"]],\"type\":\"surface\"}],\"table\":[{\"cells\":{\"fill\":{\"color\":\"#EBF0F8\"},\"line\":{\"color\":\"white\"}},\"header\":{\"fill\":{\"color\":\"#C8D4E3\"},\"line\":{\"color\":\"white\"}},\"type\":\"table\"}]},\"layout\":{\"annotationdefaults\":{\"arrowcolor\":\"#2a3f5f\",\"arrowhead\":0,\"arrowwidth\":1},\"autotypenumbers\":\"strict\",\"coloraxis\":{\"colorbar\":{\"outlinewidth\":0,\"ticks\":\"\"}},\"colorscale\":{\"diverging\":[[0,\"#8e0152\"],[0.1,\"#c51b7d\"],[0.2,\"#de77ae\"],[0.3,\"#f1b6da\"],[0.4,\"#fde0ef\"],[0.5,\"#f7f7f7\"],[0.6,\"#e6f5d0\"],[0.7,\"#b8e186\"],[0.8,\"#7fbc41\"],[0.9,\"#4d9221\"],[1,\"#276419\"]],\"sequential\":[[0.0,\"#0d0887\"],[0.1111111111111111,\"#46039f\"],[0.2222222222222222,\"#7201a8\"],[0.3333333333333333,\"#9c179e\"],[0.4444444444444444,\"#bd3786\"],[0.5555555555555556,\"#d8576b\"],[0.6666666666666666,\"#ed7953\"],[0.7777777777777778,\"#fb9f3a\"],[0.8888888888888888,\"#fdca26\"],[1.0,\"#f0f921\"]],\"sequentialminus\":[[0.0,\"#0d0887\"],[0.1111111111111111,\"#46039f\"],[0.2222222222222222,\"#7201a8\"],[0.3333333333333333,\"#9c179e\"],[0.4444444444444444,\"#bd3786\"],[0.5555555555555556,\"#d8576b\"],[0.6666666666666666,\"#ed7953\"],[0.7777777777777778,\"#fb9f3a\"],[0.8888888888888888,\"#fdca26\"],[1.0,\"#f0f921\"]]},\"colorway\":[\"#636efa\",\"#EF553B\",\"#00cc96\",\"#ab63fa\",\"#FFA15A\",\"#19d3f3\",\"#FF6692\",\"#B6E880\",\"#FF97FF\",\"#FECB52\"],\"font\":{\"color\":\"#2a3f5f\"},\"geo\":{\"bgcolor\":\"white\",\"lakecolor\":\"white\",\"landcolor\":\"#E5ECF6\",\"showlakes\":true,\"showland\":true,\"subunitcolor\":\"white\"},\"hoverlabel\":{\"align\":\"left\"},\"hovermode\":\"closest\",\"mapbox\":{\"style\":\"light\"},\"paper_bgcolor\":\"white\",\"plot_bgcolor\":\"#E5ECF6\",\"polar\":{\"angularaxis\":{\"gridcolor\":\"white\",\"linecolor\":\"white\",\"ticks\":\"\"},\"bgcolor\":\"#E5ECF6\",\"radialaxis\":{\"gridcolor\":\"white\",\"linecolor\":\"white\",\"ticks\":\"\"}},\"scene\":{\"xaxis\":{\"backgroundcolor\":\"#E5ECF6\",\"gridcolor\":\"white\",\"gridwidth\":2,\"linecolor\":\"white\",\"showbackground\":true,\"ticks\":\"\",\"zerolinecolor\":\"white\"},\"yaxis\":{\"backgroundcolor\":\"#E5ECF6\",\"gridcolor\":\"white\",\"gridwidth\":2,\"linecolor\":\"white\",\"showbackground\":true,\"ticks\":\"\",\"zerolinecolor\":\"white\"},\"zaxis\":{\"backgroundcolor\":\"#E5ECF6\",\"gridcolor\":\"white\",\"gridwidth\":2,\"linecolor\":\"white\",\"showbackground\":true,\"ticks\":\"\",\"zerolinecolor\":\"white\"}},\"shapedefaults\":{\"line\":{\"color\":\"#2a3f5f\"}},\"ternary\":{\"aaxis\":{\"gridcolor\":\"white\",\"linecolor\":\"white\",\"ticks\":\"\"},\"baxis\":{\"gridcolor\":\"white\",\"linecolor\":\"white\",\"ticks\":\"\"},\"bgcolor\":\"#E5ECF6\",\"caxis\":{\"gridcolor\":\"white\",\"linecolor\":\"white\",\"ticks\":\"\"}},\"title\":{\"x\":0.05},\"xaxis\":{\"automargin\":true,\"gridcolor\":\"white\",\"linecolor\":\"white\",\"ticks\":\"\",\"title\":{\"standoff\":15},\"zerolinecolor\":\"white\",\"zerolinewidth\":2},\"yaxis\":{\"automargin\":true,\"gridcolor\":\"white\",\"linecolor\":\"white\",\"ticks\":\"\",\"title\":{\"standoff\":15},\"zerolinecolor\":\"white\",\"zerolinewidth\":2}}},\"xaxis\":{\"anchor\":\"y\",\"domain\":[0.0,1.0],\"title\":{\"text\":\"year_of_release\"}},\"yaxis\":{\"anchor\":\"x\",\"domain\":[0.0,1.0],\"title\":{\"text\":\"Number Of Games\"}},\"legend\":{\"tracegroupgap\":0},\"margin\":{\"t\":60},\"barmode\":\"relative\",\"title\":{\"text\":\"Number Of PS2 Games Per Year\"}},                        {\"responsive\": true}                    ).then(function(){\n",
       "                            \n",
       "var gd = document.getElementById('1e184129-78bb-4aef-958c-b381681e2ee3');\n",
       "var x = new MutationObserver(function (mutations, observer) {{\n",
       "        var display = window.getComputedStyle(gd).display;\n",
       "        if (!display || display === 'none') {{\n",
       "            console.log([gd, 'removed!']);\n",
       "            Plotly.purge(gd);\n",
       "            observer.disconnect();\n",
       "        }}\n",
       "}});\n",
       "\n",
       "// Listen for the removal of the full notebook cells\n",
       "var notebookContainer = gd.closest('#notebook-container');\n",
       "if (notebookContainer) {{\n",
       "    x.observe(notebookContainer, {childList: true});\n",
       "}}\n",
       "\n",
       "// Listen for the clearing of the current output cell\n",
       "var outputEl = gd.closest('.output');\n",
       "if (outputEl) {{\n",
       "    x.observe(outputEl, {childList: true});\n",
       "}}\n",
       "\n",
       "                        })                };                });            </script>        </div>"
      ]
     },
     "metadata": {},
     "output_type": "display_data"
    }
   ],
   "source": [
    "df_games_PS2 = df_games_no_0.query('platform == \"PS2\"')\n",
    "\n",
    "year_PS2 = df_games_PS2.groupby(\n",
    "    by='year_of_release'\n",
    ").count()['name'].to_frame().reset_index()\n",
    "\n",
    "print(year_PS2)\n",
    "fig = px.bar(year_PS2, x='year_of_release', y='name')\n",
    "fig.update_layout(\n",
    "    title=\"Number Of PS2 Games Per Year\",\n",
    "    yaxis_title=\"Number Of Games\", \n",
    ")\n",
    "fig.show()"
   ]
  },
  {
   "cell_type": "markdown",
   "id": "66530f7b",
   "metadata": {},
   "source": [
    "### Find platforms that used to be popular but now have zero sales. How long does it generally take for new platforms to appear and old ones to fade?"
   ]
  },
  {
   "cell_type": "code",
   "execution_count": 1321,
   "id": "ae105895",
   "metadata": {
    "scrolled": true
   },
   "outputs": [
    {
     "data": {
      "text/html": [
       "<div>\n",
       "<style scoped>\n",
       "    .dataframe tbody tr th:only-of-type {\n",
       "        vertical-align: middle;\n",
       "    }\n",
       "\n",
       "    .dataframe tbody tr th {\n",
       "        vertical-align: top;\n",
       "    }\n",
       "\n",
       "    .dataframe thead th {\n",
       "        text-align: right;\n",
       "    }\n",
       "</style>\n",
       "<table border=\"1\" class=\"dataframe\">\n",
       "  <thead>\n",
       "    <tr style=\"text-align: right;\">\n",
       "      <th></th>\n",
       "      <th>platform</th>\n",
       "      <th>year_of_release</th>\n",
       "      <th>total_sales</th>\n",
       "    </tr>\n",
       "  </thead>\n",
       "  <tbody>\n",
       "    <tr>\n",
       "      <th>0</th>\n",
       "      <td>2600</td>\n",
       "      <td>1980</td>\n",
       "      <td>11.38</td>\n",
       "    </tr>\n",
       "    <tr>\n",
       "      <th>1</th>\n",
       "      <td>2600</td>\n",
       "      <td>1981</td>\n",
       "      <td>35.68</td>\n",
       "    </tr>\n",
       "    <tr>\n",
       "      <th>2</th>\n",
       "      <td>2600</td>\n",
       "      <td>1982</td>\n",
       "      <td>28.88</td>\n",
       "    </tr>\n",
       "    <tr>\n",
       "      <th>3</th>\n",
       "      <td>2600</td>\n",
       "      <td>1983</td>\n",
       "      <td>5.84</td>\n",
       "    </tr>\n",
       "    <tr>\n",
       "      <th>4</th>\n",
       "      <td>2600</td>\n",
       "      <td>1984</td>\n",
       "      <td>0.27</td>\n",
       "    </tr>\n",
       "    <tr>\n",
       "      <th>...</th>\n",
       "      <td>...</td>\n",
       "      <td>...</td>\n",
       "      <td>...</td>\n",
       "    </tr>\n",
       "    <tr>\n",
       "      <th>236</th>\n",
       "      <td>XB</td>\n",
       "      <td>2008</td>\n",
       "      <td>0.18</td>\n",
       "    </tr>\n",
       "    <tr>\n",
       "      <th>237</th>\n",
       "      <td>XOne</td>\n",
       "      <td>2013</td>\n",
       "      <td>18.96</td>\n",
       "    </tr>\n",
       "    <tr>\n",
       "      <th>238</th>\n",
       "      <td>XOne</td>\n",
       "      <td>2014</td>\n",
       "      <td>54.07</td>\n",
       "    </tr>\n",
       "    <tr>\n",
       "      <th>239</th>\n",
       "      <td>XOne</td>\n",
       "      <td>2015</td>\n",
       "      <td>60.14</td>\n",
       "    </tr>\n",
       "    <tr>\n",
       "      <th>240</th>\n",
       "      <td>XOne</td>\n",
       "      <td>2016</td>\n",
       "      <td>26.15</td>\n",
       "    </tr>\n",
       "  </tbody>\n",
       "</table>\n",
       "<p>241 rows × 3 columns</p>\n",
       "</div>"
      ],
      "text/plain": [
       "    platform  year_of_release  total_sales\n",
       "0       2600             1980        11.38\n",
       "1       2600             1981        35.68\n",
       "2       2600             1982        28.88\n",
       "3       2600             1983         5.84\n",
       "4       2600             1984         0.27\n",
       "..       ...              ...          ...\n",
       "236       XB             2008         0.18\n",
       "237     XOne             2013        18.96\n",
       "238     XOne             2014        54.07\n",
       "239     XOne             2015        60.14\n",
       "240     XOne             2016        26.15\n",
       "\n",
       "[241 rows x 3 columns]"
      ]
     },
     "execution_count": 1321,
     "metadata": {},
     "output_type": "execute_result"
    }
   ],
   "source": [
    "df_games_console_pivot = df_games_no_0.pivot_table(\n",
    "    index=['platform', 'year_of_release'],\n",
    "    values='total_sales',\n",
    "    aggfunc='sum'\n",
    ").reset_index()\n",
    "df_games_console_pivot"
   ]
  },
  {
   "cell_type": "code",
   "execution_count": 1322,
   "id": "14cb1372",
   "metadata": {},
   "outputs": [
    {
     "data": {
      "application/vnd.plotly.v1+json": {
       "config": {
        "plotlyServerURL": "https://plot.ly"
       },
       "data": [
        {
         "alignmentgroup": "True",
         "hovertemplate": "year_of_release=1980<br>platform=%{x}<br>total_sales=%{y}<extra></extra>",
         "legendgroup": "1980",
         "marker": {
          "color": "#636efa",
          "pattern": {
           "shape": ""
          }
         },
         "name": "1980",
         "offsetgroup": "1980",
         "orientation": "v",
         "showlegend": false,
         "textposition": "auto",
         "type": "bar",
         "x": [
          "2600"
         ],
         "xaxis": "x",
         "y": [
          11.379999999999999
         ],
         "yaxis": "y"
        },
        {
         "alignmentgroup": "True",
         "hovertemplate": "year_of_release=1981<br>platform=%{x}<br>total_sales=%{y}<extra></extra>",
         "legendgroup": "1981",
         "marker": {
          "color": "#EF553B",
          "pattern": {
           "shape": ""
          }
         },
         "name": "1981",
         "offsetgroup": "1981",
         "orientation": "v",
         "showlegend": false,
         "textposition": "auto",
         "type": "bar",
         "x": [
          "2600"
         ],
         "xaxis": "x",
         "y": [
          35.68
         ],
         "yaxis": "y"
        },
        {
         "alignmentgroup": "True",
         "hovertemplate": "year_of_release=1982<br>platform=%{x}<br>total_sales=%{y}<extra></extra>",
         "legendgroup": "1982",
         "marker": {
          "color": "#00cc96",
          "pattern": {
           "shape": ""
          }
         },
         "name": "1982",
         "offsetgroup": "1982",
         "orientation": "v",
         "showlegend": false,
         "textposition": "auto",
         "type": "bar",
         "x": [
          "2600"
         ],
         "xaxis": "x",
         "y": [
          28.880000000000003
         ],
         "yaxis": "y"
        },
        {
         "alignmentgroup": "True",
         "hovertemplate": "year_of_release=1983<br>platform=%{x}<br>total_sales=%{y}<extra></extra>",
         "legendgroup": "1983",
         "marker": {
          "color": "#ab63fa",
          "pattern": {
           "shape": ""
          }
         },
         "name": "1983",
         "offsetgroup": "1983",
         "orientation": "v",
         "showlegend": false,
         "textposition": "auto",
         "type": "bar",
         "x": [
          "2600",
          "NES"
         ],
         "xaxis": "x",
         "y": [
          5.84,
          10.96
         ],
         "yaxis": "y"
        },
        {
         "alignmentgroup": "True",
         "hovertemplate": "year_of_release=1984<br>platform=%{x}<br>total_sales=%{y}<extra></extra>",
         "legendgroup": "1984",
         "marker": {
          "color": "#FFA15A",
          "pattern": {
           "shape": ""
          }
         },
         "name": "1984",
         "offsetgroup": "1984",
         "orientation": "v",
         "showlegend": false,
         "textposition": "auto",
         "type": "bar",
         "x": [
          "2600",
          "NES"
         ],
         "xaxis": "x",
         "y": [
          0.27,
          50.08
         ],
         "yaxis": "y"
        },
        {
         "alignmentgroup": "True",
         "hovertemplate": "year_of_release=1985<br>platform=%{x}<br>total_sales=%{y}<extra></extra>",
         "legendgroup": "1985",
         "marker": {
          "color": "#19d3f3",
          "pattern": {
           "shape": ""
          }
         },
         "name": "1985",
         "offsetgroup": "1985",
         "orientation": "v",
         "showlegend": false,
         "textposition": "auto",
         "type": "bar",
         "x": [
          "2600",
          "DS",
          "NES",
          "PC"
         ],
         "xaxis": "x",
         "y": [
          0.44999999999999996,
          0.02,
          53.440000000000005,
          0.04
         ],
         "yaxis": "y"
        },
        {
         "alignmentgroup": "True",
         "hovertemplate": "year_of_release=1986<br>platform=%{x}<br>total_sales=%{y}<extra></extra>",
         "legendgroup": "1986",
         "marker": {
          "color": "#FF6692",
          "pattern": {
           "shape": ""
          }
         },
         "name": "1986",
         "offsetgroup": "1986",
         "orientation": "v",
         "showlegend": false,
         "textposition": "auto",
         "type": "bar",
         "x": [
          "2600",
          "NES"
         ],
         "xaxis": "x",
         "y": [
          0.67,
          36.41
         ],
         "yaxis": "y"
        },
        {
         "alignmentgroup": "True",
         "hovertemplate": "year_of_release=1987<br>platform=%{x}<br>total_sales=%{y}<extra></extra>",
         "legendgroup": "1987",
         "marker": {
          "color": "#B6E880",
          "pattern": {
           "shape": ""
          }
         },
         "name": "1987",
         "offsetgroup": "1987",
         "orientation": "v",
         "showlegend": false,
         "textposition": "auto",
         "type": "bar",
         "x": [
          "2600",
          "NES"
         ],
         "xaxis": "x",
         "y": [
          1.94,
          19.759999999999998
         ],
         "yaxis": "y"
        },
        {
         "alignmentgroup": "True",
         "hovertemplate": "year_of_release=1988<br>platform=%{x}<br>total_sales=%{y}<extra></extra>",
         "legendgroup": "1988",
         "marker": {
          "color": "#FF97FF",
          "pattern": {
           "shape": ""
          }
         },
         "name": "1988",
         "offsetgroup": "1988",
         "orientation": "v",
         "showlegend": false,
         "textposition": "auto",
         "type": "bar",
         "x": [
          "2600",
          "GB",
          "NES",
          "PC"
         ],
         "xaxis": "x",
         "y": [
          0.74,
          1.43,
          45.010000000000005,
          0.03
         ],
         "yaxis": "y"
        },
        {
         "alignmentgroup": "True",
         "hovertemplate": "year_of_release=1989<br>platform=%{x}<br>total_sales=%{y}<extra></extra>",
         "legendgroup": "1989",
         "marker": {
          "color": "#FECB52",
          "pattern": {
           "shape": ""
          }
         },
         "name": "1989",
         "offsetgroup": "1989",
         "orientation": "v",
         "showlegend": false,
         "textposition": "auto",
         "type": "bar",
         "x": [
          "2600",
          "GB",
          "NES"
         ],
         "xaxis": "x",
         "y": [
          0.6300000000000001,
          64.97,
          7.85
         ],
         "yaxis": "y"
        },
        {
         "alignmentgroup": "True",
         "hovertemplate": "year_of_release=1994<br>platform=%{x}<br>total_sales=%{y}<extra></extra>",
         "legendgroup": "1994",
         "marker": {
          "color": "#636efa",
          "pattern": {
           "shape": ""
          }
         },
         "name": "1994",
         "offsetgroup": "1994",
         "orientation": "v",
         "showlegend": false,
         "textposition": "auto",
         "type": "bar",
         "x": [
          "3DO",
          "GB",
          "GEN",
          "NES",
          "NG",
          "PC",
          "PS",
          "SAT",
          "SCD",
          "SNES"
         ],
         "xaxis": "x",
         "y": [
          0.02,
          12.18,
          8.129999999999999,
          0.11,
          0.8,
          12.87,
          6.03,
          3.65,
          0.36000000000000004,
          35.08
         ],
         "yaxis": "y"
        },
        {
         "alignmentgroup": "True",
         "hovertemplate": "year_of_release=1995<br>platform=%{x}<br>total_sales=%{y}<extra></extra>",
         "legendgroup": "1995",
         "marker": {
          "color": "#EF553B",
          "pattern": {
           "shape": ""
          }
         },
         "name": "1995",
         "offsetgroup": "1995",
         "orientation": "v",
         "showlegend": false,
         "textposition": "auto",
         "type": "bar",
         "x": [
          "3DO",
          "GB",
          "NG",
          "PC",
          "PS",
          "SAT",
          "SNES",
          "TG16"
         ],
         "xaxis": "x",
         "y": [
          0.08,
          3.5999999999999996,
          0.33,
          4.22,
          35.96,
          11.57,
          32.199999999999996,
          0.16
         ],
         "yaxis": "y"
        },
        {
         "alignmentgroup": "True",
         "hovertemplate": "year_of_release=2010<br>platform=%{x}<br>total_sales=%{y}<extra></extra>",
         "legendgroup": "2010",
         "marker": {
          "color": "#00cc96",
          "pattern": {
           "shape": ""
          }
         },
         "name": "2010",
         "offsetgroup": "2010",
         "orientation": "v",
         "showlegend": false,
         "textposition": "auto",
         "type": "bar",
         "x": [
          "3DS",
          "DS",
          "PC",
          "PS2",
          "PS3",
          "PSP",
          "Wii",
          "X360"
         ],
         "xaxis": "x",
         "y": [
          0.30000000000000004,
          85.35000000000001,
          26.15,
          5.64,
          142.74,
          35.04,
          128.67000000000002,
          170.55
         ],
         "yaxis": "y"
        },
        {
         "alignmentgroup": "True",
         "hovertemplate": "year_of_release=2011<br>platform=%{x}<br>total_sales=%{y}<extra></extra>",
         "legendgroup": "2011",
         "marker": {
          "color": "#ab63fa",
          "pattern": {
           "shape": ""
          }
         },
         "name": "2011",
         "offsetgroup": "2011",
         "orientation": "v",
         "showlegend": false,
         "textposition": "auto",
         "type": "bar",
         "x": [
          "3DS",
          "DS",
          "PC",
          "PS2",
          "PS3",
          "PSP",
          "PSV",
          "Wii",
          "X360"
         ],
         "xaxis": "x",
         "y": [
          63.199999999999996,
          26.23,
          35.14,
          0.45,
          157.84,
          17.82,
          4.63,
          59.7,
          145.06
         ],
         "yaxis": "y"
        },
        {
         "alignmentgroup": "True",
         "hovertemplate": "year_of_release=2012<br>platform=%{x}<br>total_sales=%{y}<extra></extra>",
         "legendgroup": "2012",
         "marker": {
          "color": "#FFA15A",
          "pattern": {
           "shape": ""
          }
         },
         "name": "2012",
         "offsetgroup": "2012",
         "orientation": "v",
         "showlegend": false,
         "textposition": "auto",
         "type": "bar",
         "x": [
          "3DS",
          "DS",
          "PC",
          "PS3",
          "PSP",
          "PSV",
          "Wii",
          "WiiU",
          "X360"
         ],
         "xaxis": "x",
         "y": [
          51.760000000000005,
          11.67,
          23.45,
          108.28,
          7.95,
          16.19,
          22.94,
          17.560000000000002,
          100.71000000000001
         ],
         "yaxis": "y"
        },
        {
         "alignmentgroup": "True",
         "hovertemplate": "year_of_release=2013<br>platform=%{x}<br>total_sales=%{y}<extra></extra>",
         "legendgroup": "2013",
         "marker": {
          "color": "#19d3f3",
          "pattern": {
           "shape": ""
          }
         },
         "name": "2013",
         "offsetgroup": "2013",
         "orientation": "v",
         "showlegend": false,
         "textposition": "auto",
         "type": "bar",
         "x": [
          "3DS",
          "DS",
          "PC",
          "PS3",
          "PS4",
          "PSP",
          "PSV",
          "Wii",
          "WiiU",
          "X360",
          "XOne"
         ],
         "xaxis": "x",
         "y": [
          56.57,
          1.54,
          12.66,
          113.25,
          25.99,
          3.38,
          10.59,
          8.59,
          21.650000000000002,
          88.58,
          18.96
         ],
         "yaxis": "y"
        },
        {
         "alignmentgroup": "True",
         "hovertemplate": "year_of_release=2014<br>platform=%{x}<br>total_sales=%{y}<extra></extra>",
         "legendgroup": "2014",
         "marker": {
          "color": "#FF6692",
          "pattern": {
           "shape": ""
          }
         },
         "name": "2014",
         "offsetgroup": "2014",
         "orientation": "v",
         "showlegend": false,
         "textposition": "auto",
         "type": "bar",
         "x": [
          "3DS",
          "PC",
          "PS3",
          "PS4",
          "PSP",
          "PSV",
          "Wii",
          "WiiU",
          "X360",
          "XOne"
         ],
         "xaxis": "x",
         "y": [
          43.76,
          13.280000000000001,
          47.760000000000005,
          100,
          0.24,
          11.9,
          3.75,
          22.03,
          34.74,
          54.07
         ],
         "yaxis": "y"
        },
        {
         "alignmentgroup": "True",
         "hovertemplate": "year_of_release=2015<br>platform=%{x}<br>total_sales=%{y}<extra></extra>",
         "legendgroup": "2015",
         "marker": {
          "color": "#B6E880",
          "pattern": {
           "shape": ""
          }
         },
         "name": "2015",
         "offsetgroup": "2015",
         "orientation": "v",
         "showlegend": false,
         "textposition": "auto",
         "type": "bar",
         "x": [
          "3DS",
          "PC",
          "PS3",
          "PS4",
          "PSP",
          "PSV",
          "Wii",
          "WiiU",
          "X360",
          "XOne"
         ],
         "xaxis": "x",
         "y": [
          27.78,
          8.520000000000001,
          16.82,
          118.9,
          0.12,
          6.25,
          1.14,
          16.35,
          11.959999999999999,
          60.14
         ],
         "yaxis": "y"
        },
        {
         "alignmentgroup": "True",
         "hovertemplate": "year_of_release=2016<br>platform=%{x}<br>total_sales=%{y}<extra></extra>",
         "legendgroup": "2016",
         "marker": {
          "color": "#FF97FF",
          "pattern": {
           "shape": ""
          }
         },
         "name": "2016",
         "offsetgroup": "2016",
         "orientation": "v",
         "showlegend": false,
         "textposition": "auto",
         "type": "bar",
         "x": [
          "3DS",
          "PC",
          "PS3",
          "PS4",
          "PSV",
          "Wii",
          "WiiU",
          "X360",
          "XOne"
         ],
         "xaxis": "x",
         "y": [
          15.14,
          5.25,
          3.6,
          69.25,
          4.25,
          0.18,
          4.6000000000000005,
          1.52,
          26.150000000000002
         ],
         "yaxis": "y"
        },
        {
         "alignmentgroup": "True",
         "hovertemplate": "year_of_release=1998<br>platform=%{x}<br>total_sales=%{y}<extra></extra>",
         "legendgroup": "1998",
         "marker": {
          "color": "#FECB52",
          "pattern": {
           "shape": ""
          }
         },
         "name": "1998",
         "offsetgroup": "1998",
         "orientation": "v",
         "showlegend": false,
         "textposition": "auto",
         "type": "bar",
         "x": [
          "DC",
          "GB",
          "N64",
          "PC",
          "PS",
          "SAT",
          "SNES"
         ],
         "xaxis": "x",
         "y": [
          3.3800000000000003,
          26.9,
          49.24,
          3.2600000000000002,
          169.49,
          3.82,
          0.22000000000000003
         ],
         "yaxis": "y"
        },
        {
         "alignmentgroup": "True",
         "hovertemplate": "year_of_release=1999<br>platform=%{x}<br>total_sales=%{y}<extra></extra>",
         "legendgroup": "1999",
         "marker": {
          "color": "#636efa",
          "pattern": {
           "shape": ""
          }
         },
         "name": "1999",
         "offsetgroup": "1999",
         "orientation": "v",
         "showlegend": false,
         "textposition": "auto",
         "type": "bar",
         "x": [
          "DC",
          "GB",
          "N64",
          "PC",
          "PS",
          "SAT",
          "SNES",
          "WS"
         ],
         "xaxis": "x",
         "y": [
          5.16,
          38,
          57.87,
          4.74,
          144.53,
          0.09,
          0.26,
          0.46
         ],
         "yaxis": "y"
        },
        {
         "alignmentgroup": "True",
         "hovertemplate": "year_of_release=2000<br>platform=%{x}<br>total_sales=%{y}<extra></extra>",
         "legendgroup": "2000",
         "marker": {
          "color": "#EF553B",
          "pattern": {
           "shape": ""
          }
         },
         "name": "2000",
         "offsetgroup": "2000",
         "orientation": "v",
         "showlegend": false,
         "textposition": "auto",
         "type": "bar",
         "x": [
          "DC",
          "GB",
          "GBA",
          "N64",
          "PC",
          "PS",
          "PS2",
          "WS",
          "XB"
         ],
         "xaxis": "x",
         "y": [
          5.99,
          19.76,
          0.07,
          33.97,
          4.659999999999999,
          96.37,
          39.17,
          0.68,
          0.99
         ],
         "yaxis": "y"
        },
        {
         "alignmentgroup": "True",
         "hovertemplate": "year_of_release=2001<br>platform=%{x}<br>total_sales=%{y}<extra></extra>",
         "legendgroup": "2001",
         "marker": {
          "color": "#00cc96",
          "pattern": {
           "shape": ""
          }
         },
         "name": "2001",
         "offsetgroup": "2001",
         "orientation": "v",
         "showlegend": false,
         "textposition": "auto",
         "type": "bar",
         "x": [
          "DC",
          "GB",
          "GBA",
          "GC",
          "N64",
          "PC",
          "PS",
          "PS2",
          "WS",
          "XB"
         ],
         "xaxis": "x",
         "y": [
          1.07,
          9.24,
          61.53,
          26.62,
          3.25,
          5.470000000000001,
          35.59,
          166.43,
          0.28,
          22.84
         ],
         "yaxis": "y"
        },
        {
         "alignmentgroup": "True",
         "hovertemplate": "year_of_release=2002<br>platform=%{x}<br>total_sales=%{y}<extra></extra>",
         "legendgroup": "2002",
         "marker": {
          "color": "#ab63fa",
          "pattern": {
           "shape": ""
          }
         },
         "name": "2002",
         "offsetgroup": "2002",
         "orientation": "v",
         "showlegend": false,
         "textposition": "auto",
         "type": "bar",
         "x": [
          "DC",
          "GBA",
          "GC",
          "N64",
          "PC",
          "PS",
          "PS2",
          "XB"
         ],
         "xaxis": "x",
         "y": [
          0.29,
          74.16,
          52.29,
          0.08,
          8.57,
          6.67,
          208.36,
          50.760000000000005
         ],
         "yaxis": "y"
        },
        {
         "alignmentgroup": "True",
         "hovertemplate": "year_of_release=2007<br>platform=%{x}<br>total_sales=%{y}<extra></extra>",
         "legendgroup": "2007",
         "marker": {
          "color": "#FFA15A",
          "pattern": {
           "shape": ""
          }
         },
         "name": "2007",
         "offsetgroup": "2007",
         "orientation": "v",
         "showlegend": false,
         "textposition": "auto",
         "type": "bar",
         "x": [
          "DC",
          "DS",
          "GBA",
          "GC",
          "PC",
          "PS2",
          "PS3",
          "PSP",
          "Wii",
          "X360",
          "XB"
         ],
         "xaxis": "x",
         "y": [
          0.02,
          147.23,
          3.4,
          0.27,
          9.28,
          76.1,
          73.19,
          47.300000000000004,
          153.38,
          95.41,
          0.55
         ],
         "yaxis": "y"
        },
        {
         "alignmentgroup": "True",
         "hovertemplate": "year_of_release=2008<br>platform=%{x}<br>total_sales=%{y}<extra></extra>",
         "legendgroup": "2008",
         "marker": {
          "color": "#19d3f3",
          "pattern": {
           "shape": ""
          }
         },
         "name": "2008",
         "offsetgroup": "2008",
         "orientation": "v",
         "showlegend": false,
         "textposition": "auto",
         "type": "bar",
         "x": [
          "DC",
          "DS",
          "PC",
          "PS2",
          "PS3",
          "PSP",
          "Wii",
          "X360",
          "XB"
         ],
         "xaxis": "x",
         "y": [
          0.04,
          145.36,
          12.46,
          53.9,
          118.78999999999999,
          35.96,
          177.68,
          136.07,
          0.18000000000000002
         ],
         "yaxis": "y"
        },
        {
         "alignmentgroup": "True",
         "hovertemplate": "year_of_release=2004<br>platform=%{x}<br>total_sales=%{y}<extra></extra>",
         "legendgroup": "2004",
         "marker": {
          "color": "#FF6692",
          "pattern": {
           "shape": ""
          }
         },
         "name": "2004",
         "offsetgroup": "2004",
         "orientation": "v",
         "showlegend": false,
         "textposition": "auto",
         "type": "bar",
         "x": [
          "DS",
          "GBA",
          "GC",
          "N64",
          "PC",
          "PS2",
          "PSP",
          "XB"
         ],
         "xaxis": "x",
         "y": [
          17.27,
          77.91,
          28.82,
          0.32999999999999996,
          10.39,
          211.81,
          7.0600000000000005,
          65.97
         ],
         "yaxis": "y"
        },
        {
         "alignmentgroup": "True",
         "hovertemplate": "year_of_release=2005<br>platform=%{x}<br>total_sales=%{y}<extra></extra>",
         "legendgroup": "2005",
         "marker": {
          "color": "#B6E880",
          "pattern": {
           "shape": ""
          }
         },
         "name": "2005",
         "offsetgroup": "2005",
         "orientation": "v",
         "showlegend": false,
         "textposition": "auto",
         "type": "bar",
         "x": [
          "DS",
          "GBA",
          "GC",
          "PC",
          "PS2",
          "PS3",
          "PSP",
          "X360",
          "XB"
         ],
         "xaxis": "x",
         "y": [
          130.14,
          34.53,
          27.91,
          4.38,
          160.91,
          0.19000000000000003,
          43.84,
          9.22,
          49.09
         ],
         "yaxis": "y"
        },
        {
         "alignmentgroup": "True",
         "hovertemplate": "year_of_release=2006<br>platform=%{x}<br>total_sales=%{y}<extra></extra>",
         "legendgroup": "2006",
         "marker": {
          "color": "#FF97FF",
          "pattern": {
           "shape": ""
          }
         },
         "name": "2006",
         "offsetgroup": "2006",
         "orientation": "v",
         "showlegend": false,
         "textposition": "auto",
         "type": "bar",
         "x": [
          "DS",
          "GBA",
          "GC",
          "PC",
          "PS2",
          "PS3",
          "PSP",
          "Wii",
          "X360",
          "XB"
         ],
         "xaxis": "x",
         "y": [
          119.81,
          5.46,
          11.55,
          2.85,
          103.99,
          21.439999999999998,
          56.28,
          140.19,
          51.79,
          10.040000000000001
         ],
         "yaxis": "y"
        },
        {
         "alignmentgroup": "True",
         "hovertemplate": "year_of_release=2009<br>platform=%{x}<br>total_sales=%{y}<extra></extra>",
         "legendgroup": "2009",
         "marker": {
          "color": "#FECB52",
          "pattern": {
           "shape": ""
          }
         },
         "name": "2009",
         "offsetgroup": "2009",
         "orientation": "v",
         "showlegend": false,
         "textposition": "auto",
         "type": "bar",
         "x": [
          "DS",
          "PC",
          "PS2",
          "PS3",
          "PSP",
          "Wii",
          "X360"
         ],
         "xaxis": "x",
         "y": [
          119.56,
          17.05,
          26.4,
          130.93,
          37.78,
          206.97,
          120.82
         ],
         "yaxis": "y"
        },
        {
         "alignmentgroup": "True",
         "hovertemplate": "year_of_release=1990<br>platform=%{x}<br>total_sales=%{y}<extra></extra>",
         "legendgroup": "1990",
         "marker": {
          "color": "#636efa",
          "pattern": {
           "shape": ""
          }
         },
         "name": "1990",
         "offsetgroup": "1990",
         "orientation": "v",
         "showlegend": false,
         "textposition": "auto",
         "type": "bar",
         "x": [
          "GB",
          "GEN",
          "NES",
          "SNES"
         ],
         "xaxis": "x",
         "y": [
          4.89,
          2.6,
          15.729999999999999,
          26.150000000000002
         ],
         "yaxis": "y"
        },
        {
         "alignmentgroup": "True",
         "hovertemplate": "year_of_release=1991<br>platform=%{x}<br>total_sales=%{y}<extra></extra>",
         "legendgroup": "1991",
         "marker": {
          "color": "#EF553B",
          "pattern": {
           "shape": ""
          }
         },
         "name": "1991",
         "offsetgroup": "1991",
         "orientation": "v",
         "showlegend": false,
         "textposition": "auto",
         "type": "bar",
         "x": [
          "GB",
          "GEN",
          "NES",
          "SNES"
         ],
         "xaxis": "x",
         "y": [
          5.57,
          4.33,
          6.109999999999999,
          16.220000000000002
         ],
         "yaxis": "y"
        },
        {
         "alignmentgroup": "True",
         "hovertemplate": "year_of_release=1992<br>platform=%{x}<br>total_sales=%{y}<extra></extra>",
         "legendgroup": "1992",
         "marker": {
          "color": "#00cc96",
          "pattern": {
           "shape": ""
          }
         },
         "name": "1992",
         "offsetgroup": "1992",
         "orientation": "v",
         "showlegend": false,
         "textposition": "auto",
         "type": "bar",
         "x": [
          "GB",
          "GEN",
          "GG",
          "NES",
          "PC",
          "SNES"
         ],
         "xaxis": "x",
         "y": [
          25.49,
          12.64,
          0.04,
          1.9800000000000002,
          3.0300000000000002,
          32.98
         ],
         "yaxis": "y"
        },
        {
         "alignmentgroup": "True",
         "hovertemplate": "year_of_release=1996<br>platform=%{x}<br>total_sales=%{y}<extra></extra>",
         "legendgroup": "1996",
         "marker": {
          "color": "#ab63fa",
          "pattern": {
           "shape": ""
          }
         },
         "name": "1996",
         "offsetgroup": "1996",
         "orientation": "v",
         "showlegend": false,
         "textposition": "auto",
         "type": "bar",
         "x": [
          "GB",
          "N64",
          "NG",
          "PC",
          "PCFX",
          "PS",
          "SAT",
          "SNES"
         ],
         "xaxis": "x",
         "y": [
          36.03,
          34.1,
          0.1,
          10.58,
          0.03,
          94.7,
          7.69,
          15.92
         ],
         "yaxis": "y"
        },
        {
         "alignmentgroup": "True",
         "hovertemplate": "year_of_release=1997<br>platform=%{x}<br>total_sales=%{y}<extra></extra>",
         "legendgroup": "1997",
         "marker": {
          "color": "#FFA15A",
          "pattern": {
           "shape": ""
          }
         },
         "name": "1997",
         "offsetgroup": "1997",
         "orientation": "v",
         "showlegend": false,
         "textposition": "auto",
         "type": "bar",
         "x": [
          "GB",
          "N64",
          "PC",
          "PS",
          "SAT",
          "SNES"
         ],
         "xaxis": "x",
         "y": [
          6.37,
          39.5,
          11.27,
          136.17000000000002,
          6.7700000000000005,
          0.99
         ],
         "yaxis": "y"
        },
        {
         "alignmentgroup": "True",
         "hovertemplate": "year_of_release=2003<br>platform=%{x}<br>total_sales=%{y}<extra></extra>",
         "legendgroup": "2003",
         "marker": {
          "color": "#19d3f3",
          "pattern": {
           "shape": ""
          }
         },
         "name": "2003",
         "offsetgroup": "2003",
         "orientation": "v",
         "showlegend": false,
         "textposition": "auto",
         "type": "bar",
         "x": [
          "GBA",
          "GC",
          "PC",
          "PS",
          "PS2",
          "XB"
         ],
         "xaxis": "x",
         "y": [
          56.67,
          51.2,
          8.89,
          2.0700000000000003,
          193.05,
          56.24
         ],
         "yaxis": "y"
        },
        {
         "alignmentgroup": "True",
         "hovertemplate": "year_of_release=1993<br>platform=%{x}<br>total_sales=%{y}<extra></extra>",
         "legendgroup": "1993",
         "marker": {
          "color": "#FF6692",
          "pattern": {
           "shape": ""
          }
         },
         "name": "1993",
         "offsetgroup": "1993",
         "orientation": "v",
         "showlegend": false,
         "textposition": "auto",
         "type": "bar",
         "x": [
          "GEN",
          "NES",
          "NG",
          "SCD",
          "SNES"
         ],
         "xaxis": "x",
         "y": [
          0.65,
          3.61,
          0.21000000000000002,
          1.5,
          40.02
         ],
         "yaxis": "y"
        }
       ],
       "layout": {
        "barmode": "group",
        "legend": {
         "title": {
          "text": "year_of_release"
         },
         "tracegroupgap": 0
        },
        "margin": {
         "t": 60
        },
        "template": {
         "data": {
          "bar": [
           {
            "error_x": {
             "color": "#2a3f5f"
            },
            "error_y": {
             "color": "#2a3f5f"
            },
            "marker": {
             "line": {
              "color": "#E5ECF6",
              "width": 0.5
             },
             "pattern": {
              "fillmode": "overlay",
              "size": 10,
              "solidity": 0.2
             }
            },
            "type": "bar"
           }
          ],
          "barpolar": [
           {
            "marker": {
             "line": {
              "color": "#E5ECF6",
              "width": 0.5
             },
             "pattern": {
              "fillmode": "overlay",
              "size": 10,
              "solidity": 0.2
             }
            },
            "type": "barpolar"
           }
          ],
          "carpet": [
           {
            "aaxis": {
             "endlinecolor": "#2a3f5f",
             "gridcolor": "white",
             "linecolor": "white",
             "minorgridcolor": "white",
             "startlinecolor": "#2a3f5f"
            },
            "baxis": {
             "endlinecolor": "#2a3f5f",
             "gridcolor": "white",
             "linecolor": "white",
             "minorgridcolor": "white",
             "startlinecolor": "#2a3f5f"
            },
            "type": "carpet"
           }
          ],
          "choropleth": [
           {
            "colorbar": {
             "outlinewidth": 0,
             "ticks": ""
            },
            "type": "choropleth"
           }
          ],
          "contour": [
           {
            "colorbar": {
             "outlinewidth": 0,
             "ticks": ""
            },
            "colorscale": [
             [
              0,
              "#0d0887"
             ],
             [
              0.1111111111111111,
              "#46039f"
             ],
             [
              0.2222222222222222,
              "#7201a8"
             ],
             [
              0.3333333333333333,
              "#9c179e"
             ],
             [
              0.4444444444444444,
              "#bd3786"
             ],
             [
              0.5555555555555556,
              "#d8576b"
             ],
             [
              0.6666666666666666,
              "#ed7953"
             ],
             [
              0.7777777777777778,
              "#fb9f3a"
             ],
             [
              0.8888888888888888,
              "#fdca26"
             ],
             [
              1,
              "#f0f921"
             ]
            ],
            "type": "contour"
           }
          ],
          "contourcarpet": [
           {
            "colorbar": {
             "outlinewidth": 0,
             "ticks": ""
            },
            "type": "contourcarpet"
           }
          ],
          "heatmap": [
           {
            "colorbar": {
             "outlinewidth": 0,
             "ticks": ""
            },
            "colorscale": [
             [
              0,
              "#0d0887"
             ],
             [
              0.1111111111111111,
              "#46039f"
             ],
             [
              0.2222222222222222,
              "#7201a8"
             ],
             [
              0.3333333333333333,
              "#9c179e"
             ],
             [
              0.4444444444444444,
              "#bd3786"
             ],
             [
              0.5555555555555556,
              "#d8576b"
             ],
             [
              0.6666666666666666,
              "#ed7953"
             ],
             [
              0.7777777777777778,
              "#fb9f3a"
             ],
             [
              0.8888888888888888,
              "#fdca26"
             ],
             [
              1,
              "#f0f921"
             ]
            ],
            "type": "heatmap"
           }
          ],
          "heatmapgl": [
           {
            "colorbar": {
             "outlinewidth": 0,
             "ticks": ""
            },
            "colorscale": [
             [
              0,
              "#0d0887"
             ],
             [
              0.1111111111111111,
              "#46039f"
             ],
             [
              0.2222222222222222,
              "#7201a8"
             ],
             [
              0.3333333333333333,
              "#9c179e"
             ],
             [
              0.4444444444444444,
              "#bd3786"
             ],
             [
              0.5555555555555556,
              "#d8576b"
             ],
             [
              0.6666666666666666,
              "#ed7953"
             ],
             [
              0.7777777777777778,
              "#fb9f3a"
             ],
             [
              0.8888888888888888,
              "#fdca26"
             ],
             [
              1,
              "#f0f921"
             ]
            ],
            "type": "heatmapgl"
           }
          ],
          "histogram": [
           {
            "marker": {
             "pattern": {
              "fillmode": "overlay",
              "size": 10,
              "solidity": 0.2
             }
            },
            "type": "histogram"
           }
          ],
          "histogram2d": [
           {
            "colorbar": {
             "outlinewidth": 0,
             "ticks": ""
            },
            "colorscale": [
             [
              0,
              "#0d0887"
             ],
             [
              0.1111111111111111,
              "#46039f"
             ],
             [
              0.2222222222222222,
              "#7201a8"
             ],
             [
              0.3333333333333333,
              "#9c179e"
             ],
             [
              0.4444444444444444,
              "#bd3786"
             ],
             [
              0.5555555555555556,
              "#d8576b"
             ],
             [
              0.6666666666666666,
              "#ed7953"
             ],
             [
              0.7777777777777778,
              "#fb9f3a"
             ],
             [
              0.8888888888888888,
              "#fdca26"
             ],
             [
              1,
              "#f0f921"
             ]
            ],
            "type": "histogram2d"
           }
          ],
          "histogram2dcontour": [
           {
            "colorbar": {
             "outlinewidth": 0,
             "ticks": ""
            },
            "colorscale": [
             [
              0,
              "#0d0887"
             ],
             [
              0.1111111111111111,
              "#46039f"
             ],
             [
              0.2222222222222222,
              "#7201a8"
             ],
             [
              0.3333333333333333,
              "#9c179e"
             ],
             [
              0.4444444444444444,
              "#bd3786"
             ],
             [
              0.5555555555555556,
              "#d8576b"
             ],
             [
              0.6666666666666666,
              "#ed7953"
             ],
             [
              0.7777777777777778,
              "#fb9f3a"
             ],
             [
              0.8888888888888888,
              "#fdca26"
             ],
             [
              1,
              "#f0f921"
             ]
            ],
            "type": "histogram2dcontour"
           }
          ],
          "mesh3d": [
           {
            "colorbar": {
             "outlinewidth": 0,
             "ticks": ""
            },
            "type": "mesh3d"
           }
          ],
          "parcoords": [
           {
            "line": {
             "colorbar": {
              "outlinewidth": 0,
              "ticks": ""
             }
            },
            "type": "parcoords"
           }
          ],
          "pie": [
           {
            "automargin": true,
            "type": "pie"
           }
          ],
          "scatter": [
           {
            "marker": {
             "colorbar": {
              "outlinewidth": 0,
              "ticks": ""
             }
            },
            "type": "scatter"
           }
          ],
          "scatter3d": [
           {
            "line": {
             "colorbar": {
              "outlinewidth": 0,
              "ticks": ""
             }
            },
            "marker": {
             "colorbar": {
              "outlinewidth": 0,
              "ticks": ""
             }
            },
            "type": "scatter3d"
           }
          ],
          "scattercarpet": [
           {
            "marker": {
             "colorbar": {
              "outlinewidth": 0,
              "ticks": ""
             }
            },
            "type": "scattercarpet"
           }
          ],
          "scattergeo": [
           {
            "marker": {
             "colorbar": {
              "outlinewidth": 0,
              "ticks": ""
             }
            },
            "type": "scattergeo"
           }
          ],
          "scattergl": [
           {
            "marker": {
             "colorbar": {
              "outlinewidth": 0,
              "ticks": ""
             }
            },
            "type": "scattergl"
           }
          ],
          "scattermapbox": [
           {
            "marker": {
             "colorbar": {
              "outlinewidth": 0,
              "ticks": ""
             }
            },
            "type": "scattermapbox"
           }
          ],
          "scatterpolar": [
           {
            "marker": {
             "colorbar": {
              "outlinewidth": 0,
              "ticks": ""
             }
            },
            "type": "scatterpolar"
           }
          ],
          "scatterpolargl": [
           {
            "marker": {
             "colorbar": {
              "outlinewidth": 0,
              "ticks": ""
             }
            },
            "type": "scatterpolargl"
           }
          ],
          "scatterternary": [
           {
            "marker": {
             "colorbar": {
              "outlinewidth": 0,
              "ticks": ""
             }
            },
            "type": "scatterternary"
           }
          ],
          "surface": [
           {
            "colorbar": {
             "outlinewidth": 0,
             "ticks": ""
            },
            "colorscale": [
             [
              0,
              "#0d0887"
             ],
             [
              0.1111111111111111,
              "#46039f"
             ],
             [
              0.2222222222222222,
              "#7201a8"
             ],
             [
              0.3333333333333333,
              "#9c179e"
             ],
             [
              0.4444444444444444,
              "#bd3786"
             ],
             [
              0.5555555555555556,
              "#d8576b"
             ],
             [
              0.6666666666666666,
              "#ed7953"
             ],
             [
              0.7777777777777778,
              "#fb9f3a"
             ],
             [
              0.8888888888888888,
              "#fdca26"
             ],
             [
              1,
              "#f0f921"
             ]
            ],
            "type": "surface"
           }
          ],
          "table": [
           {
            "cells": {
             "fill": {
              "color": "#EBF0F8"
             },
             "line": {
              "color": "white"
             }
            },
            "header": {
             "fill": {
              "color": "#C8D4E3"
             },
             "line": {
              "color": "white"
             }
            },
            "type": "table"
           }
          ]
         },
         "layout": {
          "annotationdefaults": {
           "arrowcolor": "#2a3f5f",
           "arrowhead": 0,
           "arrowwidth": 1
          },
          "autotypenumbers": "strict",
          "coloraxis": {
           "colorbar": {
            "outlinewidth": 0,
            "ticks": ""
           }
          },
          "colorscale": {
           "diverging": [
            [
             0,
             "#8e0152"
            ],
            [
             0.1,
             "#c51b7d"
            ],
            [
             0.2,
             "#de77ae"
            ],
            [
             0.3,
             "#f1b6da"
            ],
            [
             0.4,
             "#fde0ef"
            ],
            [
             0.5,
             "#f7f7f7"
            ],
            [
             0.6,
             "#e6f5d0"
            ],
            [
             0.7,
             "#b8e186"
            ],
            [
             0.8,
             "#7fbc41"
            ],
            [
             0.9,
             "#4d9221"
            ],
            [
             1,
             "#276419"
            ]
           ],
           "sequential": [
            [
             0,
             "#0d0887"
            ],
            [
             0.1111111111111111,
             "#46039f"
            ],
            [
             0.2222222222222222,
             "#7201a8"
            ],
            [
             0.3333333333333333,
             "#9c179e"
            ],
            [
             0.4444444444444444,
             "#bd3786"
            ],
            [
             0.5555555555555556,
             "#d8576b"
            ],
            [
             0.6666666666666666,
             "#ed7953"
            ],
            [
             0.7777777777777778,
             "#fb9f3a"
            ],
            [
             0.8888888888888888,
             "#fdca26"
            ],
            [
             1,
             "#f0f921"
            ]
           ],
           "sequentialminus": [
            [
             0,
             "#0d0887"
            ],
            [
             0.1111111111111111,
             "#46039f"
            ],
            [
             0.2222222222222222,
             "#7201a8"
            ],
            [
             0.3333333333333333,
             "#9c179e"
            ],
            [
             0.4444444444444444,
             "#bd3786"
            ],
            [
             0.5555555555555556,
             "#d8576b"
            ],
            [
             0.6666666666666666,
             "#ed7953"
            ],
            [
             0.7777777777777778,
             "#fb9f3a"
            ],
            [
             0.8888888888888888,
             "#fdca26"
            ],
            [
             1,
             "#f0f921"
            ]
           ]
          },
          "colorway": [
           "#636efa",
           "#EF553B",
           "#00cc96",
           "#ab63fa",
           "#FFA15A",
           "#19d3f3",
           "#FF6692",
           "#B6E880",
           "#FF97FF",
           "#FECB52"
          ],
          "font": {
           "color": "#2a3f5f"
          },
          "geo": {
           "bgcolor": "white",
           "lakecolor": "white",
           "landcolor": "#E5ECF6",
           "showlakes": true,
           "showland": true,
           "subunitcolor": "white"
          },
          "hoverlabel": {
           "align": "left"
          },
          "hovermode": "closest",
          "mapbox": {
           "style": "light"
          },
          "paper_bgcolor": "white",
          "plot_bgcolor": "#E5ECF6",
          "polar": {
           "angularaxis": {
            "gridcolor": "white",
            "linecolor": "white",
            "ticks": ""
           },
           "bgcolor": "#E5ECF6",
           "radialaxis": {
            "gridcolor": "white",
            "linecolor": "white",
            "ticks": ""
           }
          },
          "scene": {
           "xaxis": {
            "backgroundcolor": "#E5ECF6",
            "gridcolor": "white",
            "gridwidth": 2,
            "linecolor": "white",
            "showbackground": true,
            "ticks": "",
            "zerolinecolor": "white"
           },
           "yaxis": {
            "backgroundcolor": "#E5ECF6",
            "gridcolor": "white",
            "gridwidth": 2,
            "linecolor": "white",
            "showbackground": true,
            "ticks": "",
            "zerolinecolor": "white"
           },
           "zaxis": {
            "backgroundcolor": "#E5ECF6",
            "gridcolor": "white",
            "gridwidth": 2,
            "linecolor": "white",
            "showbackground": true,
            "ticks": "",
            "zerolinecolor": "white"
           }
          },
          "shapedefaults": {
           "line": {
            "color": "#2a3f5f"
           }
          },
          "ternary": {
           "aaxis": {
            "gridcolor": "white",
            "linecolor": "white",
            "ticks": ""
           },
           "baxis": {
            "gridcolor": "white",
            "linecolor": "white",
            "ticks": ""
           },
           "bgcolor": "#E5ECF6",
           "caxis": {
            "gridcolor": "white",
            "linecolor": "white",
            "ticks": ""
           }
          },
          "title": {
           "x": 0.05
          },
          "xaxis": {
           "automargin": true,
           "gridcolor": "white",
           "linecolor": "white",
           "ticks": "",
           "title": {
            "standoff": 15
           },
           "zerolinecolor": "white",
           "zerolinewidth": 2
          },
          "yaxis": {
           "automargin": true,
           "gridcolor": "white",
           "linecolor": "white",
           "ticks": "",
           "title": {
            "standoff": 15
           },
           "zerolinecolor": "white",
           "zerolinewidth": 2
          }
         }
        },
        "xaxis": {
         "anchor": "y",
         "domain": [
          0,
          1
         ],
         "title": {
          "text": "platform"
         }
        },
        "yaxis": {
         "anchor": "x",
         "domain": [
          0,
          1
         ],
         "title": {
          "text": "total_sales"
         }
        }
       }
      },
      "text/html": [
       "<div>                            <div id=\"57b37732-55a9-4ed7-881b-f5afc15d0b59\" class=\"plotly-graph-div\" style=\"height:525px; width:100%;\"></div>            <script type=\"text/javascript\">                require([\"plotly\"], function(Plotly) {                    window.PLOTLYENV=window.PLOTLYENV || {};                                    if (document.getElementById(\"57b37732-55a9-4ed7-881b-f5afc15d0b59\")) {                    Plotly.newPlot(                        \"57b37732-55a9-4ed7-881b-f5afc15d0b59\",                        [{\"alignmentgroup\":\"True\",\"hovertemplate\":\"year_of_release=1980<br>platform=%{x}<br>total_sales=%{y}<extra></extra>\",\"legendgroup\":\"1980\",\"marker\":{\"color\":\"#636efa\",\"pattern\":{\"shape\":\"\"}},\"name\":\"1980\",\"offsetgroup\":\"1980\",\"orientation\":\"v\",\"showlegend\":false,\"textposition\":\"auto\",\"x\":[\"2600\"],\"xaxis\":\"x\",\"y\":[11.379999999999999],\"yaxis\":\"y\",\"type\":\"bar\"},{\"alignmentgroup\":\"True\",\"hovertemplate\":\"year_of_release=1981<br>platform=%{x}<br>total_sales=%{y}<extra></extra>\",\"legendgroup\":\"1981\",\"marker\":{\"color\":\"#EF553B\",\"pattern\":{\"shape\":\"\"}},\"name\":\"1981\",\"offsetgroup\":\"1981\",\"orientation\":\"v\",\"showlegend\":false,\"textposition\":\"auto\",\"x\":[\"2600\"],\"xaxis\":\"x\",\"y\":[35.68],\"yaxis\":\"y\",\"type\":\"bar\"},{\"alignmentgroup\":\"True\",\"hovertemplate\":\"year_of_release=1982<br>platform=%{x}<br>total_sales=%{y}<extra></extra>\",\"legendgroup\":\"1982\",\"marker\":{\"color\":\"#00cc96\",\"pattern\":{\"shape\":\"\"}},\"name\":\"1982\",\"offsetgroup\":\"1982\",\"orientation\":\"v\",\"showlegend\":false,\"textposition\":\"auto\",\"x\":[\"2600\"],\"xaxis\":\"x\",\"y\":[28.880000000000003],\"yaxis\":\"y\",\"type\":\"bar\"},{\"alignmentgroup\":\"True\",\"hovertemplate\":\"year_of_release=1983<br>platform=%{x}<br>total_sales=%{y}<extra></extra>\",\"legendgroup\":\"1983\",\"marker\":{\"color\":\"#ab63fa\",\"pattern\":{\"shape\":\"\"}},\"name\":\"1983\",\"offsetgroup\":\"1983\",\"orientation\":\"v\",\"showlegend\":false,\"textposition\":\"auto\",\"x\":[\"2600\",\"NES\"],\"xaxis\":\"x\",\"y\":[5.84,10.96],\"yaxis\":\"y\",\"type\":\"bar\"},{\"alignmentgroup\":\"True\",\"hovertemplate\":\"year_of_release=1984<br>platform=%{x}<br>total_sales=%{y}<extra></extra>\",\"legendgroup\":\"1984\",\"marker\":{\"color\":\"#FFA15A\",\"pattern\":{\"shape\":\"\"}},\"name\":\"1984\",\"offsetgroup\":\"1984\",\"orientation\":\"v\",\"showlegend\":false,\"textposition\":\"auto\",\"x\":[\"2600\",\"NES\"],\"xaxis\":\"x\",\"y\":[0.27,50.08],\"yaxis\":\"y\",\"type\":\"bar\"},{\"alignmentgroup\":\"True\",\"hovertemplate\":\"year_of_release=1985<br>platform=%{x}<br>total_sales=%{y}<extra></extra>\",\"legendgroup\":\"1985\",\"marker\":{\"color\":\"#19d3f3\",\"pattern\":{\"shape\":\"\"}},\"name\":\"1985\",\"offsetgroup\":\"1985\",\"orientation\":\"v\",\"showlegend\":false,\"textposition\":\"auto\",\"x\":[\"2600\",\"DS\",\"NES\",\"PC\"],\"xaxis\":\"x\",\"y\":[0.44999999999999996,0.02,53.440000000000005,0.04],\"yaxis\":\"y\",\"type\":\"bar\"},{\"alignmentgroup\":\"True\",\"hovertemplate\":\"year_of_release=1986<br>platform=%{x}<br>total_sales=%{y}<extra></extra>\",\"legendgroup\":\"1986\",\"marker\":{\"color\":\"#FF6692\",\"pattern\":{\"shape\":\"\"}},\"name\":\"1986\",\"offsetgroup\":\"1986\",\"orientation\":\"v\",\"showlegend\":false,\"textposition\":\"auto\",\"x\":[\"2600\",\"NES\"],\"xaxis\":\"x\",\"y\":[0.67,36.41],\"yaxis\":\"y\",\"type\":\"bar\"},{\"alignmentgroup\":\"True\",\"hovertemplate\":\"year_of_release=1987<br>platform=%{x}<br>total_sales=%{y}<extra></extra>\",\"legendgroup\":\"1987\",\"marker\":{\"color\":\"#B6E880\",\"pattern\":{\"shape\":\"\"}},\"name\":\"1987\",\"offsetgroup\":\"1987\",\"orientation\":\"v\",\"showlegend\":false,\"textposition\":\"auto\",\"x\":[\"2600\",\"NES\"],\"xaxis\":\"x\",\"y\":[1.94,19.759999999999998],\"yaxis\":\"y\",\"type\":\"bar\"},{\"alignmentgroup\":\"True\",\"hovertemplate\":\"year_of_release=1988<br>platform=%{x}<br>total_sales=%{y}<extra></extra>\",\"legendgroup\":\"1988\",\"marker\":{\"color\":\"#FF97FF\",\"pattern\":{\"shape\":\"\"}},\"name\":\"1988\",\"offsetgroup\":\"1988\",\"orientation\":\"v\",\"showlegend\":false,\"textposition\":\"auto\",\"x\":[\"2600\",\"GB\",\"NES\",\"PC\"],\"xaxis\":\"x\",\"y\":[0.74,1.43,45.010000000000005,0.03],\"yaxis\":\"y\",\"type\":\"bar\"},{\"alignmentgroup\":\"True\",\"hovertemplate\":\"year_of_release=1989<br>platform=%{x}<br>total_sales=%{y}<extra></extra>\",\"legendgroup\":\"1989\",\"marker\":{\"color\":\"#FECB52\",\"pattern\":{\"shape\":\"\"}},\"name\":\"1989\",\"offsetgroup\":\"1989\",\"orientation\":\"v\",\"showlegend\":false,\"textposition\":\"auto\",\"x\":[\"2600\",\"GB\",\"NES\"],\"xaxis\":\"x\",\"y\":[0.6300000000000001,64.97,7.85],\"yaxis\":\"y\",\"type\":\"bar\"},{\"alignmentgroup\":\"True\",\"hovertemplate\":\"year_of_release=1994<br>platform=%{x}<br>total_sales=%{y}<extra></extra>\",\"legendgroup\":\"1994\",\"marker\":{\"color\":\"#636efa\",\"pattern\":{\"shape\":\"\"}},\"name\":\"1994\",\"offsetgroup\":\"1994\",\"orientation\":\"v\",\"showlegend\":false,\"textposition\":\"auto\",\"x\":[\"3DO\",\"GB\",\"GEN\",\"NES\",\"NG\",\"PC\",\"PS\",\"SAT\",\"SCD\",\"SNES\"],\"xaxis\":\"x\",\"y\":[0.02,12.18,8.129999999999999,0.11,0.8,12.87,6.03,3.65,0.36000000000000004,35.08],\"yaxis\":\"y\",\"type\":\"bar\"},{\"alignmentgroup\":\"True\",\"hovertemplate\":\"year_of_release=1995<br>platform=%{x}<br>total_sales=%{y}<extra></extra>\",\"legendgroup\":\"1995\",\"marker\":{\"color\":\"#EF553B\",\"pattern\":{\"shape\":\"\"}},\"name\":\"1995\",\"offsetgroup\":\"1995\",\"orientation\":\"v\",\"showlegend\":false,\"textposition\":\"auto\",\"x\":[\"3DO\",\"GB\",\"NG\",\"PC\",\"PS\",\"SAT\",\"SNES\",\"TG16\"],\"xaxis\":\"x\",\"y\":[0.08,3.5999999999999996,0.33,4.22,35.96,11.57,32.199999999999996,0.16],\"yaxis\":\"y\",\"type\":\"bar\"},{\"alignmentgroup\":\"True\",\"hovertemplate\":\"year_of_release=2010<br>platform=%{x}<br>total_sales=%{y}<extra></extra>\",\"legendgroup\":\"2010\",\"marker\":{\"color\":\"#00cc96\",\"pattern\":{\"shape\":\"\"}},\"name\":\"2010\",\"offsetgroup\":\"2010\",\"orientation\":\"v\",\"showlegend\":false,\"textposition\":\"auto\",\"x\":[\"3DS\",\"DS\",\"PC\",\"PS2\",\"PS3\",\"PSP\",\"Wii\",\"X360\"],\"xaxis\":\"x\",\"y\":[0.30000000000000004,85.35000000000001,26.15,5.64,142.74,35.04,128.67000000000002,170.55],\"yaxis\":\"y\",\"type\":\"bar\"},{\"alignmentgroup\":\"True\",\"hovertemplate\":\"year_of_release=2011<br>platform=%{x}<br>total_sales=%{y}<extra></extra>\",\"legendgroup\":\"2011\",\"marker\":{\"color\":\"#ab63fa\",\"pattern\":{\"shape\":\"\"}},\"name\":\"2011\",\"offsetgroup\":\"2011\",\"orientation\":\"v\",\"showlegend\":false,\"textposition\":\"auto\",\"x\":[\"3DS\",\"DS\",\"PC\",\"PS2\",\"PS3\",\"PSP\",\"PSV\",\"Wii\",\"X360\"],\"xaxis\":\"x\",\"y\":[63.199999999999996,26.23,35.14,0.45,157.84,17.82,4.63,59.7,145.06],\"yaxis\":\"y\",\"type\":\"bar\"},{\"alignmentgroup\":\"True\",\"hovertemplate\":\"year_of_release=2012<br>platform=%{x}<br>total_sales=%{y}<extra></extra>\",\"legendgroup\":\"2012\",\"marker\":{\"color\":\"#FFA15A\",\"pattern\":{\"shape\":\"\"}},\"name\":\"2012\",\"offsetgroup\":\"2012\",\"orientation\":\"v\",\"showlegend\":false,\"textposition\":\"auto\",\"x\":[\"3DS\",\"DS\",\"PC\",\"PS3\",\"PSP\",\"PSV\",\"Wii\",\"WiiU\",\"X360\"],\"xaxis\":\"x\",\"y\":[51.760000000000005,11.67,23.45,108.28,7.95,16.19,22.94,17.560000000000002,100.71000000000001],\"yaxis\":\"y\",\"type\":\"bar\"},{\"alignmentgroup\":\"True\",\"hovertemplate\":\"year_of_release=2013<br>platform=%{x}<br>total_sales=%{y}<extra></extra>\",\"legendgroup\":\"2013\",\"marker\":{\"color\":\"#19d3f3\",\"pattern\":{\"shape\":\"\"}},\"name\":\"2013\",\"offsetgroup\":\"2013\",\"orientation\":\"v\",\"showlegend\":false,\"textposition\":\"auto\",\"x\":[\"3DS\",\"DS\",\"PC\",\"PS3\",\"PS4\",\"PSP\",\"PSV\",\"Wii\",\"WiiU\",\"X360\",\"XOne\"],\"xaxis\":\"x\",\"y\":[56.57,1.54,12.66,113.25,25.99,3.38,10.59,8.59,21.650000000000002,88.58,18.96],\"yaxis\":\"y\",\"type\":\"bar\"},{\"alignmentgroup\":\"True\",\"hovertemplate\":\"year_of_release=2014<br>platform=%{x}<br>total_sales=%{y}<extra></extra>\",\"legendgroup\":\"2014\",\"marker\":{\"color\":\"#FF6692\",\"pattern\":{\"shape\":\"\"}},\"name\":\"2014\",\"offsetgroup\":\"2014\",\"orientation\":\"v\",\"showlegend\":false,\"textposition\":\"auto\",\"x\":[\"3DS\",\"PC\",\"PS3\",\"PS4\",\"PSP\",\"PSV\",\"Wii\",\"WiiU\",\"X360\",\"XOne\"],\"xaxis\":\"x\",\"y\":[43.76,13.280000000000001,47.760000000000005,100.0,0.24,11.9,3.75,22.03,34.74,54.07],\"yaxis\":\"y\",\"type\":\"bar\"},{\"alignmentgroup\":\"True\",\"hovertemplate\":\"year_of_release=2015<br>platform=%{x}<br>total_sales=%{y}<extra></extra>\",\"legendgroup\":\"2015\",\"marker\":{\"color\":\"#B6E880\",\"pattern\":{\"shape\":\"\"}},\"name\":\"2015\",\"offsetgroup\":\"2015\",\"orientation\":\"v\",\"showlegend\":false,\"textposition\":\"auto\",\"x\":[\"3DS\",\"PC\",\"PS3\",\"PS4\",\"PSP\",\"PSV\",\"Wii\",\"WiiU\",\"X360\",\"XOne\"],\"xaxis\":\"x\",\"y\":[27.78,8.520000000000001,16.82,118.9,0.12,6.25,1.14,16.35,11.959999999999999,60.14],\"yaxis\":\"y\",\"type\":\"bar\"},{\"alignmentgroup\":\"True\",\"hovertemplate\":\"year_of_release=2016<br>platform=%{x}<br>total_sales=%{y}<extra></extra>\",\"legendgroup\":\"2016\",\"marker\":{\"color\":\"#FF97FF\",\"pattern\":{\"shape\":\"\"}},\"name\":\"2016\",\"offsetgroup\":\"2016\",\"orientation\":\"v\",\"showlegend\":false,\"textposition\":\"auto\",\"x\":[\"3DS\",\"PC\",\"PS3\",\"PS4\",\"PSV\",\"Wii\",\"WiiU\",\"X360\",\"XOne\"],\"xaxis\":\"x\",\"y\":[15.14,5.25,3.6,69.25,4.25,0.18,4.6000000000000005,1.52,26.150000000000002],\"yaxis\":\"y\",\"type\":\"bar\"},{\"alignmentgroup\":\"True\",\"hovertemplate\":\"year_of_release=1998<br>platform=%{x}<br>total_sales=%{y}<extra></extra>\",\"legendgroup\":\"1998\",\"marker\":{\"color\":\"#FECB52\",\"pattern\":{\"shape\":\"\"}},\"name\":\"1998\",\"offsetgroup\":\"1998\",\"orientation\":\"v\",\"showlegend\":false,\"textposition\":\"auto\",\"x\":[\"DC\",\"GB\",\"N64\",\"PC\",\"PS\",\"SAT\",\"SNES\"],\"xaxis\":\"x\",\"y\":[3.3800000000000003,26.9,49.24,3.2600000000000002,169.49,3.82,0.22000000000000003],\"yaxis\":\"y\",\"type\":\"bar\"},{\"alignmentgroup\":\"True\",\"hovertemplate\":\"year_of_release=1999<br>platform=%{x}<br>total_sales=%{y}<extra></extra>\",\"legendgroup\":\"1999\",\"marker\":{\"color\":\"#636efa\",\"pattern\":{\"shape\":\"\"}},\"name\":\"1999\",\"offsetgroup\":\"1999\",\"orientation\":\"v\",\"showlegend\":false,\"textposition\":\"auto\",\"x\":[\"DC\",\"GB\",\"N64\",\"PC\",\"PS\",\"SAT\",\"SNES\",\"WS\"],\"xaxis\":\"x\",\"y\":[5.16,38.0,57.87,4.74,144.53,0.09,0.26,0.46],\"yaxis\":\"y\",\"type\":\"bar\"},{\"alignmentgroup\":\"True\",\"hovertemplate\":\"year_of_release=2000<br>platform=%{x}<br>total_sales=%{y}<extra></extra>\",\"legendgroup\":\"2000\",\"marker\":{\"color\":\"#EF553B\",\"pattern\":{\"shape\":\"\"}},\"name\":\"2000\",\"offsetgroup\":\"2000\",\"orientation\":\"v\",\"showlegend\":false,\"textposition\":\"auto\",\"x\":[\"DC\",\"GB\",\"GBA\",\"N64\",\"PC\",\"PS\",\"PS2\",\"WS\",\"XB\"],\"xaxis\":\"x\",\"y\":[5.99,19.76,0.07,33.97,4.659999999999999,96.37,39.17,0.68,0.99],\"yaxis\":\"y\",\"type\":\"bar\"},{\"alignmentgroup\":\"True\",\"hovertemplate\":\"year_of_release=2001<br>platform=%{x}<br>total_sales=%{y}<extra></extra>\",\"legendgroup\":\"2001\",\"marker\":{\"color\":\"#00cc96\",\"pattern\":{\"shape\":\"\"}},\"name\":\"2001\",\"offsetgroup\":\"2001\",\"orientation\":\"v\",\"showlegend\":false,\"textposition\":\"auto\",\"x\":[\"DC\",\"GB\",\"GBA\",\"GC\",\"N64\",\"PC\",\"PS\",\"PS2\",\"WS\",\"XB\"],\"xaxis\":\"x\",\"y\":[1.07,9.24,61.53,26.62,3.25,5.470000000000001,35.59,166.43,0.28,22.84],\"yaxis\":\"y\",\"type\":\"bar\"},{\"alignmentgroup\":\"True\",\"hovertemplate\":\"year_of_release=2002<br>platform=%{x}<br>total_sales=%{y}<extra></extra>\",\"legendgroup\":\"2002\",\"marker\":{\"color\":\"#ab63fa\",\"pattern\":{\"shape\":\"\"}},\"name\":\"2002\",\"offsetgroup\":\"2002\",\"orientation\":\"v\",\"showlegend\":false,\"textposition\":\"auto\",\"x\":[\"DC\",\"GBA\",\"GC\",\"N64\",\"PC\",\"PS\",\"PS2\",\"XB\"],\"xaxis\":\"x\",\"y\":[0.29,74.16,52.29,0.08,8.57,6.67,208.36,50.760000000000005],\"yaxis\":\"y\",\"type\":\"bar\"},{\"alignmentgroup\":\"True\",\"hovertemplate\":\"year_of_release=2007<br>platform=%{x}<br>total_sales=%{y}<extra></extra>\",\"legendgroup\":\"2007\",\"marker\":{\"color\":\"#FFA15A\",\"pattern\":{\"shape\":\"\"}},\"name\":\"2007\",\"offsetgroup\":\"2007\",\"orientation\":\"v\",\"showlegend\":false,\"textposition\":\"auto\",\"x\":[\"DC\",\"DS\",\"GBA\",\"GC\",\"PC\",\"PS2\",\"PS3\",\"PSP\",\"Wii\",\"X360\",\"XB\"],\"xaxis\":\"x\",\"y\":[0.02,147.23,3.4,0.27,9.28,76.1,73.19,47.300000000000004,153.38,95.41,0.55],\"yaxis\":\"y\",\"type\":\"bar\"},{\"alignmentgroup\":\"True\",\"hovertemplate\":\"year_of_release=2008<br>platform=%{x}<br>total_sales=%{y}<extra></extra>\",\"legendgroup\":\"2008\",\"marker\":{\"color\":\"#19d3f3\",\"pattern\":{\"shape\":\"\"}},\"name\":\"2008\",\"offsetgroup\":\"2008\",\"orientation\":\"v\",\"showlegend\":false,\"textposition\":\"auto\",\"x\":[\"DC\",\"DS\",\"PC\",\"PS2\",\"PS3\",\"PSP\",\"Wii\",\"X360\",\"XB\"],\"xaxis\":\"x\",\"y\":[0.04,145.36,12.46,53.9,118.78999999999999,35.96,177.68,136.07,0.18000000000000002],\"yaxis\":\"y\",\"type\":\"bar\"},{\"alignmentgroup\":\"True\",\"hovertemplate\":\"year_of_release=2004<br>platform=%{x}<br>total_sales=%{y}<extra></extra>\",\"legendgroup\":\"2004\",\"marker\":{\"color\":\"#FF6692\",\"pattern\":{\"shape\":\"\"}},\"name\":\"2004\",\"offsetgroup\":\"2004\",\"orientation\":\"v\",\"showlegend\":false,\"textposition\":\"auto\",\"x\":[\"DS\",\"GBA\",\"GC\",\"N64\",\"PC\",\"PS2\",\"PSP\",\"XB\"],\"xaxis\":\"x\",\"y\":[17.27,77.91,28.82,0.32999999999999996,10.39,211.81,7.0600000000000005,65.97],\"yaxis\":\"y\",\"type\":\"bar\"},{\"alignmentgroup\":\"True\",\"hovertemplate\":\"year_of_release=2005<br>platform=%{x}<br>total_sales=%{y}<extra></extra>\",\"legendgroup\":\"2005\",\"marker\":{\"color\":\"#B6E880\",\"pattern\":{\"shape\":\"\"}},\"name\":\"2005\",\"offsetgroup\":\"2005\",\"orientation\":\"v\",\"showlegend\":false,\"textposition\":\"auto\",\"x\":[\"DS\",\"GBA\",\"GC\",\"PC\",\"PS2\",\"PS3\",\"PSP\",\"X360\",\"XB\"],\"xaxis\":\"x\",\"y\":[130.14,34.53,27.91,4.38,160.91,0.19000000000000003,43.84,9.22,49.09],\"yaxis\":\"y\",\"type\":\"bar\"},{\"alignmentgroup\":\"True\",\"hovertemplate\":\"year_of_release=2006<br>platform=%{x}<br>total_sales=%{y}<extra></extra>\",\"legendgroup\":\"2006\",\"marker\":{\"color\":\"#FF97FF\",\"pattern\":{\"shape\":\"\"}},\"name\":\"2006\",\"offsetgroup\":\"2006\",\"orientation\":\"v\",\"showlegend\":false,\"textposition\":\"auto\",\"x\":[\"DS\",\"GBA\",\"GC\",\"PC\",\"PS2\",\"PS3\",\"PSP\",\"Wii\",\"X360\",\"XB\"],\"xaxis\":\"x\",\"y\":[119.81,5.46,11.55,2.85,103.99,21.439999999999998,56.28,140.19,51.79,10.040000000000001],\"yaxis\":\"y\",\"type\":\"bar\"},{\"alignmentgroup\":\"True\",\"hovertemplate\":\"year_of_release=2009<br>platform=%{x}<br>total_sales=%{y}<extra></extra>\",\"legendgroup\":\"2009\",\"marker\":{\"color\":\"#FECB52\",\"pattern\":{\"shape\":\"\"}},\"name\":\"2009\",\"offsetgroup\":\"2009\",\"orientation\":\"v\",\"showlegend\":false,\"textposition\":\"auto\",\"x\":[\"DS\",\"PC\",\"PS2\",\"PS3\",\"PSP\",\"Wii\",\"X360\"],\"xaxis\":\"x\",\"y\":[119.56,17.05,26.4,130.93,37.78,206.97,120.82],\"yaxis\":\"y\",\"type\":\"bar\"},{\"alignmentgroup\":\"True\",\"hovertemplate\":\"year_of_release=1990<br>platform=%{x}<br>total_sales=%{y}<extra></extra>\",\"legendgroup\":\"1990\",\"marker\":{\"color\":\"#636efa\",\"pattern\":{\"shape\":\"\"}},\"name\":\"1990\",\"offsetgroup\":\"1990\",\"orientation\":\"v\",\"showlegend\":false,\"textposition\":\"auto\",\"x\":[\"GB\",\"GEN\",\"NES\",\"SNES\"],\"xaxis\":\"x\",\"y\":[4.89,2.6,15.729999999999999,26.150000000000002],\"yaxis\":\"y\",\"type\":\"bar\"},{\"alignmentgroup\":\"True\",\"hovertemplate\":\"year_of_release=1991<br>platform=%{x}<br>total_sales=%{y}<extra></extra>\",\"legendgroup\":\"1991\",\"marker\":{\"color\":\"#EF553B\",\"pattern\":{\"shape\":\"\"}},\"name\":\"1991\",\"offsetgroup\":\"1991\",\"orientation\":\"v\",\"showlegend\":false,\"textposition\":\"auto\",\"x\":[\"GB\",\"GEN\",\"NES\",\"SNES\"],\"xaxis\":\"x\",\"y\":[5.57,4.33,6.109999999999999,16.220000000000002],\"yaxis\":\"y\",\"type\":\"bar\"},{\"alignmentgroup\":\"True\",\"hovertemplate\":\"year_of_release=1992<br>platform=%{x}<br>total_sales=%{y}<extra></extra>\",\"legendgroup\":\"1992\",\"marker\":{\"color\":\"#00cc96\",\"pattern\":{\"shape\":\"\"}},\"name\":\"1992\",\"offsetgroup\":\"1992\",\"orientation\":\"v\",\"showlegend\":false,\"textposition\":\"auto\",\"x\":[\"GB\",\"GEN\",\"GG\",\"NES\",\"PC\",\"SNES\"],\"xaxis\":\"x\",\"y\":[25.49,12.64,0.04,1.9800000000000002,3.0300000000000002,32.98],\"yaxis\":\"y\",\"type\":\"bar\"},{\"alignmentgroup\":\"True\",\"hovertemplate\":\"year_of_release=1996<br>platform=%{x}<br>total_sales=%{y}<extra></extra>\",\"legendgroup\":\"1996\",\"marker\":{\"color\":\"#ab63fa\",\"pattern\":{\"shape\":\"\"}},\"name\":\"1996\",\"offsetgroup\":\"1996\",\"orientation\":\"v\",\"showlegend\":false,\"textposition\":\"auto\",\"x\":[\"GB\",\"N64\",\"NG\",\"PC\",\"PCFX\",\"PS\",\"SAT\",\"SNES\"],\"xaxis\":\"x\",\"y\":[36.03,34.1,0.1,10.58,0.03,94.7,7.69,15.92],\"yaxis\":\"y\",\"type\":\"bar\"},{\"alignmentgroup\":\"True\",\"hovertemplate\":\"year_of_release=1997<br>platform=%{x}<br>total_sales=%{y}<extra></extra>\",\"legendgroup\":\"1997\",\"marker\":{\"color\":\"#FFA15A\",\"pattern\":{\"shape\":\"\"}},\"name\":\"1997\",\"offsetgroup\":\"1997\",\"orientation\":\"v\",\"showlegend\":false,\"textposition\":\"auto\",\"x\":[\"GB\",\"N64\",\"PC\",\"PS\",\"SAT\",\"SNES\"],\"xaxis\":\"x\",\"y\":[6.37,39.5,11.27,136.17000000000002,6.7700000000000005,0.99],\"yaxis\":\"y\",\"type\":\"bar\"},{\"alignmentgroup\":\"True\",\"hovertemplate\":\"year_of_release=2003<br>platform=%{x}<br>total_sales=%{y}<extra></extra>\",\"legendgroup\":\"2003\",\"marker\":{\"color\":\"#19d3f3\",\"pattern\":{\"shape\":\"\"}},\"name\":\"2003\",\"offsetgroup\":\"2003\",\"orientation\":\"v\",\"showlegend\":false,\"textposition\":\"auto\",\"x\":[\"GBA\",\"GC\",\"PC\",\"PS\",\"PS2\",\"XB\"],\"xaxis\":\"x\",\"y\":[56.67,51.2,8.89,2.0700000000000003,193.05,56.24],\"yaxis\":\"y\",\"type\":\"bar\"},{\"alignmentgroup\":\"True\",\"hovertemplate\":\"year_of_release=1993<br>platform=%{x}<br>total_sales=%{y}<extra></extra>\",\"legendgroup\":\"1993\",\"marker\":{\"color\":\"#FF6692\",\"pattern\":{\"shape\":\"\"}},\"name\":\"1993\",\"offsetgroup\":\"1993\",\"orientation\":\"v\",\"showlegend\":false,\"textposition\":\"auto\",\"x\":[\"GEN\",\"NES\",\"NG\",\"SCD\",\"SNES\"],\"xaxis\":\"x\",\"y\":[0.65,3.61,0.21000000000000002,1.5,40.02],\"yaxis\":\"y\",\"type\":\"bar\"}],                        {\"template\":{\"data\":{\"bar\":[{\"error_x\":{\"color\":\"#2a3f5f\"},\"error_y\":{\"color\":\"#2a3f5f\"},\"marker\":{\"line\":{\"color\":\"#E5ECF6\",\"width\":0.5},\"pattern\":{\"fillmode\":\"overlay\",\"size\":10,\"solidity\":0.2}},\"type\":\"bar\"}],\"barpolar\":[{\"marker\":{\"line\":{\"color\":\"#E5ECF6\",\"width\":0.5},\"pattern\":{\"fillmode\":\"overlay\",\"size\":10,\"solidity\":0.2}},\"type\":\"barpolar\"}],\"carpet\":[{\"aaxis\":{\"endlinecolor\":\"#2a3f5f\",\"gridcolor\":\"white\",\"linecolor\":\"white\",\"minorgridcolor\":\"white\",\"startlinecolor\":\"#2a3f5f\"},\"baxis\":{\"endlinecolor\":\"#2a3f5f\",\"gridcolor\":\"white\",\"linecolor\":\"white\",\"minorgridcolor\":\"white\",\"startlinecolor\":\"#2a3f5f\"},\"type\":\"carpet\"}],\"choropleth\":[{\"colorbar\":{\"outlinewidth\":0,\"ticks\":\"\"},\"type\":\"choropleth\"}],\"contour\":[{\"colorbar\":{\"outlinewidth\":0,\"ticks\":\"\"},\"colorscale\":[[0.0,\"#0d0887\"],[0.1111111111111111,\"#46039f\"],[0.2222222222222222,\"#7201a8\"],[0.3333333333333333,\"#9c179e\"],[0.4444444444444444,\"#bd3786\"],[0.5555555555555556,\"#d8576b\"],[0.6666666666666666,\"#ed7953\"],[0.7777777777777778,\"#fb9f3a\"],[0.8888888888888888,\"#fdca26\"],[1.0,\"#f0f921\"]],\"type\":\"contour\"}],\"contourcarpet\":[{\"colorbar\":{\"outlinewidth\":0,\"ticks\":\"\"},\"type\":\"contourcarpet\"}],\"heatmap\":[{\"colorbar\":{\"outlinewidth\":0,\"ticks\":\"\"},\"colorscale\":[[0.0,\"#0d0887\"],[0.1111111111111111,\"#46039f\"],[0.2222222222222222,\"#7201a8\"],[0.3333333333333333,\"#9c179e\"],[0.4444444444444444,\"#bd3786\"],[0.5555555555555556,\"#d8576b\"],[0.6666666666666666,\"#ed7953\"],[0.7777777777777778,\"#fb9f3a\"],[0.8888888888888888,\"#fdca26\"],[1.0,\"#f0f921\"]],\"type\":\"heatmap\"}],\"heatmapgl\":[{\"colorbar\":{\"outlinewidth\":0,\"ticks\":\"\"},\"colorscale\":[[0.0,\"#0d0887\"],[0.1111111111111111,\"#46039f\"],[0.2222222222222222,\"#7201a8\"],[0.3333333333333333,\"#9c179e\"],[0.4444444444444444,\"#bd3786\"],[0.5555555555555556,\"#d8576b\"],[0.6666666666666666,\"#ed7953\"],[0.7777777777777778,\"#fb9f3a\"],[0.8888888888888888,\"#fdca26\"],[1.0,\"#f0f921\"]],\"type\":\"heatmapgl\"}],\"histogram\":[{\"marker\":{\"pattern\":{\"fillmode\":\"overlay\",\"size\":10,\"solidity\":0.2}},\"type\":\"histogram\"}],\"histogram2d\":[{\"colorbar\":{\"outlinewidth\":0,\"ticks\":\"\"},\"colorscale\":[[0.0,\"#0d0887\"],[0.1111111111111111,\"#46039f\"],[0.2222222222222222,\"#7201a8\"],[0.3333333333333333,\"#9c179e\"],[0.4444444444444444,\"#bd3786\"],[0.5555555555555556,\"#d8576b\"],[0.6666666666666666,\"#ed7953\"],[0.7777777777777778,\"#fb9f3a\"],[0.8888888888888888,\"#fdca26\"],[1.0,\"#f0f921\"]],\"type\":\"histogram2d\"}],\"histogram2dcontour\":[{\"colorbar\":{\"outlinewidth\":0,\"ticks\":\"\"},\"colorscale\":[[0.0,\"#0d0887\"],[0.1111111111111111,\"#46039f\"],[0.2222222222222222,\"#7201a8\"],[0.3333333333333333,\"#9c179e\"],[0.4444444444444444,\"#bd3786\"],[0.5555555555555556,\"#d8576b\"],[0.6666666666666666,\"#ed7953\"],[0.7777777777777778,\"#fb9f3a\"],[0.8888888888888888,\"#fdca26\"],[1.0,\"#f0f921\"]],\"type\":\"histogram2dcontour\"}],\"mesh3d\":[{\"colorbar\":{\"outlinewidth\":0,\"ticks\":\"\"},\"type\":\"mesh3d\"}],\"parcoords\":[{\"line\":{\"colorbar\":{\"outlinewidth\":0,\"ticks\":\"\"}},\"type\":\"parcoords\"}],\"pie\":[{\"automargin\":true,\"type\":\"pie\"}],\"scatter\":[{\"marker\":{\"colorbar\":{\"outlinewidth\":0,\"ticks\":\"\"}},\"type\":\"scatter\"}],\"scatter3d\":[{\"line\":{\"colorbar\":{\"outlinewidth\":0,\"ticks\":\"\"}},\"marker\":{\"colorbar\":{\"outlinewidth\":0,\"ticks\":\"\"}},\"type\":\"scatter3d\"}],\"scattercarpet\":[{\"marker\":{\"colorbar\":{\"outlinewidth\":0,\"ticks\":\"\"}},\"type\":\"scattercarpet\"}],\"scattergeo\":[{\"marker\":{\"colorbar\":{\"outlinewidth\":0,\"ticks\":\"\"}},\"type\":\"scattergeo\"}],\"scattergl\":[{\"marker\":{\"colorbar\":{\"outlinewidth\":0,\"ticks\":\"\"}},\"type\":\"scattergl\"}],\"scattermapbox\":[{\"marker\":{\"colorbar\":{\"outlinewidth\":0,\"ticks\":\"\"}},\"type\":\"scattermapbox\"}],\"scatterpolar\":[{\"marker\":{\"colorbar\":{\"outlinewidth\":0,\"ticks\":\"\"}},\"type\":\"scatterpolar\"}],\"scatterpolargl\":[{\"marker\":{\"colorbar\":{\"outlinewidth\":0,\"ticks\":\"\"}},\"type\":\"scatterpolargl\"}],\"scatterternary\":[{\"marker\":{\"colorbar\":{\"outlinewidth\":0,\"ticks\":\"\"}},\"type\":\"scatterternary\"}],\"surface\":[{\"colorbar\":{\"outlinewidth\":0,\"ticks\":\"\"},\"colorscale\":[[0.0,\"#0d0887\"],[0.1111111111111111,\"#46039f\"],[0.2222222222222222,\"#7201a8\"],[0.3333333333333333,\"#9c179e\"],[0.4444444444444444,\"#bd3786\"],[0.5555555555555556,\"#d8576b\"],[0.6666666666666666,\"#ed7953\"],[0.7777777777777778,\"#fb9f3a\"],[0.8888888888888888,\"#fdca26\"],[1.0,\"#f0f921\"]],\"type\":\"surface\"}],\"table\":[{\"cells\":{\"fill\":{\"color\":\"#EBF0F8\"},\"line\":{\"color\":\"white\"}},\"header\":{\"fill\":{\"color\":\"#C8D4E3\"},\"line\":{\"color\":\"white\"}},\"type\":\"table\"}]},\"layout\":{\"annotationdefaults\":{\"arrowcolor\":\"#2a3f5f\",\"arrowhead\":0,\"arrowwidth\":1},\"autotypenumbers\":\"strict\",\"coloraxis\":{\"colorbar\":{\"outlinewidth\":0,\"ticks\":\"\"}},\"colorscale\":{\"diverging\":[[0,\"#8e0152\"],[0.1,\"#c51b7d\"],[0.2,\"#de77ae\"],[0.3,\"#f1b6da\"],[0.4,\"#fde0ef\"],[0.5,\"#f7f7f7\"],[0.6,\"#e6f5d0\"],[0.7,\"#b8e186\"],[0.8,\"#7fbc41\"],[0.9,\"#4d9221\"],[1,\"#276419\"]],\"sequential\":[[0.0,\"#0d0887\"],[0.1111111111111111,\"#46039f\"],[0.2222222222222222,\"#7201a8\"],[0.3333333333333333,\"#9c179e\"],[0.4444444444444444,\"#bd3786\"],[0.5555555555555556,\"#d8576b\"],[0.6666666666666666,\"#ed7953\"],[0.7777777777777778,\"#fb9f3a\"],[0.8888888888888888,\"#fdca26\"],[1.0,\"#f0f921\"]],\"sequentialminus\":[[0.0,\"#0d0887\"],[0.1111111111111111,\"#46039f\"],[0.2222222222222222,\"#7201a8\"],[0.3333333333333333,\"#9c179e\"],[0.4444444444444444,\"#bd3786\"],[0.5555555555555556,\"#d8576b\"],[0.6666666666666666,\"#ed7953\"],[0.7777777777777778,\"#fb9f3a\"],[0.8888888888888888,\"#fdca26\"],[1.0,\"#f0f921\"]]},\"colorway\":[\"#636efa\",\"#EF553B\",\"#00cc96\",\"#ab63fa\",\"#FFA15A\",\"#19d3f3\",\"#FF6692\",\"#B6E880\",\"#FF97FF\",\"#FECB52\"],\"font\":{\"color\":\"#2a3f5f\"},\"geo\":{\"bgcolor\":\"white\",\"lakecolor\":\"white\",\"landcolor\":\"#E5ECF6\",\"showlakes\":true,\"showland\":true,\"subunitcolor\":\"white\"},\"hoverlabel\":{\"align\":\"left\"},\"hovermode\":\"closest\",\"mapbox\":{\"style\":\"light\"},\"paper_bgcolor\":\"white\",\"plot_bgcolor\":\"#E5ECF6\",\"polar\":{\"angularaxis\":{\"gridcolor\":\"white\",\"linecolor\":\"white\",\"ticks\":\"\"},\"bgcolor\":\"#E5ECF6\",\"radialaxis\":{\"gridcolor\":\"white\",\"linecolor\":\"white\",\"ticks\":\"\"}},\"scene\":{\"xaxis\":{\"backgroundcolor\":\"#E5ECF6\",\"gridcolor\":\"white\",\"gridwidth\":2,\"linecolor\":\"white\",\"showbackground\":true,\"ticks\":\"\",\"zerolinecolor\":\"white\"},\"yaxis\":{\"backgroundcolor\":\"#E5ECF6\",\"gridcolor\":\"white\",\"gridwidth\":2,\"linecolor\":\"white\",\"showbackground\":true,\"ticks\":\"\",\"zerolinecolor\":\"white\"},\"zaxis\":{\"backgroundcolor\":\"#E5ECF6\",\"gridcolor\":\"white\",\"gridwidth\":2,\"linecolor\":\"white\",\"showbackground\":true,\"ticks\":\"\",\"zerolinecolor\":\"white\"}},\"shapedefaults\":{\"line\":{\"color\":\"#2a3f5f\"}},\"ternary\":{\"aaxis\":{\"gridcolor\":\"white\",\"linecolor\":\"white\",\"ticks\":\"\"},\"baxis\":{\"gridcolor\":\"white\",\"linecolor\":\"white\",\"ticks\":\"\"},\"bgcolor\":\"#E5ECF6\",\"caxis\":{\"gridcolor\":\"white\",\"linecolor\":\"white\",\"ticks\":\"\"}},\"title\":{\"x\":0.05},\"xaxis\":{\"automargin\":true,\"gridcolor\":\"white\",\"linecolor\":\"white\",\"ticks\":\"\",\"title\":{\"standoff\":15},\"zerolinecolor\":\"white\",\"zerolinewidth\":2},\"yaxis\":{\"automargin\":true,\"gridcolor\":\"white\",\"linecolor\":\"white\",\"ticks\":\"\",\"title\":{\"standoff\":15},\"zerolinecolor\":\"white\",\"zerolinewidth\":2}}},\"xaxis\":{\"anchor\":\"y\",\"domain\":[0.0,1.0],\"title\":{\"text\":\"platform\"}},\"yaxis\":{\"anchor\":\"x\",\"domain\":[0.0,1.0],\"title\":{\"text\":\"total_sales\"}},\"legend\":{\"title\":{\"text\":\"year_of_release\"},\"tracegroupgap\":0},\"margin\":{\"t\":60},\"barmode\":\"group\"},                        {\"responsive\": true}                    ).then(function(){\n",
       "                            \n",
       "var gd = document.getElementById('57b37732-55a9-4ed7-881b-f5afc15d0b59');\n",
       "var x = new MutationObserver(function (mutations, observer) {{\n",
       "        var display = window.getComputedStyle(gd).display;\n",
       "        if (!display || display === 'none') {{\n",
       "            console.log([gd, 'removed!']);\n",
       "            Plotly.purge(gd);\n",
       "            observer.disconnect();\n",
       "        }}\n",
       "}});\n",
       "\n",
       "// Listen for the removal of the full notebook cells\n",
       "var notebookContainer = gd.closest('#notebook-container');\n",
       "if (notebookContainer) {{\n",
       "    x.observe(notebookContainer, {childList: true});\n",
       "}}\n",
       "\n",
       "// Listen for the clearing of the current output cell\n",
       "var outputEl = gd.closest('.output');\n",
       "if (outputEl) {{\n",
       "    x.observe(outputEl, {childList: true});\n",
       "}}\n",
       "\n",
       "                        })                };                });            </script>        </div>"
      ]
     },
     "metadata": {},
     "output_type": "display_data"
    }
   ],
   "source": [
    "df_games_console_pivot['year_of_release'] = df_games_console_pivot['year_of_release'].astype(str)\n",
    "fig = px.bar(df_games_console_pivot, x='platform', y='total_sales', barmode='group', color='year_of_release')\n",
    "fig.update_traces(showlegend=False)\n",
    "fig.show()"
   ]
  },
  {
   "cell_type": "markdown",
   "id": "b9ee0991",
   "metadata": {},
   "source": [
    "sample of console that use to be popular but now have zero sales"
   ]
  },
  {
   "cell_type": "code",
   "execution_count": 1323,
   "id": "d7eee854",
   "metadata": {},
   "outputs": [],
   "source": [
    "zero_sales_now = ['PSP', 'PS', 'DS', 'N64']"
   ]
  },
  {
   "cell_type": "code",
   "execution_count": 1324,
   "id": "c3bb485f",
   "metadata": {},
   "outputs": [
    {
     "name": "stdout",
     "output_type": "stream",
     "text": [
      "   platform  year_of_release  total_sales\n",
      "0        DS             1985         0.02\n",
      "1        DS             2004        17.27\n",
      "2        DS             2005       130.14\n",
      "3        DS             2006       119.81\n",
      "4        DS             2007       147.23\n",
      "5        DS             2008       145.36\n",
      "6        DS             2009       119.56\n",
      "7        DS             2010        85.35\n",
      "8        DS             2011        26.23\n",
      "9        DS             2012        11.67\n",
      "10       DS             2013         1.54\n",
      "11      N64             1996        34.10\n",
      "12      N64             1997        39.50\n",
      "13      N64             1998        49.24\n",
      "14      N64             1999        57.87\n",
      "15      N64             2000        33.97\n",
      "16      N64             2001         3.25\n",
      "17      N64             2002         0.08\n",
      "18      N64             2004         0.33\n",
      "19       PS             1994         6.03\n",
      "20       PS             1995        35.96\n",
      "21       PS             1996        94.70\n",
      "22       PS             1997       136.17\n",
      "23       PS             1998       169.49\n",
      "24       PS             1999       144.53\n",
      "25       PS             2000        96.37\n",
      "26       PS             2001        35.59\n",
      "27       PS             2002         6.67\n",
      "28       PS             2003         2.07\n",
      "29      PSP             2004         7.06\n",
      "30      PSP             2005        43.84\n",
      "31      PSP             2006        56.28\n",
      "32      PSP             2007        47.30\n",
      "33      PSP             2008        35.96\n",
      "34      PSP             2009        37.78\n",
      "35      PSP             2010        35.04\n",
      "36      PSP             2011        17.82\n",
      "37      PSP             2012         7.95\n",
      "38      PSP             2013         3.38\n",
      "39      PSP             2014         0.24\n",
      "40      PSP             2015         0.12\n"
     ]
    }
   ],
   "source": [
    "df_games_zero_sales_now = df_games_no_0.query('platform in @zero_sales_now')\n",
    "df_games_zero_sales_now_pivot = df_games_zero_sales_now.pivot_table(\n",
    "    index=['platform', 'year_of_release'],\n",
    "    values='total_sales',\n",
    "    aggfunc='sum'\n",
    ").reset_index()\n",
    "print(df_games_zero_sales_now_pivot)"
   ]
  },
  {
   "cell_type": "code",
   "execution_count": 1325,
   "id": "96236ae0",
   "metadata": {},
   "outputs": [
    {
     "data": {
      "application/vnd.plotly.v1+json": {
       "config": {
        "plotlyServerURL": "https://plot.ly"
       },
       "data": [
        {
         "alignmentgroup": "True",
         "hovertemplate": "year_of_release=1985<br>platform=%{x}<br>total_sales=%{y}<extra></extra>",
         "legendgroup": "1985",
         "marker": {
          "color": "#636efa",
          "pattern": {
           "shape": ""
          }
         },
         "name": "1985",
         "offsetgroup": "1985",
         "orientation": "v",
         "showlegend": false,
         "textposition": "auto",
         "type": "bar",
         "x": [
          "DS"
         ],
         "xaxis": "x",
         "y": [
          0.02
         ],
         "yaxis": "y"
        },
        {
         "alignmentgroup": "True",
         "hovertemplate": "year_of_release=2004<br>platform=%{x}<br>total_sales=%{y}<extra></extra>",
         "legendgroup": "2004",
         "marker": {
          "color": "#EF553B",
          "pattern": {
           "shape": ""
          }
         },
         "name": "2004",
         "offsetgroup": "2004",
         "orientation": "v",
         "showlegend": false,
         "textposition": "auto",
         "type": "bar",
         "x": [
          "DS",
          "N64",
          "PSP"
         ],
         "xaxis": "x",
         "y": [
          17.27,
          0.32999999999999996,
          7.0600000000000005
         ],
         "yaxis": "y"
        },
        {
         "alignmentgroup": "True",
         "hovertemplate": "year_of_release=2005<br>platform=%{x}<br>total_sales=%{y}<extra></extra>",
         "legendgroup": "2005",
         "marker": {
          "color": "#00cc96",
          "pattern": {
           "shape": ""
          }
         },
         "name": "2005",
         "offsetgroup": "2005",
         "orientation": "v",
         "showlegend": false,
         "textposition": "auto",
         "type": "bar",
         "x": [
          "DS",
          "PSP"
         ],
         "xaxis": "x",
         "y": [
          130.14,
          43.84
         ],
         "yaxis": "y"
        },
        {
         "alignmentgroup": "True",
         "hovertemplate": "year_of_release=2006<br>platform=%{x}<br>total_sales=%{y}<extra></extra>",
         "legendgroup": "2006",
         "marker": {
          "color": "#ab63fa",
          "pattern": {
           "shape": ""
          }
         },
         "name": "2006",
         "offsetgroup": "2006",
         "orientation": "v",
         "showlegend": false,
         "textposition": "auto",
         "type": "bar",
         "x": [
          "DS",
          "PSP"
         ],
         "xaxis": "x",
         "y": [
          119.81,
          56.28
         ],
         "yaxis": "y"
        },
        {
         "alignmentgroup": "True",
         "hovertemplate": "year_of_release=2007<br>platform=%{x}<br>total_sales=%{y}<extra></extra>",
         "legendgroup": "2007",
         "marker": {
          "color": "#FFA15A",
          "pattern": {
           "shape": ""
          }
         },
         "name": "2007",
         "offsetgroup": "2007",
         "orientation": "v",
         "showlegend": false,
         "textposition": "auto",
         "type": "bar",
         "x": [
          "DS",
          "PSP"
         ],
         "xaxis": "x",
         "y": [
          147.23,
          47.300000000000004
         ],
         "yaxis": "y"
        },
        {
         "alignmentgroup": "True",
         "hovertemplate": "year_of_release=2008<br>platform=%{x}<br>total_sales=%{y}<extra></extra>",
         "legendgroup": "2008",
         "marker": {
          "color": "#19d3f3",
          "pattern": {
           "shape": ""
          }
         },
         "name": "2008",
         "offsetgroup": "2008",
         "orientation": "v",
         "showlegend": false,
         "textposition": "auto",
         "type": "bar",
         "x": [
          "DS",
          "PSP"
         ],
         "xaxis": "x",
         "y": [
          145.36,
          35.96
         ],
         "yaxis": "y"
        },
        {
         "alignmentgroup": "True",
         "hovertemplate": "year_of_release=2009<br>platform=%{x}<br>total_sales=%{y}<extra></extra>",
         "legendgroup": "2009",
         "marker": {
          "color": "#FF6692",
          "pattern": {
           "shape": ""
          }
         },
         "name": "2009",
         "offsetgroup": "2009",
         "orientation": "v",
         "showlegend": false,
         "textposition": "auto",
         "type": "bar",
         "x": [
          "DS",
          "PSP"
         ],
         "xaxis": "x",
         "y": [
          119.56,
          37.78
         ],
         "yaxis": "y"
        },
        {
         "alignmentgroup": "True",
         "hovertemplate": "year_of_release=2010<br>platform=%{x}<br>total_sales=%{y}<extra></extra>",
         "legendgroup": "2010",
         "marker": {
          "color": "#B6E880",
          "pattern": {
           "shape": ""
          }
         },
         "name": "2010",
         "offsetgroup": "2010",
         "orientation": "v",
         "showlegend": false,
         "textposition": "auto",
         "type": "bar",
         "x": [
          "DS",
          "PSP"
         ],
         "xaxis": "x",
         "y": [
          85.35000000000001,
          35.04
         ],
         "yaxis": "y"
        },
        {
         "alignmentgroup": "True",
         "hovertemplate": "year_of_release=2011<br>platform=%{x}<br>total_sales=%{y}<extra></extra>",
         "legendgroup": "2011",
         "marker": {
          "color": "#FF97FF",
          "pattern": {
           "shape": ""
          }
         },
         "name": "2011",
         "offsetgroup": "2011",
         "orientation": "v",
         "showlegend": false,
         "textposition": "auto",
         "type": "bar",
         "x": [
          "DS",
          "PSP"
         ],
         "xaxis": "x",
         "y": [
          26.23,
          17.82
         ],
         "yaxis": "y"
        },
        {
         "alignmentgroup": "True",
         "hovertemplate": "year_of_release=2012<br>platform=%{x}<br>total_sales=%{y}<extra></extra>",
         "legendgroup": "2012",
         "marker": {
          "color": "#FECB52",
          "pattern": {
           "shape": ""
          }
         },
         "name": "2012",
         "offsetgroup": "2012",
         "orientation": "v",
         "showlegend": false,
         "textposition": "auto",
         "type": "bar",
         "x": [
          "DS",
          "PSP"
         ],
         "xaxis": "x",
         "y": [
          11.67,
          7.95
         ],
         "yaxis": "y"
        },
        {
         "alignmentgroup": "True",
         "hovertemplate": "year_of_release=2013<br>platform=%{x}<br>total_sales=%{y}<extra></extra>",
         "legendgroup": "2013",
         "marker": {
          "color": "#636efa",
          "pattern": {
           "shape": ""
          }
         },
         "name": "2013",
         "offsetgroup": "2013",
         "orientation": "v",
         "showlegend": false,
         "textposition": "auto",
         "type": "bar",
         "x": [
          "DS",
          "PSP"
         ],
         "xaxis": "x",
         "y": [
          1.54,
          3.38
         ],
         "yaxis": "y"
        },
        {
         "alignmentgroup": "True",
         "hovertemplate": "year_of_release=1996<br>platform=%{x}<br>total_sales=%{y}<extra></extra>",
         "legendgroup": "1996",
         "marker": {
          "color": "#EF553B",
          "pattern": {
           "shape": ""
          }
         },
         "name": "1996",
         "offsetgroup": "1996",
         "orientation": "v",
         "showlegend": false,
         "textposition": "auto",
         "type": "bar",
         "x": [
          "N64",
          "PS"
         ],
         "xaxis": "x",
         "y": [
          34.1,
          94.7
         ],
         "yaxis": "y"
        },
        {
         "alignmentgroup": "True",
         "hovertemplate": "year_of_release=1997<br>platform=%{x}<br>total_sales=%{y}<extra></extra>",
         "legendgroup": "1997",
         "marker": {
          "color": "#00cc96",
          "pattern": {
           "shape": ""
          }
         },
         "name": "1997",
         "offsetgroup": "1997",
         "orientation": "v",
         "showlegend": false,
         "textposition": "auto",
         "type": "bar",
         "x": [
          "N64",
          "PS"
         ],
         "xaxis": "x",
         "y": [
          39.5,
          136.17000000000002
         ],
         "yaxis": "y"
        },
        {
         "alignmentgroup": "True",
         "hovertemplate": "year_of_release=1998<br>platform=%{x}<br>total_sales=%{y}<extra></extra>",
         "legendgroup": "1998",
         "marker": {
          "color": "#ab63fa",
          "pattern": {
           "shape": ""
          }
         },
         "name": "1998",
         "offsetgroup": "1998",
         "orientation": "v",
         "showlegend": false,
         "textposition": "auto",
         "type": "bar",
         "x": [
          "N64",
          "PS"
         ],
         "xaxis": "x",
         "y": [
          49.24,
          169.49
         ],
         "yaxis": "y"
        },
        {
         "alignmentgroup": "True",
         "hovertemplate": "year_of_release=1999<br>platform=%{x}<br>total_sales=%{y}<extra></extra>",
         "legendgroup": "1999",
         "marker": {
          "color": "#FFA15A",
          "pattern": {
           "shape": ""
          }
         },
         "name": "1999",
         "offsetgroup": "1999",
         "orientation": "v",
         "showlegend": false,
         "textposition": "auto",
         "type": "bar",
         "x": [
          "N64",
          "PS"
         ],
         "xaxis": "x",
         "y": [
          57.87,
          144.53
         ],
         "yaxis": "y"
        },
        {
         "alignmentgroup": "True",
         "hovertemplate": "year_of_release=2000<br>platform=%{x}<br>total_sales=%{y}<extra></extra>",
         "legendgroup": "2000",
         "marker": {
          "color": "#19d3f3",
          "pattern": {
           "shape": ""
          }
         },
         "name": "2000",
         "offsetgroup": "2000",
         "orientation": "v",
         "showlegend": false,
         "textposition": "auto",
         "type": "bar",
         "x": [
          "N64",
          "PS"
         ],
         "xaxis": "x",
         "y": [
          33.97,
          96.37
         ],
         "yaxis": "y"
        },
        {
         "alignmentgroup": "True",
         "hovertemplate": "year_of_release=2001<br>platform=%{x}<br>total_sales=%{y}<extra></extra>",
         "legendgroup": "2001",
         "marker": {
          "color": "#FF6692",
          "pattern": {
           "shape": ""
          }
         },
         "name": "2001",
         "offsetgroup": "2001",
         "orientation": "v",
         "showlegend": false,
         "textposition": "auto",
         "type": "bar",
         "x": [
          "N64",
          "PS"
         ],
         "xaxis": "x",
         "y": [
          3.25,
          35.59
         ],
         "yaxis": "y"
        },
        {
         "alignmentgroup": "True",
         "hovertemplate": "year_of_release=2002<br>platform=%{x}<br>total_sales=%{y}<extra></extra>",
         "legendgroup": "2002",
         "marker": {
          "color": "#B6E880",
          "pattern": {
           "shape": ""
          }
         },
         "name": "2002",
         "offsetgroup": "2002",
         "orientation": "v",
         "showlegend": false,
         "textposition": "auto",
         "type": "bar",
         "x": [
          "N64",
          "PS"
         ],
         "xaxis": "x",
         "y": [
          0.08,
          6.67
         ],
         "yaxis": "y"
        },
        {
         "alignmentgroup": "True",
         "hovertemplate": "year_of_release=1994<br>platform=%{x}<br>total_sales=%{y}<extra></extra>",
         "legendgroup": "1994",
         "marker": {
          "color": "#FF97FF",
          "pattern": {
           "shape": ""
          }
         },
         "name": "1994",
         "offsetgroup": "1994",
         "orientation": "v",
         "showlegend": false,
         "textposition": "auto",
         "type": "bar",
         "x": [
          "PS"
         ],
         "xaxis": "x",
         "y": [
          6.03
         ],
         "yaxis": "y"
        },
        {
         "alignmentgroup": "True",
         "hovertemplate": "year_of_release=1995<br>platform=%{x}<br>total_sales=%{y}<extra></extra>",
         "legendgroup": "1995",
         "marker": {
          "color": "#FECB52",
          "pattern": {
           "shape": ""
          }
         },
         "name": "1995",
         "offsetgroup": "1995",
         "orientation": "v",
         "showlegend": false,
         "textposition": "auto",
         "type": "bar",
         "x": [
          "PS"
         ],
         "xaxis": "x",
         "y": [
          35.96
         ],
         "yaxis": "y"
        },
        {
         "alignmentgroup": "True",
         "hovertemplate": "year_of_release=2003<br>platform=%{x}<br>total_sales=%{y}<extra></extra>",
         "legendgroup": "2003",
         "marker": {
          "color": "#636efa",
          "pattern": {
           "shape": ""
          }
         },
         "name": "2003",
         "offsetgroup": "2003",
         "orientation": "v",
         "showlegend": false,
         "textposition": "auto",
         "type": "bar",
         "x": [
          "PS"
         ],
         "xaxis": "x",
         "y": [
          2.0700000000000003
         ],
         "yaxis": "y"
        },
        {
         "alignmentgroup": "True",
         "hovertemplate": "year_of_release=2014<br>platform=%{x}<br>total_sales=%{y}<extra></extra>",
         "legendgroup": "2014",
         "marker": {
          "color": "#EF553B",
          "pattern": {
           "shape": ""
          }
         },
         "name": "2014",
         "offsetgroup": "2014",
         "orientation": "v",
         "showlegend": false,
         "textposition": "auto",
         "type": "bar",
         "x": [
          "PSP"
         ],
         "xaxis": "x",
         "y": [
          0.24
         ],
         "yaxis": "y"
        },
        {
         "alignmentgroup": "True",
         "hovertemplate": "year_of_release=2015<br>platform=%{x}<br>total_sales=%{y}<extra></extra>",
         "legendgroup": "2015",
         "marker": {
          "color": "#00cc96",
          "pattern": {
           "shape": ""
          }
         },
         "name": "2015",
         "offsetgroup": "2015",
         "orientation": "v",
         "showlegend": false,
         "textposition": "auto",
         "type": "bar",
         "x": [
          "PSP"
         ],
         "xaxis": "x",
         "y": [
          0.12
         ],
         "yaxis": "y"
        }
       ],
       "layout": {
        "barmode": "group",
        "legend": {
         "title": {
          "text": "year_of_release"
         },
         "tracegroupgap": 0
        },
        "margin": {
         "t": 60
        },
        "template": {
         "data": {
          "bar": [
           {
            "error_x": {
             "color": "#2a3f5f"
            },
            "error_y": {
             "color": "#2a3f5f"
            },
            "marker": {
             "line": {
              "color": "#E5ECF6",
              "width": 0.5
             },
             "pattern": {
              "fillmode": "overlay",
              "size": 10,
              "solidity": 0.2
             }
            },
            "type": "bar"
           }
          ],
          "barpolar": [
           {
            "marker": {
             "line": {
              "color": "#E5ECF6",
              "width": 0.5
             },
             "pattern": {
              "fillmode": "overlay",
              "size": 10,
              "solidity": 0.2
             }
            },
            "type": "barpolar"
           }
          ],
          "carpet": [
           {
            "aaxis": {
             "endlinecolor": "#2a3f5f",
             "gridcolor": "white",
             "linecolor": "white",
             "minorgridcolor": "white",
             "startlinecolor": "#2a3f5f"
            },
            "baxis": {
             "endlinecolor": "#2a3f5f",
             "gridcolor": "white",
             "linecolor": "white",
             "minorgridcolor": "white",
             "startlinecolor": "#2a3f5f"
            },
            "type": "carpet"
           }
          ],
          "choropleth": [
           {
            "colorbar": {
             "outlinewidth": 0,
             "ticks": ""
            },
            "type": "choropleth"
           }
          ],
          "contour": [
           {
            "colorbar": {
             "outlinewidth": 0,
             "ticks": ""
            },
            "colorscale": [
             [
              0,
              "#0d0887"
             ],
             [
              0.1111111111111111,
              "#46039f"
             ],
             [
              0.2222222222222222,
              "#7201a8"
             ],
             [
              0.3333333333333333,
              "#9c179e"
             ],
             [
              0.4444444444444444,
              "#bd3786"
             ],
             [
              0.5555555555555556,
              "#d8576b"
             ],
             [
              0.6666666666666666,
              "#ed7953"
             ],
             [
              0.7777777777777778,
              "#fb9f3a"
             ],
             [
              0.8888888888888888,
              "#fdca26"
             ],
             [
              1,
              "#f0f921"
             ]
            ],
            "type": "contour"
           }
          ],
          "contourcarpet": [
           {
            "colorbar": {
             "outlinewidth": 0,
             "ticks": ""
            },
            "type": "contourcarpet"
           }
          ],
          "heatmap": [
           {
            "colorbar": {
             "outlinewidth": 0,
             "ticks": ""
            },
            "colorscale": [
             [
              0,
              "#0d0887"
             ],
             [
              0.1111111111111111,
              "#46039f"
             ],
             [
              0.2222222222222222,
              "#7201a8"
             ],
             [
              0.3333333333333333,
              "#9c179e"
             ],
             [
              0.4444444444444444,
              "#bd3786"
             ],
             [
              0.5555555555555556,
              "#d8576b"
             ],
             [
              0.6666666666666666,
              "#ed7953"
             ],
             [
              0.7777777777777778,
              "#fb9f3a"
             ],
             [
              0.8888888888888888,
              "#fdca26"
             ],
             [
              1,
              "#f0f921"
             ]
            ],
            "type": "heatmap"
           }
          ],
          "heatmapgl": [
           {
            "colorbar": {
             "outlinewidth": 0,
             "ticks": ""
            },
            "colorscale": [
             [
              0,
              "#0d0887"
             ],
             [
              0.1111111111111111,
              "#46039f"
             ],
             [
              0.2222222222222222,
              "#7201a8"
             ],
             [
              0.3333333333333333,
              "#9c179e"
             ],
             [
              0.4444444444444444,
              "#bd3786"
             ],
             [
              0.5555555555555556,
              "#d8576b"
             ],
             [
              0.6666666666666666,
              "#ed7953"
             ],
             [
              0.7777777777777778,
              "#fb9f3a"
             ],
             [
              0.8888888888888888,
              "#fdca26"
             ],
             [
              1,
              "#f0f921"
             ]
            ],
            "type": "heatmapgl"
           }
          ],
          "histogram": [
           {
            "marker": {
             "pattern": {
              "fillmode": "overlay",
              "size": 10,
              "solidity": 0.2
             }
            },
            "type": "histogram"
           }
          ],
          "histogram2d": [
           {
            "colorbar": {
             "outlinewidth": 0,
             "ticks": ""
            },
            "colorscale": [
             [
              0,
              "#0d0887"
             ],
             [
              0.1111111111111111,
              "#46039f"
             ],
             [
              0.2222222222222222,
              "#7201a8"
             ],
             [
              0.3333333333333333,
              "#9c179e"
             ],
             [
              0.4444444444444444,
              "#bd3786"
             ],
             [
              0.5555555555555556,
              "#d8576b"
             ],
             [
              0.6666666666666666,
              "#ed7953"
             ],
             [
              0.7777777777777778,
              "#fb9f3a"
             ],
             [
              0.8888888888888888,
              "#fdca26"
             ],
             [
              1,
              "#f0f921"
             ]
            ],
            "type": "histogram2d"
           }
          ],
          "histogram2dcontour": [
           {
            "colorbar": {
             "outlinewidth": 0,
             "ticks": ""
            },
            "colorscale": [
             [
              0,
              "#0d0887"
             ],
             [
              0.1111111111111111,
              "#46039f"
             ],
             [
              0.2222222222222222,
              "#7201a8"
             ],
             [
              0.3333333333333333,
              "#9c179e"
             ],
             [
              0.4444444444444444,
              "#bd3786"
             ],
             [
              0.5555555555555556,
              "#d8576b"
             ],
             [
              0.6666666666666666,
              "#ed7953"
             ],
             [
              0.7777777777777778,
              "#fb9f3a"
             ],
             [
              0.8888888888888888,
              "#fdca26"
             ],
             [
              1,
              "#f0f921"
             ]
            ],
            "type": "histogram2dcontour"
           }
          ],
          "mesh3d": [
           {
            "colorbar": {
             "outlinewidth": 0,
             "ticks": ""
            },
            "type": "mesh3d"
           }
          ],
          "parcoords": [
           {
            "line": {
             "colorbar": {
              "outlinewidth": 0,
              "ticks": ""
             }
            },
            "type": "parcoords"
           }
          ],
          "pie": [
           {
            "automargin": true,
            "type": "pie"
           }
          ],
          "scatter": [
           {
            "marker": {
             "colorbar": {
              "outlinewidth": 0,
              "ticks": ""
             }
            },
            "type": "scatter"
           }
          ],
          "scatter3d": [
           {
            "line": {
             "colorbar": {
              "outlinewidth": 0,
              "ticks": ""
             }
            },
            "marker": {
             "colorbar": {
              "outlinewidth": 0,
              "ticks": ""
             }
            },
            "type": "scatter3d"
           }
          ],
          "scattercarpet": [
           {
            "marker": {
             "colorbar": {
              "outlinewidth": 0,
              "ticks": ""
             }
            },
            "type": "scattercarpet"
           }
          ],
          "scattergeo": [
           {
            "marker": {
             "colorbar": {
              "outlinewidth": 0,
              "ticks": ""
             }
            },
            "type": "scattergeo"
           }
          ],
          "scattergl": [
           {
            "marker": {
             "colorbar": {
              "outlinewidth": 0,
              "ticks": ""
             }
            },
            "type": "scattergl"
           }
          ],
          "scattermapbox": [
           {
            "marker": {
             "colorbar": {
              "outlinewidth": 0,
              "ticks": ""
             }
            },
            "type": "scattermapbox"
           }
          ],
          "scatterpolar": [
           {
            "marker": {
             "colorbar": {
              "outlinewidth": 0,
              "ticks": ""
             }
            },
            "type": "scatterpolar"
           }
          ],
          "scatterpolargl": [
           {
            "marker": {
             "colorbar": {
              "outlinewidth": 0,
              "ticks": ""
             }
            },
            "type": "scatterpolargl"
           }
          ],
          "scatterternary": [
           {
            "marker": {
             "colorbar": {
              "outlinewidth": 0,
              "ticks": ""
             }
            },
            "type": "scatterternary"
           }
          ],
          "surface": [
           {
            "colorbar": {
             "outlinewidth": 0,
             "ticks": ""
            },
            "colorscale": [
             [
              0,
              "#0d0887"
             ],
             [
              0.1111111111111111,
              "#46039f"
             ],
             [
              0.2222222222222222,
              "#7201a8"
             ],
             [
              0.3333333333333333,
              "#9c179e"
             ],
             [
              0.4444444444444444,
              "#bd3786"
             ],
             [
              0.5555555555555556,
              "#d8576b"
             ],
             [
              0.6666666666666666,
              "#ed7953"
             ],
             [
              0.7777777777777778,
              "#fb9f3a"
             ],
             [
              0.8888888888888888,
              "#fdca26"
             ],
             [
              1,
              "#f0f921"
             ]
            ],
            "type": "surface"
           }
          ],
          "table": [
           {
            "cells": {
             "fill": {
              "color": "#EBF0F8"
             },
             "line": {
              "color": "white"
             }
            },
            "header": {
             "fill": {
              "color": "#C8D4E3"
             },
             "line": {
              "color": "white"
             }
            },
            "type": "table"
           }
          ]
         },
         "layout": {
          "annotationdefaults": {
           "arrowcolor": "#2a3f5f",
           "arrowhead": 0,
           "arrowwidth": 1
          },
          "autotypenumbers": "strict",
          "coloraxis": {
           "colorbar": {
            "outlinewidth": 0,
            "ticks": ""
           }
          },
          "colorscale": {
           "diverging": [
            [
             0,
             "#8e0152"
            ],
            [
             0.1,
             "#c51b7d"
            ],
            [
             0.2,
             "#de77ae"
            ],
            [
             0.3,
             "#f1b6da"
            ],
            [
             0.4,
             "#fde0ef"
            ],
            [
             0.5,
             "#f7f7f7"
            ],
            [
             0.6,
             "#e6f5d0"
            ],
            [
             0.7,
             "#b8e186"
            ],
            [
             0.8,
             "#7fbc41"
            ],
            [
             0.9,
             "#4d9221"
            ],
            [
             1,
             "#276419"
            ]
           ],
           "sequential": [
            [
             0,
             "#0d0887"
            ],
            [
             0.1111111111111111,
             "#46039f"
            ],
            [
             0.2222222222222222,
             "#7201a8"
            ],
            [
             0.3333333333333333,
             "#9c179e"
            ],
            [
             0.4444444444444444,
             "#bd3786"
            ],
            [
             0.5555555555555556,
             "#d8576b"
            ],
            [
             0.6666666666666666,
             "#ed7953"
            ],
            [
             0.7777777777777778,
             "#fb9f3a"
            ],
            [
             0.8888888888888888,
             "#fdca26"
            ],
            [
             1,
             "#f0f921"
            ]
           ],
           "sequentialminus": [
            [
             0,
             "#0d0887"
            ],
            [
             0.1111111111111111,
             "#46039f"
            ],
            [
             0.2222222222222222,
             "#7201a8"
            ],
            [
             0.3333333333333333,
             "#9c179e"
            ],
            [
             0.4444444444444444,
             "#bd3786"
            ],
            [
             0.5555555555555556,
             "#d8576b"
            ],
            [
             0.6666666666666666,
             "#ed7953"
            ],
            [
             0.7777777777777778,
             "#fb9f3a"
            ],
            [
             0.8888888888888888,
             "#fdca26"
            ],
            [
             1,
             "#f0f921"
            ]
           ]
          },
          "colorway": [
           "#636efa",
           "#EF553B",
           "#00cc96",
           "#ab63fa",
           "#FFA15A",
           "#19d3f3",
           "#FF6692",
           "#B6E880",
           "#FF97FF",
           "#FECB52"
          ],
          "font": {
           "color": "#2a3f5f"
          },
          "geo": {
           "bgcolor": "white",
           "lakecolor": "white",
           "landcolor": "#E5ECF6",
           "showlakes": true,
           "showland": true,
           "subunitcolor": "white"
          },
          "hoverlabel": {
           "align": "left"
          },
          "hovermode": "closest",
          "mapbox": {
           "style": "light"
          },
          "paper_bgcolor": "white",
          "plot_bgcolor": "#E5ECF6",
          "polar": {
           "angularaxis": {
            "gridcolor": "white",
            "linecolor": "white",
            "ticks": ""
           },
           "bgcolor": "#E5ECF6",
           "radialaxis": {
            "gridcolor": "white",
            "linecolor": "white",
            "ticks": ""
           }
          },
          "scene": {
           "xaxis": {
            "backgroundcolor": "#E5ECF6",
            "gridcolor": "white",
            "gridwidth": 2,
            "linecolor": "white",
            "showbackground": true,
            "ticks": "",
            "zerolinecolor": "white"
           },
           "yaxis": {
            "backgroundcolor": "#E5ECF6",
            "gridcolor": "white",
            "gridwidth": 2,
            "linecolor": "white",
            "showbackground": true,
            "ticks": "",
            "zerolinecolor": "white"
           },
           "zaxis": {
            "backgroundcolor": "#E5ECF6",
            "gridcolor": "white",
            "gridwidth": 2,
            "linecolor": "white",
            "showbackground": true,
            "ticks": "",
            "zerolinecolor": "white"
           }
          },
          "shapedefaults": {
           "line": {
            "color": "#2a3f5f"
           }
          },
          "ternary": {
           "aaxis": {
            "gridcolor": "white",
            "linecolor": "white",
            "ticks": ""
           },
           "baxis": {
            "gridcolor": "white",
            "linecolor": "white",
            "ticks": ""
           },
           "bgcolor": "#E5ECF6",
           "caxis": {
            "gridcolor": "white",
            "linecolor": "white",
            "ticks": ""
           }
          },
          "title": {
           "x": 0.05
          },
          "xaxis": {
           "automargin": true,
           "gridcolor": "white",
           "linecolor": "white",
           "ticks": "",
           "title": {
            "standoff": 15
           },
           "zerolinecolor": "white",
           "zerolinewidth": 2
          },
          "yaxis": {
           "automargin": true,
           "gridcolor": "white",
           "linecolor": "white",
           "ticks": "",
           "title": {
            "standoff": 15
           },
           "zerolinecolor": "white",
           "zerolinewidth": 2
          }
         }
        },
        "xaxis": {
         "anchor": "y",
         "domain": [
          0,
          1
         ],
         "title": {
          "text": "platform"
         }
        },
        "yaxis": {
         "anchor": "x",
         "domain": [
          0,
          1
         ],
         "title": {
          "text": "total_sales"
         }
        }
       }
      },
      "text/html": [
       "<div>                            <div id=\"2c5100a2-62b3-460f-a140-3176e69380ef\" class=\"plotly-graph-div\" style=\"height:525px; width:100%;\"></div>            <script type=\"text/javascript\">                require([\"plotly\"], function(Plotly) {                    window.PLOTLYENV=window.PLOTLYENV || {};                                    if (document.getElementById(\"2c5100a2-62b3-460f-a140-3176e69380ef\")) {                    Plotly.newPlot(                        \"2c5100a2-62b3-460f-a140-3176e69380ef\",                        [{\"alignmentgroup\":\"True\",\"hovertemplate\":\"year_of_release=1985<br>platform=%{x}<br>total_sales=%{y}<extra></extra>\",\"legendgroup\":\"1985\",\"marker\":{\"color\":\"#636efa\",\"pattern\":{\"shape\":\"\"}},\"name\":\"1985\",\"offsetgroup\":\"1985\",\"orientation\":\"v\",\"showlegend\":false,\"textposition\":\"auto\",\"x\":[\"DS\"],\"xaxis\":\"x\",\"y\":[0.02],\"yaxis\":\"y\",\"type\":\"bar\"},{\"alignmentgroup\":\"True\",\"hovertemplate\":\"year_of_release=2004<br>platform=%{x}<br>total_sales=%{y}<extra></extra>\",\"legendgroup\":\"2004\",\"marker\":{\"color\":\"#EF553B\",\"pattern\":{\"shape\":\"\"}},\"name\":\"2004\",\"offsetgroup\":\"2004\",\"orientation\":\"v\",\"showlegend\":false,\"textposition\":\"auto\",\"x\":[\"DS\",\"N64\",\"PSP\"],\"xaxis\":\"x\",\"y\":[17.27,0.32999999999999996,7.0600000000000005],\"yaxis\":\"y\",\"type\":\"bar\"},{\"alignmentgroup\":\"True\",\"hovertemplate\":\"year_of_release=2005<br>platform=%{x}<br>total_sales=%{y}<extra></extra>\",\"legendgroup\":\"2005\",\"marker\":{\"color\":\"#00cc96\",\"pattern\":{\"shape\":\"\"}},\"name\":\"2005\",\"offsetgroup\":\"2005\",\"orientation\":\"v\",\"showlegend\":false,\"textposition\":\"auto\",\"x\":[\"DS\",\"PSP\"],\"xaxis\":\"x\",\"y\":[130.14,43.84],\"yaxis\":\"y\",\"type\":\"bar\"},{\"alignmentgroup\":\"True\",\"hovertemplate\":\"year_of_release=2006<br>platform=%{x}<br>total_sales=%{y}<extra></extra>\",\"legendgroup\":\"2006\",\"marker\":{\"color\":\"#ab63fa\",\"pattern\":{\"shape\":\"\"}},\"name\":\"2006\",\"offsetgroup\":\"2006\",\"orientation\":\"v\",\"showlegend\":false,\"textposition\":\"auto\",\"x\":[\"DS\",\"PSP\"],\"xaxis\":\"x\",\"y\":[119.81,56.28],\"yaxis\":\"y\",\"type\":\"bar\"},{\"alignmentgroup\":\"True\",\"hovertemplate\":\"year_of_release=2007<br>platform=%{x}<br>total_sales=%{y}<extra></extra>\",\"legendgroup\":\"2007\",\"marker\":{\"color\":\"#FFA15A\",\"pattern\":{\"shape\":\"\"}},\"name\":\"2007\",\"offsetgroup\":\"2007\",\"orientation\":\"v\",\"showlegend\":false,\"textposition\":\"auto\",\"x\":[\"DS\",\"PSP\"],\"xaxis\":\"x\",\"y\":[147.23,47.300000000000004],\"yaxis\":\"y\",\"type\":\"bar\"},{\"alignmentgroup\":\"True\",\"hovertemplate\":\"year_of_release=2008<br>platform=%{x}<br>total_sales=%{y}<extra></extra>\",\"legendgroup\":\"2008\",\"marker\":{\"color\":\"#19d3f3\",\"pattern\":{\"shape\":\"\"}},\"name\":\"2008\",\"offsetgroup\":\"2008\",\"orientation\":\"v\",\"showlegend\":false,\"textposition\":\"auto\",\"x\":[\"DS\",\"PSP\"],\"xaxis\":\"x\",\"y\":[145.36,35.96],\"yaxis\":\"y\",\"type\":\"bar\"},{\"alignmentgroup\":\"True\",\"hovertemplate\":\"year_of_release=2009<br>platform=%{x}<br>total_sales=%{y}<extra></extra>\",\"legendgroup\":\"2009\",\"marker\":{\"color\":\"#FF6692\",\"pattern\":{\"shape\":\"\"}},\"name\":\"2009\",\"offsetgroup\":\"2009\",\"orientation\":\"v\",\"showlegend\":false,\"textposition\":\"auto\",\"x\":[\"DS\",\"PSP\"],\"xaxis\":\"x\",\"y\":[119.56,37.78],\"yaxis\":\"y\",\"type\":\"bar\"},{\"alignmentgroup\":\"True\",\"hovertemplate\":\"year_of_release=2010<br>platform=%{x}<br>total_sales=%{y}<extra></extra>\",\"legendgroup\":\"2010\",\"marker\":{\"color\":\"#B6E880\",\"pattern\":{\"shape\":\"\"}},\"name\":\"2010\",\"offsetgroup\":\"2010\",\"orientation\":\"v\",\"showlegend\":false,\"textposition\":\"auto\",\"x\":[\"DS\",\"PSP\"],\"xaxis\":\"x\",\"y\":[85.35000000000001,35.04],\"yaxis\":\"y\",\"type\":\"bar\"},{\"alignmentgroup\":\"True\",\"hovertemplate\":\"year_of_release=2011<br>platform=%{x}<br>total_sales=%{y}<extra></extra>\",\"legendgroup\":\"2011\",\"marker\":{\"color\":\"#FF97FF\",\"pattern\":{\"shape\":\"\"}},\"name\":\"2011\",\"offsetgroup\":\"2011\",\"orientation\":\"v\",\"showlegend\":false,\"textposition\":\"auto\",\"x\":[\"DS\",\"PSP\"],\"xaxis\":\"x\",\"y\":[26.23,17.82],\"yaxis\":\"y\",\"type\":\"bar\"},{\"alignmentgroup\":\"True\",\"hovertemplate\":\"year_of_release=2012<br>platform=%{x}<br>total_sales=%{y}<extra></extra>\",\"legendgroup\":\"2012\",\"marker\":{\"color\":\"#FECB52\",\"pattern\":{\"shape\":\"\"}},\"name\":\"2012\",\"offsetgroup\":\"2012\",\"orientation\":\"v\",\"showlegend\":false,\"textposition\":\"auto\",\"x\":[\"DS\",\"PSP\"],\"xaxis\":\"x\",\"y\":[11.67,7.95],\"yaxis\":\"y\",\"type\":\"bar\"},{\"alignmentgroup\":\"True\",\"hovertemplate\":\"year_of_release=2013<br>platform=%{x}<br>total_sales=%{y}<extra></extra>\",\"legendgroup\":\"2013\",\"marker\":{\"color\":\"#636efa\",\"pattern\":{\"shape\":\"\"}},\"name\":\"2013\",\"offsetgroup\":\"2013\",\"orientation\":\"v\",\"showlegend\":false,\"textposition\":\"auto\",\"x\":[\"DS\",\"PSP\"],\"xaxis\":\"x\",\"y\":[1.54,3.38],\"yaxis\":\"y\",\"type\":\"bar\"},{\"alignmentgroup\":\"True\",\"hovertemplate\":\"year_of_release=1996<br>platform=%{x}<br>total_sales=%{y}<extra></extra>\",\"legendgroup\":\"1996\",\"marker\":{\"color\":\"#EF553B\",\"pattern\":{\"shape\":\"\"}},\"name\":\"1996\",\"offsetgroup\":\"1996\",\"orientation\":\"v\",\"showlegend\":false,\"textposition\":\"auto\",\"x\":[\"N64\",\"PS\"],\"xaxis\":\"x\",\"y\":[34.1,94.7],\"yaxis\":\"y\",\"type\":\"bar\"},{\"alignmentgroup\":\"True\",\"hovertemplate\":\"year_of_release=1997<br>platform=%{x}<br>total_sales=%{y}<extra></extra>\",\"legendgroup\":\"1997\",\"marker\":{\"color\":\"#00cc96\",\"pattern\":{\"shape\":\"\"}},\"name\":\"1997\",\"offsetgroup\":\"1997\",\"orientation\":\"v\",\"showlegend\":false,\"textposition\":\"auto\",\"x\":[\"N64\",\"PS\"],\"xaxis\":\"x\",\"y\":[39.5,136.17000000000002],\"yaxis\":\"y\",\"type\":\"bar\"},{\"alignmentgroup\":\"True\",\"hovertemplate\":\"year_of_release=1998<br>platform=%{x}<br>total_sales=%{y}<extra></extra>\",\"legendgroup\":\"1998\",\"marker\":{\"color\":\"#ab63fa\",\"pattern\":{\"shape\":\"\"}},\"name\":\"1998\",\"offsetgroup\":\"1998\",\"orientation\":\"v\",\"showlegend\":false,\"textposition\":\"auto\",\"x\":[\"N64\",\"PS\"],\"xaxis\":\"x\",\"y\":[49.24,169.49],\"yaxis\":\"y\",\"type\":\"bar\"},{\"alignmentgroup\":\"True\",\"hovertemplate\":\"year_of_release=1999<br>platform=%{x}<br>total_sales=%{y}<extra></extra>\",\"legendgroup\":\"1999\",\"marker\":{\"color\":\"#FFA15A\",\"pattern\":{\"shape\":\"\"}},\"name\":\"1999\",\"offsetgroup\":\"1999\",\"orientation\":\"v\",\"showlegend\":false,\"textposition\":\"auto\",\"x\":[\"N64\",\"PS\"],\"xaxis\":\"x\",\"y\":[57.87,144.53],\"yaxis\":\"y\",\"type\":\"bar\"},{\"alignmentgroup\":\"True\",\"hovertemplate\":\"year_of_release=2000<br>platform=%{x}<br>total_sales=%{y}<extra></extra>\",\"legendgroup\":\"2000\",\"marker\":{\"color\":\"#19d3f3\",\"pattern\":{\"shape\":\"\"}},\"name\":\"2000\",\"offsetgroup\":\"2000\",\"orientation\":\"v\",\"showlegend\":false,\"textposition\":\"auto\",\"x\":[\"N64\",\"PS\"],\"xaxis\":\"x\",\"y\":[33.97,96.37],\"yaxis\":\"y\",\"type\":\"bar\"},{\"alignmentgroup\":\"True\",\"hovertemplate\":\"year_of_release=2001<br>platform=%{x}<br>total_sales=%{y}<extra></extra>\",\"legendgroup\":\"2001\",\"marker\":{\"color\":\"#FF6692\",\"pattern\":{\"shape\":\"\"}},\"name\":\"2001\",\"offsetgroup\":\"2001\",\"orientation\":\"v\",\"showlegend\":false,\"textposition\":\"auto\",\"x\":[\"N64\",\"PS\"],\"xaxis\":\"x\",\"y\":[3.25,35.59],\"yaxis\":\"y\",\"type\":\"bar\"},{\"alignmentgroup\":\"True\",\"hovertemplate\":\"year_of_release=2002<br>platform=%{x}<br>total_sales=%{y}<extra></extra>\",\"legendgroup\":\"2002\",\"marker\":{\"color\":\"#B6E880\",\"pattern\":{\"shape\":\"\"}},\"name\":\"2002\",\"offsetgroup\":\"2002\",\"orientation\":\"v\",\"showlegend\":false,\"textposition\":\"auto\",\"x\":[\"N64\",\"PS\"],\"xaxis\":\"x\",\"y\":[0.08,6.67],\"yaxis\":\"y\",\"type\":\"bar\"},{\"alignmentgroup\":\"True\",\"hovertemplate\":\"year_of_release=1994<br>platform=%{x}<br>total_sales=%{y}<extra></extra>\",\"legendgroup\":\"1994\",\"marker\":{\"color\":\"#FF97FF\",\"pattern\":{\"shape\":\"\"}},\"name\":\"1994\",\"offsetgroup\":\"1994\",\"orientation\":\"v\",\"showlegend\":false,\"textposition\":\"auto\",\"x\":[\"PS\"],\"xaxis\":\"x\",\"y\":[6.03],\"yaxis\":\"y\",\"type\":\"bar\"},{\"alignmentgroup\":\"True\",\"hovertemplate\":\"year_of_release=1995<br>platform=%{x}<br>total_sales=%{y}<extra></extra>\",\"legendgroup\":\"1995\",\"marker\":{\"color\":\"#FECB52\",\"pattern\":{\"shape\":\"\"}},\"name\":\"1995\",\"offsetgroup\":\"1995\",\"orientation\":\"v\",\"showlegend\":false,\"textposition\":\"auto\",\"x\":[\"PS\"],\"xaxis\":\"x\",\"y\":[35.96],\"yaxis\":\"y\",\"type\":\"bar\"},{\"alignmentgroup\":\"True\",\"hovertemplate\":\"year_of_release=2003<br>platform=%{x}<br>total_sales=%{y}<extra></extra>\",\"legendgroup\":\"2003\",\"marker\":{\"color\":\"#636efa\",\"pattern\":{\"shape\":\"\"}},\"name\":\"2003\",\"offsetgroup\":\"2003\",\"orientation\":\"v\",\"showlegend\":false,\"textposition\":\"auto\",\"x\":[\"PS\"],\"xaxis\":\"x\",\"y\":[2.0700000000000003],\"yaxis\":\"y\",\"type\":\"bar\"},{\"alignmentgroup\":\"True\",\"hovertemplate\":\"year_of_release=2014<br>platform=%{x}<br>total_sales=%{y}<extra></extra>\",\"legendgroup\":\"2014\",\"marker\":{\"color\":\"#EF553B\",\"pattern\":{\"shape\":\"\"}},\"name\":\"2014\",\"offsetgroup\":\"2014\",\"orientation\":\"v\",\"showlegend\":false,\"textposition\":\"auto\",\"x\":[\"PSP\"],\"xaxis\":\"x\",\"y\":[0.24],\"yaxis\":\"y\",\"type\":\"bar\"},{\"alignmentgroup\":\"True\",\"hovertemplate\":\"year_of_release=2015<br>platform=%{x}<br>total_sales=%{y}<extra></extra>\",\"legendgroup\":\"2015\",\"marker\":{\"color\":\"#00cc96\",\"pattern\":{\"shape\":\"\"}},\"name\":\"2015\",\"offsetgroup\":\"2015\",\"orientation\":\"v\",\"showlegend\":false,\"textposition\":\"auto\",\"x\":[\"PSP\"],\"xaxis\":\"x\",\"y\":[0.12],\"yaxis\":\"y\",\"type\":\"bar\"}],                        {\"template\":{\"data\":{\"bar\":[{\"error_x\":{\"color\":\"#2a3f5f\"},\"error_y\":{\"color\":\"#2a3f5f\"},\"marker\":{\"line\":{\"color\":\"#E5ECF6\",\"width\":0.5},\"pattern\":{\"fillmode\":\"overlay\",\"size\":10,\"solidity\":0.2}},\"type\":\"bar\"}],\"barpolar\":[{\"marker\":{\"line\":{\"color\":\"#E5ECF6\",\"width\":0.5},\"pattern\":{\"fillmode\":\"overlay\",\"size\":10,\"solidity\":0.2}},\"type\":\"barpolar\"}],\"carpet\":[{\"aaxis\":{\"endlinecolor\":\"#2a3f5f\",\"gridcolor\":\"white\",\"linecolor\":\"white\",\"minorgridcolor\":\"white\",\"startlinecolor\":\"#2a3f5f\"},\"baxis\":{\"endlinecolor\":\"#2a3f5f\",\"gridcolor\":\"white\",\"linecolor\":\"white\",\"minorgridcolor\":\"white\",\"startlinecolor\":\"#2a3f5f\"},\"type\":\"carpet\"}],\"choropleth\":[{\"colorbar\":{\"outlinewidth\":0,\"ticks\":\"\"},\"type\":\"choropleth\"}],\"contour\":[{\"colorbar\":{\"outlinewidth\":0,\"ticks\":\"\"},\"colorscale\":[[0.0,\"#0d0887\"],[0.1111111111111111,\"#46039f\"],[0.2222222222222222,\"#7201a8\"],[0.3333333333333333,\"#9c179e\"],[0.4444444444444444,\"#bd3786\"],[0.5555555555555556,\"#d8576b\"],[0.6666666666666666,\"#ed7953\"],[0.7777777777777778,\"#fb9f3a\"],[0.8888888888888888,\"#fdca26\"],[1.0,\"#f0f921\"]],\"type\":\"contour\"}],\"contourcarpet\":[{\"colorbar\":{\"outlinewidth\":0,\"ticks\":\"\"},\"type\":\"contourcarpet\"}],\"heatmap\":[{\"colorbar\":{\"outlinewidth\":0,\"ticks\":\"\"},\"colorscale\":[[0.0,\"#0d0887\"],[0.1111111111111111,\"#46039f\"],[0.2222222222222222,\"#7201a8\"],[0.3333333333333333,\"#9c179e\"],[0.4444444444444444,\"#bd3786\"],[0.5555555555555556,\"#d8576b\"],[0.6666666666666666,\"#ed7953\"],[0.7777777777777778,\"#fb9f3a\"],[0.8888888888888888,\"#fdca26\"],[1.0,\"#f0f921\"]],\"type\":\"heatmap\"}],\"heatmapgl\":[{\"colorbar\":{\"outlinewidth\":0,\"ticks\":\"\"},\"colorscale\":[[0.0,\"#0d0887\"],[0.1111111111111111,\"#46039f\"],[0.2222222222222222,\"#7201a8\"],[0.3333333333333333,\"#9c179e\"],[0.4444444444444444,\"#bd3786\"],[0.5555555555555556,\"#d8576b\"],[0.6666666666666666,\"#ed7953\"],[0.7777777777777778,\"#fb9f3a\"],[0.8888888888888888,\"#fdca26\"],[1.0,\"#f0f921\"]],\"type\":\"heatmapgl\"}],\"histogram\":[{\"marker\":{\"pattern\":{\"fillmode\":\"overlay\",\"size\":10,\"solidity\":0.2}},\"type\":\"histogram\"}],\"histogram2d\":[{\"colorbar\":{\"outlinewidth\":0,\"ticks\":\"\"},\"colorscale\":[[0.0,\"#0d0887\"],[0.1111111111111111,\"#46039f\"],[0.2222222222222222,\"#7201a8\"],[0.3333333333333333,\"#9c179e\"],[0.4444444444444444,\"#bd3786\"],[0.5555555555555556,\"#d8576b\"],[0.6666666666666666,\"#ed7953\"],[0.7777777777777778,\"#fb9f3a\"],[0.8888888888888888,\"#fdca26\"],[1.0,\"#f0f921\"]],\"type\":\"histogram2d\"}],\"histogram2dcontour\":[{\"colorbar\":{\"outlinewidth\":0,\"ticks\":\"\"},\"colorscale\":[[0.0,\"#0d0887\"],[0.1111111111111111,\"#46039f\"],[0.2222222222222222,\"#7201a8\"],[0.3333333333333333,\"#9c179e\"],[0.4444444444444444,\"#bd3786\"],[0.5555555555555556,\"#d8576b\"],[0.6666666666666666,\"#ed7953\"],[0.7777777777777778,\"#fb9f3a\"],[0.8888888888888888,\"#fdca26\"],[1.0,\"#f0f921\"]],\"type\":\"histogram2dcontour\"}],\"mesh3d\":[{\"colorbar\":{\"outlinewidth\":0,\"ticks\":\"\"},\"type\":\"mesh3d\"}],\"parcoords\":[{\"line\":{\"colorbar\":{\"outlinewidth\":0,\"ticks\":\"\"}},\"type\":\"parcoords\"}],\"pie\":[{\"automargin\":true,\"type\":\"pie\"}],\"scatter\":[{\"marker\":{\"colorbar\":{\"outlinewidth\":0,\"ticks\":\"\"}},\"type\":\"scatter\"}],\"scatter3d\":[{\"line\":{\"colorbar\":{\"outlinewidth\":0,\"ticks\":\"\"}},\"marker\":{\"colorbar\":{\"outlinewidth\":0,\"ticks\":\"\"}},\"type\":\"scatter3d\"}],\"scattercarpet\":[{\"marker\":{\"colorbar\":{\"outlinewidth\":0,\"ticks\":\"\"}},\"type\":\"scattercarpet\"}],\"scattergeo\":[{\"marker\":{\"colorbar\":{\"outlinewidth\":0,\"ticks\":\"\"}},\"type\":\"scattergeo\"}],\"scattergl\":[{\"marker\":{\"colorbar\":{\"outlinewidth\":0,\"ticks\":\"\"}},\"type\":\"scattergl\"}],\"scattermapbox\":[{\"marker\":{\"colorbar\":{\"outlinewidth\":0,\"ticks\":\"\"}},\"type\":\"scattermapbox\"}],\"scatterpolar\":[{\"marker\":{\"colorbar\":{\"outlinewidth\":0,\"ticks\":\"\"}},\"type\":\"scatterpolar\"}],\"scatterpolargl\":[{\"marker\":{\"colorbar\":{\"outlinewidth\":0,\"ticks\":\"\"}},\"type\":\"scatterpolargl\"}],\"scatterternary\":[{\"marker\":{\"colorbar\":{\"outlinewidth\":0,\"ticks\":\"\"}},\"type\":\"scatterternary\"}],\"surface\":[{\"colorbar\":{\"outlinewidth\":0,\"ticks\":\"\"},\"colorscale\":[[0.0,\"#0d0887\"],[0.1111111111111111,\"#46039f\"],[0.2222222222222222,\"#7201a8\"],[0.3333333333333333,\"#9c179e\"],[0.4444444444444444,\"#bd3786\"],[0.5555555555555556,\"#d8576b\"],[0.6666666666666666,\"#ed7953\"],[0.7777777777777778,\"#fb9f3a\"],[0.8888888888888888,\"#fdca26\"],[1.0,\"#f0f921\"]],\"type\":\"surface\"}],\"table\":[{\"cells\":{\"fill\":{\"color\":\"#EBF0F8\"},\"line\":{\"color\":\"white\"}},\"header\":{\"fill\":{\"color\":\"#C8D4E3\"},\"line\":{\"color\":\"white\"}},\"type\":\"table\"}]},\"layout\":{\"annotationdefaults\":{\"arrowcolor\":\"#2a3f5f\",\"arrowhead\":0,\"arrowwidth\":1},\"autotypenumbers\":\"strict\",\"coloraxis\":{\"colorbar\":{\"outlinewidth\":0,\"ticks\":\"\"}},\"colorscale\":{\"diverging\":[[0,\"#8e0152\"],[0.1,\"#c51b7d\"],[0.2,\"#de77ae\"],[0.3,\"#f1b6da\"],[0.4,\"#fde0ef\"],[0.5,\"#f7f7f7\"],[0.6,\"#e6f5d0\"],[0.7,\"#b8e186\"],[0.8,\"#7fbc41\"],[0.9,\"#4d9221\"],[1,\"#276419\"]],\"sequential\":[[0.0,\"#0d0887\"],[0.1111111111111111,\"#46039f\"],[0.2222222222222222,\"#7201a8\"],[0.3333333333333333,\"#9c179e\"],[0.4444444444444444,\"#bd3786\"],[0.5555555555555556,\"#d8576b\"],[0.6666666666666666,\"#ed7953\"],[0.7777777777777778,\"#fb9f3a\"],[0.8888888888888888,\"#fdca26\"],[1.0,\"#f0f921\"]],\"sequentialminus\":[[0.0,\"#0d0887\"],[0.1111111111111111,\"#46039f\"],[0.2222222222222222,\"#7201a8\"],[0.3333333333333333,\"#9c179e\"],[0.4444444444444444,\"#bd3786\"],[0.5555555555555556,\"#d8576b\"],[0.6666666666666666,\"#ed7953\"],[0.7777777777777778,\"#fb9f3a\"],[0.8888888888888888,\"#fdca26\"],[1.0,\"#f0f921\"]]},\"colorway\":[\"#636efa\",\"#EF553B\",\"#00cc96\",\"#ab63fa\",\"#FFA15A\",\"#19d3f3\",\"#FF6692\",\"#B6E880\",\"#FF97FF\",\"#FECB52\"],\"font\":{\"color\":\"#2a3f5f\"},\"geo\":{\"bgcolor\":\"white\",\"lakecolor\":\"white\",\"landcolor\":\"#E5ECF6\",\"showlakes\":true,\"showland\":true,\"subunitcolor\":\"white\"},\"hoverlabel\":{\"align\":\"left\"},\"hovermode\":\"closest\",\"mapbox\":{\"style\":\"light\"},\"paper_bgcolor\":\"white\",\"plot_bgcolor\":\"#E5ECF6\",\"polar\":{\"angularaxis\":{\"gridcolor\":\"white\",\"linecolor\":\"white\",\"ticks\":\"\"},\"bgcolor\":\"#E5ECF6\",\"radialaxis\":{\"gridcolor\":\"white\",\"linecolor\":\"white\",\"ticks\":\"\"}},\"scene\":{\"xaxis\":{\"backgroundcolor\":\"#E5ECF6\",\"gridcolor\":\"white\",\"gridwidth\":2,\"linecolor\":\"white\",\"showbackground\":true,\"ticks\":\"\",\"zerolinecolor\":\"white\"},\"yaxis\":{\"backgroundcolor\":\"#E5ECF6\",\"gridcolor\":\"white\",\"gridwidth\":2,\"linecolor\":\"white\",\"showbackground\":true,\"ticks\":\"\",\"zerolinecolor\":\"white\"},\"zaxis\":{\"backgroundcolor\":\"#E5ECF6\",\"gridcolor\":\"white\",\"gridwidth\":2,\"linecolor\":\"white\",\"showbackground\":true,\"ticks\":\"\",\"zerolinecolor\":\"white\"}},\"shapedefaults\":{\"line\":{\"color\":\"#2a3f5f\"}},\"ternary\":{\"aaxis\":{\"gridcolor\":\"white\",\"linecolor\":\"white\",\"ticks\":\"\"},\"baxis\":{\"gridcolor\":\"white\",\"linecolor\":\"white\",\"ticks\":\"\"},\"bgcolor\":\"#E5ECF6\",\"caxis\":{\"gridcolor\":\"white\",\"linecolor\":\"white\",\"ticks\":\"\"}},\"title\":{\"x\":0.05},\"xaxis\":{\"automargin\":true,\"gridcolor\":\"white\",\"linecolor\":\"white\",\"ticks\":\"\",\"title\":{\"standoff\":15},\"zerolinecolor\":\"white\",\"zerolinewidth\":2},\"yaxis\":{\"automargin\":true,\"gridcolor\":\"white\",\"linecolor\":\"white\",\"ticks\":\"\",\"title\":{\"standoff\":15},\"zerolinecolor\":\"white\",\"zerolinewidth\":2}}},\"xaxis\":{\"anchor\":\"y\",\"domain\":[0.0,1.0],\"title\":{\"text\":\"platform\"}},\"yaxis\":{\"anchor\":\"x\",\"domain\":[0.0,1.0],\"title\":{\"text\":\"total_sales\"}},\"legend\":{\"title\":{\"text\":\"year_of_release\"},\"tracegroupgap\":0},\"margin\":{\"t\":60},\"barmode\":\"group\"},                        {\"responsive\": true}                    ).then(function(){\n",
       "                            \n",
       "var gd = document.getElementById('2c5100a2-62b3-460f-a140-3176e69380ef');\n",
       "var x = new MutationObserver(function (mutations, observer) {{\n",
       "        var display = window.getComputedStyle(gd).display;\n",
       "        if (!display || display === 'none') {{\n",
       "            console.log([gd, 'removed!']);\n",
       "            Plotly.purge(gd);\n",
       "            observer.disconnect();\n",
       "        }}\n",
       "}});\n",
       "\n",
       "// Listen for the removal of the full notebook cells\n",
       "var notebookContainer = gd.closest('#notebook-container');\n",
       "if (notebookContainer) {{\n",
       "    x.observe(notebookContainer, {childList: true});\n",
       "}}\n",
       "\n",
       "// Listen for the clearing of the current output cell\n",
       "var outputEl = gd.closest('.output');\n",
       "if (outputEl) {{\n",
       "    x.observe(outputEl, {childList: true});\n",
       "}}\n",
       "\n",
       "                        })                };                });            </script>        </div>"
      ]
     },
     "metadata": {},
     "output_type": "display_data"
    }
   ],
   "source": [
    "df_games_zero_sales_now_pivot['year_of_release'] = df_games_zero_sales_now_pivot['year_of_release'].astype(str)\n",
    "fig = px.bar(df_games_zero_sales_now_pivot, x='platform', y='total_sales', barmode='group', color='year_of_release')\n",
    "fig.update_traces(showlegend=False)\n",
    "fig.show()"
   ]
  },
  {
   "cell_type": "markdown",
   "id": "62936302",
   "metadata": {},
   "source": [
    "We can see in the figure that the consoles have popularity pick and the they fade. It takes little less than a decade for the glory of a console to fade."
   ]
  },
  {
   "cell_type": "code",
   "execution_count": null,
   "id": "0c580949",
   "metadata": {},
   "outputs": [],
   "source": []
  },
  {
   "cell_type": "markdown",
   "id": "ddebbd06",
   "metadata": {},
   "source": [
    "We will also take the 4 most popular console for this task. Here we will answer which platforms are leading in sales? Which ones are growing or shrinking? "
   ]
  },
  {
   "cell_type": "code",
   "execution_count": 1326,
   "id": "d765ba67",
   "metadata": {},
   "outputs": [
    {
     "data": {
      "text/plain": [
       "['PS2', 'X360', 'PS3', 'Wii']"
      ]
     },
     "execution_count": 1326,
     "metadata": {},
     "output_type": "execute_result"
    }
   ],
   "source": [
    "most_sale_console = platform_sales.nlargest(4, 'total_sales')['platform'].tolist()\n",
    "most_sale_console"
   ]
  },
  {
   "cell_type": "code",
   "execution_count": null,
   "id": "35276e41",
   "metadata": {
    "scrolled": false
   },
   "outputs": [],
   "source": [
    "df_games_most_sale_console = df_games_no_0.query('platform in @most_sale_console')\n",
    "df_games_most_sale_console_pivot = df_games_most_sale_console.pivot_table(\n",
    "    index=['platform', 'year_of_release'],\n",
    "    values='total_sales',\n",
    "    aggfunc='sum'\n",
    ").reset_index()\n",
    "df_games_most_sale_console_pivot\n"
   ]
  },
  {
   "cell_type": "code",
   "execution_count": null,
   "id": "a609714a",
   "metadata": {},
   "outputs": [],
   "source": [
    "df_games_most_sale_console_pivot['year_of_release'] = df_games_most_sale_console_pivot['year_of_release'].astype(str)\n",
    "fig = px.bar(df_games_most_sale_console_pivot, x='platform', y='total_sales', barmode='group', color='year_of_release')\n",
    "fig.update_traces(showlegend=False)\n",
    "fig.show()"
   ]
  },
  {
   "cell_type": "markdown",
   "id": "b16eb518",
   "metadata": {},
   "source": [
    "We can see in the figure that the consoles have popularity pick and the they fade. It takes approximately a decade for the glory of a console to fade."
   ]
  },
  {
   "cell_type": "markdown",
   "id": "ed93b53a",
   "metadata": {},
   "source": [
    "## Determine what period we should take data for"
   ]
  },
  {
   "cell_type": "markdown",
   "id": "f6fc6cd9",
   "metadata": {},
   "source": [
    "From the answer in previous question when we examine the 4 most sell platform we see there are no sell before 2000. We also saw in previous chart that before 2000 there was much less games released."
   ]
  },
  {
   "cell_type": "markdown",
   "id": "dbbc3425",
   "metadata": {},
   "source": [
    "## Working data"
   ]
  },
  {
   "cell_type": "markdown",
   "id": "2127564a",
   "metadata": {},
   "source": [
    "From now we will work only from data after 2000"
   ]
  },
  {
   "cell_type": "code",
   "execution_count": null,
   "id": "32c316cb",
   "metadata": {},
   "outputs": [],
   "source": [
    "df_games_after_2000 =  df_games.query('year_of_release >= 2000')"
   ]
  },
  {
   "cell_type": "markdown",
   "id": "b7ab906c",
   "metadata": {},
   "source": [
    "## Box plot for sales  broken down by platform"
   ]
  },
  {
   "cell_type": "code",
   "execution_count": null,
   "id": "8b51ebcf",
   "metadata": {
    "scrolled": false
   },
   "outputs": [],
   "source": [
    "\n",
    "fig = px.box(df_games_after_2000, x=\"platform\", y=\"total_sales\")\n",
    "fig.show()"
   ]
  },
  {
   "cell_type": "markdown",
   "id": "a40bc73e",
   "metadata": {},
   "source": [
    "Very difficult to read. We will remove results of total sales larger than 10"
   ]
  },
  {
   "cell_type": "code",
   "execution_count": null,
   "id": "370451f5",
   "metadata": {
    "scrolled": true
   },
   "outputs": [],
   "source": [
    "fig = px.box(df_games_after_2000.query('total_sales < 10'), x=\"platform\", y=\"total_sales\")\n",
    "fig.show()"
   ]
  },
  {
   "cell_type": "markdown",
   "id": "93f56b5c",
   "metadata": {},
   "source": [
    "Very difficult to read. We will remove results of total sales larger than 2"
   ]
  },
  {
   "cell_type": "code",
   "execution_count": null,
   "id": "ca3bae21",
   "metadata": {},
   "outputs": [],
   "source": [
    "fig = px.box(df_games_after_2000.query('total_sales < 2'), x=\"platform\", y=\"total_sales\")\n",
    "fig.show()"
   ]
  },
  {
   "cell_type": "markdown",
   "id": "b6a70332",
   "metadata": {},
   "source": [
    "We can see that the difference in sales are significant in some cases. Take for example the X360 compare to PSV. The nedian in X360 is higher from the q3 of PSV"
   ]
  },
  {
   "cell_type": "code",
   "execution_count": null,
   "id": "ba6518c8",
   "metadata": {
    "scrolled": true
   },
   "outputs": [],
   "source": [
    "df_games_after_2000_pivot = df_games_after_2000.pivot_table(\n",
    "    values='total_sales',\n",
    "    index='platform',\n",
    "    aggfunc='mean'\n",
    ").sort_values(by='total_sales', ascending=True).reset_index()\n",
    "\n",
    "fig = px.bar(df_games_after_2000_pivot, x='platform', y='total_sales')\n",
    "fig.update_layout(\n",
    "    title='Average Total Sales Per Platform',\n",
    "    yaxis_title=\"Average Total Sales\", \n",
    ")\n",
    "fig.show()"
   ]
  },
  {
   "cell_type": "code",
   "execution_count": null,
   "id": "810a427a",
   "metadata": {},
   "outputs": [],
   "source": [
    "# we will use this later\n",
    "most_sale_console_average = df_games_after_2000_pivot.tail(5)['platform'].tolist()\n",
    "\n",
    "most_sale_console_average"
   ]
  },
  {
   "cell_type": "markdown",
   "id": "5d55e4ba",
   "metadata": {},
   "source": [
    "There is big difference in the Average Total Sales Per Platform. "
   ]
  },
  {
   "cell_type": "markdown",
   "id": "e6a8f23a",
   "metadata": {},
   "source": [
    "## user and professional reviews affect sales for one popular platform"
   ]
  },
  {
   "cell_type": "markdown",
   "id": "d08ca78c",
   "metadata": {},
   "source": [
    "We will choose PS4. The platform with the highest average sales for this task. "
   ]
  },
  {
   "cell_type": "markdown",
   "id": "f2345004",
   "metadata": {},
   "source": [
    "We will build a scatter plot and calculate the correlation between reviews and sales."
   ]
  },
  {
   "cell_type": "code",
   "execution_count": null,
   "id": "3472056b",
   "metadata": {
    "scrolled": true
   },
   "outputs": [],
   "source": [
    "df_games_after_2000_PS4 = df_games_after_2000.query('platform == \"PS4\"')\n",
    "df_games_after_2000_PS4\n"
   ]
  },
  {
   "cell_type": "code",
   "execution_count": null,
   "id": "1110d501",
   "metadata": {},
   "outputs": [],
   "source": [
    "df_games_after_2000_PS4_no_unknown = df_games_after_2000_PS4[\n",
    "    df_games_after_2000_PS4['critic_score'] != 'unknown' \n",
    "]\n",
    "df_games_after_2000_PS4_no_unknown = df_games_after_2000_PS4_no_unknown[\n",
    "    df_games_after_2000_PS4_no_unknown['user_score'] != 'unknown'\n",
    "]\n",
    "\n",
    "# df_games_after_2000_PS4_no_unknown = df_games_after_2000_PS4_no_unknown\n",
    "df_games_after_2000_PS4_no_unknown['critic_score'] = df_games_after_2000_PS4_no_unknown[\n",
    "    'critic_score'].astype(int)\n",
    "df_games_after_2000_PS4_no_unknown['user_score'] = df_games_after_2000_PS4_no_unknown[\n",
    "    'user_score'].astype('float')\n",
    "\n",
    "df_games_after_2000_PS4_no_unknown[['critic_score', 'user_score', 'total_sales']].corr()\n"
   ]
  },
  {
   "cell_type": "code",
   "execution_count": null,
   "id": "14428fb4",
   "metadata": {},
   "outputs": [],
   "source": [
    "\n",
    "fig = px.scatter(df_games_after_2000_PS4_no_unknown, x=\"critic_score\", y=\"total_sales\")\n",
    "fig.show()"
   ]
  },
  {
   "cell_type": "code",
   "execution_count": null,
   "id": "7fc5b24e",
   "metadata": {},
   "outputs": [],
   "source": [
    "fig = px.scatter(df_games_after_2000_PS4_no_unknown, x=\"user_score\", y=\"total_sales\")\n",
    "fig.show()"
   ]
  },
  {
   "cell_type": "markdown",
   "id": "07f12722",
   "metadata": {},
   "source": [
    "In user score we don't see correlation but in critic score we can spot a trend in the scatter plot and the correlation is 0.4 - medium correlation."
   ]
  },
  {
   "cell_type": "markdown",
   "id": "6585099b",
   "metadata": {},
   "source": [
    "## compare the sales of the same games on other platforms."
   ]
  },
  {
   "cell_type": "markdown",
   "id": "51e312dc",
   "metadata": {},
   "source": [
    "We will create function to automate this comparison. For the compariso we will take the 5 platforms with highest sales: most_sale_console_average"
   ]
  },
  {
   "cell_type": "code",
   "execution_count": null,
   "id": "74ec5b5f",
   "metadata": {},
   "outputs": [],
   "source": [
    "most_sale_console_average"
   ]
  },
  {
   "cell_type": "code",
   "execution_count": null,
   "id": "e7fa4c6c",
   "metadata": {
    "scrolled": true
   },
   "outputs": [],
   "source": [
    "# remove PS4 because we saw it and GB because it is fill with nan in the scores\n",
    "most_sale_console_average.remove('PS4')\n",
    "most_sale_console_average.remove('GB')\n",
    "most_sale_console_average"
   ]
  },
  {
   "cell_type": "code",
   "execution_count": null,
   "id": "be686782",
   "metadata": {},
   "outputs": [],
   "source": [
    "def score_effect(platform:str, score_type:str, df:pd.DataFrame):\n",
    "    df = df.query('platform == @platform')\n",
    "    \n",
    "    df = df[\n",
    "    df[score_type] != 'unknown' \n",
    "    ]\n",
    "\n",
    "    df[score_type] = df[score_type].astype(float)\n",
    "    correlation = round(df[score_type].corr(df['total_sales']), 2)\n",
    "#     print(f'Info for {platform}')\n",
    "    print(f'The correlation between {score_type} and total_sales is {correlation}')\n",
    "    \n",
    "    fig = px.scatter(df, x=score_type, y=\"total_sales\", title=platform)\n",
    "    fig.show()\n",
    "    \n",
    "# score_effect('PS4', 'critic_score', df_games)\n",
    "    "
   ]
  },
  {
   "cell_type": "code",
   "execution_count": null,
   "id": "69b0041a",
   "metadata": {
    "scrolled": true
   },
   "outputs": [],
   "source": [
    "for platform in most_sale_console_average:\n",
    "    print(f'Info for {platform}')\n",
    "    score_effect(platform=platform, score_type='critic_score', df=df_games_after_2000)\n",
    "    score_effect(platform=platform, score_type='user_score', df=df_games_after_2000)\n",
    "    print()"
   ]
  },
  {
   "cell_type": "markdown",
   "id": "cc9af42c",
   "metadata": {},
   "source": [
    "In all 3 compared platforms 'Wii', 'PS3', 'X360' the correlation between the critic score and the total sales was higher then the correlation between the user score and total sales"
   ]
  },
  {
   "cell_type": "markdown",
   "id": "af971250",
   "metadata": {},
   "source": [
    "## general distribution of games by genre"
   ]
  },
  {
   "cell_type": "markdown",
   "id": "51636119",
   "metadata": {},
   "source": []
  },
  {
   "cell_type": "code",
   "execution_count": null,
   "id": "c566278a",
   "metadata": {
    "scrolled": true
   },
   "outputs": [],
   "source": [
    "df_games_after_2000.pivot_table(\n",
    "    values='total_sales',\n",
    "    index='genre',\n",
    "    aggfunc='mean'\n",
    ").sort_values(by='total_sales', ascending=False)\n"
   ]
  },
  {
   "cell_type": "markdown",
   "id": "afd68a5f",
   "metadata": {},
   "source": [
    "The most profitable are games with more action like shooter, sports and racing while the less profitable are more calm games genre like adventure, strategy and puzzle. "
   ]
  },
  {
   "cell_type": "markdown",
   "id": "79ee28b0",
   "metadata": {},
   "source": [
    "# Step 4. Create a user profile for each region"
   ]
  },
  {
   "cell_type": "markdown",
   "id": "88ad22fd",
   "metadata": {},
   "source": [
    "## The top five platforms"
   ]
  },
  {
   "cell_type": "code",
   "execution_count": null,
   "id": "8c4a7886",
   "metadata": {},
   "outputs": [],
   "source": [
    "def most_sales_per_platform_for_region(df:pd.DataFrame, region:str):\n",
    "    df = df.pivot_table(\n",
    "    values=region,\n",
    "    index='platform',\n",
    "    aggfunc='mean'\n",
    "    ).nlargest(5, region).sort_values(by=region, ascending=False)\n",
    "    print(df)"
   ]
  },
  {
   "cell_type": "code",
   "execution_count": null,
   "id": "61a113ed",
   "metadata": {},
   "outputs": [],
   "source": [
    "regions = ['na_sales', 'eu_sales', 'jp_sales']"
   ]
  },
  {
   "cell_type": "code",
   "execution_count": null,
   "id": "e0a368a0",
   "metadata": {},
   "outputs": [],
   "source": [
    "for region in regions:\n",
    "    print(region)\n",
    "    most_sales_per_platform_for_region(df=df_games_after_2000, region=region)\n",
    "    print()"
   ]
  },
  {
   "cell_type": "markdown",
   "id": "76c83992",
   "metadata": {},
   "source": [
    "We can see that in the North America (NA) we have the highest sells amount. The Japanese market is the smallest and dominated by 3 platforms we don't see evidence for in the top five in the North America and Europe region."
   ]
  },
  {
   "cell_type": "markdown",
   "id": "e1707e6f",
   "metadata": {},
   "source": [
    "## The top five genres"
   ]
  },
  {
   "cell_type": "code",
   "execution_count": null,
   "id": "cec94abf",
   "metadata": {},
   "outputs": [],
   "source": [
    "def most_sales_per_genre_for_region(df:pd.DataFrame, region:str):\n",
    "    df = df.pivot_table(\n",
    "    values=region,\n",
    "    index='genre',\n",
    "    aggfunc='mean'\n",
    "    ).nlargest(5, region).sort_values(by=region, ascending=False)\n",
    "    print(df)"
   ]
  },
  {
   "cell_type": "code",
   "execution_count": null,
   "id": "d8224898",
   "metadata": {},
   "outputs": [],
   "source": [
    "for region in regions:\n",
    "    print(region)\n",
    "    most_sales_per_genre_for_region(df=df_games_after_2000, region=region)\n",
    "    print()"
   ]
  },
  {
   "cell_type": "markdown",
   "id": "f5755a36",
   "metadata": {},
   "source": [
    "Here we see results similar to before with the platform. The North America market is the largest. Here we see great similarity with the genre between the North America and Europe. In the top 5 we see in both 'Shooter', 'Platform', 'Sports' and 'Racing' in almost the same order. In the Japanese market beside that it is much smaller the top genre are mostly different.  "
   ]
  },
  {
   "cell_type": "markdown",
   "id": "d21d7e25",
   "metadata": {},
   "source": [
    "## Do ESRB ratings affect sales in individual regions?"
   ]
  },
  {
   "cell_type": "code",
   "execution_count": null,
   "id": "66fef52c",
   "metadata": {},
   "outputs": [],
   "source": [
    "def most_sales_per_rating_for_region(df:pd.DataFrame, region:str):\n",
    "    df = df.pivot_table(\n",
    "    values=region,\n",
    "    index='rating',\n",
    "    aggfunc='mean'\n",
    "    ).nlargest(5, region).sort_values(by=region, ascending=False)\n",
    "    print(df)"
   ]
  },
  {
   "cell_type": "code",
   "execution_count": null,
   "id": "ef93b087",
   "metadata": {},
   "outputs": [],
   "source": [
    "for region in regions:\n",
    "    print(region)\n",
    "    most_sales_per_rating_for_region(df=df_games_after_2000, region=region)\n",
    "    print()"
   ]
  },
  {
   "cell_type": "markdown",
   "id": "0f75437e",
   "metadata": {},
   "source": [
    "- Early Childhood (EC) is the lowest rating. \n",
    "- Everyone (E) is the base rating. \n",
    "- Everyone 10+ (E10+) signifies games appropriate for kids 10 years and older. \n",
    "- Teen (T) is the next level up. \n",
    "- Mature (M) is the highest normal rating. \n",
    "- Adults Only (AO) is the ESRB's 18+ rating"
   ]
  },
  {
   "cell_type": "markdown",
   "id": "cb5efccf",
   "metadata": {},
   "source": [
    "In the North America and Europe the Adults Only (AO) is the most dominate rating following by Mature (M). The Japanese market is more conservative and rating for adults as M and AO that represent games with sex and violence almost not exist."
   ]
  },
  {
   "cell_type": "markdown",
   "id": "ccd2fc34",
   "metadata": {},
   "source": [
    "# Step 5. Test the following hypotheses:"
   ]
  },
  {
   "cell_type": "code",
   "execution_count": null,
   "id": "f7ce1c51",
   "metadata": {},
   "outputs": [],
   "source": [
    "df_games_after_2000_no_unknown_user_score = df_games_after_2000\n",
    "df_games_after_2000_no_unknown_user_score = df_games_after_2000_no_unknown_user_score[\n",
    "    df_games_after_2000_no_unknown_user_score['user_score'] != 'unknown']"
   ]
  },
  {
   "cell_type": "code",
   "execution_count": null,
   "id": "1162a878",
   "metadata": {},
   "outputs": [],
   "source": [
    "# getting a list of user rating\n",
    "def get_list_of_user_score(df:pd.DataFrame, column:str, name:str):\n",
    "    df = df.query(f'{column}  == \"{name}\"')\n",
    "    user_score_list = df['user_score'].tolist()\n",
    "    user_score_list = [float(i) for i in user_score_list]\n",
    "    user_score_df = pd.DataFrame(user_score_list)\n",
    "    return user_score_df\n"
   ]
  },
  {
   "cell_type": "markdown",
   "id": "8657d06e",
   "metadata": {},
   "source": [
    "## Hypothesis: Average user ratings of the Xbox One and PC platforms are the same"
   ]
  },
  {
   "cell_type": "code",
   "execution_count": null,
   "id": "ae982372",
   "metadata": {},
   "outputs": [],
   "source": [
    "# get_list_of_user_score(\n",
    "#         df=df_games_after_2000_no_unknown_user_score,\n",
    "#         column='platform',\n",
    "#         name='XOne' \n",
    "#     )"
   ]
  },
  {
   "cell_type": "code",
   "execution_count": null,
   "id": "3dbc0a31",
   "metadata": {},
   "outputs": [],
   "source": [
    "alpha = 0.05  # critical statistical significance level\n",
    "# if the p-value is less than alpha, we reject the hypothesis\n",
    "\n",
    "results = st.ttest_ind(\n",
    "    get_list_of_user_score(\n",
    "        df=df_games_after_2000_no_unknown_user_score,\n",
    "        column='platform',\n",
    "        name='XOne' \n",
    "    ), \n",
    "    get_list_of_user_score(\n",
    "        df=df_games_after_2000_no_unknown_user_score,\n",
    "        column='platform',\n",
    "        name='PC' \n",
    "    )\n",
    ")\n",
    "\n",
    "print('p-value: ', results.pvalue)\n",
    "\n",
    "if results.pvalue < alpha:\n",
    "    print(\"We reject the null hypothesis\")\n",
    "else:\n",
    "    print(\"We can't reject the null hypothesis\") "
   ]
  },
  {
   "cell_type": "markdown",
   "id": "aaef0365",
   "metadata": {},
   "source": [
    "Testing hypothesis on the equality of two population means yields that the two groups are not same with statistical significance of less than 5%."
   ]
  },
  {
   "cell_type": "markdown",
   "id": "6a48c5c9",
   "metadata": {},
   "source": [
    "Let's look on the histograms of the user_score for the two platforms"
   ]
  },
  {
   "cell_type": "code",
   "execution_count": null,
   "id": "122128e6",
   "metadata": {},
   "outputs": [],
   "source": [
    "fig = px.histogram(get_list_of_user_score(\n",
    "        df=df_games_after_2000_no_unknown_user_score,\n",
    "        column='platform',\n",
    "        name='XOne' \n",
    "    ), \n",
    "    title='Xbox One User Score')\n",
    "fig.show()"
   ]
  },
  {
   "cell_type": "code",
   "execution_count": null,
   "id": "6e60503d",
   "metadata": {},
   "outputs": [],
   "source": [
    "fig = px.histogram(get_list_of_user_score(\n",
    "        df=df_games_after_2000_no_unknown_user_score,\n",
    "        column='platform',\n",
    "        name='PC' \n",
    "    ), \n",
    "    title='PC User Score')\n",
    "fig.show()"
   ]
  },
  {
   "cell_type": "markdown",
   "id": "08edb1a7",
   "metadata": {},
   "source": [
    "Both hystograms are skew to the left but differs by the peak area. In PC the score peak is higher and sharper while in the PC it is wider."
   ]
  },
  {
   "cell_type": "code",
   "execution_count": null,
   "id": "1e82fac7",
   "metadata": {
    "scrolled": true
   },
   "outputs": [],
   "source": [
    "print('Description of the Xbox One User Score')\n",
    "print(get_list_of_user_score(\n",
    "        df=df_games_after_2000_no_unknown_user_score,\n",
    "        column='platform',\n",
    "        name='XOne' \n",
    "    ).describe())\n",
    "\n",
    "print()\n",
    "\n",
    "print('Description of the PC User Score')\n",
    "print(get_list_of_user_score(\n",
    "        df=df_games_after_2000_no_unknown_user_score,\n",
    "        column='platform',\n",
    "        name='PC' \n",
    "    ).describe())"
   ]
  },
  {
   "cell_type": "markdown",
   "id": "b02187a9",
   "metadata": {},
   "source": [
    "The mean of PC user score is higher while the median of the Xbox One is higher with lower std"
   ]
  },
  {
   "cell_type": "markdown",
   "id": "e09c5859",
   "metadata": {},
   "source": [
    "## Average user ratings for the Action and Sports genres are different."
   ]
  },
  {
   "cell_type": "code",
   "execution_count": null,
   "id": "0783d0f8",
   "metadata": {},
   "outputs": [],
   "source": [
    "alpha = 0.05  # critical statistical significance level\n",
    "# if the p-value is less than alpha, we reject the hypothesis\n",
    "\n",
    "results = st.ttest_ind(\n",
    "    get_list_of_user_score(\n",
    "        df=df_games_after_2000_no_unknown_user_score,\n",
    "        column='genre',\n",
    "        name='Action' \n",
    "    ), \n",
    "    get_list_of_user_score(\n",
    "        df=df_games_after_2000_no_unknown_user_score,\n",
    "        column='genre',\n",
    "        name='Sports' \n",
    "    )\n",
    ")\n",
    "\n",
    "print('p-value: ', results.pvalue)\n",
    "\n",
    "if results.pvalue < alpha:\n",
    "    print(\"We can't reject the null hypothesis\") \n",
    "else:\n",
    "    print(\"We reject the null hypothesis\") "
   ]
  },
  {
   "cell_type": "markdown",
   "id": "d108fe76",
   "metadata": {},
   "source": [
    "Here we wanted to know if the compared list are different. Since the p-value was larger then the alpha we set (it's higher then 10%) then we reject the null hypothesis that they different."
   ]
  },
  {
   "cell_type": "markdown",
   "id": "b3072cc7",
   "metadata": {},
   "source": [
    "Let's look on the histograms of the user_score for the two genres"
   ]
  },
  {
   "cell_type": "code",
   "execution_count": null,
   "id": "9de2c2d0",
   "metadata": {},
   "outputs": [],
   "source": [
    "fig = px.histogram(get_list_of_user_score(\n",
    "        df=df_games_after_2000_no_unknown_user_score,\n",
    "        column='genre',\n",
    "        name='Action' \n",
    "    ), \n",
    "    title='Action User Score')\n",
    "fig.show()"
   ]
  },
  {
   "cell_type": "code",
   "execution_count": null,
   "id": "de0e9036",
   "metadata": {},
   "outputs": [],
   "source": [
    "fig = px.histogram(get_list_of_user_score(\n",
    "        df=df_games_after_2000_no_unknown_user_score,\n",
    "        column='genre',\n",
    "        name='Sports' \n",
    "    ), \n",
    "    title='Sports User Score')\n",
    "fig.show()"
   ]
  },
  {
   "cell_type": "markdown",
   "id": "5728fbb2",
   "metadata": {},
   "source": [
    "Both histograms looks almost identical"
   ]
  },
  {
   "cell_type": "code",
   "execution_count": null,
   "id": "a1eb4209",
   "metadata": {},
   "outputs": [],
   "source": [
    "print('Description of the Action User Score')\n",
    "print(get_list_of_user_score(\n",
    "        df=df_games_after_2000_no_unknown_user_score,\n",
    "        column='genre',\n",
    "        name='Action' \n",
    "    ).describe())\n",
    "\n",
    "print()\n",
    "\n",
    "print('Description of the Sports User Score')\n",
    "print(get_list_of_user_score(\n",
    "        df=df_games_after_2000_no_unknown_user_score,\n",
    "        column='genre',\n",
    "        name='Sports' \n",
    "    ).describe())"
   ]
  },
  {
   "cell_type": "markdown",
   "id": "ea4551b0",
   "metadata": {},
   "source": [
    "Also here almost identical. No significant difference between user score for action and sports genre."
   ]
  },
  {
   "cell_type": "markdown",
   "id": "6fafda41",
   "metadata": {},
   "source": [
    "# Step 6. Write a general conclusion"
   ]
  },
  {
   "cell_type": "markdown",
   "id": "12b343e2",
   "metadata": {},
   "source": [
    "## Intro\n",
    "In this project we tried to answer questions that can help to plan the most efficient advertising campaigns. \n",
    "We received historical data on video games and we used it to plan the ad campaign of 2017.\n",
    "\n",
    "## Preprocessing and data preparation\n",
    "The data contained many missing values. Some we managed to restore by logic. For example: The rating of game and year of release should stay the same regardless of the platform it is released in. So in cases where game was released in multiple platforms and year of release and / or rating was missing we could fill the missing data. There was lots of TBD values in the user score but those where treated as missing values because there can't be any clue from the data on what score to fill instead.\n",
    "\n",
    "## Analyze the data\n",
    "We answered some interesting questions about the data that helped us get more familiar with it.\n",
    "We learned that after the year 2000 there was a great growth in games released per year and before the year 1990 there was almost none that where released. Also the documentation of user and critic score and also the games rating become more common after the year 2000.\n",
    "We noticed that platforms have a prosperous period of supporting games after which they move into the abyss of oblivion.\n",
    "Some platform has much more sell of games then the others. The platforms withe the highest sells are: 'Wii', 'PS3', 'X360', 'PS4' and 'GB'.\n",
    "Games from specific genre are way popular then the others. For example games of shooting are the most popular in general sells.\n",
    "\n",
    "## User profile\n",
    "There is great similarity between the North America (NA) market which is the largest to the European (EU) market in the preferred genre and a slight similarity in platforms preferation. \n",
    "The Japanese market is much smaller and the customers seemed to be more conservative choosing gmes with less violence and sex and use other platforms that not common in the other regions.\n",
    "\n",
    "## User score hypothesis\n",
    "The two hypotheses we tested was:\n",
    "1. Average user ratings of the Xbox One and PC platforms are the same.\n",
    "2. Average user ratings for the Action and Sports genres are different.\n",
    "\n",
    "We rejected the 1st hypothesis. We can't say the user score is the same while the user score for action and sports genre games are almost identical causing us to reject the 2nd hypothesis."
   ]
  }
 ],
 "metadata": {
  "kernelspec": {
   "display_name": "Python 3 (ipykernel)",
   "language": "python",
   "name": "python3"
  },
  "language_info": {
   "codemirror_mode": {
    "name": "ipython",
    "version": 3
   },
   "file_extension": ".py",
   "mimetype": "text/x-python",
   "name": "python",
   "nbconvert_exporter": "python",
   "pygments_lexer": "ipython3",
   "version": "3.9.7"
  },
  "toc": {
   "base_numbering": 1,
   "nav_menu": {},
   "number_sections": true,
   "sideBar": true,
   "skip_h1_title": false,
   "title_cell": "Table of Contents",
   "title_sidebar": "Contents",
   "toc_cell": false,
   "toc_position": {},
   "toc_section_display": true,
   "toc_window_display": true
  }
 },
 "nbformat": 4,
 "nbformat_minor": 5
}
